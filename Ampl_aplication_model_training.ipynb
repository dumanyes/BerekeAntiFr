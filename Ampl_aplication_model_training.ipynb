{
  "cells": [
    {
      "cell_type": "markdown",
      "metadata": {},
      "source": [
        "## This file contains model training on data already cleaned and transformed and merged from two datasets Aplication and Amplitude"
      ]
    },
    {
      "cell_type": "markdown",
      "metadata": {},
      "source": [
        "The full transformation process is available in run_inference.py file"
      ]
    },
    {
      "cell_type": "code",
      "execution_count": 138,
      "metadata": {
        "id": "7UdD5Q5myvgp"
      },
      "outputs": [],
      "source": [
        "from sklearn.metrics import roc_auc_score, accuracy_score\n",
        "import pandas as pd\n",
        "from google.colab import drive\n",
        "from sklearn.model_selection import train_test_split\n",
        "import optuna\n",
        "import lightgbm as lgb\n",
        "from sklearn.model_selection import StratifiedKFold\n",
        "from sklearn.metrics import roc_auc_score\n",
        "from sklearn.metrics import f1_score, recall_score\n",
        "from lightgbm import LGBMClassifier, early_stopping, log_evaluation\n",
        "from optuna.visualization import plot_pareto_front\n",
        "from imblearn.over_sampling import SMOTE\n",
        "\n"
      ]
    },
    {
      "cell_type": "code",
      "execution_count": 27,
      "metadata": {
        "colab": {
          "base_uri": "https://localhost:8080/"
        },
        "id": "rfE60NkYll1A",
        "outputId": "2725901b-02bb-4079-fb08-34c637eda816"
      },
      "outputs": [
        {
          "name": "stdout",
          "output_type": "stream",
          "text": [
            "Drive already mounted at /content/drive; to attempt to forcibly remount, call drive.mount(\"/content/drive\", force_remount=True).\n"
          ]
        }
      ],
      "source": [
        "drive.mount('/content/drive')\n",
        "df = pd.read_csv('/content/drive/My Drive/Colab Notebooks/final_dataset_v2.csv')"
      ]
    },
    {
      "cell_type": "code",
      "execution_count": 28,
      "metadata": {
        "colab": {
          "base_uri": "https://localhost:8080/",
          "height": 270
        },
        "id": "XD7qCCm9mYkj",
        "outputId": "cb063af4-2ecd-43c7-9206-0b2c1b9ea712"
      },
      "outputs": [
        {
          "data": {
            "application/vnd.google.colaboratory.intrinsic+json": {
              "type": "dataframe",
              "variable_name": "df"
            },
            "text/html": [
              "\n",
              "  <div id=\"df-b2cb6cc6-8c75-45e1-90bf-5047a54d7ea7\" class=\"colab-df-container\">\n",
              "    <div>\n",
              "<style scoped>\n",
              "    .dataframe tbody tr th:only-of-type {\n",
              "        vertical-align: middle;\n",
              "    }\n",
              "\n",
              "    .dataframe tbody tr th {\n",
              "        vertical-align: top;\n",
              "    }\n",
              "\n",
              "    .dataframe thead th {\n",
              "        text-align: right;\n",
              "    }\n",
              "</style>\n",
              "<table border=\"1\" class=\"dataframe\">\n",
              "  <thead>\n",
              "    <tr style=\"text-align: right;\">\n",
              "      <th></th>\n",
              "      <th>Unnamed: 0.1</th>\n",
              "      <th>APPLICATIONID</th>\n",
              "      <th>CREATE_DATETIME_x</th>\n",
              "      <th>TOTALAMOUNT</th>\n",
              "      <th>SUM_CREDIT_KZT</th>\n",
              "      <th>DM5DPD1GCVPSUM</th>\n",
              "      <th>DM5DPD1SALARYSUM</th>\n",
              "      <th>DM5EXPSUM</th>\n",
              "      <th>DM5INCSUM</th>\n",
              "      <th>DM5INC</th>\n",
              "      <th>...</th>\n",
              "      <th>n_unique_event_type_3d</th>\n",
              "      <th>n_unique_ip_3d</th>\n",
              "      <th>n_event_id_3d</th>\n",
              "      <th>country_kz_ratio_30d</th>\n",
              "      <th>n_unique_device_id_30d</th>\n",
              "      <th>n_unique_event_type_30d</th>\n",
              "      <th>n_unique_ip_30d</th>\n",
              "      <th>n_event_id_30d</th>\n",
              "      <th>last_os_name_30d</th>\n",
              "      <th>most_common_os_name_30d</th>\n",
              "    </tr>\n",
              "  </thead>\n",
              "  <tbody>\n",
              "    <tr>\n",
              "      <th>0</th>\n",
              "      <td>0</td>\n",
              "      <td>Д\\286\\011639474</td>\n",
              "      <td>17.10.2024 12:16</td>\n",
              "      <td>150000</td>\n",
              "      <td>150000</td>\n",
              "      <td>457066.8</td>\n",
              "      <td>0.0</td>\n",
              "      <td>2874498.7</td>\n",
              "      <td>2861073.5</td>\n",
              "      <td>0</td>\n",
              "      <td>...</td>\n",
              "      <td>51.0</td>\n",
              "      <td>2.0</td>\n",
              "      <td>75.0</td>\n",
              "      <td>1.0</td>\n",
              "      <td>1.0</td>\n",
              "      <td>52.0</td>\n",
              "      <td>5.0</td>\n",
              "      <td>105.0</td>\n",
              "      <td>ios</td>\n",
              "      <td>ios</td>\n",
              "    </tr>\n",
              "    <tr>\n",
              "      <th>1</th>\n",
              "      <td>1</td>\n",
              "      <td>Д\\286\\011668478</td>\n",
              "      <td>21.10.2024 8:31</td>\n",
              "      <td>300000</td>\n",
              "      <td>300000</td>\n",
              "      <td>68850.0</td>\n",
              "      <td>0.0</td>\n",
              "      <td>558734.6</td>\n",
              "      <td>564659.8</td>\n",
              "      <td>0</td>\n",
              "      <td>...</td>\n",
              "      <td>62.0</td>\n",
              "      <td>1.0</td>\n",
              "      <td>90.0</td>\n",
              "      <td>1.0</td>\n",
              "      <td>1.0</td>\n",
              "      <td>62.0</td>\n",
              "      <td>1.0</td>\n",
              "      <td>90.0</td>\n",
              "      <td>ios</td>\n",
              "      <td>ios</td>\n",
              "    </tr>\n",
              "    <tr>\n",
              "      <th>2</th>\n",
              "      <td>2</td>\n",
              "      <td>Д\\286\\011681466</td>\n",
              "      <td>22.10.2024 10:05</td>\n",
              "      <td>600000</td>\n",
              "      <td>368858</td>\n",
              "      <td>NaN</td>\n",
              "      <td>0.0</td>\n",
              "      <td>1044469.5</td>\n",
              "      <td>1023278.0</td>\n",
              "      <td>0</td>\n",
              "      <td>...</td>\n",
              "      <td>55.0</td>\n",
              "      <td>2.0</td>\n",
              "      <td>117.0</td>\n",
              "      <td>1.0</td>\n",
              "      <td>1.0</td>\n",
              "      <td>58.0</td>\n",
              "      <td>7.0</td>\n",
              "      <td>145.0</td>\n",
              "      <td>android</td>\n",
              "      <td>android</td>\n",
              "    </tr>\n",
              "    <tr>\n",
              "      <th>3</th>\n",
              "      <td>3</td>\n",
              "      <td>Д\\286\\011721797</td>\n",
              "      <td>26.10.2024 14:13</td>\n",
              "      <td>200000</td>\n",
              "      <td>217391</td>\n",
              "      <td>NaN</td>\n",
              "      <td>0.0</td>\n",
              "      <td>1048790.4</td>\n",
              "      <td>1046686.8</td>\n",
              "      <td>0</td>\n",
              "      <td>...</td>\n",
              "      <td>49.0</td>\n",
              "      <td>3.0</td>\n",
              "      <td>56.0</td>\n",
              "      <td>1.0</td>\n",
              "      <td>1.0</td>\n",
              "      <td>53.0</td>\n",
              "      <td>9.0</td>\n",
              "      <td>282.0</td>\n",
              "      <td>android</td>\n",
              "      <td>android</td>\n",
              "    </tr>\n",
              "    <tr>\n",
              "      <th>4</th>\n",
              "      <td>4</td>\n",
              "      <td>Д\\286\\012045593</td>\n",
              "      <td>01.12.2024 19:14</td>\n",
              "      <td>150000</td>\n",
              "      <td>150000</td>\n",
              "      <td>NaN</td>\n",
              "      <td>0.0</td>\n",
              "      <td>982182.2</td>\n",
              "      <td>942380.7</td>\n",
              "      <td>0</td>\n",
              "      <td>...</td>\n",
              "      <td>1.0</td>\n",
              "      <td>1.0</td>\n",
              "      <td>2.0</td>\n",
              "      <td>1.0</td>\n",
              "      <td>2.0</td>\n",
              "      <td>2.0</td>\n",
              "      <td>2.0</td>\n",
              "      <td>3.0</td>\n",
              "      <td>android</td>\n",
              "      <td>android</td>\n",
              "    </tr>\n",
              "  </tbody>\n",
              "</table>\n",
              "<p>5 rows × 73 columns</p>\n",
              "</div>\n",
              "    <div class=\"colab-df-buttons\">\n",
              "\n",
              "  <div class=\"colab-df-container\">\n",
              "    <button class=\"colab-df-convert\" onclick=\"convertToInteractive('df-b2cb6cc6-8c75-45e1-90bf-5047a54d7ea7')\"\n",
              "            title=\"Convert this dataframe to an interactive table.\"\n",
              "            style=\"display:none;\">\n",
              "\n",
              "  <svg xmlns=\"http://www.w3.org/2000/svg\" height=\"24px\" viewBox=\"0 -960 960 960\">\n",
              "    <path d=\"M120-120v-720h720v720H120Zm60-500h600v-160H180v160Zm220 220h160v-160H400v160Zm0 220h160v-160H400v160ZM180-400h160v-160H180v160Zm440 0h160v-160H620v160ZM180-180h160v-160H180v160Zm440 0h160v-160H620v160Z\"/>\n",
              "  </svg>\n",
              "    </button>\n",
              "\n",
              "  <style>\n",
              "    .colab-df-container {\n",
              "      display:flex;\n",
              "      gap: 12px;\n",
              "    }\n",
              "\n",
              "    .colab-df-convert {\n",
              "      background-color: #E8F0FE;\n",
              "      border: none;\n",
              "      border-radius: 50%;\n",
              "      cursor: pointer;\n",
              "      display: none;\n",
              "      fill: #1967D2;\n",
              "      height: 32px;\n",
              "      padding: 0 0 0 0;\n",
              "      width: 32px;\n",
              "    }\n",
              "\n",
              "    .colab-df-convert:hover {\n",
              "      background-color: #E2EBFA;\n",
              "      box-shadow: 0px 1px 2px rgba(60, 64, 67, 0.3), 0px 1px 3px 1px rgba(60, 64, 67, 0.15);\n",
              "      fill: #174EA6;\n",
              "    }\n",
              "\n",
              "    .colab-df-buttons div {\n",
              "      margin-bottom: 4px;\n",
              "    }\n",
              "\n",
              "    [theme=dark] .colab-df-convert {\n",
              "      background-color: #3B4455;\n",
              "      fill: #D2E3FC;\n",
              "    }\n",
              "\n",
              "    [theme=dark] .colab-df-convert:hover {\n",
              "      background-color: #434B5C;\n",
              "      box-shadow: 0px 1px 3px 1px rgba(0, 0, 0, 0.15);\n",
              "      filter: drop-shadow(0px 1px 2px rgba(0, 0, 0, 0.3));\n",
              "      fill: #FFFFFF;\n",
              "    }\n",
              "  </style>\n",
              "\n",
              "    <script>\n",
              "      const buttonEl =\n",
              "        document.querySelector('#df-b2cb6cc6-8c75-45e1-90bf-5047a54d7ea7 button.colab-df-convert');\n",
              "      buttonEl.style.display =\n",
              "        google.colab.kernel.accessAllowed ? 'block' : 'none';\n",
              "\n",
              "      async function convertToInteractive(key) {\n",
              "        const element = document.querySelector('#df-b2cb6cc6-8c75-45e1-90bf-5047a54d7ea7');\n",
              "        const dataTable =\n",
              "          await google.colab.kernel.invokeFunction('convertToInteractive',\n",
              "                                                    [key], {});\n",
              "        if (!dataTable) return;\n",
              "\n",
              "        const docLinkHtml = 'Like what you see? Visit the ' +\n",
              "          '<a target=\"_blank\" href=https://colab.research.google.com/notebooks/data_table.ipynb>data table notebook</a>'\n",
              "          + ' to learn more about interactive tables.';\n",
              "        element.innerHTML = '';\n",
              "        dataTable['output_type'] = 'display_data';\n",
              "        await google.colab.output.renderOutput(dataTable, element);\n",
              "        const docLink = document.createElement('div');\n",
              "        docLink.innerHTML = docLinkHtml;\n",
              "        element.appendChild(docLink);\n",
              "      }\n",
              "    </script>\n",
              "  </div>\n",
              "\n",
              "\n",
              "    <div id=\"df-ecaaa127-16b9-46a8-a3b3-6b9421cf92b4\">\n",
              "      <button class=\"colab-df-quickchart\" onclick=\"quickchart('df-ecaaa127-16b9-46a8-a3b3-6b9421cf92b4')\"\n",
              "                title=\"Suggest charts\"\n",
              "                style=\"display:none;\">\n",
              "\n",
              "<svg xmlns=\"http://www.w3.org/2000/svg\" height=\"24px\"viewBox=\"0 0 24 24\"\n",
              "     width=\"24px\">\n",
              "    <g>\n",
              "        <path d=\"M19 3H5c-1.1 0-2 .9-2 2v14c0 1.1.9 2 2 2h14c1.1 0 2-.9 2-2V5c0-1.1-.9-2-2-2zM9 17H7v-7h2v7zm4 0h-2V7h2v10zm4 0h-2v-4h2v4z\"/>\n",
              "    </g>\n",
              "</svg>\n",
              "      </button>\n",
              "\n",
              "<style>\n",
              "  .colab-df-quickchart {\n",
              "      --bg-color: #E8F0FE;\n",
              "      --fill-color: #1967D2;\n",
              "      --hover-bg-color: #E2EBFA;\n",
              "      --hover-fill-color: #174EA6;\n",
              "      --disabled-fill-color: #AAA;\n",
              "      --disabled-bg-color: #DDD;\n",
              "  }\n",
              "\n",
              "  [theme=dark] .colab-df-quickchart {\n",
              "      --bg-color: #3B4455;\n",
              "      --fill-color: #D2E3FC;\n",
              "      --hover-bg-color: #434B5C;\n",
              "      --hover-fill-color: #FFFFFF;\n",
              "      --disabled-bg-color: #3B4455;\n",
              "      --disabled-fill-color: #666;\n",
              "  }\n",
              "\n",
              "  .colab-df-quickchart {\n",
              "    background-color: var(--bg-color);\n",
              "    border: none;\n",
              "    border-radius: 50%;\n",
              "    cursor: pointer;\n",
              "    display: none;\n",
              "    fill: var(--fill-color);\n",
              "    height: 32px;\n",
              "    padding: 0;\n",
              "    width: 32px;\n",
              "  }\n",
              "\n",
              "  .colab-df-quickchart:hover {\n",
              "    background-color: var(--hover-bg-color);\n",
              "    box-shadow: 0 1px 2px rgba(60, 64, 67, 0.3), 0 1px 3px 1px rgba(60, 64, 67, 0.15);\n",
              "    fill: var(--button-hover-fill-color);\n",
              "  }\n",
              "\n",
              "  .colab-df-quickchart-complete:disabled,\n",
              "  .colab-df-quickchart-complete:disabled:hover {\n",
              "    background-color: var(--disabled-bg-color);\n",
              "    fill: var(--disabled-fill-color);\n",
              "    box-shadow: none;\n",
              "  }\n",
              "\n",
              "  .colab-df-spinner {\n",
              "    border: 2px solid var(--fill-color);\n",
              "    border-color: transparent;\n",
              "    border-bottom-color: var(--fill-color);\n",
              "    animation:\n",
              "      spin 1s steps(1) infinite;\n",
              "  }\n",
              "\n",
              "  @keyframes spin {\n",
              "    0% {\n",
              "      border-color: transparent;\n",
              "      border-bottom-color: var(--fill-color);\n",
              "      border-left-color: var(--fill-color);\n",
              "    }\n",
              "    20% {\n",
              "      border-color: transparent;\n",
              "      border-left-color: var(--fill-color);\n",
              "      border-top-color: var(--fill-color);\n",
              "    }\n",
              "    30% {\n",
              "      border-color: transparent;\n",
              "      border-left-color: var(--fill-color);\n",
              "      border-top-color: var(--fill-color);\n",
              "      border-right-color: var(--fill-color);\n",
              "    }\n",
              "    40% {\n",
              "      border-color: transparent;\n",
              "      border-right-color: var(--fill-color);\n",
              "      border-top-color: var(--fill-color);\n",
              "    }\n",
              "    60% {\n",
              "      border-color: transparent;\n",
              "      border-right-color: var(--fill-color);\n",
              "    }\n",
              "    80% {\n",
              "      border-color: transparent;\n",
              "      border-right-color: var(--fill-color);\n",
              "      border-bottom-color: var(--fill-color);\n",
              "    }\n",
              "    90% {\n",
              "      border-color: transparent;\n",
              "      border-bottom-color: var(--fill-color);\n",
              "    }\n",
              "  }\n",
              "</style>\n",
              "\n",
              "      <script>\n",
              "        async function quickchart(key) {\n",
              "          const quickchartButtonEl =\n",
              "            document.querySelector('#' + key + ' button');\n",
              "          quickchartButtonEl.disabled = true;  // To prevent multiple clicks.\n",
              "          quickchartButtonEl.classList.add('colab-df-spinner');\n",
              "          try {\n",
              "            const charts = await google.colab.kernel.invokeFunction(\n",
              "                'suggestCharts', [key], {});\n",
              "          } catch (error) {\n",
              "            console.error('Error during call to suggestCharts:', error);\n",
              "          }\n",
              "          quickchartButtonEl.classList.remove('colab-df-spinner');\n",
              "          quickchartButtonEl.classList.add('colab-df-quickchart-complete');\n",
              "        }\n",
              "        (() => {\n",
              "          let quickchartButtonEl =\n",
              "            document.querySelector('#df-ecaaa127-16b9-46a8-a3b3-6b9421cf92b4 button');\n",
              "          quickchartButtonEl.style.display =\n",
              "            google.colab.kernel.accessAllowed ? 'block' : 'none';\n",
              "        })();\n",
              "      </script>\n",
              "    </div>\n",
              "\n",
              "    </div>\n",
              "  </div>\n"
            ],
            "text/plain": [
              "   Unnamed: 0.1    APPLICATIONID CREATE_DATETIME_x  TOTALAMOUNT  \\\n",
              "0             0  Д\\286\\011639474  17.10.2024 12:16       150000   \n",
              "1             1  Д\\286\\011668478   21.10.2024 8:31       300000   \n",
              "2             2  Д\\286\\011681466  22.10.2024 10:05       600000   \n",
              "3             3  Д\\286\\011721797  26.10.2024 14:13       200000   \n",
              "4             4  Д\\286\\012045593  01.12.2024 19:14       150000   \n",
              "\n",
              "   SUM_CREDIT_KZT  DM5DPD1GCVPSUM  DM5DPD1SALARYSUM  DM5EXPSUM  DM5INCSUM  \\\n",
              "0          150000        457066.8               0.0  2874498.7  2861073.5   \n",
              "1          300000         68850.0               0.0   558734.6   564659.8   \n",
              "2          368858             NaN               0.0  1044469.5  1023278.0   \n",
              "3          217391             NaN               0.0  1048790.4  1046686.8   \n",
              "4          150000             NaN               0.0   982182.2   942380.7   \n",
              "\n",
              "   DM5INC  ...  n_unique_event_type_3d  n_unique_ip_3d  n_event_id_3d  \\\n",
              "0       0  ...                    51.0             2.0           75.0   \n",
              "1       0  ...                    62.0             1.0           90.0   \n",
              "2       0  ...                    55.0             2.0          117.0   \n",
              "3       0  ...                    49.0             3.0           56.0   \n",
              "4       0  ...                     1.0             1.0            2.0   \n",
              "\n",
              "   country_kz_ratio_30d  n_unique_device_id_30d  n_unique_event_type_30d  \\\n",
              "0                   1.0                     1.0                     52.0   \n",
              "1                   1.0                     1.0                     62.0   \n",
              "2                   1.0                     1.0                     58.0   \n",
              "3                   1.0                     1.0                     53.0   \n",
              "4                   1.0                     2.0                      2.0   \n",
              "\n",
              "   n_unique_ip_30d  n_event_id_30d  last_os_name_30d  most_common_os_name_30d  \n",
              "0              5.0           105.0               ios                      ios  \n",
              "1              1.0            90.0               ios                      ios  \n",
              "2              7.0           145.0           android                  android  \n",
              "3              9.0           282.0           android                  android  \n",
              "4              2.0             3.0           android                  android  \n",
              "\n",
              "[5 rows x 73 columns]"
            ]
          },
          "execution_count": 28,
          "metadata": {},
          "output_type": "execute_result"
        }
      ],
      "source": [
        "df.head()"
      ]
    },
    {
      "cell_type": "code",
      "execution_count": 29,
      "metadata": {
        "colab": {
          "base_uri": "https://localhost:8080/",
          "height": 453
        },
        "id": "kRcvodvlnCjS",
        "outputId": "b7ff5f9d-3754-4629-c340-31e483c68f80"
      },
      "outputs": [
        {
          "data": {
            "text/html": [
              "<div>\n",
              "<style scoped>\n",
              "    .dataframe tbody tr th:only-of-type {\n",
              "        vertical-align: middle;\n",
              "    }\n",
              "\n",
              "    .dataframe tbody tr th {\n",
              "        vertical-align: top;\n",
              "    }\n",
              "\n",
              "    .dataframe thead th {\n",
              "        text-align: right;\n",
              "    }\n",
              "</style>\n",
              "<table border=\"1\" class=\"dataframe\">\n",
              "  <thead>\n",
              "    <tr style=\"text-align: right;\">\n",
              "      <th></th>\n",
              "      <th>0</th>\n",
              "    </tr>\n",
              "  </thead>\n",
              "  <tbody>\n",
              "    <tr>\n",
              "      <th>Unnamed: 0.1</th>\n",
              "      <td>0</td>\n",
              "    </tr>\n",
              "    <tr>\n",
              "      <th>APPLICATIONID</th>\n",
              "      <td>0</td>\n",
              "    </tr>\n",
              "    <tr>\n",
              "      <th>CREATE_DATETIME_x</th>\n",
              "      <td>0</td>\n",
              "    </tr>\n",
              "    <tr>\n",
              "      <th>TOTALAMOUNT</th>\n",
              "      <td>0</td>\n",
              "    </tr>\n",
              "    <tr>\n",
              "      <th>SUM_CREDIT_KZT</th>\n",
              "      <td>0</td>\n",
              "    </tr>\n",
              "    <tr>\n",
              "      <th>...</th>\n",
              "      <td>...</td>\n",
              "    </tr>\n",
              "    <tr>\n",
              "      <th>n_unique_event_type_30d</th>\n",
              "      <td>9583</td>\n",
              "    </tr>\n",
              "    <tr>\n",
              "      <th>n_unique_ip_30d</th>\n",
              "      <td>9583</td>\n",
              "    </tr>\n",
              "    <tr>\n",
              "      <th>n_event_id_30d</th>\n",
              "      <td>9583</td>\n",
              "    </tr>\n",
              "    <tr>\n",
              "      <th>last_os_name_30d</th>\n",
              "      <td>9583</td>\n",
              "    </tr>\n",
              "    <tr>\n",
              "      <th>most_common_os_name_30d</th>\n",
              "      <td>9583</td>\n",
              "    </tr>\n",
              "  </tbody>\n",
              "</table>\n",
              "<p>73 rows × 1 columns</p>\n",
              "</div><br><label><b>dtype:</b> int64</label>"
            ],
            "text/plain": [
              "Unnamed: 0.1                  0\n",
              "APPLICATIONID                 0\n",
              "CREATE_DATETIME_x             0\n",
              "TOTALAMOUNT                   0\n",
              "SUM_CREDIT_KZT                0\n",
              "                           ... \n",
              "n_unique_event_type_30d    9583\n",
              "n_unique_ip_30d            9583\n",
              "n_event_id_30d             9583\n",
              "last_os_name_30d           9583\n",
              "most_common_os_name_30d    9583\n",
              "Length: 73, dtype: int64"
            ]
          },
          "execution_count": 29,
          "metadata": {},
          "output_type": "execute_result"
        }
      ],
      "source": [
        "df.isna().sum()"
      ]
    },
    {
      "cell_type": "code",
      "execution_count": 31,
      "metadata": {
        "colab": {
          "base_uri": "https://localhost:8080/"
        },
        "id": "ygC8RjKQoOk2",
        "outputId": "5dce765f-034d-4349-9176-fbc9d5f56ff2"
      },
      "outputs": [
        {
          "data": {
            "text/plain": [
              "Index(['Unnamed: 0.1', 'APPLICATIONID', 'CREATE_DATETIME_x', 'TOTALAMOUNT',\n",
              "       'SUM_CREDIT_KZT', 'DM5DPD1GCVPSUM', 'DM5DPD1SALARYSUM', 'DM5EXPSUM',\n",
              "       'DM5INCSUM', 'DM5INC', 'DM5EXP', 'DM7INC', 'DM7EXP', 'DM6SCOREN6PD',\n",
              "       'DM6SCOREN6', 'FINALKDN', 'CREDITTERM_RBL0', 'CLI_AGE',\n",
              "       'DEPENDANT_COUNT', 'IS_SERVWS_MNLI', 'target_x',\n",
              "       'PURPOSE_LOAN_На потребительские цели',\n",
              "       'PURPOSE_LOAN_На рефинансирование займа',\n",
              "       'PURPOSE_LOAN_На рефинансирование займа и потребительские цели',\n",
              "       'OPV_REASON_NEW САЙТ', 'OPV_REASON_Онлайн СБОЛ', 'KANAL_PRODAZH_B-Bank',\n",
              "       'KANAL_PRODAZH_QR', 'KANAL_PRODAZH_WEB',\n",
              "       'APPLICATION_ISA0AUTO_Зарплатники', 'APPLICATION_ISA0AUTO_Улица',\n",
              "       'GENDER_Женский', 'GENDER_Мужской', 'BKI_Отсутствует', 'BKI_Плохая',\n",
              "       'BKI_Средняя', 'BKI_Хорошая', 'VKI_Отсутствует', 'VKI_Плохая',\n",
              "       'VKI_Средняя', 'VKI_Хорошая', 'MARITALSTATUS_Женат/Замужем',\n",
              "       'MARITALSTATUS_Разведен/Разведена', 'MARITALSTATUS_Холост/Не замужем',\n",
              "       'REGCOUNTY', 'BRANCH', 'data_x', 'Unnamed: 0', 'CREATE_DATETIME_y',\n",
              "       'target_y', 'data_y', 'country_kz_ratio_1d', 'n_unique_device_id_1d',\n",
              "       'n_unique_event_type_1d', 'n_unique_ip_1d', 'n_event_id_1d',\n",
              "       'country_kz_ratio_2d', 'n_unique_device_id_2d',\n",
              "       'n_unique_event_type_2d', 'n_unique_ip_2d', 'n_event_id_2d',\n",
              "       'country_kz_ratio_3d', 'n_unique_device_id_3d',\n",
              "       'n_unique_event_type_3d', 'n_unique_ip_3d', 'n_event_id_3d',\n",
              "       'country_kz_ratio_30d', 'n_unique_device_id_30d',\n",
              "       'n_unique_event_type_30d', 'n_unique_ip_30d', 'n_event_id_30d',\n",
              "       'last_os_name_30d', 'most_common_os_name_30d'],\n",
              "      dtype='object')"
            ]
          },
          "execution_count": 31,
          "metadata": {},
          "output_type": "execute_result"
        }
      ],
      "source": [
        "df.columns"
      ]
    },
    {
      "cell_type": "code",
      "execution_count": 32,
      "metadata": {
        "id": "AFBITfhvmkwc"
      },
      "outputs": [],
      "source": [
        "feature_columns = ['TOTALAMOUNT',\n",
        "       'SUM_CREDIT_KZT', 'DM5DPD1GCVPSUM', 'DM5DPD1SALARYSUM', 'DM5EXPSUM',\n",
        "       'DM5INCSUM', 'DM5INC', 'DM5EXP', 'DM7INC', 'DM7EXP', 'DM6SCOREN6PD',\n",
        "       'DM6SCOREN6', 'FINALKDN', 'CREDITTERM_RBL0', 'CLI_AGE',\n",
        "       'DEPENDANT_COUNT', 'IS_SERVWS_MNLI',\n",
        "       'PURPOSE_LOAN_На потребительские цели',\n",
        "       'PURPOSE_LOAN_На рефинансирование займа',\n",
        "       'PURPOSE_LOAN_На рефинансирование займа и потребительские цели',\n",
        "       'OPV_REASON_NEW САЙТ', 'OPV_REASON_Онлайн СБОЛ', 'KANAL_PRODAZH_B-Bank',\n",
        "       'KANAL_PRODAZH_QR', 'KANAL_PRODAZH_WEB',\n",
        "       'APPLICATION_ISA0AUTO_Зарплатники', 'APPLICATION_ISA0AUTO_Улица',\n",
        "       'GENDER_Женский', 'GENDER_Мужской', 'BKI_Отсутствует', 'BKI_Плохая',\n",
        "       'BKI_Средняя', 'BKI_Хорошая', 'VKI_Отсутствует', 'VKI_Плохая',\n",
        "       'VKI_Средняя', 'VKI_Хорошая', 'MARITALSTATUS_Женат/Замужем',\n",
        "       'MARITALSTATUS_Разведен/Разведена', 'MARITALSTATUS_Холост/Не замужем',\n",
        "       'country_kz_ratio_1d', 'n_unique_device_id_1d',\n",
        "       'n_unique_event_type_1d', 'n_unique_ip_1d', 'n_event_id_1d',\n",
        "       'country_kz_ratio_2d', 'n_unique_device_id_2d',\n",
        "       'n_unique_event_type_2d', 'n_unique_ip_2d', 'n_event_id_2d',\n",
        "       'country_kz_ratio_3d', 'n_unique_device_id_3d',\n",
        "       'n_unique_event_type_3d', 'n_unique_ip_3d', 'n_event_id_3d',\n",
        "       'country_kz_ratio_30d', 'n_unique_device_id_30d',\n",
        "       'n_unique_event_type_30d', 'n_unique_ip_30d', 'n_event_id_30d']"
      ]
    },
    {
      "cell_type": "code",
      "execution_count": 33,
      "metadata": {
        "colab": {
          "base_uri": "https://localhost:8080/"
        },
        "id": "BLB_moG6mekD",
        "outputId": "beff27b2-c116-4e86-ae95-0289af0e4a80"
      },
      "outputs": [
        {
          "data": {
            "text/plain": [
              "Index(['Unnamed: 0.1', 'APPLICATIONID', 'CREATE_DATETIME_x', 'TOTALAMOUNT',\n",
              "       'SUM_CREDIT_KZT', 'DM5DPD1GCVPSUM', 'DM5DPD1SALARYSUM', 'DM5EXPSUM',\n",
              "       'DM5INCSUM', 'DM5INC', 'DM5EXP', 'DM7INC', 'DM7EXP', 'DM6SCOREN6PD',\n",
              "       'DM6SCOREN6', 'FINALKDN', 'CREDITTERM_RBL0', 'CLI_AGE',\n",
              "       'DEPENDANT_COUNT', 'IS_SERVWS_MNLI', 'target_x',\n",
              "       'PURPOSE_LOAN_На потребительские цели',\n",
              "       'PURPOSE_LOAN_На рефинансирование займа',\n",
              "       'PURPOSE_LOAN_На рефинансирование займа и потребительские цели',\n",
              "       'OPV_REASON_NEW САЙТ', 'OPV_REASON_Онлайн СБОЛ', 'KANAL_PRODAZH_B-Bank',\n",
              "       'KANAL_PRODAZH_QR', 'KANAL_PRODAZH_WEB',\n",
              "       'APPLICATION_ISA0AUTO_Зарплатники', 'APPLICATION_ISA0AUTO_Улица',\n",
              "       'GENDER_Женский', 'GENDER_Мужской', 'BKI_Отсутствует', 'BKI_Плохая',\n",
              "       'BKI_Средняя', 'BKI_Хорошая', 'VKI_Отсутствует', 'VKI_Плохая',\n",
              "       'VKI_Средняя', 'VKI_Хорошая', 'MARITALSTATUS_Женат/Замужем',\n",
              "       'MARITALSTATUS_Разведен/Разведена', 'MARITALSTATUS_Холост/Не замужем',\n",
              "       'REGCOUNTY', 'BRANCH', 'data_x', 'Unnamed: 0', 'CREATE_DATETIME_y',\n",
              "       'target_y', 'data_y', 'country_kz_ratio_1d', 'n_unique_device_id_1d',\n",
              "       'n_unique_event_type_1d', 'n_unique_ip_1d', 'n_event_id_1d',\n",
              "       'country_kz_ratio_2d', 'n_unique_device_id_2d',\n",
              "       'n_unique_event_type_2d', 'n_unique_ip_2d', 'n_event_id_2d',\n",
              "       'country_kz_ratio_3d', 'n_unique_device_id_3d',\n",
              "       'n_unique_event_type_3d', 'n_unique_ip_3d', 'n_event_id_3d',\n",
              "       'country_kz_ratio_30d', 'n_unique_device_id_30d',\n",
              "       'n_unique_event_type_30d', 'n_unique_ip_30d', 'n_event_id_30d',\n",
              "       'last_os_name_30d', 'most_common_os_name_30d'],\n",
              "      dtype='object')"
            ]
          },
          "execution_count": 33,
          "metadata": {},
          "output_type": "execute_result"
        }
      ],
      "source": [
        "df.columns"
      ]
    },
    {
      "cell_type": "code",
      "execution_count": 34,
      "metadata": {
        "id": "eKIRLAUoqQ2D"
      },
      "outputs": [],
      "source": [
        "df['new_os'] = df.apply(lambda x: 1 if x['most_common_os_name_30d'] == x['last_os_name_30d'] else 0, axis=1)"
      ]
    },
    {
      "cell_type": "code",
      "execution_count": 35,
      "metadata": {
        "id": "Z_DFkuMTqpda"
      },
      "outputs": [],
      "source": [
        "from sklearn.preprocessing import LabelEncoder\n",
        "le = LabelEncoder()\n",
        "df['last_os_name_30d_encoded'] = le.fit_transform(df['last_os_name_30d'])\n",
        "df['most_common_os_name_30d_encoded'] = le.fit_transform(df['most_common_os_name_30d'])"
      ]
    },
    {
      "cell_type": "code",
      "execution_count": 127,
      "metadata": {
        "id": "THcgcPVJpgoq"
      },
      "outputs": [],
      "source": [
        "df_train = df[df['data_x'] == 'train']\n",
        "df_test = df[df['data_x'] == 'test']\n",
        "df_val = df[df['data_x'] == 'valid']"
      ]
    },
    {
      "cell_type": "code",
      "execution_count": 126,
      "metadata": {
        "colab": {
          "base_uri": "https://localhost:8080/",
          "height": 207
        },
        "id": "WiCsnHiK-piQ",
        "outputId": "e1bf0853-37d2-4888-b6ff-a10558524454"
      },
      "outputs": [
        {
          "data": {
            "text/html": [
              "<div>\n",
              "<style scoped>\n",
              "    .dataframe tbody tr th:only-of-type {\n",
              "        vertical-align: middle;\n",
              "    }\n",
              "\n",
              "    .dataframe tbody tr th {\n",
              "        vertical-align: top;\n",
              "    }\n",
              "\n",
              "    .dataframe thead th {\n",
              "        text-align: right;\n",
              "    }\n",
              "</style>\n",
              "<table border=\"1\" class=\"dataframe\">\n",
              "  <thead>\n",
              "    <tr style=\"text-align: right;\">\n",
              "      <th></th>\n",
              "      <th>count</th>\n",
              "    </tr>\n",
              "    <tr>\n",
              "      <th>data_x</th>\n",
              "      <th></th>\n",
              "    </tr>\n",
              "  </thead>\n",
              "  <tbody>\n",
              "    <tr>\n",
              "      <th>train</th>\n",
              "      <td>18386</td>\n",
              "    </tr>\n",
              "    <tr>\n",
              "      <th>valid</th>\n",
              "      <td>6379</td>\n",
              "    </tr>\n",
              "    <tr>\n",
              "      <th>test</th>\n",
              "      <td>5528</td>\n",
              "    </tr>\n",
              "  </tbody>\n",
              "</table>\n",
              "</div><br><label><b>dtype:</b> int64</label>"
            ],
            "text/plain": [
              "data_x\n",
              "train    18386\n",
              "valid     6379\n",
              "test      5528\n",
              "Name: count, dtype: int64"
            ]
          },
          "execution_count": 126,
          "metadata": {},
          "output_type": "execute_result"
        }
      ],
      "source": [
        "df['data_x'].value_counts()"
      ]
    },
    {
      "cell_type": "code",
      "execution_count": 58,
      "metadata": {
        "id": "1C8d6GL2mhij"
      },
      "outputs": [],
      "source": [
        "X_train = df_train[feature_columns]\n",
        "y_train = df_train['target_x']"
      ]
    },
    {
      "cell_type": "code",
      "execution_count": 59,
      "metadata": {
        "id": "dNYTrvdnrg_Y"
      },
      "outputs": [],
      "source": [
        "X_test = df_test[feature_columns]\n",
        "y_test = df_test['target_x']"
      ]
    },
    {
      "cell_type": "code",
      "execution_count": 60,
      "metadata": {
        "id": "mqtHDtlrrhHd"
      },
      "outputs": [],
      "source": [
        "X_val_pred = df_val[feature_columns]\n",
        "y_val_pred = df_val['target_x']"
      ]
    },
    {
      "cell_type": "code",
      "execution_count": 61,
      "metadata": {
        "colab": {
          "base_uri": "https://localhost:8080/",
          "height": 176
        },
        "id": "vdoBZZFSn22E",
        "outputId": "60fe47c8-7e06-4058-f9ba-1ca23f9dcd6e"
      },
      "outputs": [
        {
          "data": {
            "text/html": [
              "<div>\n",
              "<style scoped>\n",
              "    .dataframe tbody tr th:only-of-type {\n",
              "        vertical-align: middle;\n",
              "    }\n",
              "\n",
              "    .dataframe tbody tr th {\n",
              "        vertical-align: top;\n",
              "    }\n",
              "\n",
              "    .dataframe thead th {\n",
              "        text-align: right;\n",
              "    }\n",
              "</style>\n",
              "<table border=\"1\" class=\"dataframe\">\n",
              "  <thead>\n",
              "    <tr style=\"text-align: right;\">\n",
              "      <th></th>\n",
              "      <th>count</th>\n",
              "    </tr>\n",
              "    <tr>\n",
              "      <th>target_x</th>\n",
              "      <th></th>\n",
              "    </tr>\n",
              "  </thead>\n",
              "  <tbody>\n",
              "    <tr>\n",
              "      <th>0.0</th>\n",
              "      <td>18046</td>\n",
              "    </tr>\n",
              "    <tr>\n",
              "      <th>1.0</th>\n",
              "      <td>340</td>\n",
              "    </tr>\n",
              "  </tbody>\n",
              "</table>\n",
              "</div><br><label><b>dtype:</b> int64</label>"
            ],
            "text/plain": [
              "target_x\n",
              "0.0    18046\n",
              "1.0      340\n",
              "Name: count, dtype: int64"
            ]
          },
          "execution_count": 61,
          "metadata": {},
          "output_type": "execute_result"
        }
      ],
      "source": [
        "y_train.value_counts()"
      ]
    },
    {
      "cell_type": "code",
      "execution_count": 63,
      "metadata": {
        "id": "s1zUCS8muOz5"
      },
      "outputs": [],
      "source": [
        "X_train, X_val, y_train, y_val = train_test_split(\n",
        "    X_train, y_train, test_size=0.2, random_state=42, stratify=y_train\n",
        ")\n"
      ]
    },
    {
      "cell_type": "code",
      "execution_count": 64,
      "metadata": {
        "colab": {
          "base_uri": "https://localhost:8080/",
          "height": 176
        },
        "id": "Dloxe17Xu9Kw",
        "outputId": "c4e8f8d8-63cd-46ed-bb3a-6663b19a08a1"
      },
      "outputs": [
        {
          "data": {
            "text/html": [
              "<div>\n",
              "<style scoped>\n",
              "    .dataframe tbody tr th:only-of-type {\n",
              "        vertical-align: middle;\n",
              "    }\n",
              "\n",
              "    .dataframe tbody tr th {\n",
              "        vertical-align: top;\n",
              "    }\n",
              "\n",
              "    .dataframe thead th {\n",
              "        text-align: right;\n",
              "    }\n",
              "</style>\n",
              "<table border=\"1\" class=\"dataframe\">\n",
              "  <thead>\n",
              "    <tr style=\"text-align: right;\">\n",
              "      <th></th>\n",
              "      <th>count</th>\n",
              "    </tr>\n",
              "    <tr>\n",
              "      <th>target_x</th>\n",
              "      <th></th>\n",
              "    </tr>\n",
              "  </thead>\n",
              "  <tbody>\n",
              "    <tr>\n",
              "      <th>0.0</th>\n",
              "      <td>11548</td>\n",
              "    </tr>\n",
              "    <tr>\n",
              "      <th>1.0</th>\n",
              "      <td>218</td>\n",
              "    </tr>\n",
              "  </tbody>\n",
              "</table>\n",
              "</div><br><label><b>dtype:</b> int64</label>"
            ],
            "text/plain": [
              "target_x\n",
              "0.0    11548\n",
              "1.0      218\n",
              "Name: count, dtype: int64"
            ]
          },
          "execution_count": 64,
          "metadata": {},
          "output_type": "execute_result"
        }
      ],
      "source": [
        "y_train.value_counts()"
      ]
    },
    {
      "cell_type": "code",
      "execution_count": 65,
      "metadata": {
        "colab": {
          "base_uri": "https://localhost:8080/",
          "height": 176
        },
        "id": "6KP2t1oTvBw9",
        "outputId": "3d30c7dc-adae-4337-d333-168e2c4fd634"
      },
      "outputs": [
        {
          "data": {
            "text/html": [
              "<div>\n",
              "<style scoped>\n",
              "    .dataframe tbody tr th:only-of-type {\n",
              "        vertical-align: middle;\n",
              "    }\n",
              "\n",
              "    .dataframe tbody tr th {\n",
              "        vertical-align: top;\n",
              "    }\n",
              "\n",
              "    .dataframe thead th {\n",
              "        text-align: right;\n",
              "    }\n",
              "</style>\n",
              "<table border=\"1\" class=\"dataframe\">\n",
              "  <thead>\n",
              "    <tr style=\"text-align: right;\">\n",
              "      <th></th>\n",
              "      <th>count</th>\n",
              "    </tr>\n",
              "    <tr>\n",
              "      <th>target_x</th>\n",
              "      <th></th>\n",
              "    </tr>\n",
              "  </thead>\n",
              "  <tbody>\n",
              "    <tr>\n",
              "      <th>0.0</th>\n",
              "      <td>2888</td>\n",
              "    </tr>\n",
              "    <tr>\n",
              "      <th>1.0</th>\n",
              "      <td>54</td>\n",
              "    </tr>\n",
              "  </tbody>\n",
              "</table>\n",
              "</div><br><label><b>dtype:</b> int64</label>"
            ],
            "text/plain": [
              "target_x\n",
              "0.0    2888\n",
              "1.0      54\n",
              "Name: count, dtype: int64"
            ]
          },
          "execution_count": 65,
          "metadata": {},
          "output_type": "execute_result"
        }
      ],
      "source": [
        "y_val.value_counts()"
      ]
    },
    {
      "cell_type": "code",
      "execution_count": 66,
      "metadata": {
        "id": "daH4GHsdrLEY"
      },
      "outputs": [],
      "source": [
        "X_train = X_train.fillna(-1)\n",
        "X_val = X_val.fillna(-1)\n",
        "X_val_pred = X_val_pred.fillna(-1)\n",
        "X_test = X_test.fillna(-1)"
      ]
    },
    {
      "cell_type": "code",
      "execution_count": 67,
      "metadata": {
        "colab": {
          "base_uri": "https://localhost:8080/"
        },
        "id": "XJ4J_6xOpNOa",
        "outputId": "1be2af30-2ff5-4b3a-86fc-6a6f769b7cd3"
      },
      "outputs": [
        {
          "name": "stdout",
          "output_type": "stream",
          "text": [
            "Shape of X_train after SMOTE: (12125, 60)\n",
            "Shape of y_train after SMOTE: (12125,)\n",
            "\n",
            "Value counts of y_train after SMOTE:\n",
            "target_x\n",
            "0.0    11548\n",
            "1.0      577\n",
            "Name: count, dtype: int64\n"
          ]
        }
      ],
      "source": [
        "smote = SMOTE(sampling_strategy=0.05, random_state=42)\n",
        "X_train_res, y_train_res = smote.fit_resample(X_train, y_train)\n",
        "\n",
        "print(\"Shape of X_train after SMOTE:\", X_train_res.shape)\n",
        "print(\"Shape of y_train after SMOTE:\", y_train_res.shape)\n",
        "\n",
        "print(\"\\nValue counts of y_train after SMOTE:\")\n",
        "print(y_train_res.value_counts())"
      ]
    },
    {
      "cell_type": "code",
      "execution_count": 68,
      "metadata": {
        "id": "utQ6gi8VW9Mw"
      },
      "outputs": [],
      "source": [
        "# !pip install optuna\n",
        "# !pip install lightgbm"
      ]
    },
    {
      "cell_type": "code",
      "execution_count": 69,
      "metadata": {
        "id": "znTVgi_u1cgF"
      },
      "outputs": [],
      "source": []
    },
    {
      "cell_type": "code",
      "execution_count": 70,
      "metadata": {
        "id": "H8Qq0TRy1WYj"
      },
      "outputs": [],
      "source": [
        "def objective(trial, X, y):\n",
        "    params = {\n",
        "        \"objective\": \"binary\",\n",
        "        \"metric\": \"auc\",\n",
        "        \"boosting_type\": \"gbdt\",\n",
        "        \"verbosity\": -1,\n",
        "        \"is_unbalance\": True,  # Handle class imbalance\n",
        "        \"learning_rate\": trial.suggest_float(\"learning_rate\", 0.01, 0.2),\n",
        "        \"num_leaves\": trial.suggest_int(\"num_leaves\", 16, 256),\n",
        "        \"max_depth\": trial.suggest_int(\"max_depth\", 3, 12),\n",
        "        \"feature_fraction\": trial.suggest_float(\"feature_fraction\", 0.6, 1.0),\n",
        "        \"bagging_fraction\": trial.suggest_float(\"bagging_fraction\", 0.6, 1.0),\n",
        "        \"bagging_freq\": trial.suggest_int(\"bagging_freq\", 1, 10),\n",
        "        \"min_data_in_leaf\": trial.suggest_int(\"min_data_in_leaf\", 10, 200),\n",
        "        \"lambda_l1\": trial.suggest_float(\"lambda_l1\", 0.0, 5.0),\n",
        "        \"lambda_l2\": trial.suggest_float(\"lambda_l2\", 0.0, 5.0),\n",
        "    }\n",
        "\n",
        "    skf = StratifiedKFold(n_splits=5, shuffle=True, random_state=42)\n",
        "    aucs = []\n",
        "\n",
        "    for train_idx, valid_idx in skf.split(X, y):\n",
        "        X_train, X_valid = X.iloc[train_idx], X.iloc[valid_idx]\n",
        "        y_train, y_valid = y.iloc[train_idx], y.iloc[valid_idx]\n",
        "\n",
        "        lgb_train = lgb.Dataset(X_train, y_train)\n",
        "        lgb_valid = lgb.Dataset(X_valid, y_valid, reference=lgb_train)\n",
        "        model = LGBMClassifier(**params)\n",
        "        model.fit(\n",
        "            X_train, y_train,\n",
        "            eval_set=[(X_valid, y_valid)],\n",
        "            eval_metric=\"auc\",\n",
        "            callbacks=[\n",
        "                early_stopping(stopping_rounds=100),\n",
        "                log_evaluation(period=0)\n",
        "            ]\n",
        "        )\n",
        "\n",
        "        y_pred = model.predict(X_valid)\n",
        "        auc = roc_auc_score(y_valid, y_pred)\n",
        "        aucs.append(auc)\n",
        "\n",
        "    return sum(aucs) / len(aucs)"
      ]
    },
    {
      "cell_type": "markdown",
      "metadata": {
        "id": "gD2XWpSMBOFD"
      },
      "source": []
    },
    {
      "cell_type": "code",
      "execution_count": 71,
      "metadata": {
        "colab": {
          "base_uri": "https://localhost:8080/"
        },
        "id": "j1TruhnY1gcd",
        "outputId": "e100d6b5-675b-4634-d623-5cdc9db8a2ff"
      },
      "outputs": [
        {
          "name": "stderr",
          "output_type": "stream",
          "text": [
            "[I 2025-06-13 19:21:35,404] A new study created in memory with name: LGBM Classifier\n"
          ]
        },
        {
          "name": "stdout",
          "output_type": "stream",
          "text": [
            "Training until validation scores don't improve for 100 rounds\n",
            "Did not meet early stopping. Best iteration is:\n",
            "[100]\tvalid_0's auc: 0.973179\n",
            "Training until validation scores don't improve for 100 rounds\n",
            "Did not meet early stopping. Best iteration is:\n",
            "[89]\tvalid_0's auc: 0.982356\n",
            "Training until validation scores don't improve for 100 rounds\n",
            "Did not meet early stopping. Best iteration is:\n",
            "[90]\tvalid_0's auc: 0.975468\n",
            "Training until validation scores don't improve for 100 rounds\n",
            "Did not meet early stopping. Best iteration is:\n",
            "[100]\tvalid_0's auc: 0.95419\n",
            "Training until validation scores don't improve for 100 rounds\n"
          ]
        },
        {
          "name": "stderr",
          "output_type": "stream",
          "text": [
            "[I 2025-06-13 19:21:37,734] Trial 0 finished with value: 0.8982278522508332 and parameters: {'learning_rate': 0.19747787739160147, 'num_leaves': 122, 'max_depth': 10, 'feature_fraction': 0.6972579277097649, 'bagging_fraction': 0.6043612024966911, 'bagging_freq': 1, 'min_data_in_leaf': 167, 'lambda_l1': 2.344094927446552, 'lambda_l2': 4.00268438701331}. Best is trial 0 with value: 0.8982278522508332.\n"
          ]
        },
        {
          "name": "stdout",
          "output_type": "stream",
          "text": [
            "Did not meet early stopping. Best iteration is:\n",
            "[99]\tvalid_0's auc: 0.983382\n",
            "Training until validation scores don't improve for 100 rounds\n",
            "Did not meet early stopping. Best iteration is:\n",
            "[99]\tvalid_0's auc: 0.973706\n",
            "Training until validation scores don't improve for 100 rounds\n",
            "Did not meet early stopping. Best iteration is:\n",
            "[76]\tvalid_0's auc: 0.986561\n",
            "Training until validation scores don't improve for 100 rounds\n",
            "Did not meet early stopping. Best iteration is:\n",
            "[90]\tvalid_0's auc: 0.974704\n",
            "Training until validation scores don't improve for 100 rounds\n",
            "Did not meet early stopping. Best iteration is:\n",
            "[66]\tvalid_0's auc: 0.961911\n",
            "Training until validation scores don't improve for 100 rounds\n"
          ]
        },
        {
          "name": "stderr",
          "output_type": "stream",
          "text": [
            "[I 2025-06-13 19:21:40,840] Trial 1 finished with value: 0.9133101913071856 and parameters: {'learning_rate': 0.12009855084398728, 'num_leaves': 171, 'max_depth': 8, 'feature_fraction': 0.8358182841523452, 'bagging_fraction': 0.9461098512712965, 'bagging_freq': 3, 'min_data_in_leaf': 117, 'lambda_l1': 1.3311216865235642, 'lambda_l2': 1.8591204691019592}. Best is trial 0 with value: 0.8982278522508332.\n"
          ]
        },
        {
          "name": "stdout",
          "output_type": "stream",
          "text": [
            "Did not meet early stopping. Best iteration is:\n",
            "[100]\tvalid_0's auc: 0.985951\n",
            "Training until validation scores don't improve for 100 rounds\n",
            "Did not meet early stopping. Best iteration is:\n",
            "[86]\tvalid_0's auc: 0.972848\n",
            "Training until validation scores don't improve for 100 rounds\n",
            "Did not meet early stopping. Best iteration is:\n",
            "[100]\tvalid_0's auc: 0.985278\n",
            "Training until validation scores don't improve for 100 rounds\n",
            "Did not meet early stopping. Best iteration is:\n",
            "[57]\tvalid_0's auc: 0.975923\n",
            "Training until validation scores don't improve for 100 rounds\n",
            "Did not meet early stopping. Best iteration is:\n",
            "[61]\tvalid_0's auc: 0.960025\n",
            "Training until validation scores don't improve for 100 rounds\n"
          ]
        },
        {
          "name": "stderr",
          "output_type": "stream",
          "text": [
            "[I 2025-06-13 19:21:43,460] Trial 2 finished with value: 0.9052727309858651 and parameters: {'learning_rate': 0.1448759099140207, 'num_leaves': 35, 'max_depth': 10, 'feature_fraction': 0.8695195068957353, 'bagging_fraction': 0.8260113279587388, 'bagging_freq': 10, 'min_data_in_leaf': 138, 'lambda_l1': 3.224637417605605, 'lambda_l2': 1.8215361032685728}. Best is trial 0 with value: 0.8982278522508332.\n"
          ]
        },
        {
          "name": "stdout",
          "output_type": "stream",
          "text": [
            "Did not meet early stopping. Best iteration is:\n",
            "[75]\tvalid_0's auc: 0.981863\n",
            "Training until validation scores don't improve for 100 rounds\n",
            "Did not meet early stopping. Best iteration is:\n",
            "[100]\tvalid_0's auc: 0.975328\n",
            "Training until validation scores don't improve for 100 rounds\n",
            "Did not meet early stopping. Best iteration is:\n",
            "[76]\tvalid_0's auc: 0.984318\n",
            "Training until validation scores don't improve for 100 rounds\n",
            "Did not meet early stopping. Best iteration is:\n",
            "[91]\tvalid_0's auc: 0.97531\n",
            "Training until validation scores don't improve for 100 rounds\n",
            "Did not meet early stopping. Best iteration is:\n",
            "[76]\tvalid_0's auc: 0.956008\n",
            "Training until validation scores don't improve for 100 rounds\n"
          ]
        },
        {
          "name": "stderr",
          "output_type": "stream",
          "text": [
            "[I 2025-06-13 19:21:46,310] Trial 3 finished with value: 0.9079023404160751 and parameters: {'learning_rate': 0.10757206170332094, 'num_leaves': 250, 'max_depth': 11, 'feature_fraction': 0.7160837070551326, 'bagging_fraction': 0.8477564575908139, 'bagging_freq': 4, 'min_data_in_leaf': 78, 'lambda_l1': 4.582875699605004, 'lambda_l2': 1.9513284712211858}. Best is trial 0 with value: 0.8982278522508332.\n"
          ]
        },
        {
          "name": "stdout",
          "output_type": "stream",
          "text": [
            "Did not meet early stopping. Best iteration is:\n",
            "[72]\tvalid_0's auc: 0.986526\n",
            "Training until validation scores don't improve for 100 rounds\n",
            "Did not meet early stopping. Best iteration is:\n",
            "[97]\tvalid_0's auc: 0.978291\n",
            "Training until validation scores don't improve for 100 rounds\n",
            "Did not meet early stopping. Best iteration is:\n",
            "[99]\tvalid_0's auc: 0.985281\n",
            "Training until validation scores don't improve for 100 rounds\n",
            "Did not meet early stopping. Best iteration is:\n",
            "[88]\tvalid_0's auc: 0.973266\n",
            "Training until validation scores don't improve for 100 rounds\n",
            "Did not meet early stopping. Best iteration is:\n",
            "[92]\tvalid_0's auc: 0.964162\n",
            "Training until validation scores don't improve for 100 rounds\n"
          ]
        },
        {
          "name": "stderr",
          "output_type": "stream",
          "text": [
            "[I 2025-06-13 19:21:49,259] Trial 4 finished with value: 0.9061461030971187 and parameters: {'learning_rate': 0.1064968492693523, 'num_leaves': 79, 'max_depth': 7, 'feature_fraction': 0.9991419270180356, 'bagging_fraction': 0.8477203891227929, 'bagging_freq': 1, 'min_data_in_leaf': 68, 'lambda_l1': 1.0149528854437795, 'lambda_l2': 0.4561183321926471}. Best is trial 0 with value: 0.8982278522508332.\n"
          ]
        },
        {
          "name": "stdout",
          "output_type": "stream",
          "text": [
            "Did not meet early stopping. Best iteration is:\n",
            "[49]\tvalid_0's auc: 0.985286\n",
            "Training until validation scores don't improve for 100 rounds\n",
            "Did not meet early stopping. Best iteration is:\n",
            "[88]\tvalid_0's auc: 0.975923\n",
            "Training until validation scores don't improve for 100 rounds\n",
            "Did not meet early stopping. Best iteration is:\n",
            "[97]\tvalid_0's auc: 0.983934\n",
            "Training until validation scores don't improve for 100 rounds\n",
            "Did not meet early stopping. Best iteration is:\n",
            "[100]\tvalid_0's auc: 0.971598\n",
            "Training until validation scores don't improve for 100 rounds\n",
            "Did not meet early stopping. Best iteration is:\n",
            "[56]\tvalid_0's auc: 0.962956\n",
            "Training until validation scores don't improve for 100 rounds\n"
          ]
        },
        {
          "name": "stderr",
          "output_type": "stream",
          "text": [
            "[I 2025-06-13 19:21:51,979] Trial 5 finished with value: 0.9004752963436051 and parameters: {'learning_rate': 0.16204810946710171, 'num_leaves': 210, 'max_depth': 7, 'feature_fraction': 0.6725139260162647, 'bagging_fraction': 0.767619239422068, 'bagging_freq': 7, 'min_data_in_leaf': 46, 'lambda_l1': 2.5825199463609465, 'lambda_l2': 3.00767103655295}. Best is trial 0 with value: 0.8982278522508332.\n"
          ]
        },
        {
          "name": "stdout",
          "output_type": "stream",
          "text": [
            "Did not meet early stopping. Best iteration is:\n",
            "[90]\tvalid_0's auc: 0.984446\n",
            "Training until validation scores don't improve for 100 rounds\n",
            "Did not meet early stopping. Best iteration is:\n",
            "[100]\tvalid_0's auc: 0.973397\n",
            "Training until validation scores don't improve for 100 rounds\n",
            "Did not meet early stopping. Best iteration is:\n",
            "[100]\tvalid_0's auc: 0.982831\n",
            "Training until validation scores don't improve for 100 rounds\n",
            "Did not meet early stopping. Best iteration is:\n",
            "[100]\tvalid_0's auc: 0.960371\n",
            "Training until validation scores don't improve for 100 rounds\n",
            "Did not meet early stopping. Best iteration is:\n",
            "[100]\tvalid_0's auc: 0.948802\n",
            "Training until validation scores don't improve for 100 rounds\n"
          ]
        },
        {
          "name": "stderr",
          "output_type": "stream",
          "text": [
            "[I 2025-06-13 19:21:55,217] Trial 6 finished with value: 0.9113190354786891 and parameters: {'learning_rate': 0.02459712119752542, 'num_leaves': 112, 'max_depth': 8, 'feature_fraction': 0.8451858900673511, 'bagging_fraction': 0.8937903587642166, 'bagging_freq': 4, 'min_data_in_leaf': 35, 'lambda_l1': 4.882924146841014, 'lambda_l2': 4.246537276054057}. Best is trial 0 with value: 0.8982278522508332.\n"
          ]
        },
        {
          "name": "stdout",
          "output_type": "stream",
          "text": [
            "Did not meet early stopping. Best iteration is:\n",
            "[100]\tvalid_0's auc: 0.985167\n",
            "Training until validation scores don't improve for 100 rounds\n",
            "Did not meet early stopping. Best iteration is:\n",
            "[100]\tvalid_0's auc: 0.976126\n",
            "Training until validation scores don't improve for 100 rounds\n",
            "Did not meet early stopping. Best iteration is:\n",
            "[98]\tvalid_0's auc: 0.981163\n",
            "Training until validation scores don't improve for 100 rounds\n",
            "Did not meet early stopping. Best iteration is:\n",
            "[100]\tvalid_0's auc: 0.974847\n",
            "Training until validation scores don't improve for 100 rounds\n",
            "Did not meet early stopping. Best iteration is:\n",
            "[80]\tvalid_0's auc: 0.958599\n",
            "Training until validation scores don't improve for 100 rounds\n"
          ]
        },
        {
          "name": "stderr",
          "output_type": "stream",
          "text": [
            "[I 2025-06-13 19:21:57,298] Trial 7 finished with value: 0.9164839342715239 and parameters: {'learning_rate': 0.09342701796331453, 'num_leaves': 115, 'max_depth': 5, 'feature_fraction': 0.8488374615728287, 'bagging_fraction': 0.8447669789315546, 'bagging_freq': 4, 'min_data_in_leaf': 145, 'lambda_l1': 3.5290405395790376, 'lambda_l2': 1.4712893209599942}. Best is trial 0 with value: 0.8982278522508332.\n"
          ]
        },
        {
          "name": "stdout",
          "output_type": "stream",
          "text": [
            "Did not meet early stopping. Best iteration is:\n",
            "[84]\tvalid_0's auc: 0.985663\n",
            "Training until validation scores don't improve for 100 rounds\n",
            "Did not meet early stopping. Best iteration is:\n",
            "[100]\tvalid_0's auc: 0.97316\n",
            "Training until validation scores don't improve for 100 rounds\n",
            "Did not meet early stopping. Best iteration is:\n",
            "[98]\tvalid_0's auc: 0.985613\n",
            "Training until validation scores don't improve for 100 rounds\n",
            "Did not meet early stopping. Best iteration is:\n",
            "[98]\tvalid_0's auc: 0.969065\n",
            "Training until validation scores don't improve for 100 rounds\n",
            "Did not meet early stopping. Best iteration is:\n",
            "[94]\tvalid_0's auc: 0.958748\n",
            "Training until validation scores don't improve for 100 rounds\n"
          ]
        },
        {
          "name": "stderr",
          "output_type": "stream",
          "text": [
            "[I 2025-06-13 19:22:00,584] Trial 8 finished with value: 0.9086923242495336 and parameters: {'learning_rate': 0.0383193667051771, 'num_leaves': 31, 'max_depth': 11, 'feature_fraction': 0.9542782690472519, 'bagging_fraction': 0.6998439445814623, 'bagging_freq': 7, 'min_data_in_leaf': 47, 'lambda_l1': 1.4389356452785922, 'lambda_l2': 2.10508224558688}. Best is trial 0 with value: 0.8982278522508332.\n"
          ]
        },
        {
          "name": "stdout",
          "output_type": "stream",
          "text": [
            "Did not meet early stopping. Best iteration is:\n",
            "[100]\tvalid_0's auc: 0.985559\n",
            "Training until validation scores don't improve for 100 rounds\n",
            "Did not meet early stopping. Best iteration is:\n",
            "[81]\tvalid_0's auc: 0.978701\n",
            "Training until validation scores don't improve for 100 rounds\n",
            "Did not meet early stopping. Best iteration is:\n",
            "[51]\tvalid_0's auc: 0.97991\n",
            "Training until validation scores don't improve for 100 rounds\n",
            "Did not meet early stopping. Best iteration is:\n",
            "[100]\tvalid_0's auc: 0.973721\n",
            "Training until validation scores don't improve for 100 rounds\n",
            "Did not meet early stopping. Best iteration is:\n",
            "[100]\tvalid_0's auc: 0.954873\n",
            "Training until validation scores don't improve for 100 rounds\n"
          ]
        },
        {
          "name": "stderr",
          "output_type": "stream",
          "text": [
            "[I 2025-06-13 19:22:02,552] Trial 9 finished with value: 0.9164963797482336 and parameters: {'learning_rate': 0.18704299845149422, 'num_leaves': 183, 'max_depth': 3, 'feature_fraction': 0.6511982983649341, 'bagging_fraction': 0.9873513198056367, 'bagging_freq': 10, 'min_data_in_leaf': 194, 'lambda_l1': 0.024840791758016234, 'lambda_l2': 0.45454069975332745}. Best is trial 0 with value: 0.8982278522508332.\n"
          ]
        },
        {
          "name": "stdout",
          "output_type": "stream",
          "text": [
            "Did not meet early stopping. Best iteration is:\n",
            "[97]\tvalid_0's auc: 0.977412\n",
            "Training until validation scores don't improve for 100 rounds\n",
            "Did not meet early stopping. Best iteration is:\n",
            "[95]\tvalid_0's auc: 0.971406\n",
            "Training until validation scores don't improve for 100 rounds\n",
            "Did not meet early stopping. Best iteration is:\n",
            "[96]\tvalid_0's auc: 0.985007\n",
            "Training until validation scores don't improve for 100 rounds\n",
            "Did not meet early stopping. Best iteration is:\n",
            "[96]\tvalid_0's auc: 0.974896\n",
            "Training until validation scores don't improve for 100 rounds\n",
            "Did not meet early stopping. Best iteration is:\n",
            "[96]\tvalid_0's auc: 0.958222\n",
            "Training until validation scores don't improve for 100 rounds\n"
          ]
        },
        {
          "name": "stderr",
          "output_type": "stream",
          "text": [
            "[I 2025-06-13 19:22:04,363] Trial 10 finished with value: 0.9127921307326516 and parameters: {'learning_rate': 0.19694387933249835, 'num_leaves': 75, 'max_depth': 12, 'feature_fraction': 0.7469923994905563, 'bagging_fraction': 0.6067143444055186, 'bagging_freq': 1, 'min_data_in_leaf': 200, 'lambda_l1': 2.2222983574370616, 'lambda_l2': 4.736491879722304}. Best is trial 0 with value: 0.8982278522508332.\n"
          ]
        },
        {
          "name": "stdout",
          "output_type": "stream",
          "text": [
            "Did not meet early stopping. Best iteration is:\n",
            "[89]\tvalid_0's auc: 0.983479\n",
            "Training until validation scores don't improve for 100 rounds\n",
            "Did not meet early stopping. Best iteration is:\n",
            "[100]\tvalid_0's auc: 0.969622\n",
            "Training until validation scores don't improve for 100 rounds\n",
            "Did not meet early stopping. Best iteration is:\n",
            "[100]\tvalid_0's auc: 0.986836\n",
            "Training until validation scores don't improve for 100 rounds\n",
            "Did not meet early stopping. Best iteration is:\n",
            "[100]\tvalid_0's auc: 0.981419\n",
            "Training until validation scores don't improve for 100 rounds\n",
            "Did not meet early stopping. Best iteration is:\n",
            "[83]\tvalid_0's auc: 0.961153\n",
            "Training until validation scores don't improve for 100 rounds\n"
          ]
        },
        {
          "name": "stderr",
          "output_type": "stream",
          "text": [
            "[I 2025-06-13 19:22:06,742] Trial 11 finished with value: 0.9133641932050123 and parameters: {'learning_rate': 0.1618759519760716, 'num_leaves': 244, 'max_depth': 6, 'feature_fraction': 0.6096535367028016, 'bagging_fraction': 0.7355048218027908, 'bagging_freq': 7, 'min_data_in_leaf': 163, 'lambda_l1': 2.5833816581416933, 'lambda_l2': 3.4346892722742313}. Best is trial 0 with value: 0.8982278522508332.\n"
          ]
        },
        {
          "name": "stdout",
          "output_type": "stream",
          "text": [
            "Did not meet early stopping. Best iteration is:\n",
            "[78]\tvalid_0's auc: 0.980283\n",
            "Training until validation scores don't improve for 100 rounds\n",
            "Did not meet early stopping. Best iteration is:\n",
            "[100]\tvalid_0's auc: 0.977222\n",
            "Training until validation scores don't improve for 100 rounds\n",
            "Did not meet early stopping. Best iteration is:\n",
            "[100]\tvalid_0's auc: 0.98667\n",
            "Training until validation scores don't improve for 100 rounds\n",
            "Did not meet early stopping. Best iteration is:\n",
            "[97]\tvalid_0's auc: 0.977372\n",
            "Training until validation scores don't improve for 100 rounds\n",
            "Did not meet early stopping. Best iteration is:\n",
            "[29]\tvalid_0's auc: 0.954055\n",
            "Training until validation scores don't improve for 100 rounds\n"
          ]
        },
        {
          "name": "stderr",
          "output_type": "stream",
          "text": [
            "[I 2025-06-13 19:22:09,362] Trial 12 finished with value: 0.9060124686156581 and parameters: {'learning_rate': 0.16264408848634587, 'num_leaves': 189, 'max_depth': 9, 'feature_fraction': 0.6952286078536005, 'bagging_fraction': 0.6164127285287329, 'bagging_freq': 7, 'min_data_in_leaf': 19, 'lambda_l1': 2.179092880215878, 'lambda_l2': 3.2307503342067356}. Best is trial 0 with value: 0.8982278522508332.\n"
          ]
        },
        {
          "name": "stdout",
          "output_type": "stream",
          "text": [
            "Did not meet early stopping. Best iteration is:\n",
            "[99]\tvalid_0's auc: 0.985697\n",
            "Training until validation scores don't improve for 100 rounds\n",
            "Did not meet early stopping. Best iteration is:\n",
            "[98]\tvalid_0's auc: 0.969433\n",
            "Training until validation scores don't improve for 100 rounds\n",
            "Did not meet early stopping. Best iteration is:\n",
            "[96]\tvalid_0's auc: 0.983087\n",
            "Training until validation scores don't improve for 100 rounds\n",
            "Did not meet early stopping. Best iteration is:\n",
            "[96]\tvalid_0's auc: 0.971944\n",
            "Training until validation scores don't improve for 100 rounds\n",
            "Did not meet early stopping. Best iteration is:\n",
            "[94]\tvalid_0's auc: 0.956938\n",
            "Training until validation scores don't improve for 100 rounds\n"
          ]
        },
        {
          "name": "stderr",
          "output_type": "stream",
          "text": [
            "[I 2025-06-13 19:22:11,393] Trial 13 finished with value: 0.9116381983255952 and parameters: {'learning_rate': 0.1755170221347941, 'num_leaves': 150, 'max_depth': 5, 'feature_fraction': 0.768240576694771, 'bagging_fraction': 0.7341603183144267, 'bagging_freq': 8, 'min_data_in_leaf': 90, 'lambda_l1': 3.58577504202416, 'lambda_l2': 3.21201523541671}. Best is trial 0 with value: 0.8982278522508332.\n"
          ]
        },
        {
          "name": "stdout",
          "output_type": "stream",
          "text": [
            "Did not meet early stopping. Best iteration is:\n",
            "[100]\tvalid_0's auc: 0.984211\n",
            "Training until validation scores don't improve for 100 rounds\n",
            "Did not meet early stopping. Best iteration is:\n",
            "[90]\tvalid_0's auc: 0.975754\n",
            "Training until validation scores don't improve for 100 rounds\n",
            "Did not meet early stopping. Best iteration is:\n",
            "[84]\tvalid_0's auc: 0.984901\n",
            "Training until validation scores don't improve for 100 rounds\n",
            "Did not meet early stopping. Best iteration is:\n",
            "[99]\tvalid_0's auc: 0.977583\n",
            "Training until validation scores don't improve for 100 rounds\n",
            "Did not meet early stopping. Best iteration is:\n",
            "[76]\tvalid_0's auc: 0.959208\n",
            "Training until validation scores don't improve for 100 rounds\n"
          ]
        },
        {
          "name": "stderr",
          "output_type": "stream",
          "text": [
            "[I 2025-06-13 19:22:14,176] Trial 14 finished with value: 0.9110925634863578 and parameters: {'learning_rate': 0.13878809592718022, 'num_leaves': 211, 'max_depth': 9, 'feature_fraction': 0.6524797944669587, 'bagging_fraction': 0.6656659886919151, 'bagging_freq': 6, 'min_data_in_leaf': 114, 'lambda_l1': 2.573086569739102, 'lambda_l2': 3.869963589826688}. Best is trial 0 with value: 0.8982278522508332.\n"
          ]
        },
        {
          "name": "stdout",
          "output_type": "stream",
          "text": [
            "Did not meet early stopping. Best iteration is:\n",
            "[100]\tvalid_0's auc: 0.980317\n",
            "Training until validation scores don't improve for 100 rounds\n",
            "Did not meet early stopping. Best iteration is:\n",
            "[90]\tvalid_0's auc: 0.971353\n",
            "Training until validation scores don't improve for 100 rounds\n",
            "Did not meet early stopping. Best iteration is:\n",
            "[100]\tvalid_0's auc: 0.984291\n",
            "Training until validation scores don't improve for 100 rounds\n",
            "Did not meet early stopping. Best iteration is:\n",
            "[100]\tvalid_0's auc: 0.972362\n",
            "Training until validation scores don't improve for 100 rounds\n",
            "Did not meet early stopping. Best iteration is:\n",
            "[100]\tvalid_0's auc: 0.958476\n",
            "Training until validation scores don't improve for 100 rounds\n"
          ]
        },
        {
          "name": "stderr",
          "output_type": "stream",
          "text": [
            "[I 2025-06-13 19:22:16,447] Trial 15 finished with value: 0.9224769269451768 and parameters: {'learning_rate': 0.06977640143615502, 'num_leaves': 142, 'max_depth': 7, 'feature_fraction': 0.6778560478440057, 'bagging_fraction': 0.7486301516012752, 'bagging_freq': 2, 'min_data_in_leaf': 169, 'lambda_l1': 4.147461075489139, 'lambda_l2': 2.765497033623537}. Best is trial 0 with value: 0.8982278522508332.\n"
          ]
        },
        {
          "name": "stdout",
          "output_type": "stream",
          "text": [
            "Did not meet early stopping. Best iteration is:\n",
            "[81]\tvalid_0's auc: 0.98663\n",
            "Training until validation scores don't improve for 100 rounds\n",
            "Did not meet early stopping. Best iteration is:\n",
            "[100]\tvalid_0's auc: 0.977173\n",
            "Training until validation scores don't improve for 100 rounds\n",
            "Did not meet early stopping. Best iteration is:\n",
            "[96]\tvalid_0's auc: 0.979021\n",
            "Training until validation scores don't improve for 100 rounds\n",
            "Did not meet early stopping. Best iteration is:\n",
            "[90]\tvalid_0's auc: 0.96888\n",
            "Training until validation scores don't improve for 100 rounds\n",
            "Did not meet early stopping. Best iteration is:\n",
            "[94]\tvalid_0's auc: 0.959215\n"
          ]
        },
        {
          "name": "stderr",
          "output_type": "stream",
          "text": [
            "[I 2025-06-13 19:22:18,106] Trial 16 finished with value: 0.9165250998434236 and parameters: {'learning_rate': 0.19477406353905868, 'num_leaves': 211, 'max_depth': 3, 'feature_fraction': 0.6161472763446977, 'bagging_fraction': 0.7799959300400363, 'bagging_freq': 5, 'min_data_in_leaf': 65, 'lambda_l1': 2.9758957332992964, 'lambda_l2': 4.927601575981097}. Best is trial 0 with value: 0.8982278522508332.\n"
          ]
        },
        {
          "name": "stdout",
          "output_type": "stream",
          "text": [
            "Training until validation scores don't improve for 100 rounds\n",
            "Did not meet early stopping. Best iteration is:\n",
            "[97]\tvalid_0's auc: 0.980126\n",
            "Training until validation scores don't improve for 100 rounds\n",
            "Did not meet early stopping. Best iteration is:\n",
            "[100]\tvalid_0's auc: 0.974952\n",
            "Training until validation scores don't improve for 100 rounds\n",
            "Did not meet early stopping. Best iteration is:\n",
            "[79]\tvalid_0's auc: 0.987047\n",
            "Training until validation scores don't improve for 100 rounds\n",
            "Did not meet early stopping. Best iteration is:\n",
            "[65]\tvalid_0's auc: 0.97342\n",
            "Training until validation scores don't improve for 100 rounds\n",
            "Did not meet early stopping. Best iteration is:\n",
            "[96]\tvalid_0's auc: 0.962669\n",
            "Training until validation scores don't improve for 100 rounds\n"
          ]
        },
        {
          "name": "stderr",
          "output_type": "stream",
          "text": [
            "[I 2025-06-13 19:22:20,650] Trial 17 finished with value: 0.9107820931766376 and parameters: {'learning_rate': 0.13673562884781104, 'num_leaves': 103, 'max_depth': 10, 'feature_fraction': 0.7549567349132167, 'bagging_fraction': 0.6584293865703682, 'bagging_freq': 9, 'min_data_in_leaf': 97, 'lambda_l1': 1.81157790592374, 'lambda_l2': 4.059421006720489}. Best is trial 0 with value: 0.8982278522508332.\n"
          ]
        },
        {
          "name": "stdout",
          "output_type": "stream",
          "text": [
            "Did not meet early stopping. Best iteration is:\n",
            "[69]\tvalid_0's auc: 0.977927\n",
            "Training until validation scores don't improve for 100 rounds\n",
            "Did not meet early stopping. Best iteration is:\n",
            "[94]\tvalid_0's auc: 0.978539\n",
            "Training until validation scores don't improve for 100 rounds\n",
            "Did not meet early stopping. Best iteration is:\n",
            "[82]\tvalid_0's auc: 0.982405\n",
            "Training until validation scores don't improve for 100 rounds\n",
            "Did not meet early stopping. Best iteration is:\n",
            "[87]\tvalid_0's auc: 0.97511\n",
            "Training until validation scores don't improve for 100 rounds\n",
            "Did not meet early stopping. Best iteration is:\n",
            "[100]\tvalid_0's auc: 0.958763\n",
            "Training until validation scores don't improve for 100 rounds\n"
          ]
        },
        {
          "name": "stderr",
          "output_type": "stream",
          "text": [
            "[I 2025-06-13 19:22:22,835] Trial 18 finished with value: 0.9041002479558115 and parameters: {'learning_rate': 0.1579066097077765, 'num_leaves': 220, 'max_depth': 5, 'feature_fraction': 0.8024030422653845, 'bagging_fraction': 0.6723120247163351, 'bagging_freq': 6, 'min_data_in_leaf': 42, 'lambda_l1': 0.5133481179318364, 'lambda_l2': 2.5735027437735956}. Best is trial 0 with value: 0.8982278522508332.\n"
          ]
        },
        {
          "name": "stdout",
          "output_type": "stream",
          "text": [
            "Did not meet early stopping. Best iteration is:\n",
            "[100]\tvalid_0's auc: 0.989102\n",
            "Training until validation scores don't improve for 100 rounds\n",
            "Did not meet early stopping. Best iteration is:\n",
            "[98]\tvalid_0's auc: 0.971737\n",
            "Training until validation scores don't improve for 100 rounds\n",
            "Did not meet early stopping. Best iteration is:\n",
            "[37]\tvalid_0's auc: 0.983666\n",
            "Training until validation scores don't improve for 100 rounds\n",
            "Did not meet early stopping. Best iteration is:\n",
            "[99]\tvalid_0's auc: 0.974832\n",
            "Training until validation scores don't improve for 100 rounds\n",
            "Did not meet early stopping. Best iteration is:\n",
            "[97]\tvalid_0's auc: 0.961216\n",
            "Training until validation scores don't improve for 100 rounds\n"
          ]
        },
        {
          "name": "stderr",
          "output_type": "stream",
          "text": [
            "[I 2025-06-13 19:22:26,631] Trial 19 finished with value: 0.9011682557589552 and parameters: {'learning_rate': 0.1769628762083476, 'num_leaves': 157, 'max_depth': 9, 'feature_fraction': 0.7323022994638446, 'bagging_fraction': 0.7861802719137406, 'bagging_freq': 8, 'min_data_in_leaf': 10, 'lambda_l1': 3.036265589082121, 'lambda_l2': 3.704919275583376}. Best is trial 0 with value: 0.8982278522508332.\n"
          ]
        },
        {
          "name": "stdout",
          "output_type": "stream",
          "text": [
            "Did not meet early stopping. Best iteration is:\n",
            "[65]\tvalid_0's auc: 0.984054\n",
            "Training until validation scores don't improve for 100 rounds\n",
            "Did not meet early stopping. Best iteration is:\n",
            "[100]\tvalid_0's auc: 0.97147\n",
            "Training until validation scores don't improve for 100 rounds\n",
            "Did not meet early stopping. Best iteration is:\n",
            "[84]\tvalid_0's auc: 0.986091\n",
            "Training until validation scores don't improve for 100 rounds\n",
            "Did not meet early stopping. Best iteration is:\n",
            "[99]\tvalid_0's auc: 0.972373\n",
            "Training until validation scores don't improve for 100 rounds\n",
            "Did not meet early stopping. Best iteration is:\n",
            "[100]\tvalid_0's auc: 0.961612\n",
            "Training until validation scores don't improve for 100 rounds\n"
          ]
        },
        {
          "name": "stderr",
          "output_type": "stream",
          "text": [
            "[I 2025-06-13 19:22:29,686] Trial 20 finished with value: 0.915406597671956 and parameters: {'learning_rate': 0.06715999478335502, 'num_leaves': 115, 'max_depth': 12, 'feature_fraction': 0.6583913104321055, 'bagging_fraction': 0.8898700247374761, 'bagging_freq': 2, 'min_data_in_leaf': 135, 'lambda_l1': 1.8908505987180668, 'lambda_l2': 1.0978597940844192}. Best is trial 0 with value: 0.8982278522508332.\n"
          ]
        },
        {
          "name": "stdout",
          "output_type": "stream",
          "text": [
            "Did not meet early stopping. Best iteration is:\n",
            "[98]\tvalid_0's auc: 0.985772\n",
            "Training until validation scores don't improve for 100 rounds\n",
            "Did not meet early stopping. Best iteration is:\n",
            "[61]\tvalid_0's auc: 0.970484\n",
            "Training until validation scores don't improve for 100 rounds\n",
            "Did not meet early stopping. Best iteration is:\n",
            "[37]\tvalid_0's auc: 0.982387\n",
            "Training until validation scores don't improve for 100 rounds\n",
            "Did not meet early stopping. Best iteration is:\n",
            "[48]\tvalid_0's auc: 0.973386\n",
            "Training until validation scores don't improve for 100 rounds\n",
            "Did not meet early stopping. Best iteration is:\n",
            "[48]\tvalid_0's auc: 0.961003\n",
            "Training until validation scores don't improve for 100 rounds\n"
          ]
        },
        {
          "name": "stderr",
          "output_type": "stream",
          "text": [
            "[I 2025-06-13 19:22:32,934] Trial 21 finished with value: 0.9025573151987393 and parameters: {'learning_rate': 0.17808717641082006, 'num_leaves': 161, 'max_depth': 9, 'feature_fraction': 0.7190170109681223, 'bagging_fraction': 0.7914885757526937, 'bagging_freq': 8, 'min_data_in_leaf': 10, 'lambda_l1': 2.8223915041400733, 'lambda_l2': 3.6411126091597166}. Best is trial 0 with value: 0.8982278522508332.\n"
          ]
        },
        {
          "name": "stdout",
          "output_type": "stream",
          "text": [
            "Did not meet early stopping. Best iteration is:\n",
            "[98]\tvalid_0's auc: 0.98591\n",
            "Training until validation scores don't improve for 100 rounds\n",
            "Did not meet early stopping. Best iteration is:\n",
            "[100]\tvalid_0's auc: 0.971775\n",
            "Training until validation scores don't improve for 100 rounds\n",
            "Did not meet early stopping. Best iteration is:\n",
            "[33]\tvalid_0's auc: 0.981942\n",
            "Training until validation scores don't improve for 100 rounds\n",
            "Did not meet early stopping. Best iteration is:\n",
            "[95]\tvalid_0's auc: 0.975336\n",
            "Training until validation scores don't improve for 100 rounds\n",
            "Did not meet early stopping. Best iteration is:\n",
            "[96]\tvalid_0's auc: 0.960869\n",
            "Training until validation scores don't improve for 100 rounds\n"
          ]
        },
        {
          "name": "stderr",
          "output_type": "stream",
          "text": [
            "[I 2025-06-13 19:22:35,706] Trial 22 finished with value: 0.8999277995105028 and parameters: {'learning_rate': 0.17188330969210822, 'num_leaves': 133, 'max_depth': 10, 'feature_fraction': 0.7843232910777533, 'bagging_fraction': 0.7642437087137406, 'bagging_freq': 8, 'min_data_in_leaf': 24, 'lambda_l1': 3.6226560410236175, 'lambda_l2': 4.303600934796906}. Best is trial 0 with value: 0.8982278522508332.\n"
          ]
        },
        {
          "name": "stdout",
          "output_type": "stream",
          "text": [
            "Did not meet early stopping. Best iteration is:\n",
            "[100]\tvalid_0's auc: 0.985294\n",
            "Training until validation scores don't improve for 100 rounds\n",
            "Did not meet early stopping. Best iteration is:\n",
            "[90]\tvalid_0's auc: 0.965537\n",
            "Training until validation scores don't improve for 100 rounds\n",
            "Did not meet early stopping. Best iteration is:\n",
            "[83]\tvalid_0's auc: 0.986546\n",
            "Training until validation scores don't improve for 100 rounds\n",
            "Did not meet early stopping. Best iteration is:\n",
            "[83]\tvalid_0's auc: 0.973894\n",
            "Training until validation scores don't improve for 100 rounds\n",
            "Did not meet early stopping. Best iteration is:\n",
            "[46]\tvalid_0's auc: 0.963789\n",
            "Training until validation scores don't improve for 100 rounds\n"
          ]
        },
        {
          "name": "stderr",
          "output_type": "stream",
          "text": [
            "[I 2025-06-13 19:22:39,052] Trial 23 finished with value: 0.8956228884989429 and parameters: {'learning_rate': 0.1989341904613791, 'num_leaves': 67, 'max_depth': 10, 'feature_fraction': 0.8032643729670842, 'bagging_fraction': 0.7184681312944766, 'bagging_freq': 9, 'min_data_in_leaf': 31, 'lambda_l1': 3.602197237139004, 'lambda_l2': 4.359632549430135}. Best is trial 23 with value: 0.8956228884989429.\n"
          ]
        },
        {
          "name": "stdout",
          "output_type": "stream",
          "text": [
            "Did not meet early stopping. Best iteration is:\n",
            "[49]\tvalid_0's auc: 0.985533\n",
            "Training until validation scores don't improve for 100 rounds\n",
            "Did not meet early stopping. Best iteration is:\n",
            "[92]\tvalid_0's auc: 0.97071\n",
            "Training until validation scores don't improve for 100 rounds\n",
            "Did not meet early stopping. Best iteration is:\n",
            "[72]\tvalid_0's auc: 0.982669\n",
            "Training until validation scores don't improve for 100 rounds\n",
            "Did not meet early stopping. Best iteration is:\n",
            "[99]\tvalid_0's auc: 0.972769\n",
            "Training until validation scores don't improve for 100 rounds\n",
            "Did not meet early stopping. Best iteration is:\n",
            "[69]\tvalid_0's auc: 0.959081\n",
            "Training until validation scores don't improve for 100 rounds\n"
          ]
        },
        {
          "name": "stderr",
          "output_type": "stream",
          "text": [
            "[I 2025-06-13 19:22:41,858] Trial 24 finished with value: 0.8919640649463169 and parameters: {'learning_rate': 0.19349739366176544, 'num_leaves': 62, 'max_depth': 11, 'feature_fraction': 0.7961256231877186, 'bagging_fraction': 0.7129690764883406, 'bagging_freq': 9, 'min_data_in_leaf': 25, 'lambda_l1': 4.03526964074153, 'lambda_l2': 4.399397958647765}. Best is trial 24 with value: 0.8919640649463169.\n"
          ]
        },
        {
          "name": "stdout",
          "output_type": "stream",
          "text": [
            "Did not meet early stopping. Best iteration is:\n",
            "[50]\tvalid_0's auc: 0.981179\n",
            "Training until validation scores don't improve for 100 rounds\n",
            "Did not meet early stopping. Best iteration is:\n",
            "[95]\tvalid_0's auc: 0.97543\n",
            "Training until validation scores don't improve for 100 rounds\n",
            "Did not meet early stopping. Best iteration is:\n",
            "[76]\tvalid_0's auc: 0.982424\n",
            "Training until validation scores don't improve for 100 rounds\n",
            "Did not meet early stopping. Best iteration is:\n",
            "[64]\tvalid_0's auc: 0.975592\n",
            "Training until validation scores don't improve for 100 rounds\n",
            "Did not meet early stopping. Best iteration is:\n",
            "[82]\tvalid_0's auc: 0.955612\n",
            "Training until validation scores don't improve for 100 rounds\n"
          ]
        },
        {
          "name": "stderr",
          "output_type": "stream",
          "text": [
            "[I 2025-06-13 19:22:44,507] Trial 25 finished with value: 0.9024533044597938 and parameters: {'learning_rate': 0.19509545258659527, 'num_leaves': 53, 'max_depth': 11, 'feature_fraction': 0.8921203262049995, 'bagging_fraction': 0.6986866018916564, 'bagging_freq': 9, 'min_data_in_leaf': 57, 'lambda_l1': 4.108539489049331, 'lambda_l2': 4.493220342152414}. Best is trial 24 with value: 0.8919640649463169.\n"
          ]
        },
        {
          "name": "stdout",
          "output_type": "stream",
          "text": [
            "Did not meet early stopping. Best iteration is:\n",
            "[65]\tvalid_0's auc: 0.97615\n",
            "Training until validation scores don't improve for 100 rounds\n",
            "Did not meet early stopping. Best iteration is:\n",
            "[87]\tvalid_0's auc: 0.971666\n",
            "Training until validation scores don't improve for 100 rounds\n",
            "Did not meet early stopping. Best iteration is:\n",
            "[77]\tvalid_0's auc: 0.98579\n",
            "Training until validation scores don't improve for 100 rounds\n",
            "Did not meet early stopping. Best iteration is:\n",
            "[56]\tvalid_0's auc: 0.974557\n",
            "Training until validation scores don't improve for 100 rounds\n",
            "Did not meet early stopping. Best iteration is:\n",
            "[65]\tvalid_0's auc: 0.960257\n",
            "Training until validation scores don't improve for 100 rounds\n"
          ]
        },
        {
          "name": "stderr",
          "output_type": "stream",
          "text": [
            "[I 2025-06-13 19:22:46,847] Trial 26 finished with value: 0.9011244869148334 and parameters: {'learning_rate': 0.19684836792455154, 'num_leaves': 77, 'max_depth': 12, 'feature_fraction': 0.8021616755012428, 'bagging_fraction': 0.6255203206005029, 'bagging_freq': 9, 'min_data_in_leaf': 82, 'lambda_l1': 3.991115546786493, 'lambda_l2': 4.635600702186988}. Best is trial 24 with value: 0.8919640649463169.\n"
          ]
        },
        {
          "name": "stdout",
          "output_type": "stream",
          "text": [
            "Did not meet early stopping. Best iteration is:\n",
            "[73]\tvalid_0's auc: 0.985141\n",
            "Training until validation scores don't improve for 100 rounds\n",
            "Did not meet early stopping. Best iteration is:\n",
            "[95]\tvalid_0's auc: 0.974978\n",
            "Training until validation scores don't improve for 100 rounds\n",
            "Did not meet early stopping. Best iteration is:\n",
            "[100]\tvalid_0's auc: 0.984608\n",
            "Training until validation scores don't improve for 100 rounds\n",
            "Did not meet early stopping. Best iteration is:\n",
            "[90]\tvalid_0's auc: 0.978859\n",
            "Training until validation scores don't improve for 100 rounds\n",
            "Did not meet early stopping. Best iteration is:\n",
            "[65]\tvalid_0's auc: 0.960223\n",
            "Training until validation scores don't improve for 100 rounds\n"
          ]
        },
        {
          "name": "stderr",
          "output_type": "stream",
          "text": [
            "[I 2025-06-13 19:22:49,698] Trial 27 finished with value: 0.91477186455846 and parameters: {'learning_rate': 0.14567854986701084, 'num_leaves': 51, 'max_depth': 11, 'feature_fraction': 0.9359520779256012, 'bagging_fraction': 0.7053144307013899, 'bagging_freq': 5, 'min_data_in_leaf': 180, 'lambda_l1': 4.503356660935436, 'lambda_l2': 4.021488568286311}. Best is trial 24 with value: 0.8919640649463169.\n"
          ]
        },
        {
          "name": "stdout",
          "output_type": "stream",
          "text": [
            "Did not meet early stopping. Best iteration is:\n",
            "[94]\tvalid_0's auc: 0.982792\n",
            "Training until validation scores don't improve for 100 rounds\n",
            "Did not meet early stopping. Best iteration is:\n",
            "[91]\tvalid_0's auc: 0.976341\n",
            "Training until validation scores don't improve for 100 rounds\n",
            "Did not meet early stopping. Best iteration is:\n",
            "[90]\tvalid_0's auc: 0.988884\n",
            "Training until validation scores don't improve for 100 rounds\n",
            "Did not meet early stopping. Best iteration is:\n",
            "[60]\tvalid_0's auc: 0.970518\n",
            "Training until validation scores don't improve for 100 rounds\n",
            "Did not meet early stopping. Best iteration is:\n",
            "[100]\tvalid_0's auc: 0.956747\n",
            "Training until validation scores don't improve for 100 rounds\n"
          ]
        },
        {
          "name": "stderr",
          "output_type": "stream",
          "text": [
            "[I 2025-06-13 19:22:52,198] Trial 28 finished with value: 0.9107291312103815 and parameters: {'learning_rate': 0.1279182173580652, 'num_leaves': 19, 'max_depth': 10, 'feature_fraction': 0.8166599239665685, 'bagging_fraction': 0.6443830215948371, 'bagging_freq': 10, 'min_data_in_leaf': 28, 'lambda_l1': 3.3753073525201716, 'lambda_l2': 4.958606364114645}. Best is trial 24 with value: 0.8919640649463169.\n"
          ]
        },
        {
          "name": "stdout",
          "output_type": "stream",
          "text": [
            "Did not meet early stopping. Best iteration is:\n",
            "[78]\tvalid_0's auc: 0.98461\n",
            "Training until validation scores don't improve for 100 rounds\n",
            "Did not meet early stopping. Best iteration is:\n",
            "[100]\tvalid_0's auc: 0.96993\n",
            "Training until validation scores don't improve for 100 rounds\n",
            "Did not meet early stopping. Best iteration is:\n",
            "[76]\tvalid_0's auc: 0.983068\n",
            "Training until validation scores don't improve for 100 rounds\n",
            "Did not meet early stopping. Best iteration is:\n",
            "[99]\tvalid_0's auc: 0.976398\n",
            "Training until validation scores don't improve for 100 rounds\n",
            "Did not meet early stopping. Best iteration is:\n",
            "[100]\tvalid_0's auc: 0.959536\n",
            "Training until validation scores don't improve for 100 rounds\n"
          ]
        },
        {
          "name": "stderr",
          "output_type": "stream",
          "text": [
            "[I 2025-06-13 19:22:54,675] Trial 29 finished with value: 0.9095999057723112 and parameters: {'learning_rate': 0.1833171056489839, 'num_leaves': 91, 'max_depth': 11, 'feature_fraction': 0.8945865058041386, 'bagging_fraction': 0.711969498711812, 'bagging_freq': 9, 'min_data_in_leaf': 123, 'lambda_l1': 3.8393028240799314, 'lambda_l2': 4.463637291963658}. Best is trial 24 with value: 0.8919640649463169.\n"
          ]
        },
        {
          "name": "stdout",
          "output_type": "stream",
          "text": [
            "Did not meet early stopping. Best iteration is:\n",
            "[62]\tvalid_0's auc: 0.980242\n",
            "Training until validation scores don't improve for 100 rounds\n",
            "Did not meet early stopping. Best iteration is:\n",
            "[81]\tvalid_0's auc: 0.970661\n",
            "Training until validation scores don't improve for 100 rounds\n",
            "Did not meet early stopping. Best iteration is:\n",
            "[99]\tvalid_0's auc: 0.986531\n",
            "Training until validation scores don't improve for 100 rounds\n",
            "Did not meet early stopping. Best iteration is:\n",
            "[94]\tvalid_0's auc: 0.974421\n",
            "Training until validation scores don't improve for 100 rounds\n",
            "Did not meet early stopping. Best iteration is:\n",
            "[99]\tvalid_0's auc: 0.957699\n",
            "Training until validation scores don't improve for 100 rounds\n"
          ]
        },
        {
          "name": "stderr",
          "output_type": "stream",
          "text": [
            "[I 2025-06-13 19:22:57,741] Trial 30 finished with value: 0.9189280497973554 and parameters: {'learning_rate': 0.12167235248329401, 'num_leaves': 56, 'max_depth': 8, 'feature_fraction': 0.8231943690545245, 'bagging_fraction': 0.6410215414270326, 'bagging_freq': 3, 'min_data_in_leaf': 154, 'lambda_l1': 4.281884144820035, 'lambda_l2': 3.6143416478158015}. Best is trial 24 with value: 0.8919640649463169.\n"
          ]
        },
        {
          "name": "stdout",
          "output_type": "stream",
          "text": [
            "Did not meet early stopping. Best iteration is:\n",
            "[97]\tvalid_0's auc: 0.987108\n",
            "Training until validation scores don't improve for 100 rounds\n",
            "Did not meet early stopping. Best iteration is:\n",
            "[98]\tvalid_0's auc: 0.972148\n",
            "Training until validation scores don't improve for 100 rounds\n",
            "Did not meet early stopping. Best iteration is:\n",
            "[33]\tvalid_0's auc: 0.981754\n",
            "Training until validation scores don't improve for 100 rounds\n",
            "Did not meet early stopping. Best iteration is:\n",
            "[95]\tvalid_0's auc: 0.973461\n",
            "Training until validation scores don't improve for 100 rounds\n",
            "Did not meet early stopping. Best iteration is:\n",
            "[96]\tvalid_0's auc: 0.959861\n",
            "Training until validation scores don't improve for 100 rounds\n"
          ]
        },
        {
          "name": "stderr",
          "output_type": "stream",
          "text": [
            "[I 2025-06-13 19:23:02,094] Trial 31 finished with value: 0.8939459736983408 and parameters: {'learning_rate': 0.16959958932137284, 'num_leaves': 129, 'max_depth': 10, 'feature_fraction': 0.7744923673079074, 'bagging_fraction': 0.7578282761952386, 'bagging_freq': 8, 'min_data_in_leaf': 24, 'lambda_l1': 3.822973984192887, 'lambda_l2': 4.21794075866997}. Best is trial 24 with value: 0.8919640649463169.\n"
          ]
        },
        {
          "name": "stdout",
          "output_type": "stream",
          "text": [
            "Did not meet early stopping. Best iteration is:\n",
            "[64]\tvalid_0's auc: 0.980063\n",
            "Training until validation scores don't improve for 100 rounds\n",
            "Did not meet early stopping. Best iteration is:\n",
            "[83]\tvalid_0's auc: 0.977256\n",
            "Training until validation scores don't improve for 100 rounds\n",
            "Did not meet early stopping. Best iteration is:\n",
            "[42]\tvalid_0's auc: 0.987118\n",
            "Training until validation scores don't improve for 100 rounds\n",
            "Did not meet early stopping. Best iteration is:\n",
            "[60]\tvalid_0's auc: 0.976232\n",
            "Training until validation scores don't improve for 100 rounds\n",
            "Did not meet early stopping. Best iteration is:\n",
            "[37]\tvalid_0's auc: 0.959335\n",
            "Training until validation scores don't improve for 100 rounds\n"
          ]
        },
        {
          "name": "stderr",
          "output_type": "stream",
          "text": [
            "[I 2025-06-13 19:23:04,791] Trial 32 finished with value: 0.9085765429760866 and parameters: {'learning_rate': 0.18445644227541835, 'num_leaves': 129, 'max_depth': 10, 'feature_fraction': 0.7771721791161224, 'bagging_fraction': 0.806004539044952, 'bagging_freq': 10, 'min_data_in_leaf': 48, 'lambda_l1': 3.182304250324859, 'lambda_l2': 4.17661923147016}. Best is trial 24 with value: 0.8919640649463169.\n"
          ]
        },
        {
          "name": "stdout",
          "output_type": "stream",
          "text": [
            "Did not meet early stopping. Best iteration is:\n",
            "[99]\tvalid_0's auc: 0.980156\n",
            "Training until validation scores don't improve for 100 rounds\n",
            "Did not meet early stopping. Best iteration is:\n",
            "[95]\tvalid_0's auc: 0.970277\n",
            "Training until validation scores don't improve for 100 rounds\n",
            "Did not meet early stopping. Best iteration is:\n",
            "[36]\tvalid_0's auc: 0.984227\n",
            "Training until validation scores don't improve for 100 rounds\n",
            "Did not meet early stopping. Best iteration is:\n",
            "[98]\tvalid_0's auc: 0.973661\n",
            "Training until validation scores don't improve for 100 rounds\n",
            "Did not meet early stopping. Best iteration is:\n",
            "[92]\tvalid_0's auc: 0.957289\n",
            "Training until validation scores don't improve for 100 rounds\n"
          ]
        },
        {
          "name": "stderr",
          "output_type": "stream",
          "text": [
            "[I 2025-06-13 19:23:07,557] Trial 33 finished with value: 0.8958790655939517 and parameters: {'learning_rate': 0.1990776625892304, 'num_leaves': 95, 'max_depth': 10, 'feature_fraction': 0.8750691398862623, 'bagging_fraction': 0.7263028513308274, 'bagging_freq': 9, 'min_data_in_leaf': 32, 'lambda_l1': 4.973236744718017, 'lambda_l2': 3.9064393605962096}. Best is trial 24 with value: 0.8919640649463169.\n"
          ]
        },
        {
          "name": "stdout",
          "output_type": "stream",
          "text": [
            "Did not meet early stopping. Best iteration is:\n",
            "[68]\tvalid_0's auc: 0.980556\n",
            "Training until validation scores don't improve for 100 rounds\n",
            "Did not meet early stopping. Best iteration is:\n",
            "[80]\tvalid_0's auc: 0.969565\n",
            "Training until validation scores don't improve for 100 rounds\n",
            "Did not meet early stopping. Best iteration is:\n",
            "[33]\tvalid_0's auc: 0.982082\n",
            "Training until validation scores don't improve for 100 rounds\n",
            "Did not meet early stopping. Best iteration is:\n",
            "[100]\tvalid_0's auc: 0.974323\n",
            "Training until validation scores don't improve for 100 rounds\n",
            "Did not meet early stopping. Best iteration is:\n",
            "[27]\tvalid_0's auc: 0.960425\n",
            "Training until validation scores don't improve for 100 rounds\n"
          ]
        },
        {
          "name": "stderr",
          "output_type": "stream",
          "text": [
            "[I 2025-06-13 19:23:10,141] Trial 34 finished with value: 0.9022985593702616 and parameters: {'learning_rate': 0.19939229603844535, 'num_leaves': 94, 'max_depth': 10, 'feature_fraction': 0.8728511374277144, 'bagging_fraction': 0.7334455196087218, 'bagging_freq': 9, 'min_data_in_leaf': 34, 'lambda_l1': 4.94628554700772, 'lambda_l2': 3.8883746023553547}. Best is trial 24 with value: 0.8919640649463169.\n"
          ]
        },
        {
          "name": "stdout",
          "output_type": "stream",
          "text": [
            "Did not meet early stopping. Best iteration is:\n",
            "[39]\tvalid_0's auc: 0.981295\n",
            "Training until validation scores don't improve for 100 rounds\n",
            "Did not meet early stopping. Best iteration is:\n",
            "[89]\tvalid_0's auc: 0.974357\n",
            "Training until validation scores don't improve for 100 rounds\n",
            "Did not meet early stopping. Best iteration is:\n",
            "[88]\tvalid_0's auc: 0.986019\n",
            "Training until validation scores don't improve for 100 rounds\n",
            "Did not meet early stopping. Best iteration is:\n",
            "[60]\tvalid_0's auc: 0.976398\n",
            "Training until validation scores don't improve for 100 rounds\n",
            "Did not meet early stopping. Best iteration is:\n",
            "[70]\tvalid_0's auc: 0.964498\n",
            "Training until validation scores don't improve for 100 rounds\n"
          ]
        },
        {
          "name": "stderr",
          "output_type": "stream",
          "text": [
            "[I 2025-06-13 19:23:12,527] Trial 35 finished with value: 0.9109100551584236 and parameters: {'learning_rate': 0.15293560556395525, 'num_leaves': 70, 'max_depth': 11, 'feature_fraction': 0.9262061204633327, 'bagging_fraction': 0.6800956022483229, 'bagging_freq': 10, 'min_data_in_leaf': 58, 'lambda_l1': 4.538116626164942, 'lambda_l2': 4.720867283038316}. Best is trial 24 with value: 0.8919640649463169.\n"
          ]
        },
        {
          "name": "stdout",
          "output_type": "stream",
          "text": [
            "Did not meet early stopping. Best iteration is:\n",
            "[80]\tvalid_0's auc: 0.981769\n",
            "Training until validation scores don't improve for 100 rounds\n",
            "Did not meet early stopping. Best iteration is:\n",
            "[98]\tvalid_0's auc: 0.972878\n",
            "Training until validation scores don't improve for 100 rounds\n",
            "Did not meet early stopping. Best iteration is:\n",
            "[33]\tvalid_0's auc: 0.984069\n",
            "Training until validation scores don't improve for 100 rounds\n",
            "Did not meet early stopping. Best iteration is:\n",
            "[100]\tvalid_0's auc: 0.975351\n",
            "Training until validation scores don't improve for 100 rounds\n",
            "Did not meet early stopping. Best iteration is:\n",
            "[97]\tvalid_0's auc: 0.96371\n",
            "Training until validation scores don't improve for 100 rounds\n"
          ]
        },
        {
          "name": "stderr",
          "output_type": "stream",
          "text": [
            "[I 2025-06-13 19:23:16,049] Trial 36 finished with value: 0.898290147924075 and parameters: {'learning_rate': 0.16853433232393156, 'num_leaves': 63, 'max_depth': 9, 'feature_fraction': 0.8648971798564024, 'bagging_fraction': 0.8096773952708123, 'bagging_freq': 8, 'min_data_in_leaf': 21, 'lambda_l1': 3.855976136609237, 'lambda_l2': 4.407775800041768}. Best is trial 24 with value: 0.8919640649463169.\n"
          ]
        },
        {
          "name": "stdout",
          "output_type": "stream",
          "text": [
            "Did not meet early stopping. Best iteration is:\n",
            "[100]\tvalid_0's auc: 0.983263\n",
            "Training until validation scores don't improve for 100 rounds\n",
            "Did not meet early stopping. Best iteration is:\n",
            "[92]\tvalid_0's auc: 0.971794\n",
            "Training until validation scores don't improve for 100 rounds\n",
            "Did not meet early stopping. Best iteration is:\n",
            "[38]\tvalid_0's auc: 0.984916\n",
            "Training until validation scores don't improve for 100 rounds\n",
            "Did not meet early stopping. Best iteration is:\n",
            "[96]\tvalid_0's auc: 0.976379\n",
            "Training until validation scores don't improve for 100 rounds\n",
            "Did not meet early stopping. Best iteration is:\n",
            "[32]\tvalid_0's auc: 0.962915\n",
            "Training until validation scores don't improve for 100 rounds\n"
          ]
        },
        {
          "name": "stderr",
          "output_type": "stream",
          "text": [
            "[I 2025-06-13 19:23:18,734] Trial 37 finished with value: 0.905532489994 and parameters: {'learning_rate': 0.18611467142420665, 'num_leaves': 37, 'max_depth': 12, 'feature_fraction': 0.8189041464745108, 'bagging_fraction': 0.7611033415066519, 'bagging_freq': 9, 'min_data_in_leaf': 37, 'lambda_l1': 4.7141959614650375, 'lambda_l2': 3.3094009229990258}. Best is trial 24 with value: 0.8919640649463169.\n"
          ]
        },
        {
          "name": "stdout",
          "output_type": "stream",
          "text": [
            "Did not meet early stopping. Best iteration is:\n",
            "[92]\tvalid_0's auc: 0.97997\n",
            "Training until validation scores don't improve for 100 rounds\n",
            "Did not meet early stopping. Best iteration is:\n",
            "[100]\tvalid_0's auc: 0.973751\n",
            "Training until validation scores don't improve for 100 rounds\n",
            "Did not meet early stopping. Best iteration is:\n",
            "[63]\tvalid_0's auc: 0.984946\n",
            "Training until validation scores don't improve for 100 rounds\n",
            "Did not meet early stopping. Best iteration is:\n",
            "[34]\tvalid_0's auc: 0.973427\n",
            "Training until validation scores don't improve for 100 rounds\n",
            "Did not meet early stopping. Best iteration is:\n",
            "[67]\tvalid_0's auc: 0.955758\n",
            "Training until validation scores don't improve for 100 rounds\n"
          ]
        },
        {
          "name": "stderr",
          "output_type": "stream",
          "text": [
            "[I 2025-06-13 19:23:20,993] Trial 38 finished with value: 0.9098842491680991 and parameters: {'learning_rate': 0.187326568875553, 'num_leaves': 96, 'max_depth': 10, 'feature_fraction': 0.783891275948756, 'bagging_fraction': 0.7195091009089956, 'bagging_freq': 10, 'min_data_in_leaf': 75, 'lambda_l1': 4.325508418760997, 'lambda_l2': 4.116468081395979}. Best is trial 24 with value: 0.8919640649463169.\n"
          ]
        },
        {
          "name": "stdout",
          "output_type": "stream",
          "text": [
            "Did not meet early stopping. Best iteration is:\n",
            "[53]\tvalid_0's auc: 0.983046\n",
            "Training until validation scores don't improve for 100 rounds\n",
            "Did not meet early stopping. Best iteration is:\n",
            "[98]\tvalid_0's auc: 0.97042\n",
            "Training until validation scores don't improve for 100 rounds\n",
            "Did not meet early stopping. Best iteration is:\n",
            "[71]\tvalid_0's auc: 0.987292\n",
            "Training until validation scores don't improve for 100 rounds\n",
            "Did not meet early stopping. Best iteration is:\n",
            "[96]\tvalid_0's auc: 0.972565\n",
            "Training until validation scores don't improve for 100 rounds\n",
            "Did not meet early stopping. Best iteration is:\n",
            "[98]\tvalid_0's auc: 0.958655\n",
            "Training until validation scores don't improve for 100 rounds\n"
          ]
        },
        {
          "name": "stderr",
          "output_type": "stream",
          "text": [
            "[I 2025-06-13 19:23:23,769] Trial 39 finished with value: 0.9169516166587531 and parameters: {'learning_rate': 0.0907109735659436, 'num_leaves': 86, 'max_depth': 9, 'feature_fraction': 0.8443116804751827, 'bagging_fraction': 0.687845556973674, 'bagging_freq': 8, 'min_data_in_leaf': 55, 'lambda_l1': 4.967993621732197, 'lambda_l2': 3.0204962929074317}. Best is trial 24 with value: 0.8919640649463169.\n"
          ]
        },
        {
          "name": "stdout",
          "output_type": "stream",
          "text": [
            "Did not meet early stopping. Best iteration is:\n",
            "[64]\tvalid_0's auc: 0.985981\n",
            "Training until validation scores don't improve for 100 rounds\n",
            "Did not meet early stopping. Best iteration is:\n",
            "[100]\tvalid_0's auc: 0.973476\n",
            "Training until validation scores don't improve for 100 rounds\n",
            "Did not meet early stopping. Best iteration is:\n",
            "[53]\tvalid_0's auc: 0.984273\n",
            "Training until validation scores don't improve for 100 rounds\n",
            "Did not meet early stopping. Best iteration is:\n",
            "[50]\tvalid_0's auc: 0.977952\n",
            "Training until validation scores don't improve for 100 rounds\n",
            "Did not meet early stopping. Best iteration is:\n",
            "[100]\tvalid_0's auc: 0.965297\n",
            "Training until validation scores don't improve for 100 rounds\n"
          ]
        },
        {
          "name": "stderr",
          "output_type": "stream",
          "text": [
            "[I 2025-06-13 19:23:27,576] Trial 40 finished with value: 0.9066810073334247 and parameters: {'learning_rate': 0.16908847431691512, 'num_leaves': 106, 'max_depth': 8, 'feature_fraction': 0.9787239561598116, 'bagging_fraction': 0.8354743513759271, 'bagging_freq': 9, 'min_data_in_leaf': 32, 'lambda_l1': 3.846916230043484, 'lambda_l2': 3.579170317311569}. Best is trial 24 with value: 0.8919640649463169.\n"
          ]
        },
        {
          "name": "stdout",
          "output_type": "stream",
          "text": [
            "Did not meet early stopping. Best iteration is:\n",
            "[63]\tvalid_0's auc: 0.983326\n",
            "Training until validation scores don't improve for 100 rounds\n",
            "Did not meet early stopping. Best iteration is:\n",
            "[93]\tvalid_0's auc: 0.975622\n",
            "Training until validation scores don't improve for 100 rounds\n",
            "Did not meet early stopping. Best iteration is:\n",
            "[82]\tvalid_0's auc: 0.986441\n",
            "Training until validation scores don't improve for 100 rounds\n",
            "Did not meet early stopping. Best iteration is:\n",
            "[71]\tvalid_0's auc: 0.974752\n",
            "Training until validation scores don't improve for 100 rounds\n",
            "Did not meet early stopping. Best iteration is:\n",
            "[72]\tvalid_0's auc: 0.959476\n",
            "Training until validation scores don't improve for 100 rounds\n"
          ]
        },
        {
          "name": "stderr",
          "output_type": "stream",
          "text": [
            "[I 2025-06-13 19:23:30,580] Trial 41 finished with value: 0.8951187617481917 and parameters: {'learning_rate': 0.19860350623681244, 'num_leaves': 122, 'max_depth': 11, 'feature_fraction': 0.7110955730094638, 'bagging_fraction': 0.7464761330808101, 'bagging_freq': 6, 'min_data_in_leaf': 15, 'lambda_l1': 3.4084603105244975, 'lambda_l2': 4.631060821296671}. Best is trial 24 with value: 0.8919640649463169.\n"
          ]
        },
        {
          "name": "stdout",
          "output_type": "stream",
          "text": [
            "Did not meet early stopping. Best iteration is:\n",
            "[93]\tvalid_0's auc: 0.985271\n",
            "Training until validation scores don't improve for 100 rounds\n",
            "Did not meet early stopping. Best iteration is:\n",
            "[100]\tvalid_0's auc: 0.964521\n",
            "Training until validation scores don't improve for 100 rounds\n",
            "Did not meet early stopping. Best iteration is:\n",
            "[76]\tvalid_0's auc: 0.987645\n",
            "Training until validation scores don't improve for 100 rounds\n",
            "Did not meet early stopping. Best iteration is:\n",
            "[85]\tvalid_0's auc: 0.974568\n",
            "Training until validation scores don't improve for 100 rounds\n",
            "Did not meet early stopping. Best iteration is:\n",
            "[100]\tvalid_0's auc: 0.961829\n",
            "Training until validation scores don't improve for 100 rounds\n"
          ]
        },
        {
          "name": "stderr",
          "output_type": "stream",
          "text": [
            "[I 2025-06-13 19:23:33,268] Trial 42 finished with value: 0.896381589216416 and parameters: {'learning_rate': 0.18756192220312307, 'num_leaves': 123, 'max_depth': 11, 'feature_fraction': 0.7504379236546045, 'bagging_fraction': 0.7492440740539212, 'bagging_freq': 7, 'min_data_in_leaf': 19, 'lambda_l1': 3.434823924687106, 'lambda_l2': 4.774266542514594}. Best is trial 24 with value: 0.8919640649463169.\n"
          ]
        },
        {
          "name": "stdout",
          "output_type": "stream",
          "text": [
            "Did not meet early stopping. Best iteration is:\n",
            "[81]\tvalid_0's auc: 0.982109\n",
            "Training until validation scores don't improve for 100 rounds\n",
            "Did not meet early stopping. Best iteration is:\n",
            "[95]\tvalid_0's auc: 0.971319\n",
            "Training until validation scores don't improve for 100 rounds\n",
            "Did not meet early stopping. Best iteration is:\n",
            "[84]\tvalid_0's auc: 0.987596\n",
            "Training until validation scores don't improve for 100 rounds\n",
            "Did not meet early stopping. Best iteration is:\n",
            "[100]\tvalid_0's auc: 0.970386\n",
            "Training until validation scores don't improve for 100 rounds\n",
            "Did not meet early stopping. Best iteration is:\n",
            "[88]\tvalid_0's auc: 0.960279\n",
            "Training until validation scores don't improve for 100 rounds\n"
          ]
        },
        {
          "name": "stderr",
          "output_type": "stream",
          "text": [
            "[I 2025-06-13 19:23:36,158] Trial 43 finished with value: 0.9016256280891406 and parameters: {'learning_rate': 0.19862102110735164, 'num_leaves': 38, 'max_depth': 11, 'feature_fraction': 0.7061155743763585, 'bagging_fraction': 0.7240088170780071, 'bagging_freq': 6, 'min_data_in_leaf': 15, 'lambda_l1': 3.6940087247754874, 'lambda_l2': 4.412249906814762}. Best is trial 24 with value: 0.8919640649463169.\n"
          ]
        },
        {
          "name": "stdout",
          "output_type": "stream",
          "text": [
            "Did not meet early stopping. Best iteration is:\n",
            "[97]\tvalid_0's auc: 0.98339\n",
            "Training until validation scores don't improve for 100 rounds\n",
            "Did not meet early stopping. Best iteration is:\n",
            "[100]\tvalid_0's auc: 0.974022\n",
            "Training until validation scores don't improve for 100 rounds\n",
            "Did not meet early stopping. Best iteration is:\n",
            "[80]\tvalid_0's auc: 0.983919\n",
            "Training until validation scores don't improve for 100 rounds\n",
            "Did not meet early stopping. Best iteration is:\n",
            "[83]\tvalid_0's auc: 0.974395\n",
            "Training until validation scores don't improve for 100 rounds\n",
            "Did not meet early stopping. Best iteration is:\n",
            "[87]\tvalid_0's auc: 0.966999\n",
            "Training until validation scores don't improve for 100 rounds\n"
          ]
        },
        {
          "name": "stderr",
          "output_type": "stream",
          "text": [
            "[I 2025-06-13 19:23:39,659] Trial 44 finished with value: 0.8998881663739177 and parameters: {'learning_rate': 0.15007323910854808, 'num_leaves': 138, 'max_depth': 12, 'feature_fraction': 0.7306396038280976, 'bagging_fraction': 0.7513005041634511, 'bagging_freq': 7, 'min_data_in_leaf': 28, 'lambda_l1': 3.309454883889412, 'lambda_l2': 2.2691113851853357}. Best is trial 24 with value: 0.8919640649463169.\n"
          ]
        },
        {
          "name": "stdout",
          "output_type": "stream",
          "text": [
            "Did not meet early stopping. Best iteration is:\n",
            "[83]\tvalid_0's auc: 0.986768\n",
            "Training until validation scores don't improve for 100 rounds\n",
            "Did not meet early stopping. Best iteration is:\n",
            "[99]\tvalid_0's auc: 0.976006\n",
            "Training until validation scores don't improve for 100 rounds\n",
            "Did not meet early stopping. Best iteration is:\n",
            "[75]\tvalid_0's auc: 0.98568\n",
            "Training until validation scores don't improve for 100 rounds\n",
            "Did not meet early stopping. Best iteration is:\n",
            "[48]\tvalid_0's auc: 0.974681\n",
            "Training until validation scores don't improve for 100 rounds\n",
            "Did not meet early stopping. Best iteration is:\n",
            "[97]\tvalid_0's auc: 0.963408\n",
            "Training until validation scores don't improve for 100 rounds\n"
          ]
        },
        {
          "name": "stderr",
          "output_type": "stream",
          "text": [
            "[I 2025-06-13 19:23:42,211] Trial 45 finished with value: 0.8960919389427581 and parameters: {'learning_rate': 0.19080915994972789, 'num_leaves': 81, 'max_depth': 10, 'feature_fraction': 0.7617866917805457, 'bagging_fraction': 0.7785720406079353, 'bagging_freq': 8, 'min_data_in_leaf': 42, 'lambda_l1': 4.687934635070539, 'lambda_l2': 0.061178924619320174}. Best is trial 24 with value: 0.8919640649463169.\n"
          ]
        },
        {
          "name": "stdout",
          "output_type": "stream",
          "text": [
            "Did not meet early stopping. Best iteration is:\n",
            "[98]\tvalid_0's auc: 0.980847\n",
            "Training until validation scores don't improve for 100 rounds\n",
            "Did not meet early stopping. Best iteration is:\n",
            "[76]\tvalid_0's auc: 0.973789\n",
            "Training until validation scores don't improve for 100 rounds\n",
            "Did not meet early stopping. Best iteration is:\n",
            "[85]\tvalid_0's auc: 0.985519\n",
            "Training until validation scores don't improve for 100 rounds\n",
            "Did not meet early stopping. Best iteration is:\n",
            "[99]\tvalid_0's auc: 0.975641\n",
            "Training until validation scores don't improve for 100 rounds\n",
            "Did not meet early stopping. Best iteration is:\n",
            "[32]\tvalid_0's auc: 0.96237\n",
            "Training until validation scores don't improve for 100 rounds\n"
          ]
        },
        {
          "name": "stderr",
          "output_type": "stream",
          "text": [
            "[I 2025-06-13 19:23:45,239] Trial 46 finished with value: 0.9043487651088766 and parameters: {'learning_rate': 0.18017159199145744, 'num_leaves': 67, 'max_depth': 11, 'feature_fraction': 0.8330007514987644, 'bagging_fraction': 0.8209771764017586, 'bagging_freq': 9, 'min_data_in_leaf': 51, 'lambda_l1': 4.350656983192313, 'lambda_l2': 3.823845567528893}. Best is trial 24 with value: 0.8919640649463169.\n"
          ]
        },
        {
          "name": "stdout",
          "output_type": "stream",
          "text": [
            "Did not meet early stopping. Best iteration is:\n",
            "[99]\tvalid_0's auc: 0.979406\n",
            "Training until validation scores don't improve for 100 rounds\n",
            "Did not meet early stopping. Best iteration is:\n",
            "[77]\tvalid_0's auc: 0.975983\n",
            "Training until validation scores don't improve for 100 rounds\n",
            "Did not meet early stopping. Best iteration is:\n",
            "[44]\tvalid_0's auc: 0.983313\n",
            "Training until validation scores don't improve for 100 rounds\n",
            "Did not meet early stopping. Best iteration is:\n",
            "[91]\tvalid_0's auc: 0.977113\n",
            "Training until validation scores don't improve for 100 rounds\n",
            "Did not meet early stopping. Best iteration is:\n",
            "[100]\tvalid_0's auc: 0.959671\n",
            "Training until validation scores don't improve for 100 rounds\n"
          ]
        },
        {
          "name": "stderr",
          "output_type": "stream",
          "text": [
            "[I 2025-06-13 19:23:47,826] Trial 47 finished with value: 0.9116594596657002 and parameters: {'learning_rate': 0.16607365173880181, 'num_leaves': 105, 'max_depth': 10, 'feature_fraction': 0.7917427153421309, 'bagging_fraction': 0.6898507929225056, 'bagging_freq': 5, 'min_data_in_leaf': 68, 'lambda_l1': 2.7656940442950795, 'lambda_l2': 4.6085329711922665}. Best is trial 24 with value: 0.8919640649463169.\n"
          ]
        },
        {
          "name": "stdout",
          "output_type": "stream",
          "text": [
            "Did not meet early stopping. Best iteration is:\n",
            "[90]\tvalid_0's auc: 0.987149\n",
            "Training until validation scores don't improve for 100 rounds\n",
            "Did not meet early stopping. Best iteration is:\n",
            "[88]\tvalid_0's auc: 0.971493\n",
            "Training until validation scores don't improve for 100 rounds\n",
            "Did not meet early stopping. Best iteration is:\n",
            "[57]\tvalid_0's auc: 0.986911\n",
            "Training until validation scores don't improve for 100 rounds\n",
            "Did not meet early stopping. Best iteration is:\n",
            "[72]\tvalid_0's auc: 0.970235\n",
            "Training until validation scores don't improve for 100 rounds\n",
            "Did not meet early stopping. Best iteration is:\n",
            "[100]\tvalid_0's auc: 0.966533\n",
            "Training until validation scores don't improve for 100 rounds\n"
          ]
        },
        {
          "name": "stderr",
          "output_type": "stream",
          "text": [
            "[I 2025-06-13 19:23:51,207] Trial 48 finished with value: 0.8945993187255006 and parameters: {'learning_rate': 0.190781091819576, 'num_leaves': 121, 'max_depth': 12, 'feature_fraction': 0.6914277822119077, 'bagging_fraction': 0.7351520744136989, 'bagging_freq': 6, 'min_data_in_leaf': 37, 'lambda_l1': 3.1339078501055098, 'lambda_l2': 4.224707314686816}. Best is trial 24 with value: 0.8919640649463169.\n"
          ]
        },
        {
          "name": "stdout",
          "output_type": "stream",
          "text": [
            "Did not meet early stopping. Best iteration is:\n",
            "[98]\tvalid_0's auc: 0.983834\n",
            "Training until validation scores don't improve for 100 rounds\n",
            "Did not meet early stopping. Best iteration is:\n",
            "[100]\tvalid_0's auc: 0.975788\n",
            "Training until validation scores don't improve for 100 rounds\n",
            "Did not meet early stopping. Best iteration is:\n",
            "[95]\tvalid_0's auc: 0.984118\n",
            "Training until validation scores don't improve for 100 rounds\n",
            "Did not meet early stopping. Best iteration is:\n",
            "[100]\tvalid_0's auc: 0.973503\n",
            "Training until validation scores don't improve for 100 rounds\n",
            "Did not meet early stopping. Best iteration is:\n",
            "[70]\tvalid_0's auc: 0.961466\n",
            "Training until validation scores don't improve for 100 rounds\n"
          ]
        },
        {
          "name": "stderr",
          "output_type": "stream",
          "text": [
            "[I 2025-06-13 19:23:54,486] Trial 49 finished with value: 0.8950566961011684 and parameters: {'learning_rate': 0.17358398275792264, 'num_leaves': 171, 'max_depth': 12, 'feature_fraction': 0.6951772738751604, 'bagging_fraction': 0.8623292810624325, 'bagging_freq': 6, 'min_data_in_leaf': 24, 'lambda_l1': 3.140901899219507, 'lambda_l2': 4.1692952863951245}. Best is trial 24 with value: 0.8919640649463169.\n"
          ]
        },
        {
          "name": "stdout",
          "output_type": "stream",
          "text": [
            "Did not meet early stopping. Best iteration is:\n",
            "[89]\tvalid_0's auc: 0.984883\n"
          ]
        }
      ],
      "source": [
        "study = optuna.create_study(direction=\"maximize\", study_name=\"LGBM Classifier\")\n",
        "func = lambda trial: objective(trial, X_train_res, y_train_res)\n",
        "study.optimize(func, n_trials=50)"
      ]
    },
    {
      "cell_type": "code",
      "execution_count": 72,
      "metadata": {
        "colab": {
          "base_uri": "https://localhost:8080/"
        },
        "id": "L6BOPkDB46Vk",
        "outputId": "05842adb-6336-4db9-c53d-8d3862ac95e4"
      },
      "outputs": [
        {
          "name": "stdout",
          "output_type": "stream",
          "text": [
            "\tBest value (auc): 0.89196\n",
            "\tBest params:\n",
            "\t\tlearning_rate: 0.19349739366176544\n",
            "\t\tnum_leaves: 62\n",
            "\t\tmax_depth: 11\n",
            "\t\tfeature_fraction: 0.7961256231877186\n",
            "\t\tbagging_fraction: 0.7129690764883406\n",
            "\t\tbagging_freq: 9\n",
            "\t\tmin_data_in_leaf: 25\n",
            "\t\tlambda_l1: 4.03526964074153\n",
            "\t\tlambda_l2: 4.399397958647765\n"
          ]
        }
      ],
      "source": [
        "print(f\"\\tBest value (auc): {study.best_value:.5f}\")\n",
        "print(f\"\\tBest params:\")\n",
        "\n",
        "for key, value in study.best_params.items():\n",
        "    print(f\"\\t\\t{key}: {value}\")\n"
      ]
    },
    {
      "cell_type": "code",
      "execution_count": 73,
      "metadata": {
        "colab": {
          "base_uri": "https://localhost:8080/",
          "height": 542
        },
        "id": "q-RnPB0N58Gr",
        "outputId": "439273a3-7fca-4566-c0b4-67f4e7ead9d4"
      },
      "outputs": [
        {
          "data": {
            "text/html": [
              "<html>\n",
              "<head><meta charset=\"utf-8\" /></head>\n",
              "<body>\n",
              "    <div>            <script src=\"https://cdnjs.cloudflare.com/ajax/libs/mathjax/2.7.5/MathJax.js?config=TeX-AMS-MML_SVG\"></script><script type=\"text/javascript\">if (window.MathJax && window.MathJax.Hub && window.MathJax.Hub.Config) {window.MathJax.Hub.Config({SVG: {font: \"STIX-Web\"}});}</script>                <script type=\"text/javascript\">window.PlotlyConfig = {MathJaxConfig: 'local'};</script>\n",
              "        <script charset=\"utf-8\" src=\"https://cdn.plot.ly/plotly-2.35.2.min.js\"></script>                <div id=\"7e74b7ce-cebe-4f25-a90c-76e3712ecb11\" class=\"plotly-graph-div\" style=\"height:525px; width:100%;\"></div>            <script type=\"text/javascript\">                                    window.PLOTLYENV=window.PLOTLYENV || {};                                    if (document.getElementById(\"7e74b7ce-cebe-4f25-a90c-76e3712ecb11\")) {                    Plotly.newPlot(                        \"7e74b7ce-cebe-4f25-a90c-76e3712ecb11\",                        [{\"mode\":\"markers\",\"name\":\"Objective Value\",\"x\":[0,1,2,3,4,5,6,7,8,9,10,11,12,13,14,15,16,17,18,19,20,21,22,23,24,25,26,27,28,29,30,31,32,33,34,35,36,37,38,39,40,41,42,43,44,45,46,47,48,49],\"y\":[0.8982278522508332,0.9133101913071856,0.9052727309858651,0.9079023404160751,0.9061461030971187,0.9004752963436051,0.9113190354786891,0.9164839342715239,0.9086923242495336,0.9164963797482336,0.9127921307326516,0.9133641932050123,0.9060124686156581,0.9116381983255952,0.9110925634863578,0.9224769269451768,0.9165250998434236,0.9107820931766376,0.9041002479558115,0.9011682557589552,0.915406597671956,0.9025573151987393,0.8999277995105028,0.8956228884989429,0.8919640649463169,0.9024533044597938,0.9011244869148334,0.91477186455846,0.9107291312103815,0.9095999057723112,0.9189280497973554,0.8939459736983408,0.9085765429760866,0.8958790655939517,0.9022985593702616,0.9109100551584236,0.898290147924075,0.905532489994,0.9098842491680991,0.9169516166587531,0.9066810073334247,0.8951187617481917,0.896381589216416,0.9016256280891406,0.8998881663739177,0.8960919389427581,0.9043487651088766,0.9116594596657002,0.8945993187255006,0.8950566961011684],\"type\":\"scatter\"},{\"mode\":\"lines\",\"name\":\"Best Value\",\"x\":[0,1,2,3,4,5,6,7,8,9,10,11,12,13,14,15,16,17,18,19,20,21,22,23,24,25,26,27,28,29,30,31,32,33,34,35,36,37,38,39,40,41,42,43,44,45,46,47,48,49],\"y\":[0.8982278522508332,0.8982278522508332,0.8982278522508332,0.8982278522508332,0.8982278522508332,0.8982278522508332,0.8982278522508332,0.8982278522508332,0.8982278522508332,0.8982278522508332,0.8982278522508332,0.8982278522508332,0.8982278522508332,0.8982278522508332,0.8982278522508332,0.8982278522508332,0.8982278522508332,0.8982278522508332,0.8982278522508332,0.8982278522508332,0.8982278522508332,0.8982278522508332,0.8982278522508332,0.8956228884989429,0.8919640649463169,0.8919640649463169,0.8919640649463169,0.8919640649463169,0.8919640649463169,0.8919640649463169,0.8919640649463169,0.8919640649463169,0.8919640649463169,0.8919640649463169,0.8919640649463169,0.8919640649463169,0.8919640649463169,0.8919640649463169,0.8919640649463169,0.8919640649463169,0.8919640649463169,0.8919640649463169,0.8919640649463169,0.8919640649463169,0.8919640649463169,0.8919640649463169,0.8919640649463169,0.8919640649463169,0.8919640649463169,0.8919640649463169],\"type\":\"scatter\"},{\"marker\":{\"color\":\"#cccccc\"},\"mode\":\"markers\",\"name\":\"Infeasible Trial\",\"showlegend\":false,\"x\":[],\"y\":[],\"type\":\"scatter\"}],                        {\"title\":{\"text\":\"Optimization History Plot\"},\"xaxis\":{\"title\":{\"text\":\"Trial\"}},\"yaxis\":{\"title\":{\"text\":\"Objective Value\"}},\"template\":{\"data\":{\"histogram2dcontour\":[{\"type\":\"histogram2dcontour\",\"colorbar\":{\"outlinewidth\":0,\"ticks\":\"\"},\"colorscale\":[[0.0,\"#0d0887\"],[0.1111111111111111,\"#46039f\"],[0.2222222222222222,\"#7201a8\"],[0.3333333333333333,\"#9c179e\"],[0.4444444444444444,\"#bd3786\"],[0.5555555555555556,\"#d8576b\"],[0.6666666666666666,\"#ed7953\"],[0.7777777777777778,\"#fb9f3a\"],[0.8888888888888888,\"#fdca26\"],[1.0,\"#f0f921\"]]}],\"choropleth\":[{\"type\":\"choropleth\",\"colorbar\":{\"outlinewidth\":0,\"ticks\":\"\"}}],\"histogram2d\":[{\"type\":\"histogram2d\",\"colorbar\":{\"outlinewidth\":0,\"ticks\":\"\"},\"colorscale\":[[0.0,\"#0d0887\"],[0.1111111111111111,\"#46039f\"],[0.2222222222222222,\"#7201a8\"],[0.3333333333333333,\"#9c179e\"],[0.4444444444444444,\"#bd3786\"],[0.5555555555555556,\"#d8576b\"],[0.6666666666666666,\"#ed7953\"],[0.7777777777777778,\"#fb9f3a\"],[0.8888888888888888,\"#fdca26\"],[1.0,\"#f0f921\"]]}],\"heatmap\":[{\"type\":\"heatmap\",\"colorbar\":{\"outlinewidth\":0,\"ticks\":\"\"},\"colorscale\":[[0.0,\"#0d0887\"],[0.1111111111111111,\"#46039f\"],[0.2222222222222222,\"#7201a8\"],[0.3333333333333333,\"#9c179e\"],[0.4444444444444444,\"#bd3786\"],[0.5555555555555556,\"#d8576b\"],[0.6666666666666666,\"#ed7953\"],[0.7777777777777778,\"#fb9f3a\"],[0.8888888888888888,\"#fdca26\"],[1.0,\"#f0f921\"]]}],\"heatmapgl\":[{\"type\":\"heatmapgl\",\"colorbar\":{\"outlinewidth\":0,\"ticks\":\"\"},\"colorscale\":[[0.0,\"#0d0887\"],[0.1111111111111111,\"#46039f\"],[0.2222222222222222,\"#7201a8\"],[0.3333333333333333,\"#9c179e\"],[0.4444444444444444,\"#bd3786\"],[0.5555555555555556,\"#d8576b\"],[0.6666666666666666,\"#ed7953\"],[0.7777777777777778,\"#fb9f3a\"],[0.8888888888888888,\"#fdca26\"],[1.0,\"#f0f921\"]]}],\"contourcarpet\":[{\"type\":\"contourcarpet\",\"colorbar\":{\"outlinewidth\":0,\"ticks\":\"\"}}],\"contour\":[{\"type\":\"contour\",\"colorbar\":{\"outlinewidth\":0,\"ticks\":\"\"},\"colorscale\":[[0.0,\"#0d0887\"],[0.1111111111111111,\"#46039f\"],[0.2222222222222222,\"#7201a8\"],[0.3333333333333333,\"#9c179e\"],[0.4444444444444444,\"#bd3786\"],[0.5555555555555556,\"#d8576b\"],[0.6666666666666666,\"#ed7953\"],[0.7777777777777778,\"#fb9f3a\"],[0.8888888888888888,\"#fdca26\"],[1.0,\"#f0f921\"]]}],\"surface\":[{\"type\":\"surface\",\"colorbar\":{\"outlinewidth\":0,\"ticks\":\"\"},\"colorscale\":[[0.0,\"#0d0887\"],[0.1111111111111111,\"#46039f\"],[0.2222222222222222,\"#7201a8\"],[0.3333333333333333,\"#9c179e\"],[0.4444444444444444,\"#bd3786\"],[0.5555555555555556,\"#d8576b\"],[0.6666666666666666,\"#ed7953\"],[0.7777777777777778,\"#fb9f3a\"],[0.8888888888888888,\"#fdca26\"],[1.0,\"#f0f921\"]]}],\"mesh3d\":[{\"type\":\"mesh3d\",\"colorbar\":{\"outlinewidth\":0,\"ticks\":\"\"}}],\"scatter\":[{\"fillpattern\":{\"fillmode\":\"overlay\",\"size\":10,\"solidity\":0.2},\"type\":\"scatter\"}],\"parcoords\":[{\"type\":\"parcoords\",\"line\":{\"colorbar\":{\"outlinewidth\":0,\"ticks\":\"\"}}}],\"scatterpolargl\":[{\"type\":\"scatterpolargl\",\"marker\":{\"colorbar\":{\"outlinewidth\":0,\"ticks\":\"\"}}}],\"bar\":[{\"error_x\":{\"color\":\"#2a3f5f\"},\"error_y\":{\"color\":\"#2a3f5f\"},\"marker\":{\"line\":{\"color\":\"#E5ECF6\",\"width\":0.5},\"pattern\":{\"fillmode\":\"overlay\",\"size\":10,\"solidity\":0.2}},\"type\":\"bar\"}],\"scattergeo\":[{\"type\":\"scattergeo\",\"marker\":{\"colorbar\":{\"outlinewidth\":0,\"ticks\":\"\"}}}],\"scatterpolar\":[{\"type\":\"scatterpolar\",\"marker\":{\"colorbar\":{\"outlinewidth\":0,\"ticks\":\"\"}}}],\"histogram\":[{\"marker\":{\"pattern\":{\"fillmode\":\"overlay\",\"size\":10,\"solidity\":0.2}},\"type\":\"histogram\"}],\"scattergl\":[{\"type\":\"scattergl\",\"marker\":{\"colorbar\":{\"outlinewidth\":0,\"ticks\":\"\"}}}],\"scatter3d\":[{\"type\":\"scatter3d\",\"line\":{\"colorbar\":{\"outlinewidth\":0,\"ticks\":\"\"}},\"marker\":{\"colorbar\":{\"outlinewidth\":0,\"ticks\":\"\"}}}],\"scattermapbox\":[{\"type\":\"scattermapbox\",\"marker\":{\"colorbar\":{\"outlinewidth\":0,\"ticks\":\"\"}}}],\"scatterternary\":[{\"type\":\"scatterternary\",\"marker\":{\"colorbar\":{\"outlinewidth\":0,\"ticks\":\"\"}}}],\"scattercarpet\":[{\"type\":\"scattercarpet\",\"marker\":{\"colorbar\":{\"outlinewidth\":0,\"ticks\":\"\"}}}],\"carpet\":[{\"aaxis\":{\"endlinecolor\":\"#2a3f5f\",\"gridcolor\":\"white\",\"linecolor\":\"white\",\"minorgridcolor\":\"white\",\"startlinecolor\":\"#2a3f5f\"},\"baxis\":{\"endlinecolor\":\"#2a3f5f\",\"gridcolor\":\"white\",\"linecolor\":\"white\",\"minorgridcolor\":\"white\",\"startlinecolor\":\"#2a3f5f\"},\"type\":\"carpet\"}],\"table\":[{\"cells\":{\"fill\":{\"color\":\"#EBF0F8\"},\"line\":{\"color\":\"white\"}},\"header\":{\"fill\":{\"color\":\"#C8D4E3\"},\"line\":{\"color\":\"white\"}},\"type\":\"table\"}],\"barpolar\":[{\"marker\":{\"line\":{\"color\":\"#E5ECF6\",\"width\":0.5},\"pattern\":{\"fillmode\":\"overlay\",\"size\":10,\"solidity\":0.2}},\"type\":\"barpolar\"}],\"pie\":[{\"automargin\":true,\"type\":\"pie\"}]},\"layout\":{\"autotypenumbers\":\"strict\",\"colorway\":[\"#636efa\",\"#EF553B\",\"#00cc96\",\"#ab63fa\",\"#FFA15A\",\"#19d3f3\",\"#FF6692\",\"#B6E880\",\"#FF97FF\",\"#FECB52\"],\"font\":{\"color\":\"#2a3f5f\"},\"hovermode\":\"closest\",\"hoverlabel\":{\"align\":\"left\"},\"paper_bgcolor\":\"white\",\"plot_bgcolor\":\"#E5ECF6\",\"polar\":{\"bgcolor\":\"#E5ECF6\",\"angularaxis\":{\"gridcolor\":\"white\",\"linecolor\":\"white\",\"ticks\":\"\"},\"radialaxis\":{\"gridcolor\":\"white\",\"linecolor\":\"white\",\"ticks\":\"\"}},\"ternary\":{\"bgcolor\":\"#E5ECF6\",\"aaxis\":{\"gridcolor\":\"white\",\"linecolor\":\"white\",\"ticks\":\"\"},\"baxis\":{\"gridcolor\":\"white\",\"linecolor\":\"white\",\"ticks\":\"\"},\"caxis\":{\"gridcolor\":\"white\",\"linecolor\":\"white\",\"ticks\":\"\"}},\"coloraxis\":{\"colorbar\":{\"outlinewidth\":0,\"ticks\":\"\"}},\"colorscale\":{\"sequential\":[[0.0,\"#0d0887\"],[0.1111111111111111,\"#46039f\"],[0.2222222222222222,\"#7201a8\"],[0.3333333333333333,\"#9c179e\"],[0.4444444444444444,\"#bd3786\"],[0.5555555555555556,\"#d8576b\"],[0.6666666666666666,\"#ed7953\"],[0.7777777777777778,\"#fb9f3a\"],[0.8888888888888888,\"#fdca26\"],[1.0,\"#f0f921\"]],\"sequentialminus\":[[0.0,\"#0d0887\"],[0.1111111111111111,\"#46039f\"],[0.2222222222222222,\"#7201a8\"],[0.3333333333333333,\"#9c179e\"],[0.4444444444444444,\"#bd3786\"],[0.5555555555555556,\"#d8576b\"],[0.6666666666666666,\"#ed7953\"],[0.7777777777777778,\"#fb9f3a\"],[0.8888888888888888,\"#fdca26\"],[1.0,\"#f0f921\"]],\"diverging\":[[0,\"#8e0152\"],[0.1,\"#c51b7d\"],[0.2,\"#de77ae\"],[0.3,\"#f1b6da\"],[0.4,\"#fde0ef\"],[0.5,\"#f7f7f7\"],[0.6,\"#e6f5d0\"],[0.7,\"#b8e186\"],[0.8,\"#7fbc41\"],[0.9,\"#4d9221\"],[1,\"#276419\"]]},\"xaxis\":{\"gridcolor\":\"white\",\"linecolor\":\"white\",\"ticks\":\"\",\"title\":{\"standoff\":15},\"zerolinecolor\":\"white\",\"automargin\":true,\"zerolinewidth\":2},\"yaxis\":{\"gridcolor\":\"white\",\"linecolor\":\"white\",\"ticks\":\"\",\"title\":{\"standoff\":15},\"zerolinecolor\":\"white\",\"automargin\":true,\"zerolinewidth\":2},\"scene\":{\"xaxis\":{\"backgroundcolor\":\"#E5ECF6\",\"gridcolor\":\"white\",\"linecolor\":\"white\",\"showbackground\":true,\"ticks\":\"\",\"zerolinecolor\":\"white\",\"gridwidth\":2},\"yaxis\":{\"backgroundcolor\":\"#E5ECF6\",\"gridcolor\":\"white\",\"linecolor\":\"white\",\"showbackground\":true,\"ticks\":\"\",\"zerolinecolor\":\"white\",\"gridwidth\":2},\"zaxis\":{\"backgroundcolor\":\"#E5ECF6\",\"gridcolor\":\"white\",\"linecolor\":\"white\",\"showbackground\":true,\"ticks\":\"\",\"zerolinecolor\":\"white\",\"gridwidth\":2}},\"shapedefaults\":{\"line\":{\"color\":\"#2a3f5f\"}},\"annotationdefaults\":{\"arrowcolor\":\"#2a3f5f\",\"arrowhead\":0,\"arrowwidth\":1},\"geo\":{\"bgcolor\":\"white\",\"landcolor\":\"#E5ECF6\",\"subunitcolor\":\"white\",\"showland\":true,\"showlakes\":true,\"lakecolor\":\"white\"},\"title\":{\"x\":0.05},\"mapbox\":{\"style\":\"light\"}}}},                        {\"responsive\": true}                    ).then(function(){\n",
              "                            \n",
              "var gd = document.getElementById('7e74b7ce-cebe-4f25-a90c-76e3712ecb11');\n",
              "var x = new MutationObserver(function (mutations, observer) {{\n",
              "        var display = window.getComputedStyle(gd).display;\n",
              "        if (!display || display === 'none') {{\n",
              "            console.log([gd, 'removed!']);\n",
              "            Plotly.purge(gd);\n",
              "            observer.disconnect();\n",
              "        }}\n",
              "}});\n",
              "\n",
              "// Listen for the removal of the full notebook cells\n",
              "var notebookContainer = gd.closest('#notebook-container');\n",
              "if (notebookContainer) {{\n",
              "    x.observe(notebookContainer, {childList: true});\n",
              "}}\n",
              "\n",
              "// Listen for the clearing of the current output cell\n",
              "var outputEl = gd.closest('.output');\n",
              "if (outputEl) {{\n",
              "    x.observe(outputEl, {childList: true});\n",
              "}}\n",
              "\n",
              "                        })                };                            </script>        </div>\n",
              "</body>\n",
              "</html>"
            ]
          },
          "metadata": {},
          "output_type": "display_data"
        }
      ],
      "source": [
        "optuna.visualization.plot_optimization_history(study)"
      ]
    },
    {
      "cell_type": "code",
      "execution_count": 74,
      "metadata": {
        "colab": {
          "base_uri": "https://localhost:8080/",
          "height": 542
        },
        "id": "0paXbHQN6J0S",
        "outputId": "1cd8e5ea-6f3f-4001-95b1-314ef9e581a9"
      },
      "outputs": [
        {
          "data": {
            "text/html": [
              "<html>\n",
              "<head><meta charset=\"utf-8\" /></head>\n",
              "<body>\n",
              "    <div>            <script src=\"https://cdnjs.cloudflare.com/ajax/libs/mathjax/2.7.5/MathJax.js?config=TeX-AMS-MML_SVG\"></script><script type=\"text/javascript\">if (window.MathJax && window.MathJax.Hub && window.MathJax.Hub.Config) {window.MathJax.Hub.Config({SVG: {font: \"STIX-Web\"}});}</script>                <script type=\"text/javascript\">window.PlotlyConfig = {MathJaxConfig: 'local'};</script>\n",
              "        <script charset=\"utf-8\" src=\"https://cdn.plot.ly/plotly-2.35.2.min.js\"></script>                <div id=\"c19b3ee0-8176-4530-8c4f-42cc94b2ec4d\" class=\"plotly-graph-div\" style=\"height:525px; width:100%;\"></div>            <script type=\"text/javascript\">                                    window.PLOTLYENV=window.PLOTLYENV || {};                                    if (document.getElementById(\"c19b3ee0-8176-4530-8c4f-42cc94b2ec4d\")) {                    Plotly.newPlot(                        \"c19b3ee0-8176-4530-8c4f-42cc94b2ec4d\",                        [{\"cliponaxis\":false,\"hovertemplate\":[\"num_leaves (IntDistribution): 0.02205930362907925\\u003cextra\\u003e\\u003c\\u002fextra\\u003e\",\"bagging_freq (IntDistribution): 0.028335258371661048\\u003cextra\\u003e\\u003c\\u002fextra\\u003e\",\"lambda_l1 (FloatDistribution): 0.0283564586787725\\u003cextra\\u003e\\u003c\\u002fextra\\u003e\",\"lambda_l2 (FloatDistribution): 0.03070513309852807\\u003cextra\\u003e\\u003c\\u002fextra\\u003e\",\"bagging_fraction (FloatDistribution): 0.03218575260581302\\u003cextra\\u003e\\u003c\\u002fextra\\u003e\",\"feature_fraction (FloatDistribution): 0.0403236899831818\\u003cextra\\u003e\\u003c\\u002fextra\\u003e\",\"max_depth (IntDistribution): 0.051292266716430286\\u003cextra\\u003e\\u003c\\u002fextra\\u003e\",\"learning_rate (FloatDistribution): 0.13337400730844848\\u003cextra\\u003e\\u003c\\u002fextra\\u003e\",\"min_data_in_leaf (IntDistribution): 0.6333681296080856\\u003cextra\\u003e\\u003c\\u002fextra\\u003e\"],\"name\":\"Objective Value\",\"orientation\":\"h\",\"text\":[\"0.02\",\"0.03\",\"0.03\",\"0.03\",\"0.03\",\"0.04\",\"0.05\",\"0.13\",\"0.63\"],\"textposition\":\"outside\",\"x\":[0.02205930362907925,0.028335258371661048,0.0283564586787725,0.03070513309852807,0.03218575260581302,0.0403236899831818,0.051292266716430286,0.13337400730844848,0.6333681296080856],\"y\":[\"num_leaves\",\"bagging_freq\",\"lambda_l1\",\"lambda_l2\",\"bagging_fraction\",\"feature_fraction\",\"max_depth\",\"learning_rate\",\"min_data_in_leaf\"],\"type\":\"bar\"}],                        {\"title\":{\"text\":\"Hyperparameter Importances\"},\"xaxis\":{\"title\":{\"text\":\"Hyperparameter Importance\"}},\"yaxis\":{\"title\":{\"text\":\"Hyperparameter\"}},\"template\":{\"data\":{\"histogram2dcontour\":[{\"type\":\"histogram2dcontour\",\"colorbar\":{\"outlinewidth\":0,\"ticks\":\"\"},\"colorscale\":[[0.0,\"#0d0887\"],[0.1111111111111111,\"#46039f\"],[0.2222222222222222,\"#7201a8\"],[0.3333333333333333,\"#9c179e\"],[0.4444444444444444,\"#bd3786\"],[0.5555555555555556,\"#d8576b\"],[0.6666666666666666,\"#ed7953\"],[0.7777777777777778,\"#fb9f3a\"],[0.8888888888888888,\"#fdca26\"],[1.0,\"#f0f921\"]]}],\"choropleth\":[{\"type\":\"choropleth\",\"colorbar\":{\"outlinewidth\":0,\"ticks\":\"\"}}],\"histogram2d\":[{\"type\":\"histogram2d\",\"colorbar\":{\"outlinewidth\":0,\"ticks\":\"\"},\"colorscale\":[[0.0,\"#0d0887\"],[0.1111111111111111,\"#46039f\"],[0.2222222222222222,\"#7201a8\"],[0.3333333333333333,\"#9c179e\"],[0.4444444444444444,\"#bd3786\"],[0.5555555555555556,\"#d8576b\"],[0.6666666666666666,\"#ed7953\"],[0.7777777777777778,\"#fb9f3a\"],[0.8888888888888888,\"#fdca26\"],[1.0,\"#f0f921\"]]}],\"heatmap\":[{\"type\":\"heatmap\",\"colorbar\":{\"outlinewidth\":0,\"ticks\":\"\"},\"colorscale\":[[0.0,\"#0d0887\"],[0.1111111111111111,\"#46039f\"],[0.2222222222222222,\"#7201a8\"],[0.3333333333333333,\"#9c179e\"],[0.4444444444444444,\"#bd3786\"],[0.5555555555555556,\"#d8576b\"],[0.6666666666666666,\"#ed7953\"],[0.7777777777777778,\"#fb9f3a\"],[0.8888888888888888,\"#fdca26\"],[1.0,\"#f0f921\"]]}],\"heatmapgl\":[{\"type\":\"heatmapgl\",\"colorbar\":{\"outlinewidth\":0,\"ticks\":\"\"},\"colorscale\":[[0.0,\"#0d0887\"],[0.1111111111111111,\"#46039f\"],[0.2222222222222222,\"#7201a8\"],[0.3333333333333333,\"#9c179e\"],[0.4444444444444444,\"#bd3786\"],[0.5555555555555556,\"#d8576b\"],[0.6666666666666666,\"#ed7953\"],[0.7777777777777778,\"#fb9f3a\"],[0.8888888888888888,\"#fdca26\"],[1.0,\"#f0f921\"]]}],\"contourcarpet\":[{\"type\":\"contourcarpet\",\"colorbar\":{\"outlinewidth\":0,\"ticks\":\"\"}}],\"contour\":[{\"type\":\"contour\",\"colorbar\":{\"outlinewidth\":0,\"ticks\":\"\"},\"colorscale\":[[0.0,\"#0d0887\"],[0.1111111111111111,\"#46039f\"],[0.2222222222222222,\"#7201a8\"],[0.3333333333333333,\"#9c179e\"],[0.4444444444444444,\"#bd3786\"],[0.5555555555555556,\"#d8576b\"],[0.6666666666666666,\"#ed7953\"],[0.7777777777777778,\"#fb9f3a\"],[0.8888888888888888,\"#fdca26\"],[1.0,\"#f0f921\"]]}],\"surface\":[{\"type\":\"surface\",\"colorbar\":{\"outlinewidth\":0,\"ticks\":\"\"},\"colorscale\":[[0.0,\"#0d0887\"],[0.1111111111111111,\"#46039f\"],[0.2222222222222222,\"#7201a8\"],[0.3333333333333333,\"#9c179e\"],[0.4444444444444444,\"#bd3786\"],[0.5555555555555556,\"#d8576b\"],[0.6666666666666666,\"#ed7953\"],[0.7777777777777778,\"#fb9f3a\"],[0.8888888888888888,\"#fdca26\"],[1.0,\"#f0f921\"]]}],\"mesh3d\":[{\"type\":\"mesh3d\",\"colorbar\":{\"outlinewidth\":0,\"ticks\":\"\"}}],\"scatter\":[{\"fillpattern\":{\"fillmode\":\"overlay\",\"size\":10,\"solidity\":0.2},\"type\":\"scatter\"}],\"parcoords\":[{\"type\":\"parcoords\",\"line\":{\"colorbar\":{\"outlinewidth\":0,\"ticks\":\"\"}}}],\"scatterpolargl\":[{\"type\":\"scatterpolargl\",\"marker\":{\"colorbar\":{\"outlinewidth\":0,\"ticks\":\"\"}}}],\"bar\":[{\"error_x\":{\"color\":\"#2a3f5f\"},\"error_y\":{\"color\":\"#2a3f5f\"},\"marker\":{\"line\":{\"color\":\"#E5ECF6\",\"width\":0.5},\"pattern\":{\"fillmode\":\"overlay\",\"size\":10,\"solidity\":0.2}},\"type\":\"bar\"}],\"scattergeo\":[{\"type\":\"scattergeo\",\"marker\":{\"colorbar\":{\"outlinewidth\":0,\"ticks\":\"\"}}}],\"scatterpolar\":[{\"type\":\"scatterpolar\",\"marker\":{\"colorbar\":{\"outlinewidth\":0,\"ticks\":\"\"}}}],\"histogram\":[{\"marker\":{\"pattern\":{\"fillmode\":\"overlay\",\"size\":10,\"solidity\":0.2}},\"type\":\"histogram\"}],\"scattergl\":[{\"type\":\"scattergl\",\"marker\":{\"colorbar\":{\"outlinewidth\":0,\"ticks\":\"\"}}}],\"scatter3d\":[{\"type\":\"scatter3d\",\"line\":{\"colorbar\":{\"outlinewidth\":0,\"ticks\":\"\"}},\"marker\":{\"colorbar\":{\"outlinewidth\":0,\"ticks\":\"\"}}}],\"scattermapbox\":[{\"type\":\"scattermapbox\",\"marker\":{\"colorbar\":{\"outlinewidth\":0,\"ticks\":\"\"}}}],\"scatterternary\":[{\"type\":\"scatterternary\",\"marker\":{\"colorbar\":{\"outlinewidth\":0,\"ticks\":\"\"}}}],\"scattercarpet\":[{\"type\":\"scattercarpet\",\"marker\":{\"colorbar\":{\"outlinewidth\":0,\"ticks\":\"\"}}}],\"carpet\":[{\"aaxis\":{\"endlinecolor\":\"#2a3f5f\",\"gridcolor\":\"white\",\"linecolor\":\"white\",\"minorgridcolor\":\"white\",\"startlinecolor\":\"#2a3f5f\"},\"baxis\":{\"endlinecolor\":\"#2a3f5f\",\"gridcolor\":\"white\",\"linecolor\":\"white\",\"minorgridcolor\":\"white\",\"startlinecolor\":\"#2a3f5f\"},\"type\":\"carpet\"}],\"table\":[{\"cells\":{\"fill\":{\"color\":\"#EBF0F8\"},\"line\":{\"color\":\"white\"}},\"header\":{\"fill\":{\"color\":\"#C8D4E3\"},\"line\":{\"color\":\"white\"}},\"type\":\"table\"}],\"barpolar\":[{\"marker\":{\"line\":{\"color\":\"#E5ECF6\",\"width\":0.5},\"pattern\":{\"fillmode\":\"overlay\",\"size\":10,\"solidity\":0.2}},\"type\":\"barpolar\"}],\"pie\":[{\"automargin\":true,\"type\":\"pie\"}]},\"layout\":{\"autotypenumbers\":\"strict\",\"colorway\":[\"#636efa\",\"#EF553B\",\"#00cc96\",\"#ab63fa\",\"#FFA15A\",\"#19d3f3\",\"#FF6692\",\"#B6E880\",\"#FF97FF\",\"#FECB52\"],\"font\":{\"color\":\"#2a3f5f\"},\"hovermode\":\"closest\",\"hoverlabel\":{\"align\":\"left\"},\"paper_bgcolor\":\"white\",\"plot_bgcolor\":\"#E5ECF6\",\"polar\":{\"bgcolor\":\"#E5ECF6\",\"angularaxis\":{\"gridcolor\":\"white\",\"linecolor\":\"white\",\"ticks\":\"\"},\"radialaxis\":{\"gridcolor\":\"white\",\"linecolor\":\"white\",\"ticks\":\"\"}},\"ternary\":{\"bgcolor\":\"#E5ECF6\",\"aaxis\":{\"gridcolor\":\"white\",\"linecolor\":\"white\",\"ticks\":\"\"},\"baxis\":{\"gridcolor\":\"white\",\"linecolor\":\"white\",\"ticks\":\"\"},\"caxis\":{\"gridcolor\":\"white\",\"linecolor\":\"white\",\"ticks\":\"\"}},\"coloraxis\":{\"colorbar\":{\"outlinewidth\":0,\"ticks\":\"\"}},\"colorscale\":{\"sequential\":[[0.0,\"#0d0887\"],[0.1111111111111111,\"#46039f\"],[0.2222222222222222,\"#7201a8\"],[0.3333333333333333,\"#9c179e\"],[0.4444444444444444,\"#bd3786\"],[0.5555555555555556,\"#d8576b\"],[0.6666666666666666,\"#ed7953\"],[0.7777777777777778,\"#fb9f3a\"],[0.8888888888888888,\"#fdca26\"],[1.0,\"#f0f921\"]],\"sequentialminus\":[[0.0,\"#0d0887\"],[0.1111111111111111,\"#46039f\"],[0.2222222222222222,\"#7201a8\"],[0.3333333333333333,\"#9c179e\"],[0.4444444444444444,\"#bd3786\"],[0.5555555555555556,\"#d8576b\"],[0.6666666666666666,\"#ed7953\"],[0.7777777777777778,\"#fb9f3a\"],[0.8888888888888888,\"#fdca26\"],[1.0,\"#f0f921\"]],\"diverging\":[[0,\"#8e0152\"],[0.1,\"#c51b7d\"],[0.2,\"#de77ae\"],[0.3,\"#f1b6da\"],[0.4,\"#fde0ef\"],[0.5,\"#f7f7f7\"],[0.6,\"#e6f5d0\"],[0.7,\"#b8e186\"],[0.8,\"#7fbc41\"],[0.9,\"#4d9221\"],[1,\"#276419\"]]},\"xaxis\":{\"gridcolor\":\"white\",\"linecolor\":\"white\",\"ticks\":\"\",\"title\":{\"standoff\":15},\"zerolinecolor\":\"white\",\"automargin\":true,\"zerolinewidth\":2},\"yaxis\":{\"gridcolor\":\"white\",\"linecolor\":\"white\",\"ticks\":\"\",\"title\":{\"standoff\":15},\"zerolinecolor\":\"white\",\"automargin\":true,\"zerolinewidth\":2},\"scene\":{\"xaxis\":{\"backgroundcolor\":\"#E5ECF6\",\"gridcolor\":\"white\",\"linecolor\":\"white\",\"showbackground\":true,\"ticks\":\"\",\"zerolinecolor\":\"white\",\"gridwidth\":2},\"yaxis\":{\"backgroundcolor\":\"#E5ECF6\",\"gridcolor\":\"white\",\"linecolor\":\"white\",\"showbackground\":true,\"ticks\":\"\",\"zerolinecolor\":\"white\",\"gridwidth\":2},\"zaxis\":{\"backgroundcolor\":\"#E5ECF6\",\"gridcolor\":\"white\",\"linecolor\":\"white\",\"showbackground\":true,\"ticks\":\"\",\"zerolinecolor\":\"white\",\"gridwidth\":2}},\"shapedefaults\":{\"line\":{\"color\":\"#2a3f5f\"}},\"annotationdefaults\":{\"arrowcolor\":\"#2a3f5f\",\"arrowhead\":0,\"arrowwidth\":1},\"geo\":{\"bgcolor\":\"white\",\"landcolor\":\"#E5ECF6\",\"subunitcolor\":\"white\",\"showland\":true,\"showlakes\":true,\"lakecolor\":\"white\"},\"title\":{\"x\":0.05},\"mapbox\":{\"style\":\"light\"}}}},                        {\"responsive\": true}                    ).then(function(){\n",
              "                            \n",
              "var gd = document.getElementById('c19b3ee0-8176-4530-8c4f-42cc94b2ec4d');\n",
              "var x = new MutationObserver(function (mutations, observer) {{\n",
              "        var display = window.getComputedStyle(gd).display;\n",
              "        if (!display || display === 'none') {{\n",
              "            console.log([gd, 'removed!']);\n",
              "            Plotly.purge(gd);\n",
              "            observer.disconnect();\n",
              "        }}\n",
              "}});\n",
              "\n",
              "// Listen for the removal of the full notebook cells\n",
              "var notebookContainer = gd.closest('#notebook-container');\n",
              "if (notebookContainer) {{\n",
              "    x.observe(notebookContainer, {childList: true});\n",
              "}}\n",
              "\n",
              "// Listen for the clearing of the current output cell\n",
              "var outputEl = gd.closest('.output');\n",
              "if (outputEl) {{\n",
              "    x.observe(outputEl, {childList: true});\n",
              "}}\n",
              "\n",
              "                        })                };                            </script>        </div>\n",
              "</body>\n",
              "</html>"
            ]
          },
          "metadata": {},
          "output_type": "display_data"
        }
      ],
      "source": [
        "optuna.visualization.plot_param_importances(study)"
      ]
    },
    {
      "cell_type": "code",
      "execution_count": 75,
      "metadata": {
        "id": "nopS8JQL633i"
      },
      "outputs": [],
      "source": [
        "best_params = study.best_params"
      ]
    },
    {
      "cell_type": "code",
      "execution_count": 76,
      "metadata": {
        "colab": {
          "base_uri": "https://localhost:8080/",
          "height": 219
        },
        "id": "JZBCY_qR7OgR",
        "outputId": "d3461f22-0ce5-499a-c816-ccd1f8e9607a"
      },
      "outputs": [
        {
          "name": "stdout",
          "output_type": "stream",
          "text": [
            "Training until validation scores don't improve for 50 rounds\n",
            "[50]\tvalid_0's auc: 0.957686\tvalid_0's binary_logloss: 0.046021\n",
            "Early stopping, best iteration is:\n",
            "[28]\tvalid_0's auc: 0.961572\tvalid_0's binary_logloss: 0.048128\n"
          ]
        },
        {
          "data": {
            "text/html": [
              "<style>#sk-container-id-1 {\n",
              "  /* Definition of color scheme common for light and dark mode */\n",
              "  --sklearn-color-text: #000;\n",
              "  --sklearn-color-text-muted: #666;\n",
              "  --sklearn-color-line: gray;\n",
              "  /* Definition of color scheme for unfitted estimators */\n",
              "  --sklearn-color-unfitted-level-0: #fff5e6;\n",
              "  --sklearn-color-unfitted-level-1: #f6e4d2;\n",
              "  --sklearn-color-unfitted-level-2: #ffe0b3;\n",
              "  --sklearn-color-unfitted-level-3: chocolate;\n",
              "  /* Definition of color scheme for fitted estimators */\n",
              "  --sklearn-color-fitted-level-0: #f0f8ff;\n",
              "  --sklearn-color-fitted-level-1: #d4ebff;\n",
              "  --sklearn-color-fitted-level-2: #b3dbfd;\n",
              "  --sklearn-color-fitted-level-3: cornflowerblue;\n",
              "\n",
              "  /* Specific color for light theme */\n",
              "  --sklearn-color-text-on-default-background: var(--sg-text-color, var(--theme-code-foreground, var(--jp-content-font-color1, black)));\n",
              "  --sklearn-color-background: var(--sg-background-color, var(--theme-background, var(--jp-layout-color0, white)));\n",
              "  --sklearn-color-border-box: var(--sg-text-color, var(--theme-code-foreground, var(--jp-content-font-color1, black)));\n",
              "  --sklearn-color-icon: #696969;\n",
              "\n",
              "  @media (prefers-color-scheme: dark) {\n",
              "    /* Redefinition of color scheme for dark theme */\n",
              "    --sklearn-color-text-on-default-background: var(--sg-text-color, var(--theme-code-foreground, var(--jp-content-font-color1, white)));\n",
              "    --sklearn-color-background: var(--sg-background-color, var(--theme-background, var(--jp-layout-color0, #111)));\n",
              "    --sklearn-color-border-box: var(--sg-text-color, var(--theme-code-foreground, var(--jp-content-font-color1, white)));\n",
              "    --sklearn-color-icon: #878787;\n",
              "  }\n",
              "}\n",
              "\n",
              "#sk-container-id-1 {\n",
              "  color: var(--sklearn-color-text);\n",
              "}\n",
              "\n",
              "#sk-container-id-1 pre {\n",
              "  padding: 0;\n",
              "}\n",
              "\n",
              "#sk-container-id-1 input.sk-hidden--visually {\n",
              "  border: 0;\n",
              "  clip: rect(1px 1px 1px 1px);\n",
              "  clip: rect(1px, 1px, 1px, 1px);\n",
              "  height: 1px;\n",
              "  margin: -1px;\n",
              "  overflow: hidden;\n",
              "  padding: 0;\n",
              "  position: absolute;\n",
              "  width: 1px;\n",
              "}\n",
              "\n",
              "#sk-container-id-1 div.sk-dashed-wrapped {\n",
              "  border: 1px dashed var(--sklearn-color-line);\n",
              "  margin: 0 0.4em 0.5em 0.4em;\n",
              "  box-sizing: border-box;\n",
              "  padding-bottom: 0.4em;\n",
              "  background-color: var(--sklearn-color-background);\n",
              "}\n",
              "\n",
              "#sk-container-id-1 div.sk-container {\n",
              "  /* jupyter's `normalize.less` sets `[hidden] { display: none; }`\n",
              "     but bootstrap.min.css set `[hidden] { display: none !important; }`\n",
              "     so we also need the `!important` here to be able to override the\n",
              "     default hidden behavior on the sphinx rendered scikit-learn.org.\n",
              "     See: https://github.com/scikit-learn/scikit-learn/issues/21755 */\n",
              "  display: inline-block !important;\n",
              "  position: relative;\n",
              "}\n",
              "\n",
              "#sk-container-id-1 div.sk-text-repr-fallback {\n",
              "  display: none;\n",
              "}\n",
              "\n",
              "div.sk-parallel-item,\n",
              "div.sk-serial,\n",
              "div.sk-item {\n",
              "  /* draw centered vertical line to link estimators */\n",
              "  background-image: linear-gradient(var(--sklearn-color-text-on-default-background), var(--sklearn-color-text-on-default-background));\n",
              "  background-size: 2px 100%;\n",
              "  background-repeat: no-repeat;\n",
              "  background-position: center center;\n",
              "}\n",
              "\n",
              "/* Parallel-specific style estimator block */\n",
              "\n",
              "#sk-container-id-1 div.sk-parallel-item::after {\n",
              "  content: \"\";\n",
              "  width: 100%;\n",
              "  border-bottom: 2px solid var(--sklearn-color-text-on-default-background);\n",
              "  flex-grow: 1;\n",
              "}\n",
              "\n",
              "#sk-container-id-1 div.sk-parallel {\n",
              "  display: flex;\n",
              "  align-items: stretch;\n",
              "  justify-content: center;\n",
              "  background-color: var(--sklearn-color-background);\n",
              "  position: relative;\n",
              "}\n",
              "\n",
              "#sk-container-id-1 div.sk-parallel-item {\n",
              "  display: flex;\n",
              "  flex-direction: column;\n",
              "}\n",
              "\n",
              "#sk-container-id-1 div.sk-parallel-item:first-child::after {\n",
              "  align-self: flex-end;\n",
              "  width: 50%;\n",
              "}\n",
              "\n",
              "#sk-container-id-1 div.sk-parallel-item:last-child::after {\n",
              "  align-self: flex-start;\n",
              "  width: 50%;\n",
              "}\n",
              "\n",
              "#sk-container-id-1 div.sk-parallel-item:only-child::after {\n",
              "  width: 0;\n",
              "}\n",
              "\n",
              "/* Serial-specific style estimator block */\n",
              "\n",
              "#sk-container-id-1 div.sk-serial {\n",
              "  display: flex;\n",
              "  flex-direction: column;\n",
              "  align-items: center;\n",
              "  background-color: var(--sklearn-color-background);\n",
              "  padding-right: 1em;\n",
              "  padding-left: 1em;\n",
              "}\n",
              "\n",
              "\n",
              "/* Toggleable style: style used for estimator/Pipeline/ColumnTransformer box that is\n",
              "clickable and can be expanded/collapsed.\n",
              "- Pipeline and ColumnTransformer use this feature and define the default style\n",
              "- Estimators will overwrite some part of the style using the `sk-estimator` class\n",
              "*/\n",
              "\n",
              "/* Pipeline and ColumnTransformer style (default) */\n",
              "\n",
              "#sk-container-id-1 div.sk-toggleable {\n",
              "  /* Default theme specific background. It is overwritten whether we have a\n",
              "  specific estimator or a Pipeline/ColumnTransformer */\n",
              "  background-color: var(--sklearn-color-background);\n",
              "}\n",
              "\n",
              "/* Toggleable label */\n",
              "#sk-container-id-1 label.sk-toggleable__label {\n",
              "  cursor: pointer;\n",
              "  display: flex;\n",
              "  width: 100%;\n",
              "  margin-bottom: 0;\n",
              "  padding: 0.5em;\n",
              "  box-sizing: border-box;\n",
              "  text-align: center;\n",
              "  align-items: start;\n",
              "  justify-content: space-between;\n",
              "  gap: 0.5em;\n",
              "}\n",
              "\n",
              "#sk-container-id-1 label.sk-toggleable__label .caption {\n",
              "  font-size: 0.6rem;\n",
              "  font-weight: lighter;\n",
              "  color: var(--sklearn-color-text-muted);\n",
              "}\n",
              "\n",
              "#sk-container-id-1 label.sk-toggleable__label-arrow:before {\n",
              "  /* Arrow on the left of the label */\n",
              "  content: \"▸\";\n",
              "  float: left;\n",
              "  margin-right: 0.25em;\n",
              "  color: var(--sklearn-color-icon);\n",
              "}\n",
              "\n",
              "#sk-container-id-1 label.sk-toggleable__label-arrow:hover:before {\n",
              "  color: var(--sklearn-color-text);\n",
              "}\n",
              "\n",
              "/* Toggleable content - dropdown */\n",
              "\n",
              "#sk-container-id-1 div.sk-toggleable__content {\n",
              "  max-height: 0;\n",
              "  max-width: 0;\n",
              "  overflow: hidden;\n",
              "  text-align: left;\n",
              "  /* unfitted */\n",
              "  background-color: var(--sklearn-color-unfitted-level-0);\n",
              "}\n",
              "\n",
              "#sk-container-id-1 div.sk-toggleable__content.fitted {\n",
              "  /* fitted */\n",
              "  background-color: var(--sklearn-color-fitted-level-0);\n",
              "}\n",
              "\n",
              "#sk-container-id-1 div.sk-toggleable__content pre {\n",
              "  margin: 0.2em;\n",
              "  border-radius: 0.25em;\n",
              "  color: var(--sklearn-color-text);\n",
              "  /* unfitted */\n",
              "  background-color: var(--sklearn-color-unfitted-level-0);\n",
              "}\n",
              "\n",
              "#sk-container-id-1 div.sk-toggleable__content.fitted pre {\n",
              "  /* unfitted */\n",
              "  background-color: var(--sklearn-color-fitted-level-0);\n",
              "}\n",
              "\n",
              "#sk-container-id-1 input.sk-toggleable__control:checked~div.sk-toggleable__content {\n",
              "  /* Expand drop-down */\n",
              "  max-height: 200px;\n",
              "  max-width: 100%;\n",
              "  overflow: auto;\n",
              "}\n",
              "\n",
              "#sk-container-id-1 input.sk-toggleable__control:checked~label.sk-toggleable__label-arrow:before {\n",
              "  content: \"▾\";\n",
              "}\n",
              "\n",
              "/* Pipeline/ColumnTransformer-specific style */\n",
              "\n",
              "#sk-container-id-1 div.sk-label input.sk-toggleable__control:checked~label.sk-toggleable__label {\n",
              "  color: var(--sklearn-color-text);\n",
              "  background-color: var(--sklearn-color-unfitted-level-2);\n",
              "}\n",
              "\n",
              "#sk-container-id-1 div.sk-label.fitted input.sk-toggleable__control:checked~label.sk-toggleable__label {\n",
              "  background-color: var(--sklearn-color-fitted-level-2);\n",
              "}\n",
              "\n",
              "/* Estimator-specific style */\n",
              "\n",
              "/* Colorize estimator box */\n",
              "#sk-container-id-1 div.sk-estimator input.sk-toggleable__control:checked~label.sk-toggleable__label {\n",
              "  /* unfitted */\n",
              "  background-color: var(--sklearn-color-unfitted-level-2);\n",
              "}\n",
              "\n",
              "#sk-container-id-1 div.sk-estimator.fitted input.sk-toggleable__control:checked~label.sk-toggleable__label {\n",
              "  /* fitted */\n",
              "  background-color: var(--sklearn-color-fitted-level-2);\n",
              "}\n",
              "\n",
              "#sk-container-id-1 div.sk-label label.sk-toggleable__label,\n",
              "#sk-container-id-1 div.sk-label label {\n",
              "  /* The background is the default theme color */\n",
              "  color: var(--sklearn-color-text-on-default-background);\n",
              "}\n",
              "\n",
              "/* On hover, darken the color of the background */\n",
              "#sk-container-id-1 div.sk-label:hover label.sk-toggleable__label {\n",
              "  color: var(--sklearn-color-text);\n",
              "  background-color: var(--sklearn-color-unfitted-level-2);\n",
              "}\n",
              "\n",
              "/* Label box, darken color on hover, fitted */\n",
              "#sk-container-id-1 div.sk-label.fitted:hover label.sk-toggleable__label.fitted {\n",
              "  color: var(--sklearn-color-text);\n",
              "  background-color: var(--sklearn-color-fitted-level-2);\n",
              "}\n",
              "\n",
              "/* Estimator label */\n",
              "\n",
              "#sk-container-id-1 div.sk-label label {\n",
              "  font-family: monospace;\n",
              "  font-weight: bold;\n",
              "  display: inline-block;\n",
              "  line-height: 1.2em;\n",
              "}\n",
              "\n",
              "#sk-container-id-1 div.sk-label-container {\n",
              "  text-align: center;\n",
              "}\n",
              "\n",
              "/* Estimator-specific */\n",
              "#sk-container-id-1 div.sk-estimator {\n",
              "  font-family: monospace;\n",
              "  border: 1px dotted var(--sklearn-color-border-box);\n",
              "  border-radius: 0.25em;\n",
              "  box-sizing: border-box;\n",
              "  margin-bottom: 0.5em;\n",
              "  /* unfitted */\n",
              "  background-color: var(--sklearn-color-unfitted-level-0);\n",
              "}\n",
              "\n",
              "#sk-container-id-1 div.sk-estimator.fitted {\n",
              "  /* fitted */\n",
              "  background-color: var(--sklearn-color-fitted-level-0);\n",
              "}\n",
              "\n",
              "/* on hover */\n",
              "#sk-container-id-1 div.sk-estimator:hover {\n",
              "  /* unfitted */\n",
              "  background-color: var(--sklearn-color-unfitted-level-2);\n",
              "}\n",
              "\n",
              "#sk-container-id-1 div.sk-estimator.fitted:hover {\n",
              "  /* fitted */\n",
              "  background-color: var(--sklearn-color-fitted-level-2);\n",
              "}\n",
              "\n",
              "/* Specification for estimator info (e.g. \"i\" and \"?\") */\n",
              "\n",
              "/* Common style for \"i\" and \"?\" */\n",
              "\n",
              ".sk-estimator-doc-link,\n",
              "a:link.sk-estimator-doc-link,\n",
              "a:visited.sk-estimator-doc-link {\n",
              "  float: right;\n",
              "  font-size: smaller;\n",
              "  line-height: 1em;\n",
              "  font-family: monospace;\n",
              "  background-color: var(--sklearn-color-background);\n",
              "  border-radius: 1em;\n",
              "  height: 1em;\n",
              "  width: 1em;\n",
              "  text-decoration: none !important;\n",
              "  margin-left: 0.5em;\n",
              "  text-align: center;\n",
              "  /* unfitted */\n",
              "  border: var(--sklearn-color-unfitted-level-1) 1pt solid;\n",
              "  color: var(--sklearn-color-unfitted-level-1);\n",
              "}\n",
              "\n",
              ".sk-estimator-doc-link.fitted,\n",
              "a:link.sk-estimator-doc-link.fitted,\n",
              "a:visited.sk-estimator-doc-link.fitted {\n",
              "  /* fitted */\n",
              "  border: var(--sklearn-color-fitted-level-1) 1pt solid;\n",
              "  color: var(--sklearn-color-fitted-level-1);\n",
              "}\n",
              "\n",
              "/* On hover */\n",
              "div.sk-estimator:hover .sk-estimator-doc-link:hover,\n",
              ".sk-estimator-doc-link:hover,\n",
              "div.sk-label-container:hover .sk-estimator-doc-link:hover,\n",
              ".sk-estimator-doc-link:hover {\n",
              "  /* unfitted */\n",
              "  background-color: var(--sklearn-color-unfitted-level-3);\n",
              "  color: var(--sklearn-color-background);\n",
              "  text-decoration: none;\n",
              "}\n",
              "\n",
              "div.sk-estimator.fitted:hover .sk-estimator-doc-link.fitted:hover,\n",
              ".sk-estimator-doc-link.fitted:hover,\n",
              "div.sk-label-container:hover .sk-estimator-doc-link.fitted:hover,\n",
              ".sk-estimator-doc-link.fitted:hover {\n",
              "  /* fitted */\n",
              "  background-color: var(--sklearn-color-fitted-level-3);\n",
              "  color: var(--sklearn-color-background);\n",
              "  text-decoration: none;\n",
              "}\n",
              "\n",
              "/* Span, style for the box shown on hovering the info icon */\n",
              ".sk-estimator-doc-link span {\n",
              "  display: none;\n",
              "  z-index: 9999;\n",
              "  position: relative;\n",
              "  font-weight: normal;\n",
              "  right: .2ex;\n",
              "  padding: .5ex;\n",
              "  margin: .5ex;\n",
              "  width: min-content;\n",
              "  min-width: 20ex;\n",
              "  max-width: 50ex;\n",
              "  color: var(--sklearn-color-text);\n",
              "  box-shadow: 2pt 2pt 4pt #999;\n",
              "  /* unfitted */\n",
              "  background: var(--sklearn-color-unfitted-level-0);\n",
              "  border: .5pt solid var(--sklearn-color-unfitted-level-3);\n",
              "}\n",
              "\n",
              ".sk-estimator-doc-link.fitted span {\n",
              "  /* fitted */\n",
              "  background: var(--sklearn-color-fitted-level-0);\n",
              "  border: var(--sklearn-color-fitted-level-3);\n",
              "}\n",
              "\n",
              ".sk-estimator-doc-link:hover span {\n",
              "  display: block;\n",
              "}\n",
              "\n",
              "/* \"?\"-specific style due to the `<a>` HTML tag */\n",
              "\n",
              "#sk-container-id-1 a.estimator_doc_link {\n",
              "  float: right;\n",
              "  font-size: 1rem;\n",
              "  line-height: 1em;\n",
              "  font-family: monospace;\n",
              "  background-color: var(--sklearn-color-background);\n",
              "  border-radius: 1rem;\n",
              "  height: 1rem;\n",
              "  width: 1rem;\n",
              "  text-decoration: none;\n",
              "  /* unfitted */\n",
              "  color: var(--sklearn-color-unfitted-level-1);\n",
              "  border: var(--sklearn-color-unfitted-level-1) 1pt solid;\n",
              "}\n",
              "\n",
              "#sk-container-id-1 a.estimator_doc_link.fitted {\n",
              "  /* fitted */\n",
              "  border: var(--sklearn-color-fitted-level-1) 1pt solid;\n",
              "  color: var(--sklearn-color-fitted-level-1);\n",
              "}\n",
              "\n",
              "/* On hover */\n",
              "#sk-container-id-1 a.estimator_doc_link:hover {\n",
              "  /* unfitted */\n",
              "  background-color: var(--sklearn-color-unfitted-level-3);\n",
              "  color: var(--sklearn-color-background);\n",
              "  text-decoration: none;\n",
              "}\n",
              "\n",
              "#sk-container-id-1 a.estimator_doc_link.fitted:hover {\n",
              "  /* fitted */\n",
              "  background-color: var(--sklearn-color-fitted-level-3);\n",
              "}\n",
              "</style><div id=\"sk-container-id-1\" class=\"sk-top-container\"><div class=\"sk-text-repr-fallback\"><pre>LGBMClassifier(bagging_fraction=0.7129690764883406, bagging_freq=9,\n",
              "               feature_fraction=0.7961256231877186, lambda_l1=4.03526964074153,\n",
              "               lambda_l2=4.399397958647765, learning_rate=0.19349739366176544,\n",
              "               max_depth=11, min_data_in_leaf=25, num_leaves=62)</pre><b>In a Jupyter environment, please rerun this cell to show the HTML representation or trust the notebook. <br />On GitHub, the HTML representation is unable to render, please try loading this page with nbviewer.org.</b></div><div class=\"sk-container\" hidden><div class=\"sk-item\"><div class=\"sk-estimator fitted sk-toggleable\"><input class=\"sk-toggleable__control sk-hidden--visually\" id=\"sk-estimator-id-1\" type=\"checkbox\" checked><label for=\"sk-estimator-id-1\" class=\"sk-toggleable__label fitted sk-toggleable__label-arrow\"><div><div>LGBMClassifier</div></div><div><span class=\"sk-estimator-doc-link fitted\">i<span>Fitted</span></span></div></label><div class=\"sk-toggleable__content fitted\"><pre>LGBMClassifier(bagging_fraction=0.7129690764883406, bagging_freq=9,\n",
              "               feature_fraction=0.7961256231877186, lambda_l1=4.03526964074153,\n",
              "               lambda_l2=4.399397958647765, learning_rate=0.19349739366176544,\n",
              "               max_depth=11, min_data_in_leaf=25, num_leaves=62)</pre></div> </div></div></div></div>"
            ],
            "text/plain": [
              "LGBMClassifier(bagging_fraction=0.7129690764883406, bagging_freq=9,\n",
              "               feature_fraction=0.7961256231877186, lambda_l1=4.03526964074153,\n",
              "               lambda_l2=4.399397958647765, learning_rate=0.19349739366176544,\n",
              "               max_depth=11, min_data_in_leaf=25, num_leaves=62)"
            ]
          },
          "execution_count": 76,
          "metadata": {},
          "output_type": "execute_result"
        }
      ],
      "source": [
        "final_model = LGBMClassifier(**best_params)\n",
        "\n",
        "final_model.fit(\n",
        "    X_train_res, y_train_res,\n",
        "    eval_set=[(X_val, y_val)],\n",
        "    eval_metric=\"auc\",\n",
        "    callbacks=[\n",
        "        early_stopping(50),\n",
        "        log_evaluation(50)\n",
        "    ]\n",
        ")\n"
      ]
    },
    {
      "cell_type": "code",
      "execution_count": 78,
      "metadata": {
        "colab": {
          "base_uri": "https://localhost:8080/"
        },
        "id": "ZDCZsBBRwZkS",
        "outputId": "a5987416-d7db-4efb-c7d2-555d8b843aa8"
      },
      "outputs": [
        {
          "name": "stdout",
          "output_type": "stream",
          "text": [
            "Train AUC: 0.9717 | Accuracy: 0.9873\n",
            "Valid AUC: 0.9616 | Accuracy: 0.9861\n",
            "Test AUC: 0.8625 | Accuracy: 0.9904\n"
          ]
        }
      ],
      "source": [
        "def print_metrics(model, X, y, label):\n",
        "    y_pred = model.predict(X)\n",
        "    y_proba = model.predict_proba(X)[:, 1]  # For AUC\n",
        "    auc = roc_auc_score(y, y_proba)\n",
        "    acc = accuracy_score(y, y_pred)\n",
        "    print(f\"{label} AUC: {auc:.4f} | Accuracy: {acc:.4f}\")\n",
        "\n",
        "print_metrics(final_model, X_train, y_train, \"Train\")\n",
        "print_metrics(final_model, X_val, y_val, \"Valid\")\n",
        "print_metrics(final_model, X_test, y_test, \"Test\")\n"
      ]
    },
    {
      "cell_type": "code",
      "execution_count": 79,
      "metadata": {
        "colab": {
          "base_uri": "https://localhost:8080/"
        },
        "id": "eNJXnvt3w0ci",
        "outputId": "2ea1eebb-bf6e-440d-a9da-c7b27295078b"
      },
      "outputs": [
        {
          "name": "stdout",
          "output_type": "stream",
          "text": [
            "                                              feature  importance\n",
            "1                                      SUM_CREDIT_KZT         101\n",
            "44                                      n_event_id_1d          67\n",
            "14                                            CLI_AGE          64\n",
            "12                                           FINALKDN          53\n",
            "5                                           DM5INCSUM          49\n",
            "10                                       DM6SCOREN6PD          47\n",
            "4                                           DM5EXPSUM          44\n",
            "2                                      DM5DPD1GCVPSUM          44\n",
            "0                                         TOTALAMOUNT          43\n",
            "57                            n_unique_event_type_30d          34\n",
            "13                                    CREDITTERM_RBL0          33\n",
            "58                                    n_unique_ip_30d          27\n",
            "15                                    DEPENDANT_COUNT          23\n",
            "42                             n_unique_event_type_1d          22\n",
            "11                                         DM6SCOREN6          20\n",
            "41                              n_unique_device_id_1d          20\n",
            "43                                     n_unique_ip_1d          17\n",
            "55                               country_kz_ratio_30d          16\n",
            "39                    MARITALSTATUS_Холост/Не_замужем          15\n",
            "47                             n_unique_event_type_2d          14\n",
            "59                                     n_event_id_30d          13\n",
            "23                                   KANAL_PRODAZH_QR          13\n",
            "9                                              DM7EXP          12\n",
            "54                                      n_event_id_3d          11\n",
            "49                                      n_event_id_2d          10\n",
            "56                             n_unique_device_id_30d          10\n",
            "28                                     GENDER_Мужской           9\n",
            "7                                              DM5EXP           9\n",
            "36                                        VKI_Хорошая           9\n",
            "17               PURPOSE_LOAN_На_потребительские_цели           8\n",
            "30                                         BKI_Плохая           8\n",
            "40                                country_kz_ratio_1d           8\n",
            "6                                              DM5INC           7\n",
            "8                                              DM7INC           7\n",
            "20                                OPV_REASON_NEW_САЙТ           6\n",
            "37                        MARITALSTATUS_Женат/Замужем           6\n",
            "31                                        BKI_Средняя           4\n",
            "18             PURPOSE_LOAN_На_рефинансирование_займа           4\n",
            "50                                country_kz_ratio_3d           4\n",
            "48                                     n_unique_ip_2d           4\n",
            "22                               KANAL_PRODAZH_B-Bank           3\n",
            "45                                country_kz_ratio_2d           3\n",
            "53                                     n_unique_ip_3d           3\n",
            "19  PURPOSE_LOAN_На_рефинансирование_займа_и_потре...           2\n",
            "29                                    BKI_Отсутствует           2\n",
            "38                   MARITALSTATUS_Разведен/Разведена           1\n",
            "52                             n_unique_event_type_3d           1\n",
            "46                              n_unique_device_id_2d           1\n",
            "27                                     GENDER_Женский           1\n",
            "21                             OPV_REASON_Онлайн_СБОЛ           1\n",
            "3                                    DM5DPD1SALARYSUM           0\n",
            "16                                     IS_SERVWS_MNLI           0\n",
            "26                         APPLICATION_ISA0AUTO_Улица           0\n",
            "25                   APPLICATION_ISA0AUTO_Зарплатники           0\n",
            "24                                  KANAL_PRODAZH_WEB           0\n",
            "35                                        VKI_Средняя           0\n",
            "32                                        BKI_Хорошая           0\n",
            "33                                    VKI_Отсутствует           0\n",
            "34                                         VKI_Плохая           0\n",
            "51                              n_unique_device_id_3d           0\n"
          ]
        }
      ],
      "source": [
        "importance = final_model.feature_importances_\n",
        "feature_names = final_model.feature_name_\n",
        "\n",
        "feat_imp_df = pd.DataFrame({\n",
        "    \"feature\": feature_names,\n",
        "    \"importance\": importance\n",
        "}).sort_values(by=\"importance\", ascending=False)\n",
        "\n",
        "print(feat_imp_df)\n"
      ]
    },
    {
      "cell_type": "code",
      "execution_count": 80,
      "metadata": {
        "id": "-vZFN0O9xplq"
      },
      "outputs": [],
      "source": [
        "feat_df = pd.DataFrame({\n",
        "    \"feature\": feature_names,\n",
        "    \"importance\": importance\n",
        "})\n",
        "\n",
        "important_features = feat_df[feat_df[\"importance\"] > 7][\"feature\"].tolist()"
      ]
    },
    {
      "cell_type": "code",
      "execution_count": 87,
      "metadata": {
        "id": "qnoRuksOzEdP"
      },
      "outputs": [],
      "source": [
        "important_features =[\n",
        " 'TOTALAMOUNT',\n",
        " 'DM5DPD1GCVPSUM',\n",
        " 'DM5EXPSUM',\n",
        " 'DM5INCSUM',\n",
        " 'DM5EXP',\n",
        " 'DM7EXP',\n",
        " 'DM6SCOREN6PD',\n",
        " 'DM6SCOREN6',\n",
        " 'FINALKDN',\n",
        " 'CREDITTERM_RBL0',\n",
        " 'CLI_AGE',\n",
        " 'DEPENDANT_COUNT',\n",
        " 'PURPOSE_LOAN_На потребительские цели',\n",
        " 'KANAL_PRODAZH_QR',\n",
        " 'GENDER_Мужской',\n",
        " 'BKI_Плохая',\n",
        " 'VKI_Хорошая',\n",
        " 'MARITALSTATUS_Холост/Не замужем',\n",
        " 'country_kz_ratio_1d',\n",
        " 'n_unique_device_id_1d',\n",
        " 'n_unique_event_type_1d',\n",
        " 'n_unique_ip_1d',\n",
        " 'n_event_id_1d',\n",
        " 'n_unique_event_type_2d',\n",
        " 'n_event_id_2d',\n",
        " 'n_event_id_3d',\n",
        " 'country_kz_ratio_30d',\n",
        " 'n_unique_device_id_30d',\n",
        " 'n_unique_event_type_30d',\n",
        " 'n_unique_ip_30d',\n",
        " 'n_event_id_30d']"
      ]
    },
    {
      "cell_type": "code",
      "execution_count": 88,
      "metadata": {
        "colab": {
          "base_uri": "https://localhost:8080/",
          "height": 439
        },
        "id": "tNzuY0M-zIfk",
        "outputId": "202243ff-5ccc-4a71-8510-285e84751620"
      },
      "outputs": [
        {
          "data": {
            "application/vnd.google.colaboratory.intrinsic+json": {
              "type": "dataframe"
            },
            "text/html": [
              "\n",
              "  <div id=\"df-b447e839-a96e-4185-8ccb-477805745872\" class=\"colab-df-container\">\n",
              "    <div>\n",
              "<style scoped>\n",
              "    .dataframe tbody tr th:only-of-type {\n",
              "        vertical-align: middle;\n",
              "    }\n",
              "\n",
              "    .dataframe tbody tr th {\n",
              "        vertical-align: top;\n",
              "    }\n",
              "\n",
              "    .dataframe thead th {\n",
              "        text-align: right;\n",
              "    }\n",
              "</style>\n",
              "<table border=\"1\" class=\"dataframe\">\n",
              "  <thead>\n",
              "    <tr style=\"text-align: right;\">\n",
              "      <th></th>\n",
              "      <th>TOTALAMOUNT</th>\n",
              "      <th>DM5DPD1GCVPSUM</th>\n",
              "      <th>DM5EXPSUM</th>\n",
              "      <th>DM5INCSUM</th>\n",
              "      <th>DM5EXP</th>\n",
              "      <th>DM7EXP</th>\n",
              "      <th>DM6SCOREN6PD</th>\n",
              "      <th>DM6SCOREN6</th>\n",
              "      <th>FINALKDN</th>\n",
              "      <th>CREDITTERM_RBL0</th>\n",
              "      <th>...</th>\n",
              "      <th>n_unique_ip_1d</th>\n",
              "      <th>n_event_id_1d</th>\n",
              "      <th>n_unique_event_type_2d</th>\n",
              "      <th>n_event_id_2d</th>\n",
              "      <th>n_event_id_3d</th>\n",
              "      <th>country_kz_ratio_30d</th>\n",
              "      <th>n_unique_device_id_30d</th>\n",
              "      <th>n_unique_event_type_30d</th>\n",
              "      <th>n_unique_ip_30d</th>\n",
              "      <th>n_event_id_30d</th>\n",
              "    </tr>\n",
              "  </thead>\n",
              "  <tbody>\n",
              "    <tr>\n",
              "      <th>0</th>\n",
              "      <td>150000</td>\n",
              "      <td>457066.8</td>\n",
              "      <td>2874498.7</td>\n",
              "      <td>2861073.5</td>\n",
              "      <td>0</td>\n",
              "      <td>1</td>\n",
              "      <td>0.042531</td>\n",
              "      <td>765.975104</td>\n",
              "      <td>0.4519</td>\n",
              "      <td>12</td>\n",
              "      <td>...</td>\n",
              "      <td>2.0</td>\n",
              "      <td>75.0</td>\n",
              "      <td>51.0</td>\n",
              "      <td>75.0</td>\n",
              "      <td>75.0</td>\n",
              "      <td>1.0</td>\n",
              "      <td>1.0</td>\n",
              "      <td>52.0</td>\n",
              "      <td>5.0</td>\n",
              "      <td>105.0</td>\n",
              "    </tr>\n",
              "    <tr>\n",
              "      <th>1</th>\n",
              "      <td>300000</td>\n",
              "      <td>68850.0</td>\n",
              "      <td>558734.6</td>\n",
              "      <td>564659.8</td>\n",
              "      <td>0</td>\n",
              "      <td>0</td>\n",
              "      <td>0.027982</td>\n",
              "      <td>777.614138</td>\n",
              "      <td>0.4247</td>\n",
              "      <td>12</td>\n",
              "      <td>...</td>\n",
              "      <td>1.0</td>\n",
              "      <td>90.0</td>\n",
              "      <td>62.0</td>\n",
              "      <td>90.0</td>\n",
              "      <td>90.0</td>\n",
              "      <td>1.0</td>\n",
              "      <td>1.0</td>\n",
              "      <td>62.0</td>\n",
              "      <td>1.0</td>\n",
              "      <td>90.0</td>\n",
              "    </tr>\n",
              "    <tr>\n",
              "      <th>2</th>\n",
              "      <td>600000</td>\n",
              "      <td>NaN</td>\n",
              "      <td>1044469.5</td>\n",
              "      <td>1023278.0</td>\n",
              "      <td>1</td>\n",
              "      <td>0</td>\n",
              "      <td>0.075949</td>\n",
              "      <td>739.240506</td>\n",
              "      <td>0.5000</td>\n",
              "      <td>12</td>\n",
              "      <td>...</td>\n",
              "      <td>2.0</td>\n",
              "      <td>117.0</td>\n",
              "      <td>55.0</td>\n",
              "      <td>117.0</td>\n",
              "      <td>117.0</td>\n",
              "      <td>1.0</td>\n",
              "      <td>1.0</td>\n",
              "      <td>58.0</td>\n",
              "      <td>7.0</td>\n",
              "      <td>145.0</td>\n",
              "    </tr>\n",
              "    <tr>\n",
              "      <th>3</th>\n",
              "      <td>200000</td>\n",
              "      <td>NaN</td>\n",
              "      <td>1048790.4</td>\n",
              "      <td>1046686.8</td>\n",
              "      <td>1</td>\n",
              "      <td>0</td>\n",
              "      <td>0.077830</td>\n",
              "      <td>737.735849</td>\n",
              "      <td>0.3266</td>\n",
              "      <td>12</td>\n",
              "      <td>...</td>\n",
              "      <td>3.0</td>\n",
              "      <td>56.0</td>\n",
              "      <td>49.0</td>\n",
              "      <td>56.0</td>\n",
              "      <td>56.0</td>\n",
              "      <td>1.0</td>\n",
              "      <td>1.0</td>\n",
              "      <td>53.0</td>\n",
              "      <td>9.0</td>\n",
              "      <td>282.0</td>\n",
              "    </tr>\n",
              "    <tr>\n",
              "      <th>4</th>\n",
              "      <td>150000</td>\n",
              "      <td>NaN</td>\n",
              "      <td>982182.2</td>\n",
              "      <td>942380.7</td>\n",
              "      <td>1</td>\n",
              "      <td>0</td>\n",
              "      <td>0.075949</td>\n",
              "      <td>739.240506</td>\n",
              "      <td>0.3364</td>\n",
              "      <td>12</td>\n",
              "      <td>...</td>\n",
              "      <td>1.0</td>\n",
              "      <td>2.0</td>\n",
              "      <td>1.0</td>\n",
              "      <td>2.0</td>\n",
              "      <td>2.0</td>\n",
              "      <td>1.0</td>\n",
              "      <td>2.0</td>\n",
              "      <td>2.0</td>\n",
              "      <td>2.0</td>\n",
              "      <td>3.0</td>\n",
              "    </tr>\n",
              "    <tr>\n",
              "      <th>...</th>\n",
              "      <td>...</td>\n",
              "      <td>...</td>\n",
              "      <td>...</td>\n",
              "      <td>...</td>\n",
              "      <td>...</td>\n",
              "      <td>...</td>\n",
              "      <td>...</td>\n",
              "      <td>...</td>\n",
              "      <td>...</td>\n",
              "      <td>...</td>\n",
              "      <td>...</td>\n",
              "      <td>...</td>\n",
              "      <td>...</td>\n",
              "      <td>...</td>\n",
              "      <td>...</td>\n",
              "      <td>...</td>\n",
              "      <td>...</td>\n",
              "      <td>...</td>\n",
              "      <td>...</td>\n",
              "      <td>...</td>\n",
              "      <td>...</td>\n",
              "    </tr>\n",
              "    <tr>\n",
              "      <th>30288</th>\n",
              "      <td>150000</td>\n",
              "      <td>311175.0</td>\n",
              "      <td>1484270.7</td>\n",
              "      <td>1481724.7</td>\n",
              "      <td>0</td>\n",
              "      <td>1</td>\n",
              "      <td>0.007680</td>\n",
              "      <td>793.855607</td>\n",
              "      <td>NaN</td>\n",
              "      <td>12</td>\n",
              "      <td>...</td>\n",
              "      <td>NaN</td>\n",
              "      <td>NaN</td>\n",
              "      <td>NaN</td>\n",
              "      <td>NaN</td>\n",
              "      <td>NaN</td>\n",
              "      <td>NaN</td>\n",
              "      <td>NaN</td>\n",
              "      <td>NaN</td>\n",
              "      <td>NaN</td>\n",
              "      <td>NaN</td>\n",
              "    </tr>\n",
              "    <tr>\n",
              "      <th>30289</th>\n",
              "      <td>1500000</td>\n",
              "      <td>NaN</td>\n",
              "      <td>553521.7</td>\n",
              "      <td>553468.8</td>\n",
              "      <td>1</td>\n",
              "      <td>0</td>\n",
              "      <td>0.049884</td>\n",
              "      <td>760.092807</td>\n",
              "      <td>0.3715</td>\n",
              "      <td>60</td>\n",
              "      <td>...</td>\n",
              "      <td>NaN</td>\n",
              "      <td>NaN</td>\n",
              "      <td>NaN</td>\n",
              "      <td>NaN</td>\n",
              "      <td>NaN</td>\n",
              "      <td>NaN</td>\n",
              "      <td>NaN</td>\n",
              "      <td>NaN</td>\n",
              "      <td>NaN</td>\n",
              "      <td>NaN</td>\n",
              "    </tr>\n",
              "    <tr>\n",
              "      <th>30290</th>\n",
              "      <td>150000</td>\n",
              "      <td>NaN</td>\n",
              "      <td>410992.0</td>\n",
              "      <td>411387.7</td>\n",
              "      <td>0</td>\n",
              "      <td>0</td>\n",
              "      <td>0.027982</td>\n",
              "      <td>777.614138</td>\n",
              "      <td>NaN</td>\n",
              "      <td>24</td>\n",
              "      <td>...</td>\n",
              "      <td>3.0</td>\n",
              "      <td>108.0</td>\n",
              "      <td>46.0</td>\n",
              "      <td>116.0</td>\n",
              "      <td>129.0</td>\n",
              "      <td>1.0</td>\n",
              "      <td>1.0</td>\n",
              "      <td>47.0</td>\n",
              "      <td>7.0</td>\n",
              "      <td>188.0</td>\n",
              "    </tr>\n",
              "    <tr>\n",
              "      <th>30291</th>\n",
              "      <td>3708542</td>\n",
              "      <td>88088.9</td>\n",
              "      <td>511921.2</td>\n",
              "      <td>512088.8</td>\n",
              "      <td>0</td>\n",
              "      <td>0</td>\n",
              "      <td>0.147200</td>\n",
              "      <td>682.240000</td>\n",
              "      <td>NaN</td>\n",
              "      <td>60</td>\n",
              "      <td>...</td>\n",
              "      <td>NaN</td>\n",
              "      <td>NaN</td>\n",
              "      <td>NaN</td>\n",
              "      <td>NaN</td>\n",
              "      <td>NaN</td>\n",
              "      <td>NaN</td>\n",
              "      <td>NaN</td>\n",
              "      <td>NaN</td>\n",
              "      <td>NaN</td>\n",
              "      <td>NaN</td>\n",
              "    </tr>\n",
              "    <tr>\n",
              "      <th>30292</th>\n",
              "      <td>1000000</td>\n",
              "      <td>NaN</td>\n",
              "      <td>902185.7</td>\n",
              "      <td>902197.0</td>\n",
              "      <td>0</td>\n",
              "      <td>0</td>\n",
              "      <td>0.077830</td>\n",
              "      <td>737.735849</td>\n",
              "      <td>NaN</td>\n",
              "      <td>48</td>\n",
              "      <td>...</td>\n",
              "      <td>NaN</td>\n",
              "      <td>NaN</td>\n",
              "      <td>NaN</td>\n",
              "      <td>NaN</td>\n",
              "      <td>NaN</td>\n",
              "      <td>NaN</td>\n",
              "      <td>NaN</td>\n",
              "      <td>NaN</td>\n",
              "      <td>NaN</td>\n",
              "      <td>NaN</td>\n",
              "    </tr>\n",
              "  </tbody>\n",
              "</table>\n",
              "<p>30293 rows × 31 columns</p>\n",
              "</div>\n",
              "    <div class=\"colab-df-buttons\">\n",
              "\n",
              "  <div class=\"colab-df-container\">\n",
              "    <button class=\"colab-df-convert\" onclick=\"convertToInteractive('df-b447e839-a96e-4185-8ccb-477805745872')\"\n",
              "            title=\"Convert this dataframe to an interactive table.\"\n",
              "            style=\"display:none;\">\n",
              "\n",
              "  <svg xmlns=\"http://www.w3.org/2000/svg\" height=\"24px\" viewBox=\"0 -960 960 960\">\n",
              "    <path d=\"M120-120v-720h720v720H120Zm60-500h600v-160H180v160Zm220 220h160v-160H400v160Zm0 220h160v-160H400v160ZM180-400h160v-160H180v160Zm440 0h160v-160H620v160ZM180-180h160v-160H180v160Zm440 0h160v-160H620v160Z\"/>\n",
              "  </svg>\n",
              "    </button>\n",
              "\n",
              "  <style>\n",
              "    .colab-df-container {\n",
              "      display:flex;\n",
              "      gap: 12px;\n",
              "    }\n",
              "\n",
              "    .colab-df-convert {\n",
              "      background-color: #E8F0FE;\n",
              "      border: none;\n",
              "      border-radius: 50%;\n",
              "      cursor: pointer;\n",
              "      display: none;\n",
              "      fill: #1967D2;\n",
              "      height: 32px;\n",
              "      padding: 0 0 0 0;\n",
              "      width: 32px;\n",
              "    }\n",
              "\n",
              "    .colab-df-convert:hover {\n",
              "      background-color: #E2EBFA;\n",
              "      box-shadow: 0px 1px 2px rgba(60, 64, 67, 0.3), 0px 1px 3px 1px rgba(60, 64, 67, 0.15);\n",
              "      fill: #174EA6;\n",
              "    }\n",
              "\n",
              "    .colab-df-buttons div {\n",
              "      margin-bottom: 4px;\n",
              "    }\n",
              "\n",
              "    [theme=dark] .colab-df-convert {\n",
              "      background-color: #3B4455;\n",
              "      fill: #D2E3FC;\n",
              "    }\n",
              "\n",
              "    [theme=dark] .colab-df-convert:hover {\n",
              "      background-color: #434B5C;\n",
              "      box-shadow: 0px 1px 3px 1px rgba(0, 0, 0, 0.15);\n",
              "      filter: drop-shadow(0px 1px 2px rgba(0, 0, 0, 0.3));\n",
              "      fill: #FFFFFF;\n",
              "    }\n",
              "  </style>\n",
              "\n",
              "    <script>\n",
              "      const buttonEl =\n",
              "        document.querySelector('#df-b447e839-a96e-4185-8ccb-477805745872 button.colab-df-convert');\n",
              "      buttonEl.style.display =\n",
              "        google.colab.kernel.accessAllowed ? 'block' : 'none';\n",
              "\n",
              "      async function convertToInteractive(key) {\n",
              "        const element = document.querySelector('#df-b447e839-a96e-4185-8ccb-477805745872');\n",
              "        const dataTable =\n",
              "          await google.colab.kernel.invokeFunction('convertToInteractive',\n",
              "                                                    [key], {});\n",
              "        if (!dataTable) return;\n",
              "\n",
              "        const docLinkHtml = 'Like what you see? Visit the ' +\n",
              "          '<a target=\"_blank\" href=https://colab.research.google.com/notebooks/data_table.ipynb>data table notebook</a>'\n",
              "          + ' to learn more about interactive tables.';\n",
              "        element.innerHTML = '';\n",
              "        dataTable['output_type'] = 'display_data';\n",
              "        await google.colab.output.renderOutput(dataTable, element);\n",
              "        const docLink = document.createElement('div');\n",
              "        docLink.innerHTML = docLinkHtml;\n",
              "        element.appendChild(docLink);\n",
              "      }\n",
              "    </script>\n",
              "  </div>\n",
              "\n",
              "\n",
              "    <div id=\"df-221584ad-66a5-44a9-a718-947998c62f1f\">\n",
              "      <button class=\"colab-df-quickchart\" onclick=\"quickchart('df-221584ad-66a5-44a9-a718-947998c62f1f')\"\n",
              "                title=\"Suggest charts\"\n",
              "                style=\"display:none;\">\n",
              "\n",
              "<svg xmlns=\"http://www.w3.org/2000/svg\" height=\"24px\"viewBox=\"0 0 24 24\"\n",
              "     width=\"24px\">\n",
              "    <g>\n",
              "        <path d=\"M19 3H5c-1.1 0-2 .9-2 2v14c0 1.1.9 2 2 2h14c1.1 0 2-.9 2-2V5c0-1.1-.9-2-2-2zM9 17H7v-7h2v7zm4 0h-2V7h2v10zm4 0h-2v-4h2v4z\"/>\n",
              "    </g>\n",
              "</svg>\n",
              "      </button>\n",
              "\n",
              "<style>\n",
              "  .colab-df-quickchart {\n",
              "      --bg-color: #E8F0FE;\n",
              "      --fill-color: #1967D2;\n",
              "      --hover-bg-color: #E2EBFA;\n",
              "      --hover-fill-color: #174EA6;\n",
              "      --disabled-fill-color: #AAA;\n",
              "      --disabled-bg-color: #DDD;\n",
              "  }\n",
              "\n",
              "  [theme=dark] .colab-df-quickchart {\n",
              "      --bg-color: #3B4455;\n",
              "      --fill-color: #D2E3FC;\n",
              "      --hover-bg-color: #434B5C;\n",
              "      --hover-fill-color: #FFFFFF;\n",
              "      --disabled-bg-color: #3B4455;\n",
              "      --disabled-fill-color: #666;\n",
              "  }\n",
              "\n",
              "  .colab-df-quickchart {\n",
              "    background-color: var(--bg-color);\n",
              "    border: none;\n",
              "    border-radius: 50%;\n",
              "    cursor: pointer;\n",
              "    display: none;\n",
              "    fill: var(--fill-color);\n",
              "    height: 32px;\n",
              "    padding: 0;\n",
              "    width: 32px;\n",
              "  }\n",
              "\n",
              "  .colab-df-quickchart:hover {\n",
              "    background-color: var(--hover-bg-color);\n",
              "    box-shadow: 0 1px 2px rgba(60, 64, 67, 0.3), 0 1px 3px 1px rgba(60, 64, 67, 0.15);\n",
              "    fill: var(--button-hover-fill-color);\n",
              "  }\n",
              "\n",
              "  .colab-df-quickchart-complete:disabled,\n",
              "  .colab-df-quickchart-complete:disabled:hover {\n",
              "    background-color: var(--disabled-bg-color);\n",
              "    fill: var(--disabled-fill-color);\n",
              "    box-shadow: none;\n",
              "  }\n",
              "\n",
              "  .colab-df-spinner {\n",
              "    border: 2px solid var(--fill-color);\n",
              "    border-color: transparent;\n",
              "    border-bottom-color: var(--fill-color);\n",
              "    animation:\n",
              "      spin 1s steps(1) infinite;\n",
              "  }\n",
              "\n",
              "  @keyframes spin {\n",
              "    0% {\n",
              "      border-color: transparent;\n",
              "      border-bottom-color: var(--fill-color);\n",
              "      border-left-color: var(--fill-color);\n",
              "    }\n",
              "    20% {\n",
              "      border-color: transparent;\n",
              "      border-left-color: var(--fill-color);\n",
              "      border-top-color: var(--fill-color);\n",
              "    }\n",
              "    30% {\n",
              "      border-color: transparent;\n",
              "      border-left-color: var(--fill-color);\n",
              "      border-top-color: var(--fill-color);\n",
              "      border-right-color: var(--fill-color);\n",
              "    }\n",
              "    40% {\n",
              "      border-color: transparent;\n",
              "      border-right-color: var(--fill-color);\n",
              "      border-top-color: var(--fill-color);\n",
              "    }\n",
              "    60% {\n",
              "      border-color: transparent;\n",
              "      border-right-color: var(--fill-color);\n",
              "    }\n",
              "    80% {\n",
              "      border-color: transparent;\n",
              "      border-right-color: var(--fill-color);\n",
              "      border-bottom-color: var(--fill-color);\n",
              "    }\n",
              "    90% {\n",
              "      border-color: transparent;\n",
              "      border-bottom-color: var(--fill-color);\n",
              "    }\n",
              "  }\n",
              "</style>\n",
              "\n",
              "      <script>\n",
              "        async function quickchart(key) {\n",
              "          const quickchartButtonEl =\n",
              "            document.querySelector('#' + key + ' button');\n",
              "          quickchartButtonEl.disabled = true;  // To prevent multiple clicks.\n",
              "          quickchartButtonEl.classList.add('colab-df-spinner');\n",
              "          try {\n",
              "            const charts = await google.colab.kernel.invokeFunction(\n",
              "                'suggestCharts', [key], {});\n",
              "          } catch (error) {\n",
              "            console.error('Error during call to suggestCharts:', error);\n",
              "          }\n",
              "          quickchartButtonEl.classList.remove('colab-df-spinner');\n",
              "          quickchartButtonEl.classList.add('colab-df-quickchart-complete');\n",
              "        }\n",
              "        (() => {\n",
              "          let quickchartButtonEl =\n",
              "            document.querySelector('#df-221584ad-66a5-44a9-a718-947998c62f1f button');\n",
              "          quickchartButtonEl.style.display =\n",
              "            google.colab.kernel.accessAllowed ? 'block' : 'none';\n",
              "        })();\n",
              "      </script>\n",
              "    </div>\n",
              "\n",
              "    </div>\n",
              "  </div>\n"
            ],
            "text/plain": [
              "       TOTALAMOUNT  DM5DPD1GCVPSUM  DM5EXPSUM  DM5INCSUM  DM5EXP  DM7EXP  \\\n",
              "0           150000        457066.8  2874498.7  2861073.5       0       1   \n",
              "1           300000         68850.0   558734.6   564659.8       0       0   \n",
              "2           600000             NaN  1044469.5  1023278.0       1       0   \n",
              "3           200000             NaN  1048790.4  1046686.8       1       0   \n",
              "4           150000             NaN   982182.2   942380.7       1       0   \n",
              "...            ...             ...        ...        ...     ...     ...   \n",
              "30288       150000        311175.0  1484270.7  1481724.7       0       1   \n",
              "30289      1500000             NaN   553521.7   553468.8       1       0   \n",
              "30290       150000             NaN   410992.0   411387.7       0       0   \n",
              "30291      3708542         88088.9   511921.2   512088.8       0       0   \n",
              "30292      1000000             NaN   902185.7   902197.0       0       0   \n",
              "\n",
              "       DM6SCOREN6PD  DM6SCOREN6  FINALKDN  CREDITTERM_RBL0  ...  \\\n",
              "0          0.042531  765.975104    0.4519               12  ...   \n",
              "1          0.027982  777.614138    0.4247               12  ...   \n",
              "2          0.075949  739.240506    0.5000               12  ...   \n",
              "3          0.077830  737.735849    0.3266               12  ...   \n",
              "4          0.075949  739.240506    0.3364               12  ...   \n",
              "...             ...         ...       ...              ...  ...   \n",
              "30288      0.007680  793.855607       NaN               12  ...   \n",
              "30289      0.049884  760.092807    0.3715               60  ...   \n",
              "30290      0.027982  777.614138       NaN               24  ...   \n",
              "30291      0.147200  682.240000       NaN               60  ...   \n",
              "30292      0.077830  737.735849       NaN               48  ...   \n",
              "\n",
              "       n_unique_ip_1d  n_event_id_1d  n_unique_event_type_2d  n_event_id_2d  \\\n",
              "0                 2.0           75.0                    51.0           75.0   \n",
              "1                 1.0           90.0                    62.0           90.0   \n",
              "2                 2.0          117.0                    55.0          117.0   \n",
              "3                 3.0           56.0                    49.0           56.0   \n",
              "4                 1.0            2.0                     1.0            2.0   \n",
              "...               ...            ...                     ...            ...   \n",
              "30288             NaN            NaN                     NaN            NaN   \n",
              "30289             NaN            NaN                     NaN            NaN   \n",
              "30290             3.0          108.0                    46.0          116.0   \n",
              "30291             NaN            NaN                     NaN            NaN   \n",
              "30292             NaN            NaN                     NaN            NaN   \n",
              "\n",
              "       n_event_id_3d  country_kz_ratio_30d  n_unique_device_id_30d  \\\n",
              "0               75.0                   1.0                     1.0   \n",
              "1               90.0                   1.0                     1.0   \n",
              "2              117.0                   1.0                     1.0   \n",
              "3               56.0                   1.0                     1.0   \n",
              "4                2.0                   1.0                     2.0   \n",
              "...              ...                   ...                     ...   \n",
              "30288            NaN                   NaN                     NaN   \n",
              "30289            NaN                   NaN                     NaN   \n",
              "30290          129.0                   1.0                     1.0   \n",
              "30291            NaN                   NaN                     NaN   \n",
              "30292            NaN                   NaN                     NaN   \n",
              "\n",
              "       n_unique_event_type_30d  n_unique_ip_30d  n_event_id_30d  \n",
              "0                         52.0              5.0           105.0  \n",
              "1                         62.0              1.0            90.0  \n",
              "2                         58.0              7.0           145.0  \n",
              "3                         53.0              9.0           282.0  \n",
              "4                          2.0              2.0             3.0  \n",
              "...                        ...              ...             ...  \n",
              "30288                      NaN              NaN             NaN  \n",
              "30289                      NaN              NaN             NaN  \n",
              "30290                     47.0              7.0           188.0  \n",
              "30291                      NaN              NaN             NaN  \n",
              "30292                      NaN              NaN             NaN  \n",
              "\n",
              "[30293 rows x 31 columns]"
            ]
          },
          "execution_count": 88,
          "metadata": {},
          "output_type": "execute_result"
        }
      ],
      "source": [
        "df[important_features]"
      ]
    },
    {
      "cell_type": "code",
      "execution_count": 89,
      "metadata": {
        "colab": {
          "base_uri": "https://localhost:8080/"
        },
        "id": "HrrtnRBDyF9y",
        "outputId": "1bcadab1-b6f7-4425-88ed-c025e91553b9"
      },
      "outputs": [
        {
          "name": "stderr",
          "output_type": "stream",
          "text": [
            "[I 2025-06-13 19:43:00,822] A new study created in memory with name: LGBM Classifier\n"
          ]
        },
        {
          "name": "stdout",
          "output_type": "stream",
          "text": [
            "Training until validation scores don't improve for 100 rounds\n",
            "Did not meet early stopping. Best iteration is:\n",
            "[100]\tvalid_0's auc: 0.975825\n",
            "Training until validation scores don't improve for 100 rounds\n",
            "Did not meet early stopping. Best iteration is:\n",
            "[78]\tvalid_0's auc: 0.980862\n",
            "Training until validation scores don't improve for 100 rounds\n",
            "Did not meet early stopping. Best iteration is:\n",
            "[81]\tvalid_0's auc: 0.972181\n",
            "Training until validation scores don't improve for 100 rounds\n",
            "Did not meet early stopping. Best iteration is:\n",
            "[82]\tvalid_0's auc: 0.957135\n",
            "Training until validation scores don't improve for 100 rounds\n"
          ]
        },
        {
          "name": "stderr",
          "output_type": "stream",
          "text": [
            "[I 2025-06-13 19:43:03,746] Trial 0 finished with value: 0.9196447284195669 and parameters: {'learning_rate': 0.15795550021574914, 'num_leaves': 213, 'max_depth': 3, 'feature_fraction': 0.6404588722313999, 'bagging_fraction': 0.803477865293546, 'bagging_freq': 10, 'min_data_in_leaf': 30, 'lambda_l1': 2.870209246229, 'lambda_l2': 1.1751363407632436}. Best is trial 0 with value: 0.9196447284195669.\n"
          ]
        },
        {
          "name": "stdout",
          "output_type": "stream",
          "text": [
            "Did not meet early stopping. Best iteration is:\n",
            "[83]\tvalid_0's auc: 0.980171\n",
            "Training until validation scores don't improve for 100 rounds\n",
            "Did not meet early stopping. Best iteration is:\n",
            "[100]\tvalid_0's auc: 0.969881\n",
            "Training until validation scores don't improve for 100 rounds\n",
            "Did not meet early stopping. Best iteration is:\n",
            "[88]\tvalid_0's auc: 0.982718\n",
            "Training until validation scores don't improve for 100 rounds\n",
            "Did not meet early stopping. Best iteration is:\n",
            "[68]\tvalid_0's auc: 0.976398\n",
            "Training until validation scores don't improve for 100 rounds\n",
            "Did not meet early stopping. Best iteration is:\n",
            "[96]\tvalid_0's auc: 0.961283\n",
            "Training until validation scores don't improve for 100 rounds\n"
          ]
        },
        {
          "name": "stderr",
          "output_type": "stream",
          "text": [
            "[I 2025-06-13 19:43:05,655] Trial 1 finished with value: 0.8950489460291987 and parameters: {'learning_rate': 0.18275361095430379, 'num_leaves': 85, 'max_depth': 7, 'feature_fraction': 0.7211043559752601, 'bagging_fraction': 0.737114109199758, 'bagging_freq': 8, 'min_data_in_leaf': 98, 'lambda_l1': 3.897475621915008, 'lambda_l2': 0.22685126473448558}. Best is trial 1 with value: 0.8950489460291987.\n"
          ]
        },
        {
          "name": "stdout",
          "output_type": "stream",
          "text": [
            "Did not meet early stopping. Best iteration is:\n",
            "[95]\tvalid_0's auc: 0.98255\n",
            "Training until validation scores don't improve for 100 rounds\n",
            "Did not meet early stopping. Best iteration is:\n",
            "[80]\tvalid_0's auc: 0.970962\n",
            "Training until validation scores don't improve for 100 rounds\n",
            "Did not meet early stopping. Best iteration is:\n",
            "[91]\tvalid_0's auc: 0.987284\n",
            "Training until validation scores don't improve for 100 rounds\n",
            "Did not meet early stopping. Best iteration is:\n",
            "[95]\tvalid_0's auc: 0.97383\n",
            "Training until validation scores don't improve for 100 rounds\n",
            "Did not meet early stopping. Best iteration is:\n",
            "[83]\tvalid_0's auc: 0.961963\n",
            "Training until validation scores don't improve for 100 rounds\n"
          ]
        },
        {
          "name": "stderr",
          "output_type": "stream",
          "text": [
            "[I 2025-06-13 19:43:07,889] Trial 2 finished with value: 0.9152121199135068 and parameters: {'learning_rate': 0.09397820744712035, 'num_leaves': 204, 'max_depth': 7, 'feature_fraction': 0.7486443677456875, 'bagging_fraction': 0.9328615852587001, 'bagging_freq': 6, 'min_data_in_leaf': 173, 'lambda_l1': 0.16526831342977, 'lambda_l2': 3.8257745990030854}. Best is trial 1 with value: 0.8950489460291987.\n"
          ]
        },
        {
          "name": "stdout",
          "output_type": "stream",
          "text": [
            "Did not meet early stopping. Best iteration is:\n",
            "[100]\tvalid_0's auc: 0.982859\n",
            "Training until validation scores don't improve for 100 rounds\n",
            "Did not meet early stopping. Best iteration is:\n",
            "[98]\tvalid_0's auc: 0.972012\n",
            "Training until validation scores don't improve for 100 rounds\n",
            "Did not meet early stopping. Best iteration is:\n",
            "[88]\tvalid_0's auc: 0.988108\n",
            "Training until validation scores don't improve for 100 rounds\n",
            "Did not meet early stopping. Best iteration is:\n",
            "[95]\tvalid_0's auc: 0.974414\n",
            "Training until validation scores don't improve for 100 rounds\n",
            "Did not meet early stopping. Best iteration is:\n",
            "[89]\tvalid_0's auc: 0.961164\n",
            "Training until validation scores don't improve for 100 rounds\n"
          ]
        },
        {
          "name": "stderr",
          "output_type": "stream",
          "text": [
            "[I 2025-06-13 19:43:10,417] Trial 3 finished with value: 0.9062214362831466 and parameters: {'learning_rate': 0.10576773713153942, 'num_leaves': 83, 'max_depth': 12, 'feature_fraction': 0.6044386559605501, 'bagging_fraction': 0.9955519869093896, 'bagging_freq': 10, 'min_data_in_leaf': 146, 'lambda_l1': 0.5768407169633949, 'lambda_l2': 4.19727038796019}. Best is trial 1 with value: 0.8950489460291987.\n"
          ]
        },
        {
          "name": "stdout",
          "output_type": "stream",
          "text": [
            "Did not meet early stopping. Best iteration is:\n",
            "[94]\tvalid_0's auc: 0.984379\n",
            "Training until validation scores don't improve for 100 rounds\n",
            "Did not meet early stopping. Best iteration is:\n",
            "[96]\tvalid_0's auc: 0.969019\n",
            "Training until validation scores don't improve for 100 rounds\n",
            "Did not meet early stopping. Best iteration is:\n",
            "[100]\tvalid_0's auc: 0.98064\n",
            "Training until validation scores don't improve for 100 rounds\n",
            "Did not meet early stopping. Best iteration is:\n",
            "[100]\tvalid_0's auc: 0.968895\n",
            "Training until validation scores don't improve for 100 rounds\n",
            "Did not meet early stopping. Best iteration is:\n",
            "[100]\tvalid_0's auc: 0.950863\n",
            "Training until validation scores don't improve for 100 rounds\n"
          ]
        },
        {
          "name": "stderr",
          "output_type": "stream",
          "text": [
            "[I 2025-06-13 19:43:11,722] Trial 4 finished with value: 0.9117497344368599 and parameters: {'learning_rate': 0.08698192124685071, 'num_leaves': 114, 'max_depth': 3, 'feature_fraction': 0.7573608285099898, 'bagging_fraction': 0.6933344416676828, 'bagging_freq': 5, 'min_data_in_leaf': 127, 'lambda_l1': 4.487047021151209, 'lambda_l2': 2.241083654999012}. Best is trial 1 with value: 0.8950489460291987.\n"
          ]
        },
        {
          "name": "stdout",
          "output_type": "stream",
          "text": [
            "Did not meet early stopping. Best iteration is:\n",
            "[90]\tvalid_0's auc: 0.982016\n",
            "Training until validation scores don't improve for 100 rounds\n",
            "Did not meet early stopping. Best iteration is:\n",
            "[89]\tvalid_0's auc: 0.970638\n",
            "Training until validation scores don't improve for 100 rounds\n",
            "Did not meet early stopping. Best iteration is:\n",
            "[100]\tvalid_0's auc: 0.988312\n",
            "Training until validation scores don't improve for 100 rounds\n",
            "Did not meet early stopping. Best iteration is:\n",
            "[91]\tvalid_0's auc: 0.970928\n",
            "Training until validation scores don't improve for 100 rounds\n",
            "Did not meet early stopping. Best iteration is:\n",
            "[91]\tvalid_0's auc: 0.959622\n",
            "Training until validation scores don't improve for 100 rounds\n"
          ]
        },
        {
          "name": "stderr",
          "output_type": "stream",
          "text": [
            "[I 2025-06-13 19:43:14,163] Trial 5 finished with value: 0.9158467643305119 and parameters: {'learning_rate': 0.09225972133276933, 'num_leaves': 187, 'max_depth': 9, 'feature_fraction': 0.7550618356206084, 'bagging_fraction': 0.8707082823255669, 'bagging_freq': 6, 'min_data_in_leaf': 150, 'lambda_l1': 0.9976393752383089, 'lambda_l2': 3.2501356489727757}. Best is trial 1 with value: 0.8950489460291987.\n"
          ]
        },
        {
          "name": "stdout",
          "output_type": "stream",
          "text": [
            "Did not meet early stopping. Best iteration is:\n",
            "[96]\tvalid_0's auc: 0.984879\n",
            "Training until validation scores don't improve for 100 rounds\n",
            "Did not meet early stopping. Best iteration is:\n",
            "[93]\tvalid_0's auc: 0.969464\n",
            "Training until validation scores don't improve for 100 rounds\n",
            "Did not meet early stopping. Best iteration is:\n",
            "[68]\tvalid_0's auc: 0.984434\n",
            "Training until validation scores don't improve for 100 rounds\n",
            "Did not meet early stopping. Best iteration is:\n",
            "[99]\tvalid_0's auc: 0.975799\n",
            "Training until validation scores don't improve for 100 rounds\n",
            "Did not meet early stopping. Best iteration is:\n",
            "[56]\tvalid_0's auc: 0.962915\n",
            "Training until validation scores don't improve for 100 rounds\n"
          ]
        },
        {
          "name": "stderr",
          "output_type": "stream",
          "text": [
            "[I 2025-06-13 19:43:17,088] Trial 6 finished with value: 0.9006504771552175 and parameters: {'learning_rate': 0.17632626183344718, 'num_leaves': 64, 'max_depth': 9, 'feature_fraction': 0.8007461681171357, 'bagging_fraction': 0.8148232740282574, 'bagging_freq': 6, 'min_data_in_leaf': 43, 'lambda_l1': 2.581726844020453, 'lambda_l2': 4.453928344303147}. Best is trial 1 with value: 0.8950489460291987.\n"
          ]
        },
        {
          "name": "stdout",
          "output_type": "stream",
          "text": [
            "Did not meet early stopping. Best iteration is:\n",
            "[75]\tvalid_0's auc: 0.984764\n",
            "Training until validation scores don't improve for 100 rounds\n",
            "Did not meet early stopping. Best iteration is:\n",
            "[38]\tvalid_0's auc: 0.970518\n",
            "Training until validation scores don't improve for 100 rounds\n",
            "Did not meet early stopping. Best iteration is:\n",
            "[69]\tvalid_0's auc: 0.985289\n",
            "Training until validation scores don't improve for 100 rounds\n",
            "Did not meet early stopping. Best iteration is:\n",
            "[89]\tvalid_0's auc: 0.973119\n",
            "Training until validation scores don't improve for 100 rounds\n",
            "Did not meet early stopping. Best iteration is:\n",
            "[85]\tvalid_0's auc: 0.957135\n",
            "Training until validation scores don't improve for 100 rounds\n"
          ]
        },
        {
          "name": "stderr",
          "output_type": "stream",
          "text": [
            "[I 2025-06-13 19:43:19,234] Trial 7 finished with value: 0.8985820063201316 and parameters: {'learning_rate': 0.18325482736855592, 'num_leaves': 56, 'max_depth': 8, 'feature_fraction': 0.7593593541381676, 'bagging_fraction': 0.9072118415563999, 'bagging_freq': 10, 'min_data_in_leaf': 87, 'lambda_l1': 3.11984041001456, 'lambda_l2': 0.5047600676329311}. Best is trial 1 with value: 0.8950489460291987.\n"
          ]
        },
        {
          "name": "stdout",
          "output_type": "stream",
          "text": [
            "Did not meet early stopping. Best iteration is:\n",
            "[90]\tvalid_0's auc: 0.979596\n",
            "Training until validation scores don't improve for 100 rounds\n",
            "Did not meet early stopping. Best iteration is:\n",
            "[52]\tvalid_0's auc: 0.973254\n",
            "Training until validation scores don't improve for 100 rounds\n",
            "Did not meet early stopping. Best iteration is:\n",
            "[91]\tvalid_0's auc: 0.983636\n",
            "Training until validation scores don't improve for 100 rounds\n",
            "Did not meet early stopping. Best iteration is:\n",
            "[98]\tvalid_0's auc: 0.972987\n",
            "Training until validation scores don't improve for 100 rounds\n",
            "Did not meet early stopping. Best iteration is:\n",
            "[42]\tvalid_0's auc: 0.964502\n",
            "Training until validation scores don't improve for 100 rounds\n"
          ]
        },
        {
          "name": "stderr",
          "output_type": "stream",
          "text": [
            "[I 2025-06-13 19:43:21,143] Trial 8 finished with value: 0.899296995183543 and parameters: {'learning_rate': 0.1970680354475719, 'num_leaves': 35, 'max_depth': 9, 'feature_fraction': 0.7631053690734685, 'bagging_fraction': 0.703178296000438, 'bagging_freq': 6, 'min_data_in_leaf': 140, 'lambda_l1': 2.251821075287781, 'lambda_l2': 1.4162305372245032}. Best is trial 1 with value: 0.8950489460291987.\n"
          ]
        },
        {
          "name": "stdout",
          "output_type": "stream",
          "text": [
            "Did not meet early stopping. Best iteration is:\n",
            "[95]\tvalid_0's auc: 0.983408\n",
            "Training until validation scores don't improve for 100 rounds\n",
            "Did not meet early stopping. Best iteration is:\n",
            "[99]\tvalid_0's auc: 0.975438\n",
            "Training until validation scores don't improve for 100 rounds\n",
            "Did not meet early stopping. Best iteration is:\n",
            "[97]\tvalid_0's auc: 0.982963\n",
            "Training until validation scores don't improve for 100 rounds\n",
            "Did not meet early stopping. Best iteration is:\n",
            "[100]\tvalid_0's auc: 0.97514\n",
            "Training until validation scores don't improve for 100 rounds\n",
            "Did not meet early stopping. Best iteration is:\n",
            "[94]\tvalid_0's auc: 0.960903\n",
            "Training until validation scores don't improve for 100 rounds\n"
          ]
        },
        {
          "name": "stderr",
          "output_type": "stream",
          "text": [
            "[I 2025-06-13 19:43:23,108] Trial 9 finished with value: 0.9217952894239577 and parameters: {'learning_rate': 0.08442922912114925, 'num_leaves': 147, 'max_depth': 5, 'feature_fraction': 0.963167134625463, 'bagging_fraction': 0.8295103477466503, 'bagging_freq': 1, 'min_data_in_leaf': 42, 'lambda_l1': 2.1842906774662803, 'lambda_l2': 3.641277652571746}. Best is trial 1 with value: 0.8950489460291987.\n"
          ]
        },
        {
          "name": "stdout",
          "output_type": "stream",
          "text": [
            "Did not meet early stopping. Best iteration is:\n",
            "[57]\tvalid_0's auc: 0.986403\n",
            "Training until validation scores don't improve for 100 rounds\n",
            "Did not meet early stopping. Best iteration is:\n",
            "[81]\tvalid_0's auc: 0.96329\n",
            "Training until validation scores don't improve for 100 rounds\n",
            "Did not meet early stopping. Best iteration is:\n",
            "[100]\tvalid_0's auc: 0.971146\n",
            "Training until validation scores don't improve for 100 rounds\n",
            "Did not meet early stopping. Best iteration is:\n",
            "[100]\tvalid_0's auc: 0.955246\n",
            "Training until validation scores don't improve for 100 rounds\n",
            "Did not meet early stopping. Best iteration is:\n",
            "[99]\tvalid_0's auc: 0.940499\n",
            "Training until validation scores don't improve for 100 rounds\n"
          ]
        },
        {
          "name": "stderr",
          "output_type": "stream",
          "text": [
            "[I 2025-06-13 19:43:25,010] Trial 10 finished with value: 0.8599115825707424 and parameters: {'learning_rate': 0.012781492304617226, 'num_leaves': 255, 'max_depth': 12, 'feature_fraction': 0.8855595856196412, 'bagging_fraction': 0.6159037120290527, 'bagging_freq': 8, 'min_data_in_leaf': 78, 'lambda_l1': 4.928453810602365, 'lambda_l2': 0.20442728261780557}. Best is trial 10 with value: 0.8599115825707424.\n"
          ]
        },
        {
          "name": "stdout",
          "output_type": "stream",
          "text": [
            "Did not meet early stopping. Best iteration is:\n",
            "[99]\tvalid_0's auc: 0.97994\n",
            "Training until validation scores don't improve for 100 rounds\n",
            "Did not meet early stopping. Best iteration is:\n",
            "[80]\tvalid_0's auc: 0.961837\n",
            "Training until validation scores don't improve for 100 rounds\n",
            "Did not meet early stopping. Best iteration is:\n",
            "[100]\tvalid_0's auc: 0.973288\n",
            "Training until validation scores don't improve for 100 rounds\n",
            "Did not meet early stopping. Best iteration is:\n",
            "[100]\tvalid_0's auc: 0.95546\n",
            "Training until validation scores don't improve for 100 rounds\n",
            "Did not meet early stopping. Best iteration is:\n",
            "[99]\tvalid_0's auc: 0.93647\n",
            "Training until validation scores don't improve for 100 rounds\n"
          ]
        },
        {
          "name": "stderr",
          "output_type": "stream",
          "text": [
            "[I 2025-06-13 19:43:27,796] Trial 11 finished with value: 0.8726708393284979 and parameters: {'learning_rate': 0.014118732876982145, 'num_leaves': 153, 'max_depth': 12, 'feature_fraction': 0.9009292052520028, 'bagging_fraction': 0.6048082572202571, 'bagging_freq': 8, 'min_data_in_leaf': 80, 'lambda_l1': 4.8423198820358655, 'lambda_l2': 0.21108973323340846}. Best is trial 10 with value: 0.8599115825707424.\n"
          ]
        },
        {
          "name": "stdout",
          "output_type": "stream",
          "text": [
            "Did not meet early stopping. Best iteration is:\n",
            "[100]\tvalid_0's auc: 0.97845\n",
            "Training until validation scores don't improve for 100 rounds\n",
            "Did not meet early stopping. Best iteration is:\n",
            "[80]\tvalid_0's auc: 0.962635\n",
            "Training until validation scores don't improve for 100 rounds\n",
            "Did not meet early stopping. Best iteration is:\n",
            "[100]\tvalid_0's auc: 0.976405\n",
            "Training until validation scores don't improve for 100 rounds\n",
            "Did not meet early stopping. Best iteration is:\n",
            "[100]\tvalid_0's auc: 0.963561\n",
            "Training until validation scores don't improve for 100 rounds\n",
            "Did not meet early stopping. Best iteration is:\n",
            "[98]\tvalid_0's auc: 0.942933\n",
            "Training until validation scores don't improve for 100 rounds\n"
          ]
        },
        {
          "name": "stderr",
          "output_type": "stream",
          "text": [
            "[I 2025-06-13 19:43:29,836] Trial 12 finished with value: 0.8954315369580061 and parameters: {'learning_rate': 0.02405242002266, 'num_leaves': 251, 'max_depth': 12, 'feature_fraction': 0.9115971502660507, 'bagging_fraction': 0.6103151324527861, 'bagging_freq': 8, 'min_data_in_leaf': 73, 'lambda_l1': 4.981756250196716, 'lambda_l2': 0.006392573194379025}. Best is trial 10 with value: 0.8599115825707424.\n"
          ]
        },
        {
          "name": "stdout",
          "output_type": "stream",
          "text": [
            "Did not meet early stopping. Best iteration is:\n",
            "[99]\tvalid_0's auc: 0.977367\n",
            "Training until validation scores don't improve for 100 rounds\n",
            "Did not meet early stopping. Best iteration is:\n",
            "[80]\tvalid_0's auc: 0.964261\n",
            "Training until validation scores don't improve for 100 rounds\n",
            "Did not meet early stopping. Best iteration is:\n",
            "[100]\tvalid_0's auc: 0.97403\n",
            "Training until validation scores don't improve for 100 rounds\n",
            "Did not meet early stopping. Best iteration is:\n",
            "[100]\tvalid_0's auc: 0.956973\n",
            "Training until validation scores don't improve for 100 rounds\n",
            "Did not meet early stopping. Best iteration is:\n",
            "[97]\tvalid_0's auc: 0.940682\n",
            "Training until validation scores don't improve for 100 rounds\n"
          ]
        },
        {
          "name": "stderr",
          "output_type": "stream",
          "text": [
            "[I 2025-06-13 19:43:31,908] Trial 13 finished with value: 0.8706117404420635 and parameters: {'learning_rate': 0.014638801691059196, 'num_leaves': 252, 'max_depth': 11, 'feature_fraction': 0.8862756263347131, 'bagging_fraction': 0.614037596119413, 'bagging_freq': 8, 'min_data_in_leaf': 68, 'lambda_l1': 3.9254335791566257, 'lambda_l2': 1.1795300769868855}. Best is trial 10 with value: 0.8599115825707424.\n"
          ]
        },
        {
          "name": "stdout",
          "output_type": "stream",
          "text": [
            "Did not meet early stopping. Best iteration is:\n",
            "[100]\tvalid_0's auc: 0.978159\n",
            "Training until validation scores don't improve for 100 rounds\n",
            "Did not meet early stopping. Best iteration is:\n",
            "[95]\tvalid_0's auc: 0.974071\n",
            "Training until validation scores don't improve for 100 rounds\n",
            "Did not meet early stopping. Best iteration is:\n",
            "[100]\tvalid_0's auc: 0.985153\n",
            "Training until validation scores don't improve for 100 rounds\n",
            "Did not meet early stopping. Best iteration is:\n",
            "[100]\tvalid_0's auc: 0.971237\n",
            "Training until validation scores don't improve for 100 rounds\n",
            "Did not meet early stopping. Best iteration is:\n",
            "[99]\tvalid_0's auc: 0.960137\n",
            "Training until validation scores don't improve for 100 rounds\n"
          ]
        },
        {
          "name": "stderr",
          "output_type": "stream",
          "text": [
            "[I 2025-06-13 19:43:34,276] Trial 14 finished with value: 0.9104630615684941 and parameters: {'learning_rate': 0.046383909390491716, 'num_leaves': 246, 'max_depth': 11, 'feature_fraction': 0.8687187237867982, 'bagging_fraction': 0.662322333984042, 'bagging_freq': 4, 'min_data_in_leaf': 56, 'lambda_l1': 3.843337704766, 'lambda_l2': 1.3194982440375647}. Best is trial 10 with value: 0.8599115825707424.\n"
          ]
        },
        {
          "name": "stdout",
          "output_type": "stream",
          "text": [
            "Did not meet early stopping. Best iteration is:\n",
            "[97]\tvalid_0's auc: 0.983259\n",
            "Training until validation scores don't improve for 100 rounds\n",
            "Did not meet early stopping. Best iteration is:\n",
            "[100]\tvalid_0's auc: 0.969584\n",
            "Training until validation scores don't improve for 100 rounds\n",
            "Did not meet early stopping. Best iteration is:\n",
            "[100]\tvalid_0's auc: 0.984529\n",
            "Training until validation scores don't improve for 100 rounds\n",
            "Did not meet early stopping. Best iteration is:\n",
            "[100]\tvalid_0's auc: 0.966098\n",
            "Training until validation scores don't improve for 100 rounds\n",
            "Did not meet early stopping. Best iteration is:\n",
            "[96]\tvalid_0's auc: 0.958621\n",
            "Training until validation scores don't improve for 100 rounds\n"
          ]
        },
        {
          "name": "stderr",
          "output_type": "stream",
          "text": [
            "[I 2025-06-13 19:43:36,823] Trial 15 finished with value: 0.913403061269363 and parameters: {'learning_rate': 0.05256924208926532, 'num_leaves': 226, 'max_depth': 10, 'feature_fraction': 0.9991936533259319, 'bagging_fraction': 0.7460826326684608, 'bagging_freq': 8, 'min_data_in_leaf': 114, 'lambda_l1': 3.9004113820290915, 'lambda_l2': 2.1911330986631463}. Best is trial 10 with value: 0.8599115825707424.\n"
          ]
        },
        {
          "name": "stdout",
          "output_type": "stream",
          "text": [
            "Did not meet early stopping. Best iteration is:\n",
            "[95]\tvalid_0's auc: 0.97997\n",
            "Training until validation scores don't improve for 100 rounds\n",
            "Did not meet early stopping. Best iteration is:\n",
            "[92]\tvalid_0's auc: 0.97258\n",
            "Training until validation scores don't improve for 100 rounds\n",
            "Did not meet early stopping. Best iteration is:\n",
            "[100]\tvalid_0's auc: 0.98495\n",
            "Training until validation scores don't improve for 100 rounds\n",
            "Did not meet early stopping. Best iteration is:\n",
            "[100]\tvalid_0's auc: 0.966746\n",
            "Training until validation scores don't improve for 100 rounds\n",
            "Did not meet early stopping. Best iteration is:\n",
            "[96]\tvalid_0's auc: 0.95208\n",
            "Training until validation scores don't improve for 100 rounds\n"
          ]
        },
        {
          "name": "stderr",
          "output_type": "stream",
          "text": [
            "[I 2025-06-13 19:43:40,149] Trial 16 finished with value: 0.9057200463342261 and parameters: {'learning_rate': 0.04420982790991642, 'num_leaves': 178, 'max_depth': 11, 'feature_fraction': 0.8351289239801841, 'bagging_fraction': 0.6419190603499652, 'bagging_freq': 2, 'min_data_in_leaf': 10, 'lambda_l1': 4.301280136120823, 'lambda_l2': 0.8368825044422579}. Best is trial 10 with value: 0.8599115825707424.\n"
          ]
        },
        {
          "name": "stdout",
          "output_type": "stream",
          "text": [
            "Did not meet early stopping. Best iteration is:\n",
            "[96]\tvalid_0's auc: 0.982759\n",
            "Training until validation scores don't improve for 100 rounds\n",
            "Did not meet early stopping. Best iteration is:\n",
            "[89]\tvalid_0's auc: 0.96923\n",
            "Training until validation scores don't improve for 100 rounds\n",
            "Did not meet early stopping. Best iteration is:\n",
            "[78]\tvalid_0's auc: 0.983316\n",
            "Training until validation scores don't improve for 100 rounds\n",
            "Did not meet early stopping. Best iteration is:\n",
            "[98]\tvalid_0's auc: 0.971794\n",
            "Training until validation scores don't improve for 100 rounds\n",
            "Did not meet early stopping. Best iteration is:\n",
            "[73]\tvalid_0's auc: 0.964535\n",
            "Training until validation scores don't improve for 100 rounds\n"
          ]
        },
        {
          "name": "stderr",
          "output_type": "stream",
          "text": [
            "[I 2025-06-13 19:43:42,290] Trial 17 finished with value: 0.9071881384090146 and parameters: {'learning_rate': 0.13015394637383954, 'num_leaves': 255, 'max_depth': 11, 'feature_fraction': 0.9433359408043164, 'bagging_fraction': 0.7457495691788563, 'bagging_freq': 9, 'min_data_in_leaf': 196, 'lambda_l1': 3.5375902038144322, 'lambda_l2': 1.7239081211719876}. Best is trial 10 with value: 0.8599115825707424.\n"
          ]
        },
        {
          "name": "stdout",
          "output_type": "stream",
          "text": [
            "Did not meet early stopping. Best iteration is:\n",
            "[61]\tvalid_0's auc: 0.977752\n",
            "Training until validation scores don't improve for 100 rounds\n",
            "Did not meet early stopping. Best iteration is:\n",
            "[100]\tvalid_0's auc: 0.969193\n",
            "Training until validation scores don't improve for 100 rounds\n",
            "Did not meet early stopping. Best iteration is:\n",
            "[98]\tvalid_0's auc: 0.986783\n",
            "Training until validation scores don't improve for 100 rounds\n",
            "Did not meet early stopping. Best iteration is:\n",
            "[100]\tvalid_0's auc: 0.972976\n",
            "Training until validation scores don't improve for 100 rounds\n",
            "Did not meet early stopping. Best iteration is:\n",
            "[97]\tvalid_0's auc: 0.958218\n",
            "Training until validation scores don't improve for 100 rounds\n"
          ]
        },
        {
          "name": "stderr",
          "output_type": "stream",
          "text": [
            "[I 2025-06-13 19:43:44,842] Trial 18 finished with value: 0.904387999483691 and parameters: {'learning_rate': 0.06436146035338805, 'num_leaves': 224, 'max_depth': 10, 'feature_fraction': 0.8510619492014182, 'bagging_fraction': 0.6523825386014858, 'bagging_freq': 7, 'min_data_in_leaf': 63, 'lambda_l1': 1.497802254519729, 'lambda_l2': 0.8010255243288595}. Best is trial 10 with value: 0.8599115825707424.\n"
          ]
        },
        {
          "name": "stdout",
          "output_type": "stream",
          "text": [
            "Did not meet early stopping. Best iteration is:\n",
            "[95]\tvalid_0's auc: 0.984517\n",
            "Training until validation scores don't improve for 100 rounds\n",
            "Did not meet early stopping. Best iteration is:\n",
            "[100]\tvalid_0's auc: 0.96617\n",
            "Training until validation scores don't improve for 100 rounds\n",
            "Did not meet early stopping. Best iteration is:\n",
            "[100]\tvalid_0's auc: 0.9777\n",
            "Training until validation scores don't improve for 100 rounds\n",
            "Did not meet early stopping. Best iteration is:\n",
            "[95]\tvalid_0's auc: 0.960147\n",
            "Training until validation scores don't improve for 100 rounds\n",
            "Did not meet early stopping. Best iteration is:\n",
            "[100]\tvalid_0's auc: 0.950217\n",
            "Training until validation scores don't improve for 100 rounds\n"
          ]
        },
        {
          "name": "stderr",
          "output_type": "stream",
          "text": [
            "[I 2025-06-13 19:43:46,858] Trial 19 finished with value: 0.9062191735177503 and parameters: {'learning_rate': 0.026920646082319147, 'num_leaves': 174, 'max_depth': 5, 'feature_fraction': 0.8908693893774547, 'bagging_fraction': 0.7000187151212358, 'bagging_freq': 4, 'min_data_in_leaf': 106, 'lambda_l1': 3.3255775294715533, 'lambda_l2': 2.8458434191518873}. Best is trial 10 with value: 0.8599115825707424.\n"
          ]
        },
        {
          "name": "stdout",
          "output_type": "stream",
          "text": [
            "Did not meet early stopping. Best iteration is:\n",
            "[99]\tvalid_0's auc: 0.979391\n",
            "Training until validation scores don't improve for 100 rounds\n",
            "Did not meet early stopping. Best iteration is:\n",
            "[90]\tvalid_0's auc: 0.963602\n",
            "Training until validation scores don't improve for 100 rounds\n",
            "Did not meet early stopping. Best iteration is:\n",
            "[100]\tvalid_0's auc: 0.969471\n",
            "Training until validation scores don't improve for 100 rounds\n",
            "Did not meet early stopping. Best iteration is:\n",
            "[100]\tvalid_0's auc: 0.955206\n",
            "Training until validation scores don't improve for 100 rounds\n",
            "Did not meet early stopping. Best iteration is:\n",
            "[64]\tvalid_0's auc: 0.935321\n",
            "Training until validation scores don't improve for 100 rounds\n"
          ]
        },
        {
          "name": "stderr",
          "output_type": "stream",
          "text": [
            "[I 2025-06-13 19:43:49,026] Trial 20 finished with value: 0.7971777077241811 and parameters: {'learning_rate': 0.010512231844894476, 'num_leaves': 110, 'max_depth': 10, 'feature_fraction': 0.8333050286816874, 'bagging_fraction': 0.6030035366684824, 'bagging_freq': 9, 'min_data_in_leaf': 14, 'lambda_l1': 4.40969471787694, 'lambda_l2': 1.862166602572901}. Best is trial 20 with value: 0.7971777077241811.\n"
          ]
        },
        {
          "name": "stdout",
          "output_type": "stream",
          "text": [
            "Did not meet early stopping. Best iteration is:\n",
            "[100]\tvalid_0's auc: 0.976847\n",
            "Training until validation scores don't improve for 100 rounds\n",
            "Did not meet early stopping. Best iteration is:\n",
            "[87]\tvalid_0's auc: 0.963207\n",
            "Training until validation scores don't improve for 100 rounds\n",
            "Did not meet early stopping. Best iteration is:\n",
            "[100]\tvalid_0's auc: 0.972407\n",
            "Training until validation scores don't improve for 100 rounds\n",
            "Did not meet early stopping. Best iteration is:\n",
            "[100]\tvalid_0's auc: 0.953853\n",
            "Training until validation scores don't improve for 100 rounds\n",
            "Did not meet early stopping. Best iteration is:\n",
            "[82]\tvalid_0's auc: 0.937467\n",
            "Training until validation scores don't improve for 100 rounds\n"
          ]
        },
        {
          "name": "stderr",
          "output_type": "stream",
          "text": [
            "[I 2025-06-13 19:43:51,815] Trial 21 finished with value: 0.8236400429596274 and parameters: {'learning_rate': 0.010444067185112557, 'num_leaves': 123, 'max_depth': 10, 'feature_fraction': 0.8080427839316267, 'bagging_fraction': 0.6068318994921337, 'bagging_freq': 9, 'min_data_in_leaf': 11, 'lambda_l1': 4.403255279327871, 'lambda_l2': 1.8769376742921802}. Best is trial 20 with value: 0.7971777077241811.\n"
          ]
        },
        {
          "name": "stdout",
          "output_type": "stream",
          "text": [
            "Did not meet early stopping. Best iteration is:\n",
            "[99]\tvalid_0's auc: 0.97526\n",
            "Training until validation scores don't improve for 100 rounds\n",
            "Did not meet early stopping. Best iteration is:\n",
            "[96]\tvalid_0's auc: 0.969159\n",
            "Training until validation scores don't improve for 100 rounds\n",
            "Did not meet early stopping. Best iteration is:\n",
            "[99]\tvalid_0's auc: 0.982341\n",
            "Training until validation scores don't improve for 100 rounds\n",
            "Did not meet early stopping. Best iteration is:\n",
            "[97]\tvalid_0's auc: 0.960779\n",
            "Training until validation scores don't improve for 100 rounds\n",
            "Did not meet early stopping. Best iteration is:\n",
            "[100]\tvalid_0's auc: 0.949082\n",
            "Training until validation scores don't improve for 100 rounds\n"
          ]
        },
        {
          "name": "stderr",
          "output_type": "stream",
          "text": [
            "[I 2025-06-13 19:43:54,165] Trial 22 finished with value: 0.9016995998662516 and parameters: {'learning_rate': 0.03182553078541836, 'num_leaves': 119, 'max_depth': 10, 'feature_fraction': 0.8498780536942174, 'bagging_fraction': 0.6442928553821383, 'bagging_freq': 9, 'min_data_in_leaf': 17, 'lambda_l1': 4.424170864857082, 'lambda_l2': 4.929196807165365}. Best is trial 20 with value: 0.7971777077241811.\n"
          ]
        },
        {
          "name": "stdout",
          "output_type": "stream",
          "text": [
            "Did not meet early stopping. Best iteration is:\n",
            "[100]\tvalid_0's auc: 0.980272\n",
            "Training until validation scores don't improve for 100 rounds\n",
            "Did not meet early stopping. Best iteration is:\n",
            "[100]\tvalid_0's auc: 0.972964\n",
            "Training until validation scores don't improve for 100 rounds\n",
            "Did not meet early stopping. Best iteration is:\n",
            "[100]\tvalid_0's auc: 0.984423\n",
            "Training until validation scores don't improve for 100 rounds\n",
            "Did not meet early stopping. Best iteration is:\n",
            "[100]\tvalid_0's auc: 0.972701\n",
            "Training until validation scores don't improve for 100 rounds\n",
            "Did not meet early stopping. Best iteration is:\n",
            "[93]\tvalid_0's auc: 0.958689\n",
            "Training until validation scores don't improve for 100 rounds\n"
          ]
        },
        {
          "name": "stderr",
          "output_type": "stream",
          "text": [
            "[I 2025-06-13 19:43:56,661] Trial 23 finished with value: 0.9119935055617084 and parameters: {'learning_rate': 0.0665817455442933, 'num_leaves': 121, 'max_depth': 8, 'feature_fraction': 0.8041665329764432, 'bagging_fraction': 0.677275671313585, 'bagging_freq': 9, 'min_data_in_leaf': 28, 'lambda_l1': 4.622355414101554, 'lambda_l2': 1.8666601236254405}. Best is trial 20 with value: 0.7971777077241811.\n"
          ]
        },
        {
          "name": "stdout",
          "output_type": "stream",
          "text": [
            "Did not meet early stopping. Best iteration is:\n",
            "[72]\tvalid_0's auc: 0.985044\n",
            "Training until validation scores don't improve for 100 rounds\n",
            "Did not meet early stopping. Best iteration is:\n",
            "[100]\tvalid_0's auc: 0.962978\n",
            "Training until validation scores don't improve for 100 rounds\n",
            "Did not meet early stopping. Best iteration is:\n",
            "[100]\tvalid_0's auc: 0.971937\n",
            "Training until validation scores don't improve for 100 rounds\n",
            "Did not meet early stopping. Best iteration is:\n",
            "[100]\tvalid_0's auc: 0.953586\n",
            "Training until validation scores don't improve for 100 rounds\n",
            "Did not meet early stopping. Best iteration is:\n",
            "[100]\tvalid_0's auc: 0.93933\n",
            "Training until validation scores don't improve for 100 rounds\n"
          ]
        },
        {
          "name": "stderr",
          "output_type": "stream",
          "text": [
            "[I 2025-06-13 19:43:58,716] Trial 24 finished with value: 0.8421456696831428 and parameters: {'learning_rate': 0.010985420367668653, 'num_leaves': 98, 'max_depth': 10, 'feature_fraction': 0.7066037463477064, 'bagging_fraction': 0.6149844563464804, 'bagging_freq': 7, 'min_data_in_leaf': 46, 'lambda_l1': 4.214941877347838, 'lambda_l2': 2.711751910181346}. Best is trial 20 with value: 0.7971777077241811.\n"
          ]
        },
        {
          "name": "stdout",
          "output_type": "stream",
          "text": [
            "Did not meet early stopping. Best iteration is:\n",
            "[100]\tvalid_0's auc: 0.979406\n",
            "Training until validation scores don't improve for 100 rounds\n",
            "Did not meet early stopping. Best iteration is:\n",
            "[99]\tvalid_0's auc: 0.97077\n",
            "Training until validation scores don't improve for 100 rounds\n",
            "Did not meet early stopping. Best iteration is:\n",
            "[100]\tvalid_0's auc: 0.984111\n",
            "Training until validation scores don't improve for 100 rounds\n",
            "Did not meet early stopping. Best iteration is:\n",
            "[100]\tvalid_0's auc: 0.967548\n",
            "Training until validation scores don't improve for 100 rounds\n",
            "Did not meet early stopping. Best iteration is:\n",
            "[84]\tvalid_0's auc: 0.952204\n",
            "Training until validation scores don't improve for 100 rounds\n"
          ]
        },
        {
          "name": "stderr",
          "output_type": "stream",
          "text": [
            "[I 2025-06-13 19:44:01,261] Trial 25 finished with value: 0.9112325866308717 and parameters: {'learning_rate': 0.037003326962018974, 'num_leaves': 94, 'max_depth': 10, 'feature_fraction': 0.7066536032341866, 'bagging_fraction': 0.7221055078039375, 'bagging_freq': 7, 'min_data_in_leaf': 45, 'lambda_l1': 4.176859122169715, 'lambda_l2': 2.778458691722168}. Best is trial 20 with value: 0.7971777077241811.\n"
          ]
        },
        {
          "name": "stdout",
          "output_type": "stream",
          "text": [
            "Did not meet early stopping. Best iteration is:\n",
            "[100]\tvalid_0's auc: 0.983307\n",
            "Training until validation scores don't improve for 100 rounds\n",
            "Did not meet early stopping. Best iteration is:\n",
            "[100]\tvalid_0's auc: 0.973273\n",
            "Training until validation scores don't improve for 100 rounds\n",
            "Did not meet early stopping. Best iteration is:\n",
            "[100]\tvalid_0's auc: 0.987544\n",
            "Training until validation scores don't improve for 100 rounds\n",
            "Did not meet early stopping. Best iteration is:\n",
            "[100]\tvalid_0's auc: 0.967612\n",
            "Training until validation scores don't improve for 100 rounds\n",
            "Did not meet early stopping. Best iteration is:\n",
            "[100]\tvalid_0's auc: 0.954698\n",
            "Training until validation scores don't improve for 100 rounds\n"
          ]
        },
        {
          "name": "stderr",
          "output_type": "stream",
          "text": [
            "[I 2025-06-13 19:44:04,132] Trial 26 finished with value: 0.9101283493877075 and parameters: {'learning_rate': 0.06255903298618941, 'num_leaves': 101, 'max_depth': 9, 'feature_fraction': 0.6780479238406175, 'bagging_fraction': 0.6352469256138323, 'bagging_freq': 7, 'min_data_in_leaf': 23, 'lambda_l1': 3.4831213325615673, 'lambda_l2': 2.684182975561116}. Best is trial 20 with value: 0.7971777077241811.\n"
          ]
        },
        {
          "name": "stdout",
          "output_type": "stream",
          "text": [
            "Did not meet early stopping. Best iteration is:\n",
            "[92]\tvalid_0's auc: 0.98613\n",
            "Training until validation scores don't improve for 100 rounds\n",
            "Did not meet early stopping. Best iteration is:\n",
            "[90]\tvalid_0's auc: 0.968733\n",
            "Training until validation scores don't improve for 100 rounds\n",
            "Did not meet early stopping. Best iteration is:\n",
            "[99]\tvalid_0's auc: 0.979337\n",
            "Training until validation scores don't improve for 100 rounds\n",
            "Did not meet early stopping. Best iteration is:\n",
            "[100]\tvalid_0's auc: 0.962707\n",
            "Training until validation scores don't improve for 100 rounds\n",
            "Did not meet early stopping. Best iteration is:\n",
            "[100]\tvalid_0's auc: 0.949668\n",
            "Training until validation scores don't improve for 100 rounds\n"
          ]
        },
        {
          "name": "stderr",
          "output_type": "stream",
          "text": [
            "[I 2025-06-13 19:44:06,466] Trial 27 finished with value: 0.9014395358383196 and parameters: {'learning_rate': 0.02609048185805167, 'num_leaves': 138, 'max_depth': 6, 'feature_fraction': 0.8214096484988804, 'bagging_fraction': 0.7747485024267707, 'bagging_freq': 9, 'min_data_in_leaf': 10, 'lambda_l1': 2.8830951568664345, 'lambda_l2': 2.2373042115673147}. Best is trial 20 with value: 0.7971777077241811.\n"
          ]
        },
        {
          "name": "stdout",
          "output_type": "stream",
          "text": [
            "Did not meet early stopping. Best iteration is:\n",
            "[98]\tvalid_0's auc: 0.980037\n",
            "Training until validation scores don't improve for 100 rounds\n",
            "Did not meet early stopping. Best iteration is:\n",
            "[89]\tvalid_0's auc: 0.972396\n",
            "Training until validation scores don't improve for 100 rounds\n",
            "Did not meet early stopping. Best iteration is:\n",
            "[90]\tvalid_0's auc: 0.986798\n",
            "Training until validation scores don't improve for 100 rounds\n",
            "Did not meet early stopping. Best iteration is:\n",
            "[100]\tvalid_0's auc: 0.969245\n",
            "Training until validation scores don't improve for 100 rounds\n",
            "Did not meet early stopping. Best iteration is:\n",
            "[100]\tvalid_0's auc: 0.960869\n",
            "Training until validation scores don't improve for 100 rounds\n"
          ]
        },
        {
          "name": "stderr",
          "output_type": "stream",
          "text": [
            "[I 2025-06-13 19:44:08,613] Trial 28 finished with value: 0.9034185303955313 and parameters: {'learning_rate': 0.11247320777550548, 'num_leaves': 67, 'max_depth': 8, 'feature_fraction': 0.6648645896734537, 'bagging_fraction': 0.6765428987267026, 'bagging_freq': 10, 'min_data_in_leaf': 36, 'lambda_l1': 4.329025007946093, 'lambda_l2': 3.0302505893941047}. Best is trial 20 with value: 0.7971777077241811.\n"
          ]
        },
        {
          "name": "stdout",
          "output_type": "stream",
          "text": [
            "Did not meet early stopping. Best iteration is:\n",
            "[80]\tvalid_0's auc: 0.982673\n",
            "Training until validation scores don't improve for 100 rounds\n",
            "Did not meet early stopping. Best iteration is:\n",
            "[100]\tvalid_0's auc: 0.970491\n",
            "Training until validation scores don't improve for 100 rounds\n",
            "Did not meet early stopping. Best iteration is:\n",
            "[63]\tvalid_0's auc: 0.986034\n",
            "Training until validation scores don't improve for 100 rounds\n",
            "Did not meet early stopping. Best iteration is:\n",
            "[90]\tvalid_0's auc: 0.974357\n",
            "Training until validation scores don't improve for 100 rounds\n",
            "Did not meet early stopping. Best iteration is:\n",
            "[83]\tvalid_0's auc: 0.963942\n",
            "Training until validation scores don't improve for 100 rounds\n"
          ]
        },
        {
          "name": "stderr",
          "output_type": "stream",
          "text": [
            "[I 2025-06-13 19:44:10,944] Trial 29 finished with value: 0.8988659559996315 and parameters: {'learning_rate': 0.154803202466167, 'num_leaves': 23, 'max_depth': 10, 'feature_fraction': 0.7867474291084018, 'bagging_fraction': 0.7797964229660962, 'bagging_freq': 7, 'min_data_in_leaf': 28, 'lambda_l1': 1.839394071464312, 'lambda_l2': 1.8245827428129848}. Best is trial 20 with value: 0.7971777077241811.\n"
          ]
        },
        {
          "name": "stdout",
          "output_type": "stream",
          "text": [
            "Did not meet early stopping. Best iteration is:\n",
            "[100]\tvalid_0's auc: 0.980925\n",
            "Training until validation scores don't improve for 100 rounds\n",
            "Did not meet early stopping. Best iteration is:\n",
            "[86]\tvalid_0's auc: 0.965978\n",
            "Training until validation scores don't improve for 100 rounds\n",
            "Did not meet early stopping. Best iteration is:\n",
            "[94]\tvalid_0's auc: 0.972708\n",
            "Training until validation scores don't improve for 100 rounds\n",
            "Did not meet early stopping. Best iteration is:\n",
            "[76]\tvalid_0's auc: 0.954651\n",
            "Training until validation scores don't improve for 100 rounds\n",
            "Did not meet early stopping. Best iteration is:\n",
            "[66]\tvalid_0's auc: 0.942985\n",
            "Training until validation scores don't improve for 100 rounds\n"
          ]
        },
        {
          "name": "stderr",
          "output_type": "stream",
          "text": [
            "[I 2025-06-13 19:44:12,947] Trial 30 finished with value: 0.8002781640007981 and parameters: {'learning_rate': 0.011044108312132303, 'num_leaves': 158, 'max_depth': 9, 'feature_fraction': 0.7047532602685165, 'bagging_fraction': 0.6376388595364157, 'bagging_freq': 10, 'min_data_in_leaf': 51, 'lambda_l1': 2.942373208745009, 'lambda_l2': 1.559991313347291}. Best is trial 20 with value: 0.7971777077241811.\n"
          ]
        },
        {
          "name": "stdout",
          "output_type": "stream",
          "text": [
            "Did not meet early stopping. Best iteration is:\n",
            "[100]\tvalid_0's auc: 0.979951\n",
            "Training until validation scores don't improve for 100 rounds\n",
            "Did not meet early stopping. Best iteration is:\n",
            "[95]\tvalid_0's auc: 0.968218\n",
            "Training until validation scores don't improve for 100 rounds\n",
            "Did not meet early stopping. Best iteration is:\n",
            "[96]\tvalid_0's auc: 0.974128\n",
            "Training until validation scores don't improve for 100 rounds\n",
            "Did not meet early stopping. Best iteration is:\n",
            "[100]\tvalid_0's auc: 0.954359\n",
            "Training until validation scores don't improve for 100 rounds\n",
            "Did not meet early stopping. Best iteration is:\n",
            "[93]\tvalid_0's auc: 0.938371\n",
            "Training until validation scores don't improve for 100 rounds\n"
          ]
        },
        {
          "name": "stderr",
          "output_type": "stream",
          "text": [
            "[I 2025-06-13 19:44:15,552] Trial 31 finished with value: 0.8259887538780543 and parameters: {'learning_rate': 0.011657602388801352, 'num_leaves': 156, 'max_depth': 9, 'feature_fraction': 0.7170504870122698, 'bagging_fraction': 0.6014031057824021, 'bagging_freq': 10, 'min_data_in_leaf': 56, 'lambda_l1': 2.9744197143389863, 'lambda_l2': 1.6654140067233396}. Best is trial 20 with value: 0.7971777077241811.\n"
          ]
        },
        {
          "name": "stdout",
          "output_type": "stream",
          "text": [
            "Did not meet early stopping. Best iteration is:\n",
            "[70]\tvalid_0's auc: 0.978723\n",
            "Training until validation scores don't improve for 100 rounds\n",
            "Did not meet early stopping. Best iteration is:\n",
            "[89]\tvalid_0's auc: 0.970435\n",
            "Training until validation scores don't improve for 100 rounds\n",
            "Did not meet early stopping. Best iteration is:\n",
            "[90]\tvalid_0's auc: 0.983211\n",
            "Training until validation scores don't improve for 100 rounds\n",
            "Did not meet early stopping. Best iteration is:\n",
            "[80]\tvalid_0's auc: 0.966535\n",
            "Training until validation scores don't improve for 100 rounds\n",
            "Did not meet early stopping. Best iteration is:\n",
            "[100]\tvalid_0's auc: 0.955011\n",
            "Training until validation scores don't improve for 100 rounds\n"
          ]
        },
        {
          "name": "stderr",
          "output_type": "stream",
          "text": [
            "[I 2025-06-13 19:44:17,810] Trial 32 finished with value: 0.9096123094516255 and parameters: {'learning_rate': 0.04087699139802178, 'num_leaves': 161, 'max_depth': 9, 'feature_fraction': 0.6261823061746773, 'bagging_fraction': 0.6339448488878188, 'bagging_freq': 10, 'min_data_in_leaf': 56, 'lambda_l1': 2.8359036297474125, 'lambda_l2': 1.6345138323072872}. Best is trial 20 with value: 0.7971777077241811.\n"
          ]
        },
        {
          "name": "stdout",
          "output_type": "stream",
          "text": [
            "Did not meet early stopping. Best iteration is:\n",
            "[98]\tvalid_0's auc: 0.981851\n",
            "Training until validation scores don't improve for 100 rounds\n",
            "Did not meet early stopping. Best iteration is:\n",
            "[90]\tvalid_0's auc: 0.969509\n",
            "Training until validation scores don't improve for 100 rounds\n",
            "Did not meet early stopping. Best iteration is:\n",
            "[100]\tvalid_0's auc: 0.980745\n",
            "Training until validation scores don't improve for 100 rounds\n",
            "Did not meet early stopping. Best iteration is:\n",
            "[70]\tvalid_0's auc: 0.964758\n",
            "Training until validation scores don't improve for 100 rounds\n",
            "Did not meet early stopping. Best iteration is:\n",
            "[96]\tvalid_0's auc: 0.944852\n",
            "Training until validation scores don't improve for 100 rounds\n"
          ]
        },
        {
          "name": "stderr",
          "output_type": "stream",
          "text": [
            "[I 2025-06-13 19:44:20,498] Trial 33 finished with value: 0.8996139241044127 and parameters: {'learning_rate': 0.025758742157073595, 'num_leaves': 133, 'max_depth': 7, 'feature_fraction': 0.680457918188142, 'bagging_fraction': 0.6010913628126177, 'bagging_freq': 9, 'min_data_in_leaf': 22, 'lambda_l1': 3.1959583423354987, 'lambda_l2': 2.0646895820860216}. Best is trial 20 with value: 0.7971777077241811.\n"
          ]
        },
        {
          "name": "stdout",
          "output_type": "stream",
          "text": [
            "Did not meet early stopping. Best iteration is:\n",
            "[100]\tvalid_0's auc: 0.982419\n",
            "Training until validation scores don't improve for 100 rounds\n",
            "Did not meet early stopping. Best iteration is:\n",
            "[100]\tvalid_0's auc: 0.966765\n",
            "Training until validation scores don't improve for 100 rounds\n",
            "Did not meet early stopping. Best iteration is:\n",
            "[100]\tvalid_0's auc: 0.978976\n",
            "Training until validation scores don't improve for 100 rounds\n",
            "Did not meet early stopping. Best iteration is:\n",
            "[100]\tvalid_0's auc: 0.958603\n",
            "Training until validation scores don't improve for 100 rounds\n",
            "Did not meet early stopping. Best iteration is:\n",
            "[100]\tvalid_0's auc: 0.948911\n",
            "Training until validation scores don't improve for 100 rounds\n"
          ]
        },
        {
          "name": "stderr",
          "output_type": "stream",
          "text": [
            "[I 2025-06-13 19:44:23,157] Trial 34 finished with value: 0.8989551503067092 and parameters: {'learning_rate': 0.021287678149399164, 'num_leaves': 164, 'max_depth': 8, 'feature_fraction': 0.7206421776678102, 'bagging_fraction': 0.6585493752182471, 'bagging_freq': 10, 'min_data_in_leaf': 93, 'lambda_l1': 3.6645819225560117, 'lambda_l2': 1.4826569190325514}. Best is trial 20 with value: 0.7971777077241811.\n"
          ]
        },
        {
          "name": "stdout",
          "output_type": "stream",
          "text": [
            "Did not meet early stopping. Best iteration is:\n",
            "[66]\tvalid_0's auc: 0.978917\n",
            "Training until validation scores don't improve for 100 rounds\n",
            "Did not meet early stopping. Best iteration is:\n",
            "[98]\tvalid_0's auc: 0.967021\n",
            "Training until validation scores don't improve for 100 rounds\n",
            "Did not meet early stopping. Best iteration is:\n",
            "[100]\tvalid_0's auc: 0.983512\n",
            "Training until validation scores don't improve for 100 rounds\n",
            "Did not meet early stopping. Best iteration is:\n",
            "[79]\tvalid_0's auc: 0.968692\n",
            "Training until validation scores don't improve for 100 rounds\n",
            "Did not meet early stopping. Best iteration is:\n",
            "[100]\tvalid_0's auc: 0.956415\n",
            "Training until validation scores don't improve for 100 rounds\n"
          ]
        },
        {
          "name": "stderr",
          "output_type": "stream",
          "text": [
            "[I 2025-06-13 19:44:26,747] Trial 35 finished with value: 0.9107153380276671 and parameters: {'learning_rate': 0.0533691589225937, 'num_leaves': 199, 'max_depth': 7, 'feature_fraction': 0.7809737114105901, 'bagging_fraction': 0.67839165734343, 'bagging_freq': 10, 'min_data_in_leaf': 57, 'lambda_l1': 2.6479730832035306, 'lambda_l2': 0.9351509526056009}. Best is trial 20 with value: 0.7971777077241811.\n"
          ]
        },
        {
          "name": "stdout",
          "output_type": "stream",
          "text": [
            "Did not meet early stopping. Best iteration is:\n",
            "[75]\tvalid_0's auc: 0.98122\n",
            "Training until validation scores don't improve for 100 rounds\n",
            "Did not meet early stopping. Best iteration is:\n",
            "[65]\tvalid_0's auc: 0.968997\n",
            "Training until validation scores don't improve for 100 rounds\n",
            "Did not meet early stopping. Best iteration is:\n",
            "[100]\tvalid_0's auc: 0.982842\n",
            "Training until validation scores don't improve for 100 rounds\n",
            "Did not meet early stopping. Best iteration is:\n",
            "[100]\tvalid_0's auc: 0.966554\n",
            "Training until validation scores don't improve for 100 rounds\n",
            "Did not meet early stopping. Best iteration is:\n",
            "[100]\tvalid_0's auc: 0.951812\n",
            "Training until validation scores don't improve for 100 rounds\n"
          ]
        },
        {
          "name": "stderr",
          "output_type": "stream",
          "text": [
            "[I 2025-06-13 19:44:29,662] Trial 36 finished with value: 0.900700362093902 and parameters: {'learning_rate': 0.03425281072373171, 'num_leaves': 135, 'max_depth': 9, 'feature_fraction': 0.7364905613553397, 'bagging_fraction': 0.6351651567461015, 'bagging_freq': 9, 'min_data_in_leaf': 33, 'lambda_l1': 1.4062790291297609, 'lambda_l2': 2.514666763566183}. Best is trial 20 with value: 0.7971777077241811.\n"
          ]
        },
        {
          "name": "stdout",
          "output_type": "stream",
          "text": [
            "Did not meet early stopping. Best iteration is:\n",
            "[99]\tvalid_0's auc: 0.980489\n",
            "Training until validation scores don't improve for 100 rounds\n",
            "Did not meet early stopping. Best iteration is:\n",
            "[54]\tvalid_0's auc: 0.969753\n",
            "Training until validation scores don't improve for 100 rounds\n",
            "Did not meet early stopping. Best iteration is:\n",
            "[99]\tvalid_0's auc: 0.981803\n",
            "Training until validation scores don't improve for 100 rounds\n",
            "Did not meet early stopping. Best iteration is:\n",
            "[50]\tvalid_0's auc: 0.971959\n",
            "Training until validation scores don't improve for 100 rounds\n",
            "Did not meet early stopping. Best iteration is:\n",
            "[92]\tvalid_0's auc: 0.962956\n",
            "Training until validation scores don't improve for 100 rounds\n"
          ]
        },
        {
          "name": "stderr",
          "output_type": "stream",
          "text": [
            "[I 2025-06-13 19:44:32,182] Trial 37 finished with value: 0.8931196797758449 and parameters: {'learning_rate': 0.1389328863073554, 'num_leaves': 109, 'max_depth': 11, 'feature_fraction': 0.8167291566577085, 'bagging_fraction': 0.6308539961810621, 'bagging_freq': 9, 'min_data_in_leaf': 17, 'lambda_l1': 2.287081411937064, 'lambda_l2': 1.9757607064834086}. Best is trial 20 with value: 0.7971777077241811.\n"
          ]
        },
        {
          "name": "stdout",
          "output_type": "stream",
          "text": [
            "Did not meet early stopping. Best iteration is:\n",
            "[92]\tvalid_0's auc: 0.982008\n",
            "Training until validation scores don't improve for 100 rounds\n",
            "Did not meet early stopping. Best iteration is:\n",
            "[100]\tvalid_0's auc: 0.970759\n",
            "Training until validation scores don't improve for 100 rounds\n",
            "Did not meet early stopping. Best iteration is:\n",
            "[100]\tvalid_0's auc: 0.980542\n",
            "Training until validation scores don't improve for 100 rounds\n",
            "Did not meet early stopping. Best iteration is:\n",
            "[100]\tvalid_0's auc: 0.962515\n",
            "Training until validation scores don't improve for 100 rounds\n",
            "Did not meet early stopping. Best iteration is:\n",
            "[100]\tvalid_0's auc: 0.954455\n",
            "Training until validation scores don't improve for 100 rounds\n"
          ]
        },
        {
          "name": "stderr",
          "output_type": "stream",
          "text": [
            "[I 2025-06-13 19:44:34,787] Trial 38 finished with value: 0.8821797053698491 and parameters: {'learning_rate': 0.019336129023284437, 'num_leaves': 76, 'max_depth': 8, 'feature_fraction': 0.6587912367778984, 'bagging_fraction': 0.7178025619701515, 'bagging_freq': 10, 'min_data_in_leaf': 38, 'lambda_l1': 0.430725218466816, 'lambda_l2': 1.0985166102341313}. Best is trial 20 with value: 0.7971777077241811.\n"
          ]
        },
        {
          "name": "stdout",
          "output_type": "stream",
          "text": [
            "Did not meet early stopping. Best iteration is:\n",
            "[74]\tvalid_0's auc: 0.982329\n",
            "Training until validation scores don't improve for 100 rounds\n",
            "Did not meet early stopping. Best iteration is:\n",
            "[87]\tvalid_0's auc: 0.970518\n",
            "Training until validation scores don't improve for 100 rounds\n",
            "Did not meet early stopping. Best iteration is:\n",
            "[100]\tvalid_0's auc: 0.979955\n",
            "Training until validation scores don't improve for 100 rounds\n",
            "Did not meet early stopping. Best iteration is:\n",
            "[100]\tvalid_0's auc: 0.965592\n",
            "Training until validation scores don't improve for 100 rounds\n",
            "Did not meet early stopping. Best iteration is:\n",
            "[99]\tvalid_0's auc: 0.947581\n",
            "Training until validation scores don't improve for 100 rounds\n"
          ]
        },
        {
          "name": "stderr",
          "output_type": "stream",
          "text": [
            "[I 2025-06-13 19:44:36,192] Trial 39 finished with value: 0.9122517929614047 and parameters: {'learning_rate': 0.05346446568135217, 'num_leaves': 124, 'max_depth': 3, 'feature_fraction': 0.7815603638461143, 'bagging_fraction': 0.9780056040837488, 'bagging_freq': 10, 'min_data_in_leaf': 51, 'lambda_l1': 3.1118616704753306, 'lambda_l2': 1.476330122057037}. Best is trial 20 with value: 0.7971777077241811.\n"
          ]
        },
        {
          "name": "stdout",
          "output_type": "stream",
          "text": [
            "Did not meet early stopping. Best iteration is:\n",
            "[99]\tvalid_0's auc: 0.981519\n",
            "Training until validation scores don't improve for 100 rounds\n",
            "Did not meet early stopping. Best iteration is:\n",
            "[63]\tvalid_0's auc: 0.971914\n",
            "Training until validation scores don't improve for 100 rounds\n",
            "Did not meet early stopping. Best iteration is:\n",
            "[100]\tvalid_0's auc: 0.982183\n",
            "Training until validation scores don't improve for 100 rounds\n",
            "Did not meet early stopping. Best iteration is:\n",
            "[100]\tvalid_0's auc: 0.9637\n",
            "Training until validation scores don't improve for 100 rounds\n",
            "Did not meet early stopping. Best iteration is:\n",
            "[100]\tvalid_0's auc: 0.954096\n",
            "Training until validation scores don't improve for 100 rounds\n"
          ]
        },
        {
          "name": "stderr",
          "output_type": "stream",
          "text": [
            "[I 2025-06-13 19:44:38,760] Trial 40 finished with value: 0.9166719643670989 and parameters: {'learning_rate': 0.03833327252671952, 'num_leaves': 195, 'max_depth': 9, 'feature_fraction': 0.6088400657464836, 'bagging_fraction': 0.8635048280491883, 'bagging_freq': 9, 'min_data_in_leaf': 127, 'lambda_l1': 4.0306777394834885, 'lambda_l2': 2.407505660434381}. Best is trial 20 with value: 0.7971777077241811.\n"
          ]
        },
        {
          "name": "stdout",
          "output_type": "stream",
          "text": [
            "Did not meet early stopping. Best iteration is:\n",
            "[100]\tvalid_0's auc: 0.982807\n",
            "Training until validation scores don't improve for 100 rounds\n",
            "Did not meet early stopping. Best iteration is:\n",
            "[100]\tvalid_0's auc: 0.964457\n",
            "Training until validation scores don't improve for 100 rounds\n",
            "Did not meet early stopping. Best iteration is:\n",
            "[79]\tvalid_0's auc: 0.971526\n",
            "Training until validation scores don't improve for 100 rounds\n",
            "Did not meet early stopping. Best iteration is:\n",
            "[100]\tvalid_0's auc: 0.955167\n",
            "Training until validation scores don't improve for 100 rounds\n",
            "Did not meet early stopping. Best iteration is:\n",
            "[70]\tvalid_0's auc: 0.936855\n",
            "Training until validation scores don't improve for 100 rounds\n"
          ]
        },
        {
          "name": "stderr",
          "output_type": "stream",
          "text": [
            "[I 2025-06-13 19:44:41,003] Trial 41 finished with value: 0.8219741637817538 and parameters: {'learning_rate': 0.011763005849441741, 'num_leaves': 91, 'max_depth': 10, 'feature_fraction': 0.7011885575113523, 'bagging_fraction': 0.6164843253021682, 'bagging_freq': 10, 'min_data_in_leaf': 31, 'lambda_l1': 4.5813890512212465, 'lambda_l2': 3.317781274131673}. Best is trial 20 with value: 0.7971777077241811.\n"
          ]
        },
        {
          "name": "stdout",
          "output_type": "stream",
          "text": [
            "Did not meet early stopping. Best iteration is:\n",
            "[99]\tvalid_0's auc: 0.97839\n",
            "Training until validation scores don't improve for 100 rounds\n",
            "Did not meet early stopping. Best iteration is:\n",
            "[100]\tvalid_0's auc: 0.96364\n",
            "Training until validation scores don't improve for 100 rounds\n",
            "Did not meet early stopping. Best iteration is:\n",
            "[95]\tvalid_0's auc: 0.970988\n",
            "Training until validation scores don't improve for 100 rounds\n",
            "Did not meet early stopping. Best iteration is:\n",
            "[100]\tvalid_0's auc: 0.952652\n",
            "Training until validation scores don't improve for 100 rounds\n",
            "Did not meet early stopping. Best iteration is:\n",
            "[100]\tvalid_0's auc: 0.93466\n",
            "Training until validation scores don't improve for 100 rounds\n"
          ]
        },
        {
          "name": "stderr",
          "output_type": "stream",
          "text": [
            "[I 2025-06-13 19:44:42,982] Trial 42 finished with value: 0.8283508225217286 and parameters: {'learning_rate': 0.010506270570941119, 'num_leaves': 82, 'max_depth': 10, 'feature_fraction': 0.7335173451748798, 'bagging_fraction': 0.6217639742813332, 'bagging_freq': 10, 'min_data_in_leaf': 32, 'lambda_l1': 4.529954851636723, 'lambda_l2': 3.4745273267417027}. Best is trial 20 with value: 0.7971777077241811.\n"
          ]
        },
        {
          "name": "stdout",
          "output_type": "stream",
          "text": [
            "Did not meet early stopping. Best iteration is:\n",
            "[100]\tvalid_0's auc: 0.977039\n",
            "Training until validation scores don't improve for 100 rounds\n",
            "Did not meet early stopping. Best iteration is:\n",
            "[100]\tvalid_0's auc: 0.968775\n",
            "Training until validation scores don't improve for 100 rounds\n",
            "Did not meet early stopping. Best iteration is:\n",
            "[100]\tvalid_0's auc: 0.978133\n",
            "Training until validation scores don't improve for 100 rounds\n",
            "Did not meet early stopping. Best iteration is:\n",
            "[94]\tvalid_0's auc: 0.962308\n",
            "Training until validation scores don't improve for 100 rounds\n",
            "Did not meet early stopping. Best iteration is:\n",
            "[62]\tvalid_0's auc: 0.939028\n",
            "Training until validation scores don't improve for 100 rounds\n"
          ]
        },
        {
          "name": "stderr",
          "output_type": "stream",
          "text": [
            "[I 2025-06-13 19:44:45,376] Trial 43 finished with value: 0.8823036253860718 and parameters: {'learning_rate': 0.0196508072578577, 'num_leaves': 48, 'max_depth': 9, 'feature_fraction': 0.6964562097782904, 'bagging_fraction': 0.6676970734731719, 'bagging_freq': 9, 'min_data_in_leaf': 20, 'lambda_l1': 4.701359998404041, 'lambda_l2': 3.892597029245264}. Best is trial 20 with value: 0.7971777077241811.\n"
          ]
        },
        {
          "name": "stdout",
          "output_type": "stream",
          "text": [
            "Did not meet early stopping. Best iteration is:\n",
            "[100]\tvalid_0's auc: 0.978585\n",
            "Training until validation scores don't improve for 100 rounds\n",
            "Did not meet early stopping. Best iteration is:\n",
            "[100]\tvalid_0's auc: 0.971733\n",
            "Training until validation scores don't improve for 100 rounds\n",
            "Did not meet early stopping. Best iteration is:\n",
            "[84]\tvalid_0's auc: 0.986904\n",
            "Training until validation scores don't improve for 100 rounds\n",
            "Did not meet early stopping. Best iteration is:\n",
            "[100]\tvalid_0's auc: 0.971086\n",
            "Training until validation scores don't improve for 100 rounds\n",
            "Did not meet early stopping. Best iteration is:\n",
            "[97]\tvalid_0's auc: 0.959376\n",
            "Training until validation scores don't improve for 100 rounds\n"
          ]
        },
        {
          "name": "stderr",
          "output_type": "stream",
          "text": [
            "[I 2025-06-13 19:44:47,968] Trial 44 finished with value: 0.905889859665961 and parameters: {'learning_rate': 0.0740908706142515, 'num_leaves': 144, 'max_depth': 11, 'feature_fraction': 0.6384108565105262, 'bagging_fraction': 0.6070254149465073, 'bagging_freq': 10, 'min_data_in_leaf': 10, 'lambda_l1': 3.648575962888265, 'lambda_l2': 3.2525721103959264}. Best is trial 20 with value: 0.7971777077241811.\n"
          ]
        },
        {
          "name": "stdout",
          "output_type": "stream",
          "text": [
            "Did not meet early stopping. Best iteration is:\n",
            "[83]\tvalid_0's auc: 0.982318\n",
            "Training until validation scores don't improve for 100 rounds\n",
            "Did not meet early stopping. Best iteration is:\n",
            "[99]\tvalid_0's auc: 0.962006\n",
            "Training until validation scores don't improve for 100 rounds\n",
            "Did not meet early stopping. Best iteration is:\n",
            "[100]\tvalid_0's auc: 0.97275\n",
            "Training until validation scores don't improve for 100 rounds\n",
            "Did not meet early stopping. Best iteration is:\n",
            "[100]\tvalid_0's auc: 0.948931\n",
            "Training until validation scores don't improve for 100 rounds\n",
            "Did not meet early stopping. Best iteration is:\n",
            "[100]\tvalid_0's auc: 0.941664\n",
            "Training until validation scores don't improve for 100 rounds\n"
          ]
        },
        {
          "name": "stderr",
          "output_type": "stream",
          "text": [
            "[I 2025-06-13 19:44:49,945] Trial 45 finished with value: 0.8314247292725485 and parameters: {'learning_rate': 0.010066131642865732, 'num_leaves': 107, 'max_depth': 10, 'feature_fraction': 0.7446345631922071, 'bagging_fraction': 0.6495446581815933, 'bagging_freq': 5, 'min_data_in_leaf': 63, 'lambda_l1': 4.738753586151126, 'lambda_l2': 2.431212650885114}. Best is trial 20 with value: 0.7971777077241811.\n"
          ]
        },
        {
          "name": "stdout",
          "output_type": "stream",
          "text": [
            "Did not meet early stopping. Best iteration is:\n",
            "[99]\tvalid_0's auc: 0.978357\n",
            "Training until validation scores don't improve for 100 rounds\n",
            "Did not meet early stopping. Best iteration is:\n",
            "[100]\tvalid_0's auc: 0.965146\n",
            "Training until validation scores don't improve for 100 rounds\n",
            "Did not meet early stopping. Best iteration is:\n",
            "[100]\tvalid_0's auc: 0.980151\n",
            "Training until validation scores don't improve for 100 rounds\n",
            "Did not meet early stopping. Best iteration is:\n",
            "[100]\tvalid_0's auc: 0.961494\n",
            "Training until validation scores don't improve for 100 rounds\n",
            "Did not meet early stopping. Best iteration is:\n",
            "[96]\tvalid_0's auc: 0.95192\n",
            "Training until validation scores don't improve for 100 rounds\n"
          ]
        },
        {
          "name": "stderr",
          "output_type": "stream",
          "text": [
            "[I 2025-06-13 19:44:52,750] Trial 46 finished with value: 0.9028833672936469 and parameters: {'learning_rate': 0.030187280095178542, 'num_leaves': 153, 'max_depth': 8, 'feature_fraction': 0.7613936752787579, 'bagging_fraction': 0.6243564044261831, 'bagging_freq': 8, 'min_data_in_leaf': 40, 'lambda_l1': 2.9485997305070617, 'lambda_l2': 0.5218552893192931}. Best is trial 20 with value: 0.7971777077241811.\n"
          ]
        },
        {
          "name": "stdout",
          "output_type": "stream",
          "text": [
            "Did not meet early stopping. Best iteration is:\n",
            "[94]\tvalid_0's auc: 0.981441\n",
            "Training until validation scores don't improve for 100 rounds\n",
            "Did not meet early stopping. Best iteration is:\n",
            "[99]\tvalid_0's auc: 0.969238\n",
            "Training until validation scores don't improve for 100 rounds\n",
            "Did not meet early stopping. Best iteration is:\n",
            "[100]\tvalid_0's auc: 0.97729\n",
            "Training until validation scores don't improve for 100 rounds\n",
            "Did not meet early stopping. Best iteration is:\n",
            "[74]\tvalid_0's auc: 0.960719\n",
            "Training until validation scores don't improve for 100 rounds\n",
            "Did not meet early stopping. Best iteration is:\n",
            "[100]\tvalid_0's auc: 0.943587\n",
            "Training until validation scores don't improve for 100 rounds\n"
          ]
        },
        {
          "name": "stderr",
          "output_type": "stream",
          "text": [
            "[I 2025-06-13 19:44:54,832] Trial 47 finished with value: 0.8834557066351044 and parameters: {'learning_rate': 0.018569779298317837, 'num_leaves': 87, 'max_depth': 9, 'feature_fraction': 0.7170481816198487, 'bagging_fraction': 0.6001814019380761, 'bagging_freq': 10, 'min_data_in_leaf': 50, 'lambda_l1': 1.958727253142094, 'lambda_l2': 1.6568223343049961}. Best is trial 20 with value: 0.7971777077241811.\n"
          ]
        },
        {
          "name": "stdout",
          "output_type": "stream",
          "text": [
            "Did not meet early stopping. Best iteration is:\n",
            "[100]\tvalid_0's auc: 0.981407\n",
            "Training until validation scores don't improve for 100 rounds\n",
            "Did not meet early stopping. Best iteration is:\n",
            "[98]\tvalid_0's auc: 0.971432\n",
            "Training until validation scores don't improve for 100 rounds\n",
            "Did not meet early stopping. Best iteration is:\n",
            "[100]\tvalid_0's auc: 0.985658\n",
            "Training until validation scores don't improve for 100 rounds\n",
            "Did not meet early stopping. Best iteration is:\n",
            "[100]\tvalid_0's auc: 0.971745\n",
            "Training until validation scores don't improve for 100 rounds\n",
            "Did not meet early stopping. Best iteration is:\n",
            "[100]\tvalid_0's auc: 0.95208\n",
            "Training until validation scores don't improve for 100 rounds\n"
          ]
        },
        {
          "name": "stderr",
          "output_type": "stream",
          "text": [
            "[I 2025-06-13 19:44:57,469] Trial 48 finished with value: 0.9087861330649801 and parameters: {'learning_rate': 0.047229411004203845, 'num_leaves': 131, 'max_depth': 9, 'feature_fraction': 0.6886362085419556, 'bagging_fraction': 0.6835952993982171, 'bagging_freq': 9, 'min_data_in_leaf': 25, 'lambda_l1': 2.4093464860408376, 'lambda_l2': 4.15461584116448}. Best is trial 20 with value: 0.7971777077241811.\n"
          ]
        },
        {
          "name": "stdout",
          "output_type": "stream",
          "text": [
            "Did not meet early stopping. Best iteration is:\n",
            "[71]\tvalid_0's auc: 0.982464\n",
            "Training until validation scores don't improve for 100 rounds\n",
            "Did not meet early stopping. Best iteration is:\n",
            "[65]\tvalid_0's auc: 0.966012\n",
            "Training until validation scores don't improve for 100 rounds\n",
            "Did not meet early stopping. Best iteration is:\n",
            "[100]\tvalid_0's auc: 0.979684\n",
            "Training until validation scores don't improve for 100 rounds\n",
            "Did not meet early stopping. Best iteration is:\n",
            "[100]\tvalid_0's auc: 0.962503\n",
            "Training until validation scores don't improve for 100 rounds\n",
            "Did not meet early stopping. Best iteration is:\n",
            "[96]\tvalid_0's auc: 0.95388\n",
            "Training until validation scores don't improve for 100 rounds\n"
          ]
        },
        {
          "name": "stderr",
          "output_type": "stream",
          "text": [
            "[I 2025-06-13 19:44:59,567] Trial 49 finished with value: 0.9053827078322161 and parameters: {'learning_rate': 0.031674815719050044, 'num_leaves': 156, 'max_depth': 11, 'feature_fraction': 0.7782080524011877, 'bagging_fraction': 0.6227839869768581, 'bagging_freq': 8, 'min_data_in_leaf': 85, 'lambda_l1': 4.087660516529062, 'lambda_l2': 1.2434434334870121}. Best is trial 20 with value: 0.7971777077241811.\n"
          ]
        },
        {
          "name": "stdout",
          "output_type": "stream",
          "text": [
            "Did not meet early stopping. Best iteration is:\n",
            "[99]\tvalid_0's auc: 0.978058\n"
          ]
        }
      ],
      "source": [
        "study = optuna.create_study(direction=\"maximize\", study_name=\"LGBM Classifier\")\n",
        "func = lambda trial: objective(trial, X_train_res[important_features], y_train_res)\n",
        "study.optimize(func, n_trials=50)"
      ]
    },
    {
      "cell_type": "code",
      "execution_count": 90,
      "metadata": {
        "id": "9DhwpIxl0SLC"
      },
      "outputs": [],
      "source": [
        "best_params = study.best_params"
      ]
    },
    {
      "cell_type": "code",
      "execution_count": 92,
      "metadata": {
        "colab": {
          "base_uri": "https://localhost:8080/",
          "height": 236
        },
        "id": "p3DV4O-u1rF6",
        "outputId": "2e3189c1-e353-442e-9d5c-7d35fb6e4f78"
      },
      "outputs": [
        {
          "name": "stdout",
          "output_type": "stream",
          "text": [
            "Training until validation scores don't improve for 50 rounds\n",
            "[50]\tvalid_0's auc: 0.942203\tvalid_0's binary_logloss: 0.0783538\n",
            "[100]\tvalid_0's auc: 0.945041\tvalid_0's binary_logloss: 0.0675164\n",
            "Did not meet early stopping. Best iteration is:\n",
            "[81]\tvalid_0's auc: 0.945547\tvalid_0's binary_logloss: 0.0709166\n"
          ]
        },
        {
          "data": {
            "text/html": [
              "<style>#sk-container-id-3 {\n",
              "  /* Definition of color scheme common for light and dark mode */\n",
              "  --sklearn-color-text: #000;\n",
              "  --sklearn-color-text-muted: #666;\n",
              "  --sklearn-color-line: gray;\n",
              "  /* Definition of color scheme for unfitted estimators */\n",
              "  --sklearn-color-unfitted-level-0: #fff5e6;\n",
              "  --sklearn-color-unfitted-level-1: #f6e4d2;\n",
              "  --sklearn-color-unfitted-level-2: #ffe0b3;\n",
              "  --sklearn-color-unfitted-level-3: chocolate;\n",
              "  /* Definition of color scheme for fitted estimators */\n",
              "  --sklearn-color-fitted-level-0: #f0f8ff;\n",
              "  --sklearn-color-fitted-level-1: #d4ebff;\n",
              "  --sklearn-color-fitted-level-2: #b3dbfd;\n",
              "  --sklearn-color-fitted-level-3: cornflowerblue;\n",
              "\n",
              "  /* Specific color for light theme */\n",
              "  --sklearn-color-text-on-default-background: var(--sg-text-color, var(--theme-code-foreground, var(--jp-content-font-color1, black)));\n",
              "  --sklearn-color-background: var(--sg-background-color, var(--theme-background, var(--jp-layout-color0, white)));\n",
              "  --sklearn-color-border-box: var(--sg-text-color, var(--theme-code-foreground, var(--jp-content-font-color1, black)));\n",
              "  --sklearn-color-icon: #696969;\n",
              "\n",
              "  @media (prefers-color-scheme: dark) {\n",
              "    /* Redefinition of color scheme for dark theme */\n",
              "    --sklearn-color-text-on-default-background: var(--sg-text-color, var(--theme-code-foreground, var(--jp-content-font-color1, white)));\n",
              "    --sklearn-color-background: var(--sg-background-color, var(--theme-background, var(--jp-layout-color0, #111)));\n",
              "    --sklearn-color-border-box: var(--sg-text-color, var(--theme-code-foreground, var(--jp-content-font-color1, white)));\n",
              "    --sklearn-color-icon: #878787;\n",
              "  }\n",
              "}\n",
              "\n",
              "#sk-container-id-3 {\n",
              "  color: var(--sklearn-color-text);\n",
              "}\n",
              "\n",
              "#sk-container-id-3 pre {\n",
              "  padding: 0;\n",
              "}\n",
              "\n",
              "#sk-container-id-3 input.sk-hidden--visually {\n",
              "  border: 0;\n",
              "  clip: rect(1px 1px 1px 1px);\n",
              "  clip: rect(1px, 1px, 1px, 1px);\n",
              "  height: 1px;\n",
              "  margin: -1px;\n",
              "  overflow: hidden;\n",
              "  padding: 0;\n",
              "  position: absolute;\n",
              "  width: 1px;\n",
              "}\n",
              "\n",
              "#sk-container-id-3 div.sk-dashed-wrapped {\n",
              "  border: 1px dashed var(--sklearn-color-line);\n",
              "  margin: 0 0.4em 0.5em 0.4em;\n",
              "  box-sizing: border-box;\n",
              "  padding-bottom: 0.4em;\n",
              "  background-color: var(--sklearn-color-background);\n",
              "}\n",
              "\n",
              "#sk-container-id-3 div.sk-container {\n",
              "  /* jupyter's `normalize.less` sets `[hidden] { display: none; }`\n",
              "     but bootstrap.min.css set `[hidden] { display: none !important; }`\n",
              "     so we also need the `!important` here to be able to override the\n",
              "     default hidden behavior on the sphinx rendered scikit-learn.org.\n",
              "     See: https://github.com/scikit-learn/scikit-learn/issues/21755 */\n",
              "  display: inline-block !important;\n",
              "  position: relative;\n",
              "}\n",
              "\n",
              "#sk-container-id-3 div.sk-text-repr-fallback {\n",
              "  display: none;\n",
              "}\n",
              "\n",
              "div.sk-parallel-item,\n",
              "div.sk-serial,\n",
              "div.sk-item {\n",
              "  /* draw centered vertical line to link estimators */\n",
              "  background-image: linear-gradient(var(--sklearn-color-text-on-default-background), var(--sklearn-color-text-on-default-background));\n",
              "  background-size: 2px 100%;\n",
              "  background-repeat: no-repeat;\n",
              "  background-position: center center;\n",
              "}\n",
              "\n",
              "/* Parallel-specific style estimator block */\n",
              "\n",
              "#sk-container-id-3 div.sk-parallel-item::after {\n",
              "  content: \"\";\n",
              "  width: 100%;\n",
              "  border-bottom: 2px solid var(--sklearn-color-text-on-default-background);\n",
              "  flex-grow: 1;\n",
              "}\n",
              "\n",
              "#sk-container-id-3 div.sk-parallel {\n",
              "  display: flex;\n",
              "  align-items: stretch;\n",
              "  justify-content: center;\n",
              "  background-color: var(--sklearn-color-background);\n",
              "  position: relative;\n",
              "}\n",
              "\n",
              "#sk-container-id-3 div.sk-parallel-item {\n",
              "  display: flex;\n",
              "  flex-direction: column;\n",
              "}\n",
              "\n",
              "#sk-container-id-3 div.sk-parallel-item:first-child::after {\n",
              "  align-self: flex-end;\n",
              "  width: 50%;\n",
              "}\n",
              "\n",
              "#sk-container-id-3 div.sk-parallel-item:last-child::after {\n",
              "  align-self: flex-start;\n",
              "  width: 50%;\n",
              "}\n",
              "\n",
              "#sk-container-id-3 div.sk-parallel-item:only-child::after {\n",
              "  width: 0;\n",
              "}\n",
              "\n",
              "/* Serial-specific style estimator block */\n",
              "\n",
              "#sk-container-id-3 div.sk-serial {\n",
              "  display: flex;\n",
              "  flex-direction: column;\n",
              "  align-items: center;\n",
              "  background-color: var(--sklearn-color-background);\n",
              "  padding-right: 1em;\n",
              "  padding-left: 1em;\n",
              "}\n",
              "\n",
              "\n",
              "/* Toggleable style: style used for estimator/Pipeline/ColumnTransformer box that is\n",
              "clickable and can be expanded/collapsed.\n",
              "- Pipeline and ColumnTransformer use this feature and define the default style\n",
              "- Estimators will overwrite some part of the style using the `sk-estimator` class\n",
              "*/\n",
              "\n",
              "/* Pipeline and ColumnTransformer style (default) */\n",
              "\n",
              "#sk-container-id-3 div.sk-toggleable {\n",
              "  /* Default theme specific background. It is overwritten whether we have a\n",
              "  specific estimator or a Pipeline/ColumnTransformer */\n",
              "  background-color: var(--sklearn-color-background);\n",
              "}\n",
              "\n",
              "/* Toggleable label */\n",
              "#sk-container-id-3 label.sk-toggleable__label {\n",
              "  cursor: pointer;\n",
              "  display: flex;\n",
              "  width: 100%;\n",
              "  margin-bottom: 0;\n",
              "  padding: 0.5em;\n",
              "  box-sizing: border-box;\n",
              "  text-align: center;\n",
              "  align-items: start;\n",
              "  justify-content: space-between;\n",
              "  gap: 0.5em;\n",
              "}\n",
              "\n",
              "#sk-container-id-3 label.sk-toggleable__label .caption {\n",
              "  font-size: 0.6rem;\n",
              "  font-weight: lighter;\n",
              "  color: var(--sklearn-color-text-muted);\n",
              "}\n",
              "\n",
              "#sk-container-id-3 label.sk-toggleable__label-arrow:before {\n",
              "  /* Arrow on the left of the label */\n",
              "  content: \"▸\";\n",
              "  float: left;\n",
              "  margin-right: 0.25em;\n",
              "  color: var(--sklearn-color-icon);\n",
              "}\n",
              "\n",
              "#sk-container-id-3 label.sk-toggleable__label-arrow:hover:before {\n",
              "  color: var(--sklearn-color-text);\n",
              "}\n",
              "\n",
              "/* Toggleable content - dropdown */\n",
              "\n",
              "#sk-container-id-3 div.sk-toggleable__content {\n",
              "  max-height: 0;\n",
              "  max-width: 0;\n",
              "  overflow: hidden;\n",
              "  text-align: left;\n",
              "  /* unfitted */\n",
              "  background-color: var(--sklearn-color-unfitted-level-0);\n",
              "}\n",
              "\n",
              "#sk-container-id-3 div.sk-toggleable__content.fitted {\n",
              "  /* fitted */\n",
              "  background-color: var(--sklearn-color-fitted-level-0);\n",
              "}\n",
              "\n",
              "#sk-container-id-3 div.sk-toggleable__content pre {\n",
              "  margin: 0.2em;\n",
              "  border-radius: 0.25em;\n",
              "  color: var(--sklearn-color-text);\n",
              "  /* unfitted */\n",
              "  background-color: var(--sklearn-color-unfitted-level-0);\n",
              "}\n",
              "\n",
              "#sk-container-id-3 div.sk-toggleable__content.fitted pre {\n",
              "  /* unfitted */\n",
              "  background-color: var(--sklearn-color-fitted-level-0);\n",
              "}\n",
              "\n",
              "#sk-container-id-3 input.sk-toggleable__control:checked~div.sk-toggleable__content {\n",
              "  /* Expand drop-down */\n",
              "  max-height: 200px;\n",
              "  max-width: 100%;\n",
              "  overflow: auto;\n",
              "}\n",
              "\n",
              "#sk-container-id-3 input.sk-toggleable__control:checked~label.sk-toggleable__label-arrow:before {\n",
              "  content: \"▾\";\n",
              "}\n",
              "\n",
              "/* Pipeline/ColumnTransformer-specific style */\n",
              "\n",
              "#sk-container-id-3 div.sk-label input.sk-toggleable__control:checked~label.sk-toggleable__label {\n",
              "  color: var(--sklearn-color-text);\n",
              "  background-color: var(--sklearn-color-unfitted-level-2);\n",
              "}\n",
              "\n",
              "#sk-container-id-3 div.sk-label.fitted input.sk-toggleable__control:checked~label.sk-toggleable__label {\n",
              "  background-color: var(--sklearn-color-fitted-level-2);\n",
              "}\n",
              "\n",
              "/* Estimator-specific style */\n",
              "\n",
              "/* Colorize estimator box */\n",
              "#sk-container-id-3 div.sk-estimator input.sk-toggleable__control:checked~label.sk-toggleable__label {\n",
              "  /* unfitted */\n",
              "  background-color: var(--sklearn-color-unfitted-level-2);\n",
              "}\n",
              "\n",
              "#sk-container-id-3 div.sk-estimator.fitted input.sk-toggleable__control:checked~label.sk-toggleable__label {\n",
              "  /* fitted */\n",
              "  background-color: var(--sklearn-color-fitted-level-2);\n",
              "}\n",
              "\n",
              "#sk-container-id-3 div.sk-label label.sk-toggleable__label,\n",
              "#sk-container-id-3 div.sk-label label {\n",
              "  /* The background is the default theme color */\n",
              "  color: var(--sklearn-color-text-on-default-background);\n",
              "}\n",
              "\n",
              "/* On hover, darken the color of the background */\n",
              "#sk-container-id-3 div.sk-label:hover label.sk-toggleable__label {\n",
              "  color: var(--sklearn-color-text);\n",
              "  background-color: var(--sklearn-color-unfitted-level-2);\n",
              "}\n",
              "\n",
              "/* Label box, darken color on hover, fitted */\n",
              "#sk-container-id-3 div.sk-label.fitted:hover label.sk-toggleable__label.fitted {\n",
              "  color: var(--sklearn-color-text);\n",
              "  background-color: var(--sklearn-color-fitted-level-2);\n",
              "}\n",
              "\n",
              "/* Estimator label */\n",
              "\n",
              "#sk-container-id-3 div.sk-label label {\n",
              "  font-family: monospace;\n",
              "  font-weight: bold;\n",
              "  display: inline-block;\n",
              "  line-height: 1.2em;\n",
              "}\n",
              "\n",
              "#sk-container-id-3 div.sk-label-container {\n",
              "  text-align: center;\n",
              "}\n",
              "\n",
              "/* Estimator-specific */\n",
              "#sk-container-id-3 div.sk-estimator {\n",
              "  font-family: monospace;\n",
              "  border: 1px dotted var(--sklearn-color-border-box);\n",
              "  border-radius: 0.25em;\n",
              "  box-sizing: border-box;\n",
              "  margin-bottom: 0.5em;\n",
              "  /* unfitted */\n",
              "  background-color: var(--sklearn-color-unfitted-level-0);\n",
              "}\n",
              "\n",
              "#sk-container-id-3 div.sk-estimator.fitted {\n",
              "  /* fitted */\n",
              "  background-color: var(--sklearn-color-fitted-level-0);\n",
              "}\n",
              "\n",
              "/* on hover */\n",
              "#sk-container-id-3 div.sk-estimator:hover {\n",
              "  /* unfitted */\n",
              "  background-color: var(--sklearn-color-unfitted-level-2);\n",
              "}\n",
              "\n",
              "#sk-container-id-3 div.sk-estimator.fitted:hover {\n",
              "  /* fitted */\n",
              "  background-color: var(--sklearn-color-fitted-level-2);\n",
              "}\n",
              "\n",
              "/* Specification for estimator info (e.g. \"i\" and \"?\") */\n",
              "\n",
              "/* Common style for \"i\" and \"?\" */\n",
              "\n",
              ".sk-estimator-doc-link,\n",
              "a:link.sk-estimator-doc-link,\n",
              "a:visited.sk-estimator-doc-link {\n",
              "  float: right;\n",
              "  font-size: smaller;\n",
              "  line-height: 1em;\n",
              "  font-family: monospace;\n",
              "  background-color: var(--sklearn-color-background);\n",
              "  border-radius: 1em;\n",
              "  height: 1em;\n",
              "  width: 1em;\n",
              "  text-decoration: none !important;\n",
              "  margin-left: 0.5em;\n",
              "  text-align: center;\n",
              "  /* unfitted */\n",
              "  border: var(--sklearn-color-unfitted-level-1) 1pt solid;\n",
              "  color: var(--sklearn-color-unfitted-level-1);\n",
              "}\n",
              "\n",
              ".sk-estimator-doc-link.fitted,\n",
              "a:link.sk-estimator-doc-link.fitted,\n",
              "a:visited.sk-estimator-doc-link.fitted {\n",
              "  /* fitted */\n",
              "  border: var(--sklearn-color-fitted-level-1) 1pt solid;\n",
              "  color: var(--sklearn-color-fitted-level-1);\n",
              "}\n",
              "\n",
              "/* On hover */\n",
              "div.sk-estimator:hover .sk-estimator-doc-link:hover,\n",
              ".sk-estimator-doc-link:hover,\n",
              "div.sk-label-container:hover .sk-estimator-doc-link:hover,\n",
              ".sk-estimator-doc-link:hover {\n",
              "  /* unfitted */\n",
              "  background-color: var(--sklearn-color-unfitted-level-3);\n",
              "  color: var(--sklearn-color-background);\n",
              "  text-decoration: none;\n",
              "}\n",
              "\n",
              "div.sk-estimator.fitted:hover .sk-estimator-doc-link.fitted:hover,\n",
              ".sk-estimator-doc-link.fitted:hover,\n",
              "div.sk-label-container:hover .sk-estimator-doc-link.fitted:hover,\n",
              ".sk-estimator-doc-link.fitted:hover {\n",
              "  /* fitted */\n",
              "  background-color: var(--sklearn-color-fitted-level-3);\n",
              "  color: var(--sklearn-color-background);\n",
              "  text-decoration: none;\n",
              "}\n",
              "\n",
              "/* Span, style for the box shown on hovering the info icon */\n",
              ".sk-estimator-doc-link span {\n",
              "  display: none;\n",
              "  z-index: 9999;\n",
              "  position: relative;\n",
              "  font-weight: normal;\n",
              "  right: .2ex;\n",
              "  padding: .5ex;\n",
              "  margin: .5ex;\n",
              "  width: min-content;\n",
              "  min-width: 20ex;\n",
              "  max-width: 50ex;\n",
              "  color: var(--sklearn-color-text);\n",
              "  box-shadow: 2pt 2pt 4pt #999;\n",
              "  /* unfitted */\n",
              "  background: var(--sklearn-color-unfitted-level-0);\n",
              "  border: .5pt solid var(--sklearn-color-unfitted-level-3);\n",
              "}\n",
              "\n",
              ".sk-estimator-doc-link.fitted span {\n",
              "  /* fitted */\n",
              "  background: var(--sklearn-color-fitted-level-0);\n",
              "  border: var(--sklearn-color-fitted-level-3);\n",
              "}\n",
              "\n",
              ".sk-estimator-doc-link:hover span {\n",
              "  display: block;\n",
              "}\n",
              "\n",
              "/* \"?\"-specific style due to the `<a>` HTML tag */\n",
              "\n",
              "#sk-container-id-3 a.estimator_doc_link {\n",
              "  float: right;\n",
              "  font-size: 1rem;\n",
              "  line-height: 1em;\n",
              "  font-family: monospace;\n",
              "  background-color: var(--sklearn-color-background);\n",
              "  border-radius: 1rem;\n",
              "  height: 1rem;\n",
              "  width: 1rem;\n",
              "  text-decoration: none;\n",
              "  /* unfitted */\n",
              "  color: var(--sklearn-color-unfitted-level-1);\n",
              "  border: var(--sklearn-color-unfitted-level-1) 1pt solid;\n",
              "}\n",
              "\n",
              "#sk-container-id-3 a.estimator_doc_link.fitted {\n",
              "  /* fitted */\n",
              "  border: var(--sklearn-color-fitted-level-1) 1pt solid;\n",
              "  color: var(--sklearn-color-fitted-level-1);\n",
              "}\n",
              "\n",
              "/* On hover */\n",
              "#sk-container-id-3 a.estimator_doc_link:hover {\n",
              "  /* unfitted */\n",
              "  background-color: var(--sklearn-color-unfitted-level-3);\n",
              "  color: var(--sklearn-color-background);\n",
              "  text-decoration: none;\n",
              "}\n",
              "\n",
              "#sk-container-id-3 a.estimator_doc_link.fitted:hover {\n",
              "  /* fitted */\n",
              "  background-color: var(--sklearn-color-fitted-level-3);\n",
              "}\n",
              "</style><div id=\"sk-container-id-3\" class=\"sk-top-container\"><div class=\"sk-text-repr-fallback\"><pre>LGBMClassifier(bagging_fraction=0.6030035366684824, bagging_freq=9,\n",
              "               feature_fraction=0.8333050286816874, lambda_l1=4.40969471787694,\n",
              "               lambda_l2=1.862166602572901, learning_rate=0.010512231844894476,\n",
              "               max_depth=10, min_data_in_leaf=14, num_leaves=110)</pre><b>In a Jupyter environment, please rerun this cell to show the HTML representation or trust the notebook. <br />On GitHub, the HTML representation is unable to render, please try loading this page with nbviewer.org.</b></div><div class=\"sk-container\" hidden><div class=\"sk-item\"><div class=\"sk-estimator fitted sk-toggleable\"><input class=\"sk-toggleable__control sk-hidden--visually\" id=\"sk-estimator-id-3\" type=\"checkbox\" checked><label for=\"sk-estimator-id-3\" class=\"sk-toggleable__label fitted sk-toggleable__label-arrow\"><div><div>LGBMClassifier</div></div><div><span class=\"sk-estimator-doc-link fitted\">i<span>Fitted</span></span></div></label><div class=\"sk-toggleable__content fitted\"><pre>LGBMClassifier(bagging_fraction=0.6030035366684824, bagging_freq=9,\n",
              "               feature_fraction=0.8333050286816874, lambda_l1=4.40969471787694,\n",
              "               lambda_l2=1.862166602572901, learning_rate=0.010512231844894476,\n",
              "               max_depth=10, min_data_in_leaf=14, num_leaves=110)</pre></div> </div></div></div></div>"
            ],
            "text/plain": [
              "LGBMClassifier(bagging_fraction=0.6030035366684824, bagging_freq=9,\n",
              "               feature_fraction=0.8333050286816874, lambda_l1=4.40969471787694,\n",
              "               lambda_l2=1.862166602572901, learning_rate=0.010512231844894476,\n",
              "               max_depth=10, min_data_in_leaf=14, num_leaves=110)"
            ]
          },
          "execution_count": 92,
          "metadata": {},
          "output_type": "execute_result"
        }
      ],
      "source": [
        "final_model = LGBMClassifier(**best_params)\n",
        "\n",
        "final_model.fit(\n",
        "    X_train_res[important_features], y_train_res,\n",
        "    eval_set=[(X_val[important_features], y_val)],\n",
        "    eval_metric=\"auc\",\n",
        "    callbacks=[\n",
        "        early_stopping(50),\n",
        "        log_evaluation(50)\n",
        "    ]\n",
        ")\n"
      ]
    },
    {
      "cell_type": "code",
      "execution_count": 93,
      "metadata": {
        "colab": {
          "base_uri": "https://localhost:8080/"
        },
        "id": "vFMgKHVH15Cd",
        "outputId": "72ba5bdd-d786-4cb9-bfd0-d31714485cd0"
      },
      "outputs": [
        {
          "name": "stdout",
          "output_type": "stream",
          "text": [
            "Train AUC: 0.9440 | Accuracy: 0.9818\n",
            "Valid AUC: 0.9455 | Accuracy: 0.9813\n",
            "Test AUC: 0.8547 | Accuracy: 0.9931\n"
          ]
        }
      ],
      "source": [
        "print_metrics(final_model, X_train[important_features], y_train, \"Train\")\n",
        "print_metrics(final_model, X_val[important_features], y_val, \"Valid\")\n",
        "print_metrics(final_model, X_test[important_features], y_test, \"Test\")\n"
      ]
    },
    {
      "cell_type": "code",
      "execution_count": 95,
      "metadata": {
        "colab": {
          "base_uri": "https://localhost:8080/"
        },
        "id": "hLPNq8et2Q9-",
        "outputId": "826022bf-7a4f-4496-eb61-d2542276774d"
      },
      "outputs": [
        {
          "data": {
            "text/plain": [
              "31"
            ]
          },
          "execution_count": 95,
          "metadata": {},
          "output_type": "execute_result"
        }
      ],
      "source": [
        "len(important_features)"
      ]
    },
    {
      "cell_type": "code",
      "execution_count": null,
      "metadata": {
        "id": "4sc_5bXG-_-F"
      },
      "outputs": [],
      "source": [
        "def print_metrics_with_threshold(model, X, y, label, threshold=0.5):\n",
        "    y_proba = model.predict_proba(X)[:, 1]\n",
        "    y_pred_threshold = (y_proba >= threshold).astype(int)\n",
        "\n",
        "    auc = roc_auc_score(y, y_proba)\n",
        "    acc = accuracy_score(y, y_pred_threshold)\n",
        "    f1 = f1_score(y, y_pred_threshold)\n",
        "    recall = recall_score(y, y_pred_threshold)\n",
        "\n",
        "    print(f\"{label} (Threshold={threshold:.2f}) AUC: {auc:.4f} | Accuracy: {acc:.4f} | F1 Score: {f1:.4f} | Recall: {recall:.4f}\")\n"
      ]
    },
    {
      "cell_type": "code",
      "execution_count": 100,
      "metadata": {
        "colab": {
          "base_uri": "https://localhost:8080/"
        },
        "id": "sEodUUR32WP4",
        "outputId": "a099b417-d6b8-434e-ad37-44cd6d6fcdb9"
      },
      "outputs": [
        {
          "name": "stdout",
          "output_type": "stream",
          "text": [
            "\n",
            "Metrics with default threshold (0.5):\n",
            "Train (Threshold=0.50) AUC: 0.9440 | Accuracy: 0.9818 | F1 Score: 0.0531 | Recall: 0.0275\n",
            "Valid (Threshold=0.50) AUC: 0.9455 | Accuracy: 0.9813 | F1 Score: 0.0000 | Recall: 0.0000\n",
            "Test (Threshold=0.50) AUC: 0.8547 | Accuracy: 0.9931 | F1 Score: 0.0000 | Recall: 0.0000\n",
            "\n",
            "Metrics with threshold 0.8:\n",
            "Train (Threshold=0.80) AUC: 0.9440 | Accuracy: 0.9815 | F1 Score: 0.0000 | Recall: 0.0000\n",
            "Valid (Threshold=0.80) AUC: 0.9455 | Accuracy: 0.9816 | F1 Score: 0.0000 | Recall: 0.0000\n",
            "Test (Threshold=0.80) AUC: 0.8547 | Accuracy: 0.9931 | F1 Score: 0.0000 | Recall: 0.0000\n"
          ]
        }
      ],
      "source": [
        "print(\"\\nMetrics with default threshold (0.5):\")\n",
        "print_metrics_with_threshold(final_model, X_train[important_features], y_train, \"Train\", threshold=0.5)\n",
        "print_metrics_with_threshold(final_model, X_val[important_features], y_val, \"Valid\", threshold=0.5)\n",
        "print_metrics_with_threshold(final_model, X_test[important_features], y_test, \"Test\", threshold=0.5)\n",
        "\n",
        "print(\"\\nMetrics with threshold 0.8:\")\n",
        "print_metrics_with_threshold(final_model, X_train[important_features], y_train, \"Train\", threshold=0.8)\n",
        "print_metrics_with_threshold(final_model, X_val[important_features], y_val, \"Valid\", threshold=0.8)\n",
        "print_metrics_with_threshold(final_model, X_test[important_features], y_test, \"Test\", threshold=0.8)\n"
      ]
    },
    {
      "cell_type": "code",
      "execution_count": 102,
      "metadata": {
        "id": "KhXcgHUg2gii"
      },
      "outputs": [],
      "source": [
        "def objective(trial, X_train, y_train, X_val, y_val):\n",
        "    params = {\n",
        "        \"objective\": \"binary\",\n",
        "        \"boosting_type\": \"gbdt\",\n",
        "        \"verbosity\": -1,\n",
        "        \"is_unbalance\": True,\n",
        "        \"learning_rate\": trial.suggest_float(\"learning_rate\", 0.01, 0.2),\n",
        "        \"num_leaves\": trial.suggest_int(\"num_leaves\", 16, 256),\n",
        "        \"max_depth\": trial.suggest_int(\"max_depth\", 3, 12),\n",
        "        \"feature_fraction\": trial.suggest_float(\"feature_fraction\", 0.6, 1.0),\n",
        "        \"bagging_fraction\": trial.suggest_float(\"bagging_fraction\", 0.6, 1.0),\n",
        "        \"bagging_freq\": trial.suggest_int(\"bagging_freq\", 1, 10),\n",
        "        \"min_data_in_leaf\": trial.suggest_int(\"min_data_in_leaf\", 10, 200),\n",
        "        \"lambda_l1\": trial.suggest_float(\"lambda_l1\", 0.0, 5.0),\n",
        "        \"lambda_l2\": trial.suggest_float(\"lambda_l2\", 0.0, 5.0),\n",
        "    }\n",
        "\n",
        "\n",
        "\n",
        "    model = LGBMClassifier(**params)\n",
        "    model.fit(\n",
        "        X_train, y_train,\n",
        "        eval_set=[(X_val, y_val)],\n",
        "        eval_metric=\"auc\",\n",
        "        callbacks=[early_stopping(50), log_evaluation(0)]\n",
        "    )\n",
        "\n",
        "    y_proba = model.predict_proba(X_val)[:, 1]\n",
        "    y_pred = (y_proba > 0.5).astype(int)\n",
        "\n",
        "    auc = roc_auc_score(y_val, y_proba)\n",
        "    f1 = f1_score(y_val, y_pred)\n",
        "\n",
        "    return auc, f1\n"
      ]
    },
    {
      "cell_type": "code",
      "execution_count": 104,
      "metadata": {
        "colab": {
          "base_uri": "https://localhost:8080/"
        },
        "id": "wJmVh71C49j5",
        "outputId": "4d6f2d56-1ef5-4ae7-dd76-c79148fea0d7"
      },
      "outputs": [
        {
          "name": "stderr",
          "output_type": "stream",
          "text": [
            "[I 2025-06-13 20:06:09,717] A new study created in memory with name: no-name-509b0040-6766-4577-b794-0d2495dca6b2\n"
          ]
        },
        {
          "name": "stdout",
          "output_type": "stream",
          "text": [
            "Training until validation scores don't improve for 50 rounds\n"
          ]
        },
        {
          "name": "stderr",
          "output_type": "stream",
          "text": [
            "[I 2025-06-13 20:06:10,155] Trial 0 finished with values: [0.954473171232174, 0.2830188679245283] and parameters: {'learning_rate': 0.1678817171853569, 'num_leaves': 125, 'max_depth': 3, 'feature_fraction': 0.9924133727183609, 'bagging_fraction': 0.6754802144057013, 'bagging_freq': 6, 'min_data_in_leaf': 64, 'lambda_l1': 4.655909793101647, 'lambda_l2': 4.8995139812884165}.\n"
          ]
        },
        {
          "name": "stdout",
          "output_type": "stream",
          "text": [
            "Did not meet early stopping. Best iteration is:\n",
            "[75]\tvalid_0's auc: 0.954473\tvalid_0's binary_logloss: 0.180157\n",
            "Training until validation scores don't improve for 50 rounds\n"
          ]
        },
        {
          "name": "stderr",
          "output_type": "stream",
          "text": [
            "[I 2025-06-13 20:06:10,384] Trial 1 finished with values: [0.8486745921822099, 0.0] and parameters: {'learning_rate': 0.08021601344113144, 'num_leaves': 93, 'max_depth': 4, 'feature_fraction': 0.7993541801847952, 'bagging_fraction': 0.6018967762008544, 'bagging_freq': 7, 'min_data_in_leaf': 148, 'lambda_l1': 3.428610673300085, 'lambda_l2': 2.2665439575893886}.\n"
          ]
        },
        {
          "name": "stdout",
          "output_type": "stream",
          "text": [
            "Early stopping, best iteration is:\n",
            "[1]\tvalid_0's auc: 0.848675\tvalid_0's binary_logloss: 0.141097\n",
            "Training until validation scores don't improve for 50 rounds\n"
          ]
        },
        {
          "name": "stderr",
          "output_type": "stream",
          "text": [
            "[I 2025-06-13 20:06:10,688] Trial 2 finished with values: [0.9548066071611778, 0.2693409742120344] and parameters: {'learning_rate': 0.11103360988414268, 'num_leaves': 52, 'max_depth': 3, 'feature_fraction': 0.8920344463608992, 'bagging_fraction': 0.7663990554641487, 'bagging_freq': 8, 'min_data_in_leaf': 15, 'lambda_l1': 2.6052898350749616, 'lambda_l2': 3.7203071555192597}.\n"
          ]
        },
        {
          "name": "stdout",
          "output_type": "stream",
          "text": [
            "Did not meet early stopping. Best iteration is:\n",
            "[94]\tvalid_0's auc: 0.954807\tvalid_0's binary_logloss: 0.193218\n",
            "Training until validation scores don't improve for 50 rounds\n"
          ]
        },
        {
          "name": "stderr",
          "output_type": "stream",
          "text": [
            "[I 2025-06-13 20:06:10,895] Trial 3 finished with values: [0.8907195803837079, 0.1881720430107527] and parameters: {'learning_rate': 0.08868761981614046, 'num_leaves': 132, 'max_depth': 4, 'feature_fraction': 0.984398254779288, 'bagging_fraction': 0.7360548651524736, 'bagging_freq': 9, 'min_data_in_leaf': 138, 'lambda_l1': 0.1150780575692506, 'lambda_l2': 4.338792944969526}.\n"
          ]
        },
        {
          "name": "stdout",
          "output_type": "stream",
          "text": [
            "Early stopping, best iteration is:\n",
            "[1]\tvalid_0's auc: 0.89072\tvalid_0's binary_logloss: 0.134364\n",
            "Training until validation scores don't improve for 50 rounds\n"
          ]
        },
        {
          "name": "stderr",
          "output_type": "stream",
          "text": [
            "[I 2025-06-13 20:06:11,425] Trial 4 finished with values: [0.9568392838822202, 0.4567901234567901] and parameters: {'learning_rate': 0.19201546083092838, 'num_leaves': 70, 'max_depth': 10, 'feature_fraction': 0.9727856884149412, 'bagging_fraction': 0.785373417834557, 'bagging_freq': 9, 'min_data_in_leaf': 176, 'lambda_l1': 0.53745104500795, 'lambda_l2': 4.282690060436872}.\n"
          ]
        },
        {
          "name": "stdout",
          "output_type": "stream",
          "text": [
            "Early stopping, best iteration is:\n",
            "[50]\tvalid_0's auc: 0.956839\tvalid_0's binary_logloss: 0.0842022\n",
            "Training until validation scores don't improve for 50 rounds\n"
          ]
        },
        {
          "name": "stderr",
          "output_type": "stream",
          "text": [
            "[I 2025-06-13 20:06:11,869] Trial 5 finished with values: [0.9453229198727814, 0.48226950354609927] and parameters: {'learning_rate': 0.1483236046206828, 'num_leaves': 119, 'max_depth': 11, 'feature_fraction': 0.8198984165355476, 'bagging_fraction': 0.6634907605230292, 'bagging_freq': 1, 'min_data_in_leaf': 82, 'lambda_l1': 3.8488935500103745, 'lambda_l2': 1.9550473763520464}.\n"
          ]
        },
        {
          "name": "stdout",
          "output_type": "stream",
          "text": [
            "Did not meet early stopping. Best iteration is:\n",
            "[97]\tvalid_0's auc: 0.945323\tvalid_0's binary_logloss: 0.0679492\n",
            "Training until validation scores don't improve for 50 rounds\n"
          ]
        },
        {
          "name": "stderr",
          "output_type": "stream",
          "text": [
            "[I 2025-06-13 20:06:12,363] Trial 6 finished with values: [0.9533830922335078, 0.5362318840579711] and parameters: {'learning_rate': 0.1580027631549685, 'num_leaves': 249, 'max_depth': 12, 'feature_fraction': 0.8839875734474862, 'bagging_fraction': 0.7625828117841102, 'bagging_freq': 1, 'min_data_in_leaf': 135, 'lambda_l1': 1.7208440020384164, 'lambda_l2': 3.6121511232239074}.\n"
          ]
        },
        {
          "name": "stdout",
          "output_type": "stream",
          "text": [
            "Did not meet early stopping. Best iteration is:\n",
            "[100]\tvalid_0's auc: 0.953383\tvalid_0's binary_logloss: 0.0593654\n",
            "Training until validation scores don't improve for 50 rounds\n"
          ]
        },
        {
          "name": "stderr",
          "output_type": "stream",
          "text": [
            "[I 2025-06-13 20:06:13,177] Trial 7 finished with values: [0.9432325330871036, 0.5691056910569106] and parameters: {'learning_rate': 0.14459207383422765, 'num_leaves': 105, 'max_depth': 8, 'feature_fraction': 0.6172923380045027, 'bagging_fraction': 0.9872949946007609, 'bagging_freq': 2, 'min_data_in_leaf': 18, 'lambda_l1': 3.8264440688937915, 'lambda_l2': 4.415777842276209}.\n"
          ]
        },
        {
          "name": "stdout",
          "output_type": "stream",
          "text": [
            "Did not meet early stopping. Best iteration is:\n",
            "[100]\tvalid_0's auc: 0.943233\tvalid_0's binary_logloss: 0.0618081\n",
            "Training until validation scores don't improve for 50 rounds\n"
          ]
        },
        {
          "name": "stderr",
          "output_type": "stream",
          "text": [
            "[I 2025-06-13 20:06:13,687] Trial 8 finished with values: [0.9550502718785268, 0.5303030303030303] and parameters: {'learning_rate': 0.18889575909639167, 'num_leaves': 140, 'max_depth': 9, 'feature_fraction': 0.7095003228593956, 'bagging_fraction': 0.8631412139772672, 'bagging_freq': 8, 'min_data_in_leaf': 65, 'lambda_l1': 4.905282484133439, 'lambda_l2': 4.920558217067025}.\n"
          ]
        },
        {
          "name": "stdout",
          "output_type": "stream",
          "text": [
            "Did not meet early stopping. Best iteration is:\n",
            "[83]\tvalid_0's auc: 0.95505\tvalid_0's binary_logloss: 0.0630394\n",
            "Training until validation scores don't improve for 50 rounds\n"
          ]
        },
        {
          "name": "stderr",
          "output_type": "stream",
          "text": [
            "[I 2025-06-13 20:06:13,967] Trial 9 finished with values: [0.9433158920693547, 0.0] and parameters: {'learning_rate': 0.020549975513632773, 'num_leaves': 138, 'max_depth': 7, 'feature_fraction': 0.9445675021901031, 'bagging_fraction': 0.8389091481621306, 'bagging_freq': 9, 'min_data_in_leaf': 35, 'lambda_l1': 1.570429358374072, 'lambda_l2': 1.7905425756765936}.\n"
          ]
        },
        {
          "name": "stdout",
          "output_type": "stream",
          "text": [
            "Early stopping, best iteration is:\n",
            "[5]\tvalid_0's auc: 0.943316\tvalid_0's binary_logloss: 0.0758618\n",
            "Training until validation scores don't improve for 50 rounds\n"
          ]
        },
        {
          "name": "stderr",
          "output_type": "stream",
          "text": [
            "[I 2025-06-13 20:06:14,242] Trial 10 finished with values: [0.9096292448958654, 0.0] and parameters: {'learning_rate': 0.06952923992775857, 'num_leaves': 24, 'max_depth': 6, 'feature_fraction': 0.7349099441658141, 'bagging_fraction': 0.7987204398993588, 'bagging_freq': 8, 'min_data_in_leaf': 37, 'lambda_l1': 0.5288251759758256, 'lambda_l2': 0.313349419775511}.\n"
          ]
        },
        {
          "name": "stdout",
          "output_type": "stream",
          "text": [
            "Early stopping, best iteration is:\n",
            "[1]\tvalid_0's auc: 0.909629\tvalid_0's binary_logloss: 0.0969359\n",
            "Training until validation scores don't improve for 50 rounds\n"
          ]
        },
        {
          "name": "stderr",
          "output_type": "stream",
          "text": [
            "[I 2025-06-13 20:06:14,816] Trial 11 finished with values: [0.9516453780650456, 0.45454545454545453] and parameters: {'learning_rate': 0.1774687541506544, 'num_leaves': 99, 'max_depth': 7, 'feature_fraction': 0.8890314845906464, 'bagging_fraction': 0.6089240657529246, 'bagging_freq': 10, 'min_data_in_leaf': 69, 'lambda_l1': 4.102497241231006, 'lambda_l2': 2.5887506594759446}.\n"
          ]
        },
        {
          "name": "stdout",
          "output_type": "stream",
          "text": [
            "Did not meet early stopping. Best iteration is:\n",
            "[94]\tvalid_0's auc: 0.951645\tvalid_0's binary_logloss: 0.0722473\n",
            "Training until validation scores don't improve for 50 rounds\n"
          ]
        },
        {
          "name": "stderr",
          "output_type": "stream",
          "text": [
            "[I 2025-06-13 20:06:15,330] Trial 12 finished with values: [0.9223735508361547, 0.5043478260869565] and parameters: {'learning_rate': 0.1863945010632158, 'num_leaves': 223, 'max_depth': 8, 'feature_fraction': 0.7103650521230974, 'bagging_fraction': 0.8504663662144317, 'bagging_freq': 4, 'min_data_in_leaf': 73, 'lambda_l1': 2.4270856625329573, 'lambda_l2': 0.9467805415733654}.\n"
          ]
        },
        {
          "name": "stdout",
          "output_type": "stream",
          "text": [
            "Did not meet early stopping. Best iteration is:\n",
            "[93]\tvalid_0's auc: 0.922374\tvalid_0's binary_logloss: 0.0687312\n",
            "Training until validation scores don't improve for 50 rounds\n"
          ]
        },
        {
          "name": "stderr",
          "output_type": "stream",
          "text": [
            "[I 2025-06-13 20:06:15,846] Trial 13 finished with values: [0.9123993279983584, 0.0] and parameters: {'learning_rate': 0.08340600203691201, 'num_leaves': 246, 'max_depth': 12, 'feature_fraction': 0.7144008768195095, 'bagging_fraction': 0.8554198422633004, 'bagging_freq': 3, 'min_data_in_leaf': 178, 'lambda_l1': 2.9562034009723948, 'lambda_l2': 3.229661296566168}.\n"
          ]
        },
        {
          "name": "stdout",
          "output_type": "stream",
          "text": [
            "Early stopping, best iteration is:\n",
            "[1]\tvalid_0's auc: 0.912399\tvalid_0's binary_logloss: 0.123833\n",
            "Training until validation scores don't improve for 50 rounds\n"
          ]
        },
        {
          "name": "stderr",
          "output_type": "stream",
          "text": [
            "[I 2025-06-13 20:06:16,458] Trial 14 finished with values: [0.9375384733764235, 0.5] and parameters: {'learning_rate': 0.1380025315020045, 'num_leaves': 192, 'max_depth': 9, 'feature_fraction': 0.6334548424427389, 'bagging_fraction': 0.9395995572662414, 'bagging_freq': 3, 'min_data_in_leaf': 80, 'lambda_l1': 4.1042214611694705, 'lambda_l2': 0.11215096935184965}.\n"
          ]
        },
        {
          "name": "stdout",
          "output_type": "stream",
          "text": [
            "Did not meet early stopping. Best iteration is:\n",
            "[85]\tvalid_0's auc: 0.937538\tvalid_0's binary_logloss: 0.0706653\n",
            "Training until validation scores don't improve for 50 rounds\n"
          ]
        },
        {
          "name": "stderr",
          "output_type": "stream",
          "text": [
            "[I 2025-06-13 20:06:16,916] Trial 15 finished with values: [0.9453421565609931, 0.47674418604651164] and parameters: {'learning_rate': 0.15235735602417055, 'num_leaves': 88, 'max_depth': 10, 'feature_fraction': 0.9602331227117309, 'bagging_fraction': 0.6629596810523102, 'bagging_freq': 7, 'min_data_in_leaf': 150, 'lambda_l1': 4.222713837760934, 'lambda_l2': 2.5720158622367357}.\n"
          ]
        },
        {
          "name": "stdout",
          "output_type": "stream",
          "text": [
            "Did not meet early stopping. Best iteration is:\n",
            "[79]\tvalid_0's auc: 0.945342\tvalid_0's binary_logloss: 0.0835372\n",
            "Training until validation scores don't improve for 50 rounds\n"
          ]
        },
        {
          "name": "stderr",
          "output_type": "stream",
          "text": [
            "[I 2025-06-13 20:06:17,407] Trial 16 finished with values: [0.9351595362675695, 0.0] and parameters: {'learning_rate': 0.011252044757547718, 'num_leaves': 83, 'max_depth': 8, 'feature_fraction': 0.8123374875813326, 'bagging_fraction': 0.8272456249225338, 'bagging_freq': 10, 'min_data_in_leaf': 81, 'lambda_l1': 4.300249793423865, 'lambda_l2': 4.505775907658566}.\n"
          ]
        },
        {
          "name": "stdout",
          "output_type": "stream",
          "text": [
            "Early stopping, best iteration is:\n",
            "[9]\tvalid_0's auc: 0.93516\tvalid_0's binary_logloss: 0.0796603\n",
            "Training until validation scores don't improve for 50 rounds\n"
          ]
        },
        {
          "name": "stderr",
          "output_type": "stream",
          "text": [
            "[I 2025-06-13 20:06:17,859] Trial 17 finished with values: [0.962725710475018, 0.38095238095238093] and parameters: {'learning_rate': 0.11667269209940277, 'num_leaves': 122, 'max_depth': 7, 'feature_fraction': 0.9915118232665916, 'bagging_fraction': 0.7537026169740353, 'bagging_freq': 8, 'min_data_in_leaf': 167, 'lambda_l1': 4.600934252108168, 'lambda_l2': 3.802014566975137}.\n"
          ]
        },
        {
          "name": "stdout",
          "output_type": "stream",
          "text": [
            "Did not meet early stopping. Best iteration is:\n",
            "[55]\tvalid_0's auc: 0.962726\tvalid_0's binary_logloss: 0.117103\n",
            "Training until validation scores don't improve for 50 rounds\n"
          ]
        },
        {
          "name": "stderr",
          "output_type": "stream",
          "text": [
            "[I 2025-06-13 20:06:18,372] Trial 18 finished with values: [0.9570380629937417, 0.5035971223021583] and parameters: {'learning_rate': 0.13964230098766792, 'num_leaves': 230, 'max_depth': 9, 'feature_fraction': 0.9933494168715331, 'bagging_fraction': 0.8040880102266655, 'bagging_freq': 10, 'min_data_in_leaf': 114, 'lambda_l1': 4.238719773620382, 'lambda_l2': 1.5775412868091627}.\n"
          ]
        },
        {
          "name": "stdout",
          "output_type": "stream",
          "text": [
            "Did not meet early stopping. Best iteration is:\n",
            "[95]\tvalid_0's auc: 0.957038\tvalid_0's binary_logloss: 0.0646669\n",
            "Training until validation scores don't improve for 50 rounds\n"
          ]
        },
        {
          "name": "stderr",
          "output_type": "stream",
          "text": [
            "[I 2025-06-13 20:06:18,638] Trial 19 finished with values: [0.9261311172668513, 0.0] and parameters: {'learning_rate': 0.024028140431942905, 'num_leaves': 129, 'max_depth': 7, 'feature_fraction': 0.9632255006851129, 'bagging_fraction': 0.7205750973322022, 'bagging_freq': 3, 'min_data_in_leaf': 130, 'lambda_l1': 2.706078485086647, 'lambda_l2': 2.90200219421103}.\n"
          ]
        },
        {
          "name": "stdout",
          "output_type": "stream",
          "text": [
            "Early stopping, best iteration is:\n",
            "[3]\tvalid_0's auc: 0.926131\tvalid_0's binary_logloss: 0.079377\n",
            "Training until validation scores don't improve for 50 rounds\n"
          ]
        },
        {
          "name": "stderr",
          "output_type": "stream",
          "text": [
            "[I 2025-06-13 20:06:19,412] Trial 20 finished with values: [0.9645788447727506, 0.48484848484848486] and parameters: {'learning_rate': 0.08342294615164968, 'num_leaves': 51, 'max_depth': 9, 'feature_fraction': 0.7812714311392397, 'bagging_fraction': 0.9512560660897939, 'bagging_freq': 6, 'min_data_in_leaf': 135, 'lambda_l1': 2.2581304828422386, 'lambda_l2': 3.7589473914884253}.\n"
          ]
        },
        {
          "name": "stdout",
          "output_type": "stream",
          "text": [
            "Did not meet early stopping. Best iteration is:\n",
            "[100]\tvalid_0's auc: 0.964579\tvalid_0's binary_logloss: 0.0739234\n",
            "Training until validation scores don't improve for 50 rounds\n"
          ]
        },
        {
          "name": "stderr",
          "output_type": "stream",
          "text": [
            "[I 2025-06-13 20:06:19,860] Trial 21 finished with values: [0.9629244895865394, 0.38009049773755654] and parameters: {'learning_rate': 0.09636082006389705, 'num_leaves': 98, 'max_depth': 6, 'feature_fraction': 0.8383109558532399, 'bagging_fraction': 0.7624955721343866, 'bagging_freq': 4, 'min_data_in_leaf': 74, 'lambda_l1': 1.3933451773494125, 'lambda_l2': 4.121919043242559}.\n"
          ]
        },
        {
          "name": "stdout",
          "output_type": "stream",
          "text": [
            "Did not meet early stopping. Best iteration is:\n",
            "[64]\tvalid_0's auc: 0.962924\tvalid_0's binary_logloss: 0.112862\n",
            "Training until validation scores don't improve for 50 rounds\n"
          ]
        },
        {
          "name": "stderr",
          "output_type": "stream",
          "text": [
            "[I 2025-06-13 20:06:20,286] Trial 22 finished with values: [0.9595644813788857, 0.4444444444444444] and parameters: {'learning_rate': 0.1556990643891862, 'num_leaves': 69, 'max_depth': 5, 'feature_fraction': 0.7634759654187324, 'bagging_fraction': 0.8110805351399107, 'bagging_freq': 8, 'min_data_in_leaf': 36, 'lambda_l1': 4.93011032097988, 'lambda_l2': 0.67381226196919}.\n"
          ]
        },
        {
          "name": "stdout",
          "output_type": "stream",
          "text": [
            "Did not meet early stopping. Best iteration is:\n",
            "[100]\tvalid_0's auc: 0.959564\tvalid_0's binary_logloss: 0.0784922\n",
            "Training until validation scores don't improve for 50 rounds\n"
          ]
        },
        {
          "name": "stderr",
          "output_type": "stream",
          "text": [
            "[I 2025-06-13 20:06:21,160] Trial 23 finished with values: [0.9586282958859136, 0.32727272727272727] and parameters: {'learning_rate': 0.13497578687742728, 'num_leaves': 74, 'max_depth': 4, 'feature_fraction': 0.9274284787949086, 'bagging_fraction': 0.7745964336082246, 'bagging_freq': 9, 'min_data_in_leaf': 59, 'lambda_l1': 2.5411186490594764, 'lambda_l2': 0.4775415997106336}.\n"
          ]
        },
        {
          "name": "stdout",
          "output_type": "stream",
          "text": [
            "Did not meet early stopping. Best iteration is:\n",
            "[71]\tvalid_0's auc: 0.958628\tvalid_0's binary_logloss: 0.14755\n",
            "Training until validation scores don't improve for 50 rounds\n"
          ]
        },
        {
          "name": "stderr",
          "output_type": "stream",
          "text": [
            "[I 2025-06-13 20:06:21,457] Trial 24 finished with values: [0.9158971991381964, 0.0] and parameters: {'learning_rate': 0.01711283847069692, 'num_leaves': 224, 'max_depth': 4, 'feature_fraction': 0.9088197111086062, 'bagging_fraction': 0.7438798235988181, 'bagging_freq': 10, 'min_data_in_leaf': 177, 'lambda_l1': 3.341772100662576, 'lambda_l2': 4.173108886988015}.\n"
          ]
        },
        {
          "name": "stdout",
          "output_type": "stream",
          "text": [
            "Early stopping, best iteration is:\n",
            "[3]\tvalid_0's auc: 0.915897\tvalid_0's binary_logloss: 0.0822383\n",
            "Training until validation scores don't improve for 50 rounds\n"
          ]
        },
        {
          "name": "stderr",
          "output_type": "stream",
          "text": [
            "[I 2025-06-13 20:06:22,053] Trial 25 finished with values: [0.9403855032317636, 0.48717948717948717] and parameters: {'learning_rate': 0.1868625916265471, 'num_leaves': 219, 'max_depth': 5, 'feature_fraction': 0.6402942973174927, 'bagging_fraction': 0.7998156069620439, 'bagging_freq': 5, 'min_data_in_leaf': 21, 'lambda_l1': 4.707524603508599, 'lambda_l2': 4.019098090695719}.\n"
          ]
        },
        {
          "name": "stdout",
          "output_type": "stream",
          "text": [
            "Did not meet early stopping. Best iteration is:\n",
            "[100]\tvalid_0's auc: 0.940386\tvalid_0's binary_logloss: 0.0769198\n",
            "Training until validation scores don't improve for 50 rounds\n"
          ]
        },
        {
          "name": "stderr",
          "output_type": "stream",
          "text": [
            "[I 2025-06-13 20:06:22,346] Trial 26 finished with values: [0.8573599569098183, 0.0] and parameters: {'learning_rate': 0.0349897329420382, 'num_leaves': 74, 'max_depth': 3, 'feature_fraction': 0.9787113145639099, 'bagging_fraction': 0.9139437979042603, 'bagging_freq': 4, 'min_data_in_leaf': 102, 'lambda_l1': 3.0026206056997538, 'lambda_l2': 2.643887435337965}.\n"
          ]
        },
        {
          "name": "stdout",
          "output_type": "stream",
          "text": [
            "Early stopping, best iteration is:\n",
            "[1]\tvalid_0's auc: 0.85736\tvalid_0's binary_logloss: 0.0839691\n",
            "Training until validation scores don't improve for 50 rounds\n"
          ]
        },
        {
          "name": "stderr",
          "output_type": "stream",
          "text": [
            "[I 2025-06-13 20:06:23,226] Trial 27 finished with values: [0.9476954447522313, 0.5669291338582677] and parameters: {'learning_rate': 0.08120672966941112, 'num_leaves': 154, 'max_depth': 10, 'feature_fraction': 0.789289306023092, 'bagging_fraction': 0.976223096651342, 'bagging_freq': 4, 'min_data_in_leaf': 12, 'lambda_l1': 1.399251524176841, 'lambda_l2': 3.6532611962230384}.\n"
          ]
        },
        {
          "name": "stdout",
          "output_type": "stream",
          "text": [
            "Did not meet early stopping. Best iteration is:\n",
            "[93]\tvalid_0's auc: 0.947695\tvalid_0's binary_logloss: 0.0586308\n",
            "Training until validation scores don't improve for 50 rounds\n"
          ]
        },
        {
          "name": "stderr",
          "output_type": "stream",
          "text": [
            "[I 2025-06-13 20:06:23,481] Trial 28 finished with values: [0.8629898943264593, 0.0] and parameters: {'learning_rate': 0.07471521778754076, 'num_leaves': 65, 'max_depth': 5, 'feature_fraction': 0.6052496901220429, 'bagging_fraction': 0.986690839877138, 'bagging_freq': 10, 'min_data_in_leaf': 136, 'lambda_l1': 1.5731858354311994, 'lambda_l2': 3.870496916237351}.\n"
          ]
        },
        {
          "name": "stdout",
          "output_type": "stream",
          "text": [
            "Early stopping, best iteration is:\n",
            "[1]\tvalid_0's auc: 0.86299\tvalid_0's binary_logloss: 0.112535\n",
            "Training until validation scores don't improve for 50 rounds\n"
          ]
        },
        {
          "name": "stderr",
          "output_type": "stream",
          "text": [
            "[I 2025-06-13 20:06:23,997] Trial 29 finished with values: [0.9561788242536164, 0.5454545454545454] and parameters: {'learning_rate': 0.16827749156266175, 'num_leaves': 204, 'max_depth': 11, 'feature_fraction': 0.6867961841878291, 'bagging_fraction': 0.7676464306068044, 'bagging_freq': 4, 'min_data_in_leaf': 142, 'lambda_l1': 2.2962026482373146, 'lambda_l2': 3.7172809530823008}.\n"
          ]
        },
        {
          "name": "stdout",
          "output_type": "stream",
          "text": [
            "Did not meet early stopping. Best iteration is:\n",
            "[100]\tvalid_0's auc: 0.956179\tvalid_0's binary_logloss: 0.061577\n",
            "Training until validation scores don't improve for 50 rounds\n"
          ]
        },
        {
          "name": "stderr",
          "output_type": "stream",
          "text": [
            "[I 2025-06-13 20:06:24,701] Trial 30 finished with values: [0.95209423412332, 0.5323741007194245] and parameters: {'learning_rate': 0.1426917622338535, 'num_leaves': 179, 'max_depth': 7, 'feature_fraction': 0.8889815762775094, 'bagging_fraction': 0.7009391492862368, 'bagging_freq': 8, 'min_data_in_leaf': 33, 'lambda_l1': 4.0480298605407485, 'lambda_l2': 3.6742242133603487}.\n"
          ]
        },
        {
          "name": "stdout",
          "output_type": "stream",
          "text": [
            "Did not meet early stopping. Best iteration is:\n",
            "[98]\tvalid_0's auc: 0.952094\tvalid_0's binary_logloss: 0.063752\n",
            "Training until validation scores don't improve for 50 rounds\n"
          ]
        },
        {
          "name": "stderr",
          "output_type": "stream",
          "text": [
            "[I 2025-06-13 20:06:25,219] Trial 31 finished with values: [0.9375, 0.46808510638297873] and parameters: {'learning_rate': 0.12146522465794038, 'num_leaves': 38, 'max_depth': 9, 'feature_fraction': 0.6768777491107174, 'bagging_fraction': 0.800556303645372, 'bagging_freq': 2, 'min_data_in_leaf': 160, 'lambda_l1': 2.427444638675114, 'lambda_l2': 0.24853527609645265}.\n"
          ]
        },
        {
          "name": "stdout",
          "output_type": "stream",
          "text": [
            "Did not meet early stopping. Best iteration is:\n",
            "[100]\tvalid_0's auc: 0.9375\tvalid_0's binary_logloss: 0.074607\n",
            "Training until validation scores don't improve for 50 rounds\n"
          ]
        },
        {
          "name": "stderr",
          "output_type": "stream",
          "text": [
            "[I 2025-06-13 20:06:25,950] Trial 32 finished with values: [0.9641364009438802, 0.4968944099378882] and parameters: {'learning_rate': 0.0973541323997992, 'num_leaves': 30, 'max_depth': 9, 'feature_fraction': 0.8178918858735876, 'bagging_fraction': 0.9393827869376059, 'bagging_freq': 3, 'min_data_in_leaf': 168, 'lambda_l1': 3.5271672194768513, 'lambda_l2': 0.6605910520872799}.\n"
          ]
        },
        {
          "name": "stdout",
          "output_type": "stream",
          "text": [
            "Did not meet early stopping. Best iteration is:\n",
            "[93]\tvalid_0's auc: 0.964136\tvalid_0's binary_logloss: 0.0722771\n",
            "Training until validation scores don't improve for 50 rounds\n"
          ]
        },
        {
          "name": "stderr",
          "output_type": "stream",
          "text": [
            "[I 2025-06-13 20:06:26,246] Trial 33 finished with values: [0.9498339232584385, 0.0] and parameters: {'learning_rate': 0.02452075711427545, 'num_leaves': 236, 'max_depth': 8, 'feature_fraction': 0.6791072582401484, 'bagging_fraction': 0.9361977517931461, 'bagging_freq': 10, 'min_data_in_leaf': 59, 'lambda_l1': 0.26820236722593593, 'lambda_l2': 2.8957434688432397}.\n"
          ]
        },
        {
          "name": "stdout",
          "output_type": "stream",
          "text": [
            "Early stopping, best iteration is:\n",
            "[4]\tvalid_0's auc: 0.949834\tvalid_0's binary_logloss: 0.0785093\n",
            "Training until validation scores don't improve for 50 rounds\n"
          ]
        },
        {
          "name": "stderr",
          "output_type": "stream",
          "text": [
            "[I 2025-06-13 20:06:26,562] Trial 34 finished with values: [0.9536972914742997, 0.2621082621082621] and parameters: {'learning_rate': 0.11844769581339794, 'num_leaves': 250, 'max_depth': 3, 'feature_fraction': 0.7243708295372231, 'bagging_fraction': 0.9942367042708334, 'bagging_freq': 5, 'min_data_in_leaf': 190, 'lambda_l1': 0.7826468269852965, 'lambda_l2': 2.5776985760023186}.\n"
          ]
        },
        {
          "name": "stdout",
          "output_type": "stream",
          "text": [
            "Did not meet early stopping. Best iteration is:\n",
            "[94]\tvalid_0's auc: 0.953697\tvalid_0's binary_logloss: 0.21229\n",
            "Training until validation scores don't improve for 50 rounds\n"
          ]
        },
        {
          "name": "stderr",
          "output_type": "stream",
          "text": [
            "[I 2025-06-13 20:06:26,815] Trial 35 finished with values: [0.9321201395301119, 0.0] and parameters: {'learning_rate': 0.011872700929444013, 'num_leaves': 22, 'max_depth': 5, 'feature_fraction': 0.8380142818981591, 'bagging_fraction': 0.7023428407985353, 'bagging_freq': 3, 'min_data_in_leaf': 174, 'lambda_l1': 2.2492949089903247, 'lambda_l2': 1.1466146416854983}.\n"
          ]
        },
        {
          "name": "stdout",
          "output_type": "stream",
          "text": [
            "Early stopping, best iteration is:\n",
            "[6]\tvalid_0's auc: 0.93212\tvalid_0's binary_logloss: 0.0817877\n",
            "Training until validation scores don't improve for 50 rounds\n"
          ]
        },
        {
          "name": "stderr",
          "output_type": "stream",
          "text": [
            "[I 2025-06-13 20:06:27,599] Trial 36 finished with values: [0.9372435108238432, 0.4778761061946903] and parameters: {'learning_rate': 0.14820309908455007, 'num_leaves': 107, 'max_depth': 9, 'feature_fraction': 0.7781676241386702, 'bagging_fraction': 0.747991503636521, 'bagging_freq': 9, 'min_data_in_leaf': 30, 'lambda_l1': 1.0024649173278133, 'lambda_l2': 2.7500069427141676}.\n"
          ]
        },
        {
          "name": "stdout",
          "output_type": "stream",
          "text": [
            "Did not meet early stopping. Best iteration is:\n",
            "[97]\tvalid_0's auc: 0.937244\tvalid_0's binary_logloss: 0.0591201\n",
            "Training until validation scores don't improve for 50 rounds\n"
          ]
        },
        {
          "name": "stderr",
          "output_type": "stream",
          "text": [
            "[I 2025-06-13 20:06:27,818] Trial 37 finished with values: [0.8982539499333128, 0.0] and parameters: {'learning_rate': 0.047832809570099506, 'num_leaves': 227, 'max_depth': 4, 'feature_fraction': 0.8442415650895828, 'bagging_fraction': 0.8240571793966633, 'bagging_freq': 6, 'min_data_in_leaf': 165, 'lambda_l1': 0.46860229229810757, 'lambda_l2': 2.8876460017060905}.\n"
          ]
        },
        {
          "name": "stdout",
          "output_type": "stream",
          "text": [
            "Early stopping, best iteration is:\n",
            "[1]\tvalid_0's auc: 0.898254\tvalid_0's binary_logloss: 0.0829799\n",
            "Training until validation scores don't improve for 50 rounds\n"
          ]
        },
        {
          "name": "stderr",
          "output_type": "stream",
          "text": [
            "[I 2025-06-13 20:06:28,100] Trial 38 finished with values: [0.8648654714271058, 0.0] and parameters: {'learning_rate': 0.07371999722370835, 'num_leaves': 186, 'max_depth': 7, 'feature_fraction': 0.9013719577779873, 'bagging_fraction': 0.8051304285967367, 'bagging_freq': 7, 'min_data_in_leaf': 47, 'lambda_l1': 1.5502713498605347, 'lambda_l2': 4.552667320438488}.\n"
          ]
        },
        {
          "name": "stdout",
          "output_type": "stream",
          "text": [
            "Early stopping, best iteration is:\n",
            "[1]\tvalid_0's auc: 0.864865\tvalid_0's binary_logloss: 0.116596\n",
            "Training until validation scores don't improve for 50 rounds\n"
          ]
        },
        {
          "name": "stderr",
          "output_type": "stream",
          "text": [
            "[I 2025-06-13 20:06:28,732] Trial 39 finished with values: [0.9723825279573203, 0.42857142857142855] and parameters: {'learning_rate': 0.128021809088676, 'num_leaves': 198, 'max_depth': 10, 'feature_fraction': 0.7587180915764649, 'bagging_fraction': 0.6559690297704378, 'bagging_freq': 6, 'min_data_in_leaf': 123, 'lambda_l1': 0.8790643820533928, 'lambda_l2': 4.966237373689465}.\n"
          ]
        },
        {
          "name": "stdout",
          "output_type": "stream",
          "text": [
            "Early stopping, best iteration is:\n",
            "[42]\tvalid_0's auc: 0.972383\tvalid_0's binary_logloss: 0.107609\n",
            "Training until validation scores don't improve for 50 rounds\n"
          ]
        },
        {
          "name": "stderr",
          "output_type": "stream",
          "text": [
            "[I 2025-06-13 20:06:29,019] Trial 40 finished with values: [0.9405618395403714, 0.0] and parameters: {'learning_rate': 0.07106586900213631, 'num_leaves': 201, 'max_depth': 12, 'feature_fraction': 0.9458240411628313, 'bagging_fraction': 0.710842413261698, 'bagging_freq': 10, 'min_data_in_leaf': 148, 'lambda_l1': 1.300437684218101, 'lambda_l2': 0.2797144030529247}.\n"
          ]
        },
        {
          "name": "stdout",
          "output_type": "stream",
          "text": [
            "Early stopping, best iteration is:\n",
            "[1]\tvalid_0's auc: 0.940562\tvalid_0's binary_logloss: 0.0901223\n",
            "Training until validation scores don't improve for 50 rounds\n"
          ]
        },
        {
          "name": "stderr",
          "output_type": "stream",
          "text": [
            "[I 2025-06-13 20:06:29,427] Trial 41 finished with values: [0.9600518108135836, 0.4079601990049751] and parameters: {'learning_rate': 0.13139169789990784, 'num_leaves': 20, 'max_depth': 12, 'feature_fraction': 0.6242479091434551, 'bagging_fraction': 0.7078633947692076, 'bagging_freq': 10, 'min_data_in_leaf': 193, 'lambda_l1': 2.772015373720097, 'lambda_l2': 4.2463896710611895}.\n"
          ]
        },
        {
          "name": "stdout",
          "output_type": "stream",
          "text": [
            "Did not meet early stopping. Best iteration is:\n",
            "[70]\tvalid_0's auc: 0.960052\tvalid_0's binary_logloss: 0.0980681\n",
            "Training until validation scores don't improve for 50 rounds\n"
          ]
        },
        {
          "name": "stderr",
          "output_type": "stream",
          "text": [
            "[I 2025-06-13 20:06:29,770] Trial 42 finished with values: [0.9462911665127732, 0.24477611940298508] and parameters: {'learning_rate': 0.13054538604037327, 'num_leaves': 69, 'max_depth': 4, 'feature_fraction': 0.7596707417984521, 'bagging_fraction': 0.6491922967108751, 'bagging_freq': 8, 'min_data_in_leaf': 199, 'lambda_l1': 2.8740768207976775, 'lambda_l2': 0.97098940527231}.\n"
          ]
        },
        {
          "name": "stdout",
          "output_type": "stream",
          "text": [
            "Did not meet early stopping. Best iteration is:\n",
            "[66]\tvalid_0's auc: 0.946291\tvalid_0's binary_logloss: 0.201822\n",
            "Training until validation scores don't improve for 50 rounds\n"
          ]
        },
        {
          "name": "stderr",
          "output_type": "stream",
          "text": [
            "[I 2025-06-13 20:06:30,027] Trial 43 finished with values: [0.9142813173284088, 0.0] and parameters: {'learning_rate': 0.03531659259610558, 'num_leaves': 232, 'max_depth': 9, 'feature_fraction': 0.8115186468191404, 'bagging_fraction': 0.6218786894468341, 'bagging_freq': 10, 'min_data_in_leaf': 56, 'lambda_l1': 2.375926109789628, 'lambda_l2': 2.399854947928572}.\n"
          ]
        },
        {
          "name": "stdout",
          "output_type": "stream",
          "text": [
            "Early stopping, best iteration is:\n",
            "[2]\tvalid_0's auc: 0.914281\tvalid_0's binary_logloss: 0.0792324\n",
            "Training until validation scores don't improve for 50 rounds\n"
          ]
        },
        {
          "name": "stderr",
          "output_type": "stream",
          "text": [
            "[I 2025-06-13 20:06:30,586] Trial 44 finished with values: [0.9474389555760747, 0.4371584699453552] and parameters: {'learning_rate': 0.19989811354195136, 'num_leaves': 67, 'max_depth': 4, 'feature_fraction': 0.7651448717827511, 'bagging_fraction': 0.9442325946585356, 'bagging_freq': 6, 'min_data_in_leaf': 104, 'lambda_l1': 0.4822836617765075, 'lambda_l2': 3.2051296091609034}.\n"
          ]
        },
        {
          "name": "stdout",
          "output_type": "stream",
          "text": [
            "Did not meet early stopping. Best iteration is:\n",
            "[100]\tvalid_0's auc: 0.947439\tvalid_0's binary_logloss: 0.0964434\n",
            "Training until validation scores don't improve for 50 rounds\n"
          ]
        },
        {
          "name": "stderr",
          "output_type": "stream",
          "text": [
            "[I 2025-06-13 20:06:30,888] Trial 45 finished with values: [0.8739964860982866, 0.0] and parameters: {'learning_rate': 0.0645888843705889, 'num_leaves': 82, 'max_depth': 9, 'feature_fraction': 0.7886853147981062, 'bagging_fraction': 0.9265130538211555, 'bagging_freq': 8, 'min_data_in_leaf': 101, 'lambda_l1': 3.06849778585537, 'lambda_l2': 4.178712071185333}.\n"
          ]
        },
        {
          "name": "stdout",
          "output_type": "stream",
          "text": [
            "Early stopping, best iteration is:\n",
            "[1]\tvalid_0's auc: 0.873996\tvalid_0's binary_logloss: 0.0971095\n",
            "Training until validation scores don't improve for 50 rounds\n"
          ]
        },
        {
          "name": "stderr",
          "output_type": "stream",
          "text": [
            "[I 2025-06-13 20:06:31,348] Trial 46 finished with values: [0.9565892069354673, 0.47337278106508873] and parameters: {'learning_rate': 0.1939781073882136, 'num_leaves': 149, 'max_depth': 10, 'feature_fraction': 0.759927770813361, 'bagging_fraction': 0.7525280391123207, 'bagging_freq': 3, 'min_data_in_leaf': 172, 'lambda_l1': 3.147620203564809, 'lambda_l2': 2.3892591175592908}.\n"
          ]
        },
        {
          "name": "stdout",
          "output_type": "stream",
          "text": [
            "Did not meet early stopping. Best iteration is:\n",
            "[54]\tvalid_0's auc: 0.956589\tvalid_0's binary_logloss: 0.0855566\n",
            "Training until validation scores don't improve for 50 rounds\n"
          ]
        },
        {
          "name": "stderr",
          "output_type": "stream",
          "text": [
            "[I 2025-06-13 20:06:32,044] Trial 47 finished with values: [0.9605519647070895, 0.47126436781609193] and parameters: {'learning_rate': 0.12761123344567746, 'num_leaves': 218, 'max_depth': 10, 'feature_fraction': 0.9734075450918594, 'bagging_fraction': 0.6567190685764945, 'bagging_freq': 9, 'min_data_in_leaf': 105, 'lambda_l1': 0.4581862215302712, 'lambda_l2': 4.364178078822721}.\n"
          ]
        },
        {
          "name": "stdout",
          "output_type": "stream",
          "text": [
            "Did not meet early stopping. Best iteration is:\n",
            "[60]\tvalid_0's auc: 0.960552\tvalid_0's binary_logloss: 0.0795975\n",
            "Training until validation scores don't improve for 50 rounds\n"
          ]
        },
        {
          "name": "stderr",
          "output_type": "stream",
          "text": [
            "[I 2025-06-13 20:06:32,386] Trial 48 finished with values: [0.9477275058992511, 0.40594059405940597] and parameters: {'learning_rate': 0.18068300188468964, 'num_leaves': 161, 'max_depth': 4, 'feature_fraction': 0.7779765346919928, 'bagging_fraction': 0.9285434258742526, 'bagging_freq': 1, 'min_data_in_leaf': 112, 'lambda_l1': 4.420783416838074, 'lambda_l2': 2.263875316286088}.\n"
          ]
        },
        {
          "name": "stdout",
          "output_type": "stream",
          "text": [
            "Did not meet early stopping. Best iteration is:\n",
            "[98]\tvalid_0's auc: 0.947728\tvalid_0's binary_logloss: 0.104033\n",
            "Training until validation scores don't improve for 50 rounds\n"
          ]
        },
        {
          "name": "stderr",
          "output_type": "stream",
          "text": [
            "[I 2025-06-13 20:06:32,872] Trial 49 finished with values: [0.9640530419616291, 0.36134453781512604] and parameters: {'learning_rate': 0.15048166670895252, 'num_leaves': 44, 'max_depth': 11, 'feature_fraction': 0.8149469988468958, 'bagging_fraction': 0.6241876126260977, 'bagging_freq': 1, 'min_data_in_leaf': 153, 'lambda_l1': 0.7041741342161362, 'lambda_l2': 1.8362624243437904}.\n"
          ]
        },
        {
          "name": "stdout",
          "output_type": "stream",
          "text": [
            "Early stopping, best iteration is:\n",
            "[27]\tvalid_0's auc: 0.964053\tvalid_0's binary_logloss: 0.125329\n",
            "Training until validation scores don't improve for 50 rounds\n"
          ]
        },
        {
          "name": "stderr",
          "output_type": "stream",
          "text": [
            "[I 2025-06-13 20:06:33,735] Trial 50 finished with values: [0.958044783010157, 0.4046242774566474] and parameters: {'learning_rate': 0.1426917622338535, 'num_leaves': 69, 'max_depth': 12, 'feature_fraction': 0.7596707417984521, 'bagging_fraction': 0.7009391492862368, 'bagging_freq': 8, 'min_data_in_leaf': 199, 'lambda_l1': 4.0480298605407485, 'lambda_l2': 3.6742242133603487}.\n"
          ]
        },
        {
          "name": "stdout",
          "output_type": "stream",
          "text": [
            "Did not meet early stopping. Best iteration is:\n",
            "[98]\tvalid_0's auc: 0.958045\tvalid_0's binary_logloss: 0.0826334\n",
            "Training until validation scores don't improve for 50 rounds\n"
          ]
        },
        {
          "name": "stderr",
          "output_type": "stream",
          "text": [
            "[I 2025-06-13 20:06:34,387] Trial 51 finished with values: [0.9652841900071817, 0.5333333333333333] and parameters: {'learning_rate': 0.1580027631549685, 'num_leaves': 198, 'max_depth': 10, 'feature_fraction': 0.8839875734474862, 'bagging_fraction': 0.7625828117841102, 'bagging_freq': 1, 'min_data_in_leaf': 135, 'lambda_l1': 1.7208440020384164, 'lambda_l2': 4.966237373689465}.\n"
          ]
        },
        {
          "name": "stdout",
          "output_type": "stream",
          "text": [
            "Did not meet early stopping. Best iteration is:\n",
            "[100]\tvalid_0's auc: 0.965284\tvalid_0's binary_logloss: 0.060068\n",
            "Training until validation scores don't improve for 50 rounds\n"
          ]
        },
        {
          "name": "stderr",
          "output_type": "stream",
          "text": [
            "[I 2025-06-13 20:06:34,701] Trial 52 finished with values: [0.9545821791320407, 0.2883435582822086] and parameters: {'learning_rate': 0.12761123344567746, 'num_leaves': 218, 'max_depth': 3, 'feature_fraction': 0.7243708295372231, 'bagging_fraction': 0.9942367042708334, 'bagging_freq': 5, 'min_data_in_leaf': 190, 'lambda_l1': 0.7826468269852965, 'lambda_l2': 4.364178078822721}.\n"
          ]
        },
        {
          "name": "stdout",
          "output_type": "stream",
          "text": [
            "Did not meet early stopping. Best iteration is:\n",
            "[100]\tvalid_0's auc: 0.954582\tvalid_0's binary_logloss: 0.208892\n",
            "Training until validation scores don't improve for 50 rounds\n"
          ]
        },
        {
          "name": "stderr",
          "output_type": "stream",
          "text": [
            "[I 2025-06-13 20:06:35,156] Trial 53 finished with values: [0.9561082897301734, 0.5095541401273885] and parameters: {'learning_rate': 0.15235735602417055, 'num_leaves': 88, 'max_depth': 10, 'feature_fraction': 0.9602331227117309, 'bagging_fraction': 0.6629596810523102, 'bagging_freq': 3, 'min_data_in_leaf': 150, 'lambda_l1': 4.222713837760934, 'lambda_l2': 2.3892591175592908}.\n"
          ]
        },
        {
          "name": "stdout",
          "output_type": "stream",
          "text": [
            "Did not meet early stopping. Best iteration is:\n",
            "[100]\tvalid_0's auc: 0.956108\tvalid_0's binary_logloss: 0.0706417\n",
            "Training until validation scores don't improve for 50 rounds\n"
          ]
        },
        {
          "name": "stderr",
          "output_type": "stream",
          "text": [
            "[I 2025-06-13 20:06:35,863] Trial 54 finished with values: [0.9476249102287884, 0.48484848484848486] and parameters: {'learning_rate': 0.1380025315020045, 'num_leaves': 140, 'max_depth': 9, 'feature_fraction': 0.7095003228593956, 'bagging_fraction': 0.8631412139772672, 'bagging_freq': 3, 'min_data_in_leaf': 65, 'lambda_l1': 4.811721291595281, 'lambda_l2': 0.11215096935184965}.\n"
          ]
        },
        {
          "name": "stdout",
          "output_type": "stream",
          "text": [
            "Did not meet early stopping. Best iteration is:\n",
            "[78]\tvalid_0's auc: 0.947625\tvalid_0's binary_logloss: 0.0697536\n",
            "Training until validation scores don't improve for 50 rounds\n"
          ]
        },
        {
          "name": "stderr",
          "output_type": "stream",
          "text": [
            "[I 2025-06-13 20:06:36,257] Trial 55 finished with values: [0.9525751513286139, 0.37272727272727274] and parameters: {'learning_rate': 0.15235735602417055, 'num_leaves': 88, 'max_depth': 4, 'feature_fraction': 0.9602331227117309, 'bagging_fraction': 0.9393827869376059, 'bagging_freq': 3, 'min_data_in_leaf': 150, 'lambda_l1': 4.222713837760934, 'lambda_l2': 2.5720158622367357}.\n"
          ]
        },
        {
          "name": "stdout",
          "output_type": "stream",
          "text": [
            "Did not meet early stopping. Best iteration is:\n",
            "[100]\tvalid_0's auc: 0.952575\tvalid_0's binary_logloss: 0.118392\n",
            "Training until validation scores don't improve for 50 rounds\n"
          ]
        },
        {
          "name": "stderr",
          "output_type": "stream",
          "text": [
            "[I 2025-06-13 20:06:36,737] Trial 56 finished with values: [0.9646942649020211, 0.5058823529411764] and parameters: {'learning_rate': 0.13139169789990784, 'num_leaves': 20, 'max_depth': 10, 'feature_fraction': 0.9734075450918594, 'bagging_fraction': 0.935006976835088, 'bagging_freq': 9, 'min_data_in_leaf': 193, 'lambda_l1': 2.772015373720097, 'lambda_l2': 4.2463896710611895}.\n"
          ]
        },
        {
          "name": "stdout",
          "output_type": "stream",
          "text": [
            "Did not meet early stopping. Best iteration is:\n",
            "[91]\tvalid_0's auc: 0.964694\tvalid_0's binary_logloss: 0.0781664\n",
            "Training until validation scores don't improve for 50 rounds\n"
          ]
        },
        {
          "name": "stderr",
          "output_type": "stream",
          "text": [
            "[I 2025-06-13 20:06:37,064] Trial 57 finished with values: [0.9610649430594029, 0.3028391167192429] and parameters: {'learning_rate': 0.15235735602417055, 'num_leaves': 88, 'max_depth': 4, 'feature_fraction': 0.9602331227117309, 'bagging_fraction': 0.6629596810523102, 'bagging_freq': 7, 'min_data_in_leaf': 120, 'lambda_l1': 4.222713837760934, 'lambda_l2': 0.4775415997106336}.\n"
          ]
        },
        {
          "name": "stdout",
          "output_type": "stream",
          "text": [
            "Early stopping, best iteration is:\n",
            "[49]\tvalid_0's auc: 0.961065\tvalid_0's binary_logloss: 0.181385\n",
            "Training until validation scores don't improve for 50 rounds\n"
          ]
        },
        {
          "name": "stderr",
          "output_type": "stream",
          "text": [
            "[I 2025-06-13 20:06:37,736] Trial 58 finished with values: [0.927105776136247, 0.49056603773584906] and parameters: {'learning_rate': 0.18889575909639167, 'num_leaves': 122, 'max_depth': 9, 'feature_fraction': 0.8305570702288532, 'bagging_fraction': 0.7537026169740353, 'bagging_freq': 8, 'min_data_in_leaf': 65, 'lambda_l1': 4.600934252108168, 'lambda_l2': 4.920558217067025}.\n"
          ]
        },
        {
          "name": "stdout",
          "output_type": "stream",
          "text": [
            "Did not meet early stopping. Best iteration is:\n",
            "[61]\tvalid_0's auc: 0.927106\tvalid_0's binary_logloss: 0.082791\n",
            "Training until validation scores don't improve for 50 rounds\n"
          ]
        },
        {
          "name": "stderr",
          "output_type": "stream",
          "text": [
            "[I 2025-06-13 20:06:38,157] Trial 59 finished with values: [0.9518890427823946, 0.3904761904761905] and parameters: {'learning_rate': 0.128021809088676, 'num_leaves': 30, 'max_depth': 5, 'feature_fraction': 0.8178918858735876, 'bagging_fraction': 0.9393827869376059, 'bagging_freq': 6, 'min_data_in_leaf': 123, 'lambda_l1': 3.5271672194768513, 'lambda_l2': 4.966237373689465}.\n"
          ]
        },
        {
          "name": "stdout",
          "output_type": "stream",
          "text": [
            "Did not meet early stopping. Best iteration is:\n",
            "[99]\tvalid_0's auc: 0.951889\tvalid_0's binary_logloss: 0.106362\n",
            "Training until validation scores don't improve for 50 rounds\n"
          ]
        },
        {
          "name": "stderr",
          "output_type": "stream",
          "text": [
            "[I 2025-06-13 20:06:38,766] Trial 60 finished with values: [0.9531458397455628, 0.44047619047619047] and parameters: {'learning_rate': 0.13139169789990784, 'num_leaves': 20, 'max_depth': 5, 'feature_fraction': 0.6242479091434551, 'bagging_fraction': 0.8110805351399107, 'bagging_freq': 10, 'min_data_in_leaf': 36, 'lambda_l1': 0.2743417205850407, 'lambda_l2': 4.2463896710611895}.\n"
          ]
        },
        {
          "name": "stdout",
          "output_type": "stream",
          "text": [
            "Did not meet early stopping. Best iteration is:\n",
            "[95]\tvalid_0's auc: 0.953146\tvalid_0's binary_logloss: 0.0888909\n",
            "Training until validation scores don't improve for 50 rounds\n"
          ]
        },
        {
          "name": "stderr",
          "output_type": "stream",
          "text": [
            "[I 2025-06-13 20:06:38,971] Trial 61 finished with values: [0.8652662357648506, 0.24615384615384617] and parameters: {'learning_rate': 0.0973541323997992, 'num_leaves': 250, 'max_depth': 3, 'feature_fraction': 0.7243708295372231, 'bagging_fraction': 0.9393827869376059, 'bagging_freq': 5, 'min_data_in_leaf': 190, 'lambda_l1': 3.5271672194768513, 'lambda_l2': 2.5776985760023186}.\n"
          ]
        },
        {
          "name": "stdout",
          "output_type": "stream",
          "text": [
            "Early stopping, best iteration is:\n",
            "[1]\tvalid_0's auc: 0.865266\tvalid_0's binary_logloss: 0.175338\n",
            "Training until validation scores don't improve for 50 rounds\n"
          ]
        },
        {
          "name": "stderr",
          "output_type": "stream",
          "text": [
            "[I 2025-06-13 20:06:39,542] Trial 62 finished with values: [0.9641364009438802, 0.4968944099378882] and parameters: {'learning_rate': 0.0973541323997992, 'num_leaves': 30, 'max_depth': 9, 'feature_fraction': 0.8178918858735876, 'bagging_fraction': 0.9393827869376059, 'bagging_freq': 3, 'min_data_in_leaf': 168, 'lambda_l1': 3.5271672194768513, 'lambda_l2': 0.6605910520872799}.\n"
          ]
        },
        {
          "name": "stdout",
          "output_type": "stream",
          "text": [
            "Did not meet early stopping. Best iteration is:\n",
            "[93]\tvalid_0's auc: 0.964136\tvalid_0's binary_logloss: 0.0722771\n",
            "Training until validation scores don't improve for 50 rounds\n"
          ]
        },
        {
          "name": "stderr",
          "output_type": "stream",
          "text": [
            "[I 2025-06-13 20:06:39,842] Trial 63 finished with values: [0.9575253924284395, 0.2789317507418398] and parameters: {'learning_rate': 0.11103360988414268, 'num_leaves': 146, 'max_depth': 3, 'feature_fraction': 0.6697473399512561, 'bagging_fraction': 0.7663990554641487, 'bagging_freq': 8, 'min_data_in_leaf': 15, 'lambda_l1': 2.6052898350749616, 'lambda_l2': 3.7203071555192597}.\n"
          ]
        },
        {
          "name": "stdout",
          "output_type": "stream",
          "text": [
            "Did not meet early stopping. Best iteration is:\n",
            "[98]\tvalid_0's auc: 0.957525\tvalid_0's binary_logloss: 0.19026\n",
            "Training until validation scores don't improve for 50 rounds\n"
          ]
        },
        {
          "name": "stderr",
          "output_type": "stream",
          "text": [
            "[I 2025-06-13 20:06:40,495] Trial 64 finished with values: [0.9430081050579665, 0.5076923076923077] and parameters: {'learning_rate': 0.1863945010632158, 'num_leaves': 69, 'max_depth': 5, 'feature_fraction': 0.7103650521230974, 'bagging_fraction': 0.8504663662144317, 'bagging_freq': 8, 'min_data_in_leaf': 36, 'lambda_l1': 4.93011032097988, 'lambda_l2': 0.9467805415733654}.\n"
          ]
        },
        {
          "name": "stdout",
          "output_type": "stream",
          "text": [
            "Did not meet early stopping. Best iteration is:\n",
            "[100]\tvalid_0's auc: 0.943008\tvalid_0's binary_logloss: 0.0732997\n",
            "Training until validation scores don't improve for 50 rounds\n"
          ]
        },
        {
          "name": "stderr",
          "output_type": "stream",
          "text": [
            "[I 2025-06-13 20:06:40,933] Trial 65 finished with values: [0.9639376218323588, 0.4772727272727273] and parameters: {'learning_rate': 0.09636082006389705, 'num_leaves': 98, 'max_depth': 6, 'feature_fraction': 0.8383109558532399, 'bagging_fraction': 0.7624955721343866, 'bagging_freq': 8, 'min_data_in_leaf': 36, 'lambda_l1': 4.93011032097988, 'lambda_l2': 4.121919043242559}.\n"
          ]
        },
        {
          "name": "stdout",
          "output_type": "stream",
          "text": [
            "Did not meet early stopping. Best iteration is:\n",
            "[100]\tvalid_0's auc: 0.963938\tvalid_0's binary_logloss: 0.0856876\n",
            "Training until validation scores don't improve for 50 rounds\n"
          ]
        },
        {
          "name": "stderr",
          "output_type": "stream",
          "text": [
            "[I 2025-06-13 20:06:41,418] Trial 66 finished with values: [0.9573779111521494, 0.42424242424242425] and parameters: {'learning_rate': 0.11667269209940277, 'num_leaves': 99, 'max_depth': 9, 'feature_fraction': 0.9915118232665916, 'bagging_fraction': 0.6089240657529246, 'bagging_freq': 8, 'min_data_in_leaf': 69, 'lambda_l1': 4.102497241231006, 'lambda_l2': 3.802014566975137}.\n"
          ]
        },
        {
          "name": "stdout",
          "output_type": "stream",
          "text": [
            "Did not meet early stopping. Best iteration is:\n",
            "[52]\tvalid_0's auc: 0.957378\tvalid_0's binary_logloss: 0.0978135\n",
            "Training until validation scores don't improve for 50 rounds\n"
          ]
        },
        {
          "name": "stderr",
          "output_type": "stream",
          "text": [
            "[I 2025-06-13 20:06:41,876] Trial 67 finished with values: [0.8993344105878731, 0.0] and parameters: {'learning_rate': 0.01711283847069692, 'num_leaves': 105, 'max_depth': 4, 'feature_fraction': 0.9088197111086062, 'bagging_fraction': 0.9872949946007609, 'bagging_freq': 2, 'min_data_in_leaf': 177, 'lambda_l1': 1.5187795751202038, 'lambda_l2': 4.173108886988015}.\n"
          ]
        },
        {
          "name": "stdout",
          "output_type": "stream",
          "text": [
            "Early stopping, best iteration is:\n",
            "[3]\tvalid_0's auc: 0.899334\tvalid_0's binary_logloss: 0.0826737\n",
            "Training until validation scores don't improve for 50 rounds\n"
          ]
        },
        {
          "name": "stderr",
          "output_type": "stream",
          "text": [
            "[I 2025-06-13 20:06:42,327] Trial 68 finished with values: [0.9304016620498615, 0.43902439024390244] and parameters: {'learning_rate': 0.18068300188468964, 'num_leaves': 218, 'max_depth': 10, 'feature_fraction': 0.9734075450918594, 'bagging_fraction': 0.6567190685764945, 'bagging_freq': 9, 'min_data_in_leaf': 105, 'lambda_l1': 4.420783416838074, 'lambda_l2': 2.263875316286088}.\n"
          ]
        },
        {
          "name": "stdout",
          "output_type": "stream",
          "text": [
            "Did not meet early stopping. Best iteration is:\n",
            "[66]\tvalid_0's auc: 0.930402\tvalid_0's binary_logloss: 0.0885849\n",
            "Training until validation scores don't improve for 50 rounds\n"
          ]
        },
        {
          "name": "stderr",
          "output_type": "stream",
          "text": [
            "[I 2025-06-13 20:06:42,656] Trial 69 finished with values: [0.9570316507643377, 0.23316062176165803] and parameters: {'learning_rate': 0.13497578687742728, 'num_leaves': 74, 'max_depth': 3, 'feature_fraction': 0.6411711283252101, 'bagging_fraction': 0.9942367042708334, 'bagging_freq': 5, 'min_data_in_leaf': 59, 'lambda_l1': 0.7826468269852965, 'lambda_l2': 2.5776985760023186}.\n"
          ]
        },
        {
          "name": "stdout",
          "output_type": "stream",
          "text": [
            "Did not meet early stopping. Best iteration is:\n",
            "[68]\tvalid_0's auc: 0.957032\tvalid_0's binary_logloss: 0.217538\n",
            "Training until validation scores don't improve for 50 rounds\n"
          ]
        },
        {
          "name": "stderr",
          "output_type": "stream",
          "text": [
            "[I 2025-06-13 20:06:42,933] Trial 70 finished with values: [0.9234796604083307, 0.0] and parameters: {'learning_rate': 0.036733503328038965, 'num_leaves': 149, 'max_depth': 10, 'feature_fraction': 0.759927770813361, 'bagging_fraction': 0.7525280391123207, 'bagging_freq': 8, 'min_data_in_leaf': 33, 'lambda_l1': 4.0480298605407485, 'lambda_l2': 2.3892591175592908}.\n"
          ]
        },
        {
          "name": "stdout",
          "output_type": "stream",
          "text": [
            "Early stopping, best iteration is:\n",
            "[2]\tvalid_0's auc: 0.92348\tvalid_0's binary_logloss: 0.0793959\n",
            "Training until validation scores don't improve for 50 rounds\n"
          ]
        },
        {
          "name": "stderr",
          "output_type": "stream",
          "text": [
            "[I 2025-06-13 20:06:43,507] Trial 71 finished with values: [0.943610854621935, 0.303886925795053] and parameters: {'learning_rate': 0.1985787506772346, 'num_leaves': 51, 'max_depth': 3, 'feature_fraction': 0.7812714311392397, 'bagging_fraction': 0.9512560660897939, 'bagging_freq': 6, 'min_data_in_leaf': 61, 'lambda_l1': 2.2581304828422386, 'lambda_l2': 3.7589473914884253}.\n"
          ]
        },
        {
          "name": "stdout",
          "output_type": "stream",
          "text": [
            "Did not meet early stopping. Best iteration is:\n",
            "[98]\tvalid_0's auc: 0.943611\tvalid_0's binary_logloss: 0.149458\n",
            "Training until validation scores don't improve for 50 rounds\n"
          ]
        },
        {
          "name": "stderr",
          "output_type": "stream",
          "text": [
            "[I 2025-06-13 20:06:43,789] Trial 72 finished with values: [0.9582307376628707, 0.32167832167832167] and parameters: {'learning_rate': 0.18068300188468964, 'num_leaves': 52, 'max_depth': 3, 'feature_fraction': 0.7779765346919928, 'bagging_fraction': 0.9285434258742526, 'bagging_freq': 1, 'min_data_in_leaf': 15, 'lambda_l1': 2.6052898350749616, 'lambda_l2': 2.263875316286088}.\n"
          ]
        },
        {
          "name": "stdout",
          "output_type": "stream",
          "text": [
            "Did not meet early stopping. Best iteration is:\n",
            "[98]\tvalid_0's auc: 0.958231\tvalid_0's binary_logloss: 0.148122\n",
            "Training until validation scores don't improve for 50 rounds\n"
          ]
        },
        {
          "name": "stderr",
          "output_type": "stream",
          "text": [
            "[I 2025-06-13 20:06:44,305] Trial 73 finished with values: [0.9507348414896891, 0.5] and parameters: {'learning_rate': 0.16827749156266175, 'num_leaves': 204, 'max_depth': 10, 'feature_fraction': 0.6867961841878291, 'bagging_fraction': 0.7525280391123207, 'bagging_freq': 3, 'min_data_in_leaf': 196, 'lambda_l1': 2.2962026482373146, 'lambda_l2': 2.3892591175592908}.\n"
          ]
        },
        {
          "name": "stdout",
          "output_type": "stream",
          "text": [
            "Did not meet early stopping. Best iteration is:\n",
            "[98]\tvalid_0's auc: 0.950735\tvalid_0's binary_logloss: 0.0697417\n",
            "Training until validation scores don't improve for 50 rounds\n"
          ]
        },
        {
          "name": "stderr",
          "output_type": "stream",
          "text": [
            "[I 2025-06-13 20:06:45,060] Trial 74 finished with values: [0.870158766800041, 0.0] and parameters: {'learning_rate': 0.06431480991062519, 'num_leaves': 44, 'max_depth': 9, 'feature_fraction': 0.8149469988468958, 'bagging_fraction': 0.9512560660897939, 'bagging_freq': 1, 'min_data_in_leaf': 153, 'lambda_l1': 2.2581304828422386, 'lambda_l2': 1.8362624243437904}.\n"
          ]
        },
        {
          "name": "stdout",
          "output_type": "stream",
          "text": [
            "Early stopping, best iteration is:\n",
            "[1]\tvalid_0's auc: 0.870159\tvalid_0's binary_logloss: 0.0975027\n",
            "Training until validation scores don't improve for 50 rounds\n"
          ]
        },
        {
          "name": "stderr",
          "output_type": "stream",
          "text": [
            "[I 2025-06-13 20:06:45,584] Trial 75 finished with values: [0.9558902739304402, 0.4120603015075377] and parameters: {'learning_rate': 0.18068300188468964, 'num_leaves': 32, 'max_depth': 4, 'feature_fraction': 0.9602331227117309, 'bagging_fraction': 0.9285434258742526, 'bagging_freq': 7, 'min_data_in_leaf': 112, 'lambda_l1': 4.420783416838074, 'lambda_l2': 2.263875316286088}.\n"
          ]
        },
        {
          "name": "stdout",
          "output_type": "stream",
          "text": [
            "Did not meet early stopping. Best iteration is:\n",
            "[97]\tvalid_0's auc: 0.95589\tvalid_0's binary_logloss: 0.101846\n",
            "Training until validation scores don't improve for 50 rounds\n"
          ]
        },
        {
          "name": "stderr",
          "output_type": "stream",
          "text": [
            "[I 2025-06-13 20:06:45,916] Trial 76 finished with values: [0.9350409100235969, 0.0] and parameters: {'learning_rate': 0.01711283847069692, 'num_leaves': 224, 'max_depth': 4, 'feature_fraction': 0.7243708295372231, 'bagging_fraction': 0.9942367042708334, 'bagging_freq': 5, 'min_data_in_leaf': 190, 'lambda_l1': 3.341772100662576, 'lambda_l2': 2.5776985760023186}.\n"
          ]
        },
        {
          "name": "stdout",
          "output_type": "stream",
          "text": [
            "Early stopping, best iteration is:\n",
            "[3]\tvalid_0's auc: 0.935041\tvalid_0's binary_logloss: 0.0823065\n",
            "Training until validation scores don't improve for 50 rounds\n"
          ]
        },
        {
          "name": "stderr",
          "output_type": "stream",
          "text": [
            "[I 2025-06-13 20:06:46,358] Trial 77 finished with values: [0.9608020416538421, 0.43137254901960786] and parameters: {'learning_rate': 0.18068300188468964, 'num_leaves': 161, 'max_depth': 4, 'feature_fraction': 0.8839875734474862, 'bagging_fraction': 0.7625828117841102, 'bagging_freq': 1, 'min_data_in_leaf': 112, 'lambda_l1': 4.420783416838074, 'lambda_l2': 3.6121511232239074}.\n"
          ]
        },
        {
          "name": "stdout",
          "output_type": "stream",
          "text": [
            "Did not meet early stopping. Best iteration is:\n",
            "[99]\tvalid_0's auc: 0.960802\tvalid_0's binary_logloss: 0.102879\n",
            "Training until validation scores don't improve for 50 rounds\n"
          ]
        },
        {
          "name": "stderr",
          "output_type": "stream",
          "text": [
            "[I 2025-06-13 20:06:47,041] Trial 78 finished with values: [0.9462013953011182, 0.4528301886792453] and parameters: {'learning_rate': 0.15235735602417055, 'num_leaves': 88, 'max_depth': 10, 'feature_fraction': 0.9602331227117309, 'bagging_fraction': 0.6629596810523102, 'bagging_freq': 7, 'min_data_in_leaf': 150, 'lambda_l1': 1.399251524176841, 'lambda_l2': 2.5720158622367357}.\n"
          ]
        },
        {
          "name": "stdout",
          "output_type": "stream",
          "text": [
            "Early stopping, best iteration is:\n",
            "[49]\tvalid_0's auc: 0.946201\tvalid_0's binary_logloss: 0.0858029\n",
            "Training until validation scores don't improve for 50 rounds\n"
          ]
        },
        {
          "name": "stderr",
          "output_type": "stream",
          "text": [
            "[I 2025-06-13 20:06:47,304] Trial 79 finished with values: [0.8683312814199241, 0.0] and parameters: {'learning_rate': 0.08334854307862763, 'num_leaves': 99, 'max_depth': 7, 'feature_fraction': 0.8889815762775094, 'bagging_fraction': 0.7009391492862368, 'bagging_freq': 5, 'min_data_in_leaf': 157, 'lambda_l1': 4.102497241231006, 'lambda_l2': 3.6742242133603487}.\n"
          ]
        },
        {
          "name": "stdout",
          "output_type": "stream",
          "text": [
            "Early stopping, best iteration is:\n",
            "[1]\tvalid_0's auc: 0.868331\tvalid_0's binary_logloss: 0.125823\n",
            "Training until validation scores don't improve for 50 rounds\n"
          ]
        },
        {
          "name": "stderr",
          "output_type": "stream",
          "text": [
            "[I 2025-06-13 20:06:47,685] Trial 80 finished with values: [0.9418859649122807, 0.40609137055837563] and parameters: {'learning_rate': 0.1556990643891862, 'num_leaves': 132, 'max_depth': 5, 'feature_fraction': 0.7634759654187324, 'bagging_fraction': 0.7360548651524736, 'bagging_freq': 9, 'min_data_in_leaf': 138, 'lambda_l1': 0.1150780575692506, 'lambda_l2': 0.67381226196919}.\n"
          ]
        },
        {
          "name": "stdout",
          "output_type": "stream",
          "text": [
            "Did not meet early stopping. Best iteration is:\n",
            "[70]\tvalid_0's auc: 0.941886\tvalid_0's binary_logloss: 0.108993\n",
            "Training until validation scores don't improve for 50 rounds\n"
          ]
        },
        {
          "name": "stderr",
          "output_type": "stream",
          "text": [
            "[I 2025-06-13 20:06:47,988] Trial 81 finished with values: [0.9626680004103828, 0.26631853785900783] and parameters: {'learning_rate': 0.11103360988414268, 'num_leaves': 52, 'max_depth': 3, 'feature_fraction': 0.8178918858735876, 'bagging_fraction': 0.7663990554641487, 'bagging_freq': 8, 'min_data_in_leaf': 168, 'lambda_l1': 3.5271672194768513, 'lambda_l2': 0.6605910520872799}.\n"
          ]
        },
        {
          "name": "stdout",
          "output_type": "stream",
          "text": [
            "Did not meet early stopping. Best iteration is:\n",
            "[81]\tvalid_0's auc: 0.962668\tvalid_0's binary_logloss: 0.227776\n",
            "Training until validation scores don't improve for 50 rounds\n"
          ]
        },
        {
          "name": "stderr",
          "output_type": "stream",
          "text": [
            "[I 2025-06-13 20:06:48,803] Trial 82 finished with values: [0.9473363599056119, 0.512] and parameters: {'learning_rate': 0.1580027631549685, 'num_leaves': 249, 'max_depth': 12, 'feature_fraction': 0.7103650521230974, 'bagging_fraction': 0.7625828117841102, 'bagging_freq': 4, 'min_data_in_leaf': 73, 'lambda_l1': 2.4270856625329573, 'lambda_l2': 3.6121511232239074}.\n"
          ]
        },
        {
          "name": "stdout",
          "output_type": "stream",
          "text": [
            "Did not meet early stopping. Best iteration is:\n",
            "[100]\tvalid_0's auc: 0.947336\tvalid_0's binary_logloss: 0.0613378\n",
            "Training until validation scores don't improve for 50 rounds\n"
          ]
        },
        {
          "name": "stderr",
          "output_type": "stream",
          "text": [
            "[I 2025-06-13 20:06:49,263] Trial 83 finished with values: [0.9454639889196675, 0.4262295081967213] and parameters: {'learning_rate': 0.14459207383422765, 'num_leaves': 49, 'max_depth': 8, 'feature_fraction': 0.9734075450918594, 'bagging_fraction': 0.6567190685764945, 'bagging_freq': 9, 'min_data_in_leaf': 105, 'lambda_l1': 0.4581862215302712, 'lambda_l2': 0.5695540684572287}.\n"
          ]
        },
        {
          "name": "stdout",
          "output_type": "stream",
          "text": [
            "Early stopping, best iteration is:\n",
            "[46]\tvalid_0's auc: 0.945464\tvalid_0's binary_logloss: 0.0942676\n",
            "Training until validation scores don't improve for 50 rounds\n"
          ]
        },
        {
          "name": "stderr",
          "output_type": "stream",
          "text": [
            "[I 2025-06-13 20:06:49,538] Trial 84 finished with values: [0.9291256283984816, 0.0] and parameters: {'learning_rate': 0.011252044757547718, 'num_leaves': 83, 'max_depth': 9, 'feature_fraction': 0.6768777491107174, 'bagging_fraction': 0.6126072277921103, 'bagging_freq': 2, 'min_data_in_leaf': 149, 'lambda_l1': 2.427444638675114, 'lambda_l2': 4.505775907658566}.\n"
          ]
        },
        {
          "name": "stdout",
          "output_type": "stream",
          "text": [
            "Early stopping, best iteration is:\n",
            "[6]\tvalid_0's auc: 0.929126\tvalid_0's binary_logloss: 0.0824534\n",
            "Training until validation scores don't improve for 50 rounds\n"
          ]
        },
        {
          "name": "stderr",
          "output_type": "stream",
          "text": [
            "[I 2025-06-13 20:06:49,965] Trial 85 finished with values: [0.9369549605006668, 0.4444444444444444] and parameters: {'learning_rate': 0.18889575909639167, 'num_leaves': 22, 'max_depth': 5, 'feature_fraction': 0.7095003228593956, 'bagging_fraction': 0.7023428407985353, 'bagging_freq': 8, 'min_data_in_leaf': 65, 'lambda_l1': 2.2492949089903247, 'lambda_l2': 1.1466146416854983}.\n"
          ]
        },
        {
          "name": "stdout",
          "output_type": "stream",
          "text": [
            "Did not meet early stopping. Best iteration is:\n",
            "[98]\tvalid_0's auc: 0.936955\tvalid_0's binary_logloss: 0.0855293\n",
            "Training until validation scores don't improve for 50 rounds\n"
          ]
        },
        {
          "name": "stderr",
          "output_type": "stream",
          "text": [
            "[I 2025-06-13 20:06:50,700] Trial 86 finished with values: [0.9516517902944496, 0.5538461538461539] and parameters: {'learning_rate': 0.14820309908455007, 'num_leaves': 107, 'max_depth': 7, 'feature_fraction': 0.9632255006851129, 'bagging_fraction': 0.7205750973322022, 'bagging_freq': 3, 'min_data_in_leaf': 30, 'lambda_l1': 1.0024649173278133, 'lambda_l2': 2.7500069427141676}.\n"
          ]
        },
        {
          "name": "stdout",
          "output_type": "stream",
          "text": [
            "Did not meet early stopping. Best iteration is:\n",
            "[90]\tvalid_0's auc: 0.951652\tvalid_0's binary_logloss: 0.0630592\n",
            "Training until validation scores don't improve for 50 rounds\n"
          ]
        },
        {
          "name": "stderr",
          "output_type": "stream",
          "text": [
            "[I 2025-06-13 20:06:51,232] Trial 87 finished with values: [0.9474389555760747, 0.5] and parameters: {'learning_rate': 0.0973541323997992, 'num_leaves': 179, 'max_depth': 10, 'feature_fraction': 0.8889815762775094, 'bagging_fraction': 0.7009391492862368, 'bagging_freq': 8, 'min_data_in_leaf': 33, 'lambda_l1': 3.5271672194768513, 'lambda_l2': 1.4941732760884636}.\n"
          ]
        },
        {
          "name": "stdout",
          "output_type": "stream",
          "text": [
            "Did not meet early stopping. Best iteration is:\n",
            "[60]\tvalid_0's auc: 0.947439\tvalid_0's binary_logloss: 0.0801047\n",
            "Training until validation scores don't improve for 50 rounds\n"
          ]
        },
        {
          "name": "stderr",
          "output_type": "stream",
          "text": [
            "[I 2025-06-13 20:06:51,885] Trial 88 finished with values: [0.9491253719093055, 0.4180790960451977] and parameters: {'learning_rate': 0.1380025315020045, 'num_leaves': 219, 'max_depth': 5, 'feature_fraction': 0.6402942973174927, 'bagging_fraction': 0.9395995572662414, 'bagging_freq': 3, 'min_data_in_leaf': 80, 'lambda_l1': 4.1042214611694705, 'lambda_l2': 0.25472844814571793}.\n"
          ]
        },
        {
          "name": "stdout",
          "output_type": "stream",
          "text": [
            "Did not meet early stopping. Best iteration is:\n",
            "[89]\tvalid_0's auc: 0.949125\tvalid_0's binary_logloss: 0.0935306\n",
            "Training until validation scores don't improve for 50 rounds\n"
          ]
        },
        {
          "name": "stderr",
          "output_type": "stream",
          "text": [
            "[I 2025-06-13 20:06:52,404] Trial 89 finished with values: [0.9430722273520058, 0.532258064516129] and parameters: {'learning_rate': 0.18068300188468964, 'num_leaves': 161, 'max_depth': 8, 'feature_fraction': 0.7103650521230974, 'bagging_fraction': 0.8504663662144317, 'bagging_freq': 4, 'min_data_in_leaf': 112, 'lambda_l1': 2.4270856625329573, 'lambda_l2': 0.9467805415733654}.\n"
          ]
        },
        {
          "name": "stdout",
          "output_type": "stream",
          "text": [
            "Did not meet early stopping. Best iteration is:\n",
            "[100]\tvalid_0's auc: 0.943072\tvalid_0's binary_logloss: 0.0644998\n",
            "Training until validation scores don't improve for 50 rounds\n"
          ]
        },
        {
          "name": "stderr",
          "output_type": "stream",
          "text": [
            "[I 2025-06-13 20:06:52,756] Trial 90 finished with values: [0.9486957525392429, 0.3373493975903614] and parameters: {'learning_rate': 0.1678817171853569, 'num_leaves': 74, 'max_depth': 4, 'feature_fraction': 0.9924133727183609, 'bagging_fraction': 0.6754802144057013, 'bagging_freq': 9, 'min_data_in_leaf': 59, 'lambda_l1': 4.655909793101647, 'lambda_l2': 0.4775415997106336}.\n"
          ]
        },
        {
          "name": "stdout",
          "output_type": "stream",
          "text": [
            "Did not meet early stopping. Best iteration is:\n",
            "[60]\tvalid_0's auc: 0.948696\tvalid_0's binary_logloss: 0.135931\n",
            "Training until validation scores don't improve for 50 rounds\n"
          ]
        },
        {
          "name": "stderr",
          "output_type": "stream",
          "text": [
            "[I 2025-06-13 20:06:53,059] Trial 91 finished with values: [0.9593657022673643, 0.2916666666666667] and parameters: {'learning_rate': 0.11103360988414268, 'num_leaves': 198, 'max_depth': 3, 'feature_fraction': 0.8920344463608992, 'bagging_fraction': 0.6559690297704378, 'bagging_freq': 8, 'min_data_in_leaf': 15, 'lambda_l1': 0.8790643820533928, 'lambda_l2': 4.966237373689465}.\n"
          ]
        },
        {
          "name": "stdout",
          "output_type": "stream",
          "text": [
            "Did not meet early stopping. Best iteration is:\n",
            "[100]\tvalid_0's auc: 0.959366\tvalid_0's binary_logloss: 0.187787\n",
            "Training until validation scores don't improve for 50 rounds\n"
          ]
        },
        {
          "name": "stderr",
          "output_type": "stream",
          "text": [
            "[I 2025-06-13 20:06:53,836] Trial 92 finished with values: [0.9443033753975583, 0.5333333333333333] and parameters: {'learning_rate': 0.14820309908455007, 'num_leaves': 43, 'max_depth': 9, 'feature_fraction': 0.7781676241386702, 'bagging_fraction': 0.747991503636521, 'bagging_freq': 9, 'min_data_in_leaf': 30, 'lambda_l1': 1.0024649173278133, 'lambda_l2': 2.3609279444335884}.\n"
          ]
        },
        {
          "name": "stdout",
          "output_type": "stream",
          "text": [
            "Did not meet early stopping. Best iteration is:\n",
            "[75]\tvalid_0's auc: 0.944303\tvalid_0's binary_logloss: 0.0602561\n",
            "Training until validation scores don't improve for 50 rounds\n"
          ]
        },
        {
          "name": "stderr",
          "output_type": "stream",
          "text": [
            "[I 2025-06-13 20:06:54,047] Trial 93 finished with values: [0.8519352108341028, 0.0] and parameters: {'learning_rate': 0.08120672966941112, 'num_leaves': 154, 'max_depth': 4, 'feature_fraction': 0.789289306023092, 'bagging_fraction': 0.6933889298139675, 'bagging_freq': 6, 'min_data_in_leaf': 104, 'lambda_l1': 2.967629973747411, 'lambda_l2': 3.6532611962230384}.\n"
          ]
        },
        {
          "name": "stdout",
          "output_type": "stream",
          "text": [
            "Early stopping, best iteration is:\n",
            "[1]\tvalid_0's auc: 0.851935\tvalid_0's binary_logloss: 0.14652\n",
            "Training until validation scores don't improve for 50 rounds\n"
          ]
        },
        {
          "name": "stderr",
          "output_type": "stream",
          "text": [
            "[I 2025-06-13 20:06:54,745] Trial 94 finished with values: [0.9409882527957321, 0.4180790960451977] and parameters: {'learning_rate': 0.0973541323997992, 'num_leaves': 30, 'max_depth': 9, 'feature_fraction': 0.8178918858735876, 'bagging_fraction': 0.6988453573527031, 'bagging_freq': 6, 'min_data_in_leaf': 168, 'lambda_l1': 3.5271672194768513, 'lambda_l2': 0.6605910520872799}.\n"
          ]
        },
        {
          "name": "stdout",
          "output_type": "stream",
          "text": [
            "Did not meet early stopping. Best iteration is:\n",
            "[99]\tvalid_0's auc: 0.940988\tvalid_0's binary_logloss: 0.09163\n",
            "Training until validation scores don't improve for 50 rounds\n"
          ]
        },
        {
          "name": "stderr",
          "output_type": "stream",
          "text": [
            "[I 2025-06-13 20:06:55,019] Trial 95 finished with values: [0.9248967631065967, 0.0] and parameters: {'learning_rate': 0.020549975513632773, 'num_leaves': 224, 'max_depth': 7, 'feature_fraction': 0.9669427634162024, 'bagging_fraction': 0.7438798235988181, 'bagging_freq': 10, 'min_data_in_leaf': 35, 'lambda_l1': 4.653508170446198, 'lambda_l2': 1.7905425756765936}.\n"
          ]
        },
        {
          "name": "stdout",
          "output_type": "stream",
          "text": [
            "Early stopping, best iteration is:\n",
            "[4]\tvalid_0's auc: 0.924897\tvalid_0's binary_logloss: 0.0782565\n",
            "Training until validation scores don't improve for 50 rounds\n"
          ]
        },
        {
          "name": "stderr",
          "output_type": "stream",
          "text": [
            "[I 2025-06-13 20:06:55,554] Trial 96 finished with values: [0.9584808146096234, 0.4900662251655629] and parameters: {'learning_rate': 0.13964230098766792, 'num_leaves': 230, 'max_depth': 10, 'feature_fraction': 0.9933494168715331, 'bagging_fraction': 0.8040880102266655, 'bagging_freq': 6, 'min_data_in_leaf': 114, 'lambda_l1': 4.238719773620382, 'lambda_l2': 4.966237373689465}.\n"
          ]
        },
        {
          "name": "stdout",
          "output_type": "stream",
          "text": [
            "Did not meet early stopping. Best iteration is:\n",
            "[99]\tvalid_0's auc: 0.958481\tvalid_0's binary_logloss: 0.0686916\n",
            "Training until validation scores don't improve for 50 rounds\n"
          ]
        },
        {
          "name": "stderr",
          "output_type": "stream",
          "text": [
            "[I 2025-06-13 20:06:56,103] Trial 97 finished with values: [0.9381476351697959, 0.5426356589147286] and parameters: {'learning_rate': 0.14820309908455007, 'num_leaves': 107, 'max_depth': 8, 'feature_fraction': 0.8123374875813326, 'bagging_fraction': 0.8272456249225338, 'bagging_freq': 9, 'min_data_in_leaf': 81, 'lambda_l1': 1.0024649173278133, 'lambda_l2': 4.505775907658566}.\n"
          ]
        },
        {
          "name": "stdout",
          "output_type": "stream",
          "text": [
            "Did not meet early stopping. Best iteration is:\n",
            "[100]\tvalid_0's auc: 0.938148\tvalid_0's binary_logloss: 0.0642972\n",
            "Training until validation scores don't improve for 50 rounds\n"
          ]
        },
        {
          "name": "stderr",
          "output_type": "stream",
          "text": [
            "[I 2025-06-13 20:06:56,875] Trial 98 finished with values: [0.957724171539961, 0.47560975609756095] and parameters: {'learning_rate': 0.128021809088676, 'num_leaves': 99, 'max_depth': 10, 'feature_fraction': 0.8954651498946518, 'bagging_fraction': 0.6089240657529246, 'bagging_freq': 10, 'min_data_in_leaf': 69, 'lambda_l1': 4.102497241231006, 'lambda_l2': 4.966237373689465}.\n"
          ]
        },
        {
          "name": "stdout",
          "output_type": "stream",
          "text": [
            "Did not meet early stopping. Best iteration is:\n",
            "[69]\tvalid_0's auc: 0.957724\tvalid_0's binary_logloss: 0.0813319\n",
            "Training until validation scores don't improve for 50 rounds\n"
          ]
        },
        {
          "name": "stderr",
          "output_type": "stream",
          "text": [
            "[I 2025-06-13 20:06:57,858] Trial 99 finished with values: [0.9517607981943161, 0.47058823529411764] and parameters: {'learning_rate': 0.1556990643891862, 'num_leaves': 119, 'max_depth': 11, 'feature_fraction': 0.8198984165355476, 'bagging_fraction': 0.7105639289826764, 'bagging_freq': 2, 'min_data_in_leaf': 82, 'lambda_l1': 3.8488935500103745, 'lambda_l2': 0.21410978624226362}.\n"
          ]
        },
        {
          "name": "stdout",
          "output_type": "stream",
          "text": [
            "Did not meet early stopping. Best iteration is:\n",
            "[100]\tvalid_0's auc: 0.951761\tvalid_0's binary_logloss: 0.0673636\n"
          ]
        }
      ],
      "source": [
        "study = optuna.create_study(\n",
        "    directions=[\"maximize\", \"maximize\"],  # AUC and F1\n",
        ")\n",
        "study.optimize(lambda trial: objective(trial, X_train, y_train, X_val, y_val), n_trials=100)\n"
      ]
    },
    {
      "cell_type": "code",
      "execution_count": 105,
      "metadata": {
        "colab": {
          "base_uri": "https://localhost:8080/",
          "height": 542
        },
        "id": "6tVDlAHL5Z7o",
        "outputId": "216767ae-f2bc-4490-c188-a09859271474"
      },
      "outputs": [
        {
          "data": {
            "text/html": [
              "<html>\n",
              "<head><meta charset=\"utf-8\" /></head>\n",
              "<body>\n",
              "    <div>            <script src=\"https://cdnjs.cloudflare.com/ajax/libs/mathjax/2.7.5/MathJax.js?config=TeX-AMS-MML_SVG\"></script><script type=\"text/javascript\">if (window.MathJax && window.MathJax.Hub && window.MathJax.Hub.Config) {window.MathJax.Hub.Config({SVG: {font: \"STIX-Web\"}});}</script>                <script type=\"text/javascript\">window.PlotlyConfig = {MathJaxConfig: 'local'};</script>\n",
              "        <script charset=\"utf-8\" src=\"https://cdn.plot.ly/plotly-2.35.2.min.js\"></script>                <div id=\"074374e8-9583-4ee0-9ad6-f9e24deef03c\" class=\"plotly-graph-div\" style=\"height:525px; width:100%;\"></div>            <script type=\"text/javascript\">                                    window.PLOTLYENV=window.PLOTLYENV || {};                                    if (document.getElementById(\"074374e8-9583-4ee0-9ad6-f9e24deef03c\")) {                    Plotly.newPlot(                        \"074374e8-9583-4ee0-9ad6-f9e24deef03c\",                        [{\"hovertemplate\":\"%{text}\\u003cextra\\u003eTrial\\u003c\\u002fextra\\u003e\",\"marker\":{\"color\":[0,1,2,3,4,5,6,8,9,10,11,12,13,14,15,16,17,18,19,20,21,22,23,24,25,26,28,30,31,32,33,34,35,36,37,38,40,41,42,43,44,45,46,47,48,49,50,52,53,54,55,56,57,58,59,60,61,62,63,64,65,66,67,68,69,70,71,72,73,74,75,76,77,78,79,80,81,82,83,84,85,87,88,89,90,91,92,93,94,95,96,97,98,99],\"colorbar\":{\"title\":{\"text\":\"Trial\"}},\"colorscale\":[[0.0,\"rgb(247,251,255)\"],[0.125,\"rgb(222,235,247)\"],[0.25,\"rgb(198,219,239)\"],[0.375,\"rgb(158,202,225)\"],[0.5,\"rgb(107,174,214)\"],[0.625,\"rgb(66,146,198)\"],[0.75,\"rgb(33,113,181)\"],[0.875,\"rgb(8,81,156)\"],[1.0,\"rgb(8,48,107)\"]],\"line\":{\"color\":\"Grey\",\"width\":0.5}},\"mode\":\"markers\",\"showlegend\":false,\"text\":[\"{\\u003cbr\\u003e  \\\"number\\\": 0,\\u003cbr\\u003e  \\\"values\\\": [\\u003cbr\\u003e    0.954473171232174,\\u003cbr\\u003e    0.2830188679245283\\u003cbr\\u003e  ],\\u003cbr\\u003e  \\\"params\\\": {\\u003cbr\\u003e    \\\"learning_rate\\\": 0.1678817171853569,\\u003cbr\\u003e    \\\"num_leaves\\\": 125,\\u003cbr\\u003e    \\\"max_depth\\\": 3,\\u003cbr\\u003e    \\\"feature_fraction\\\": 0.9924133727183609,\\u003cbr\\u003e    \\\"bagging_fraction\\\": 0.6754802144057013,\\u003cbr\\u003e    \\\"bagging_freq\\\": 6,\\u003cbr\\u003e    \\\"min_data_in_leaf\\\": 64,\\u003cbr\\u003e    \\\"lambda_l1\\\": 4.655909793101647,\\u003cbr\\u003e    \\\"lambda_l2\\\": 4.8995139812884165\\u003cbr\\u003e  }\\u003cbr\\u003e}\",\"{\\u003cbr\\u003e  \\\"number\\\": 1,\\u003cbr\\u003e  \\\"values\\\": [\\u003cbr\\u003e    0.8486745921822099,\\u003cbr\\u003e    0.0\\u003cbr\\u003e  ],\\u003cbr\\u003e  \\\"params\\\": {\\u003cbr\\u003e    \\\"learning_rate\\\": 0.08021601344113144,\\u003cbr\\u003e    \\\"num_leaves\\\": 93,\\u003cbr\\u003e    \\\"max_depth\\\": 4,\\u003cbr\\u003e    \\\"feature_fraction\\\": 0.7993541801847952,\\u003cbr\\u003e    \\\"bagging_fraction\\\": 0.6018967762008544,\\u003cbr\\u003e    \\\"bagging_freq\\\": 7,\\u003cbr\\u003e    \\\"min_data_in_leaf\\\": 148,\\u003cbr\\u003e    \\\"lambda_l1\\\": 3.428610673300085,\\u003cbr\\u003e    \\\"lambda_l2\\\": 2.2665439575893886\\u003cbr\\u003e  }\\u003cbr\\u003e}\",\"{\\u003cbr\\u003e  \\\"number\\\": 2,\\u003cbr\\u003e  \\\"values\\\": [\\u003cbr\\u003e    0.9548066071611778,\\u003cbr\\u003e    0.2693409742120344\\u003cbr\\u003e  ],\\u003cbr\\u003e  \\\"params\\\": {\\u003cbr\\u003e    \\\"learning_rate\\\": 0.11103360988414268,\\u003cbr\\u003e    \\\"num_leaves\\\": 52,\\u003cbr\\u003e    \\\"max_depth\\\": 3,\\u003cbr\\u003e    \\\"feature_fraction\\\": 0.8920344463608992,\\u003cbr\\u003e    \\\"bagging_fraction\\\": 0.7663990554641487,\\u003cbr\\u003e    \\\"bagging_freq\\\": 8,\\u003cbr\\u003e    \\\"min_data_in_leaf\\\": 15,\\u003cbr\\u003e    \\\"lambda_l1\\\": 2.6052898350749616,\\u003cbr\\u003e    \\\"lambda_l2\\\": 3.7203071555192597\\u003cbr\\u003e  }\\u003cbr\\u003e}\",\"{\\u003cbr\\u003e  \\\"number\\\": 3,\\u003cbr\\u003e  \\\"values\\\": [\\u003cbr\\u003e    0.8907195803837079,\\u003cbr\\u003e    0.1881720430107527\\u003cbr\\u003e  ],\\u003cbr\\u003e  \\\"params\\\": {\\u003cbr\\u003e    \\\"learning_rate\\\": 0.08868761981614046,\\u003cbr\\u003e    \\\"num_leaves\\\": 132,\\u003cbr\\u003e    \\\"max_depth\\\": 4,\\u003cbr\\u003e    \\\"feature_fraction\\\": 0.984398254779288,\\u003cbr\\u003e    \\\"bagging_fraction\\\": 0.7360548651524736,\\u003cbr\\u003e    \\\"bagging_freq\\\": 9,\\u003cbr\\u003e    \\\"min_data_in_leaf\\\": 138,\\u003cbr\\u003e    \\\"lambda_l1\\\": 0.1150780575692506,\\u003cbr\\u003e    \\\"lambda_l2\\\": 4.338792944969526\\u003cbr\\u003e  }\\u003cbr\\u003e}\",\"{\\u003cbr\\u003e  \\\"number\\\": 4,\\u003cbr\\u003e  \\\"values\\\": [\\u003cbr\\u003e    0.9568392838822202,\\u003cbr\\u003e    0.4567901234567901\\u003cbr\\u003e  ],\\u003cbr\\u003e  \\\"params\\\": {\\u003cbr\\u003e    \\\"learning_rate\\\": 0.19201546083092838,\\u003cbr\\u003e    \\\"num_leaves\\\": 70,\\u003cbr\\u003e    \\\"max_depth\\\": 10,\\u003cbr\\u003e    \\\"feature_fraction\\\": 0.9727856884149412,\\u003cbr\\u003e    \\\"bagging_fraction\\\": 0.785373417834557,\\u003cbr\\u003e    \\\"bagging_freq\\\": 9,\\u003cbr\\u003e    \\\"min_data_in_leaf\\\": 176,\\u003cbr\\u003e    \\\"lambda_l1\\\": 0.53745104500795,\\u003cbr\\u003e    \\\"lambda_l2\\\": 4.282690060436872\\u003cbr\\u003e  }\\u003cbr\\u003e}\",\"{\\u003cbr\\u003e  \\\"number\\\": 5,\\u003cbr\\u003e  \\\"values\\\": [\\u003cbr\\u003e    0.9453229198727814,\\u003cbr\\u003e    0.48226950354609927\\u003cbr\\u003e  ],\\u003cbr\\u003e  \\\"params\\\": {\\u003cbr\\u003e    \\\"learning_rate\\\": 0.1483236046206828,\\u003cbr\\u003e    \\\"num_leaves\\\": 119,\\u003cbr\\u003e    \\\"max_depth\\\": 11,\\u003cbr\\u003e    \\\"feature_fraction\\\": 0.8198984165355476,\\u003cbr\\u003e    \\\"bagging_fraction\\\": 0.6634907605230292,\\u003cbr\\u003e    \\\"bagging_freq\\\": 1,\\u003cbr\\u003e    \\\"min_data_in_leaf\\\": 82,\\u003cbr\\u003e    \\\"lambda_l1\\\": 3.8488935500103745,\\u003cbr\\u003e    \\\"lambda_l2\\\": 1.9550473763520464\\u003cbr\\u003e  }\\u003cbr\\u003e}\",\"{\\u003cbr\\u003e  \\\"number\\\": 6,\\u003cbr\\u003e  \\\"values\\\": [\\u003cbr\\u003e    0.9533830922335078,\\u003cbr\\u003e    0.5362318840579711\\u003cbr\\u003e  ],\\u003cbr\\u003e  \\\"params\\\": {\\u003cbr\\u003e    \\\"learning_rate\\\": 0.1580027631549685,\\u003cbr\\u003e    \\\"num_leaves\\\": 249,\\u003cbr\\u003e    \\\"max_depth\\\": 12,\\u003cbr\\u003e    \\\"feature_fraction\\\": 0.8839875734474862,\\u003cbr\\u003e    \\\"bagging_fraction\\\": 0.7625828117841102,\\u003cbr\\u003e    \\\"bagging_freq\\\": 1,\\u003cbr\\u003e    \\\"min_data_in_leaf\\\": 135,\\u003cbr\\u003e    \\\"lambda_l1\\\": 1.7208440020384164,\\u003cbr\\u003e    \\\"lambda_l2\\\": 3.6121511232239074\\u003cbr\\u003e  }\\u003cbr\\u003e}\",\"{\\u003cbr\\u003e  \\\"number\\\": 8,\\u003cbr\\u003e  \\\"values\\\": [\\u003cbr\\u003e    0.9550502718785268,\\u003cbr\\u003e    0.5303030303030303\\u003cbr\\u003e  ],\\u003cbr\\u003e  \\\"params\\\": {\\u003cbr\\u003e    \\\"learning_rate\\\": 0.18889575909639167,\\u003cbr\\u003e    \\\"num_leaves\\\": 140,\\u003cbr\\u003e    \\\"max_depth\\\": 9,\\u003cbr\\u003e    \\\"feature_fraction\\\": 0.7095003228593956,\\u003cbr\\u003e    \\\"bagging_fraction\\\": 0.8631412139772672,\\u003cbr\\u003e    \\\"bagging_freq\\\": 8,\\u003cbr\\u003e    \\\"min_data_in_leaf\\\": 65,\\u003cbr\\u003e    \\\"lambda_l1\\\": 4.905282484133439,\\u003cbr\\u003e    \\\"lambda_l2\\\": 4.920558217067025\\u003cbr\\u003e  }\\u003cbr\\u003e}\",\"{\\u003cbr\\u003e  \\\"number\\\": 9,\\u003cbr\\u003e  \\\"values\\\": [\\u003cbr\\u003e    0.9433158920693547,\\u003cbr\\u003e    0.0\\u003cbr\\u003e  ],\\u003cbr\\u003e  \\\"params\\\": {\\u003cbr\\u003e    \\\"learning_rate\\\": 0.020549975513632773,\\u003cbr\\u003e    \\\"num_leaves\\\": 138,\\u003cbr\\u003e    \\\"max_depth\\\": 7,\\u003cbr\\u003e    \\\"feature_fraction\\\": 0.9445675021901031,\\u003cbr\\u003e    \\\"bagging_fraction\\\": 0.8389091481621306,\\u003cbr\\u003e    \\\"bagging_freq\\\": 9,\\u003cbr\\u003e    \\\"min_data_in_leaf\\\": 35,\\u003cbr\\u003e    \\\"lambda_l1\\\": 1.570429358374072,\\u003cbr\\u003e    \\\"lambda_l2\\\": 1.7905425756765936\\u003cbr\\u003e  }\\u003cbr\\u003e}\",\"{\\u003cbr\\u003e  \\\"number\\\": 10,\\u003cbr\\u003e  \\\"values\\\": [\\u003cbr\\u003e    0.9096292448958654,\\u003cbr\\u003e    0.0\\u003cbr\\u003e  ],\\u003cbr\\u003e  \\\"params\\\": {\\u003cbr\\u003e    \\\"learning_rate\\\": 0.06952923992775857,\\u003cbr\\u003e    \\\"num_leaves\\\": 24,\\u003cbr\\u003e    \\\"max_depth\\\": 6,\\u003cbr\\u003e    \\\"feature_fraction\\\": 0.7349099441658141,\\u003cbr\\u003e    \\\"bagging_fraction\\\": 0.7987204398993588,\\u003cbr\\u003e    \\\"bagging_freq\\\": 8,\\u003cbr\\u003e    \\\"min_data_in_leaf\\\": 37,\\u003cbr\\u003e    \\\"lambda_l1\\\": 0.5288251759758256,\\u003cbr\\u003e    \\\"lambda_l2\\\": 0.313349419775511\\u003cbr\\u003e  }\\u003cbr\\u003e}\",\"{\\u003cbr\\u003e  \\\"number\\\": 11,\\u003cbr\\u003e  \\\"values\\\": [\\u003cbr\\u003e    0.9516453780650456,\\u003cbr\\u003e    0.45454545454545453\\u003cbr\\u003e  ],\\u003cbr\\u003e  \\\"params\\\": {\\u003cbr\\u003e    \\\"learning_rate\\\": 0.1774687541506544,\\u003cbr\\u003e    \\\"num_leaves\\\": 99,\\u003cbr\\u003e    \\\"max_depth\\\": 7,\\u003cbr\\u003e    \\\"feature_fraction\\\": 0.8890314845906464,\\u003cbr\\u003e    \\\"bagging_fraction\\\": 0.6089240657529246,\\u003cbr\\u003e    \\\"bagging_freq\\\": 10,\\u003cbr\\u003e    \\\"min_data_in_leaf\\\": 69,\\u003cbr\\u003e    \\\"lambda_l1\\\": 4.102497241231006,\\u003cbr\\u003e    \\\"lambda_l2\\\": 2.5887506594759446\\u003cbr\\u003e  }\\u003cbr\\u003e}\",\"{\\u003cbr\\u003e  \\\"number\\\": 12,\\u003cbr\\u003e  \\\"values\\\": [\\u003cbr\\u003e    0.9223735508361547,\\u003cbr\\u003e    0.5043478260869565\\u003cbr\\u003e  ],\\u003cbr\\u003e  \\\"params\\\": {\\u003cbr\\u003e    \\\"learning_rate\\\": 0.1863945010632158,\\u003cbr\\u003e    \\\"num_leaves\\\": 223,\\u003cbr\\u003e    \\\"max_depth\\\": 8,\\u003cbr\\u003e    \\\"feature_fraction\\\": 0.7103650521230974,\\u003cbr\\u003e    \\\"bagging_fraction\\\": 0.8504663662144317,\\u003cbr\\u003e    \\\"bagging_freq\\\": 4,\\u003cbr\\u003e    \\\"min_data_in_leaf\\\": 73,\\u003cbr\\u003e    \\\"lambda_l1\\\": 2.4270856625329573,\\u003cbr\\u003e    \\\"lambda_l2\\\": 0.9467805415733654\\u003cbr\\u003e  }\\u003cbr\\u003e}\",\"{\\u003cbr\\u003e  \\\"number\\\": 13,\\u003cbr\\u003e  \\\"values\\\": [\\u003cbr\\u003e    0.9123993279983584,\\u003cbr\\u003e    0.0\\u003cbr\\u003e  ],\\u003cbr\\u003e  \\\"params\\\": {\\u003cbr\\u003e    \\\"learning_rate\\\": 0.08340600203691201,\\u003cbr\\u003e    \\\"num_leaves\\\": 246,\\u003cbr\\u003e    \\\"max_depth\\\": 12,\\u003cbr\\u003e    \\\"feature_fraction\\\": 0.7144008768195095,\\u003cbr\\u003e    \\\"bagging_fraction\\\": 0.8554198422633004,\\u003cbr\\u003e    \\\"bagging_freq\\\": 3,\\u003cbr\\u003e    \\\"min_data_in_leaf\\\": 178,\\u003cbr\\u003e    \\\"lambda_l1\\\": 2.9562034009723948,\\u003cbr\\u003e    \\\"lambda_l2\\\": 3.229661296566168\\u003cbr\\u003e  }\\u003cbr\\u003e}\",\"{\\u003cbr\\u003e  \\\"number\\\": 14,\\u003cbr\\u003e  \\\"values\\\": [\\u003cbr\\u003e    0.9375384733764235,\\u003cbr\\u003e    0.5\\u003cbr\\u003e  ],\\u003cbr\\u003e  \\\"params\\\": {\\u003cbr\\u003e    \\\"learning_rate\\\": 0.1380025315020045,\\u003cbr\\u003e    \\\"num_leaves\\\": 192,\\u003cbr\\u003e    \\\"max_depth\\\": 9,\\u003cbr\\u003e    \\\"feature_fraction\\\": 0.6334548424427389,\\u003cbr\\u003e    \\\"bagging_fraction\\\": 0.9395995572662414,\\u003cbr\\u003e    \\\"bagging_freq\\\": 3,\\u003cbr\\u003e    \\\"min_data_in_leaf\\\": 80,\\u003cbr\\u003e    \\\"lambda_l1\\\": 4.1042214611694705,\\u003cbr\\u003e    \\\"lambda_l2\\\": 0.11215096935184965\\u003cbr\\u003e  }\\u003cbr\\u003e}\",\"{\\u003cbr\\u003e  \\\"number\\\": 15,\\u003cbr\\u003e  \\\"values\\\": [\\u003cbr\\u003e    0.9453421565609931,\\u003cbr\\u003e    0.47674418604651164\\u003cbr\\u003e  ],\\u003cbr\\u003e  \\\"params\\\": {\\u003cbr\\u003e    \\\"learning_rate\\\": 0.15235735602417055,\\u003cbr\\u003e    \\\"num_leaves\\\": 88,\\u003cbr\\u003e    \\\"max_depth\\\": 10,\\u003cbr\\u003e    \\\"feature_fraction\\\": 0.9602331227117309,\\u003cbr\\u003e    \\\"bagging_fraction\\\": 0.6629596810523102,\\u003cbr\\u003e    \\\"bagging_freq\\\": 7,\\u003cbr\\u003e    \\\"min_data_in_leaf\\\": 150,\\u003cbr\\u003e    \\\"lambda_l1\\\": 4.222713837760934,\\u003cbr\\u003e    \\\"lambda_l2\\\": 2.5720158622367357\\u003cbr\\u003e  }\\u003cbr\\u003e}\",\"{\\u003cbr\\u003e  \\\"number\\\": 16,\\u003cbr\\u003e  \\\"values\\\": [\\u003cbr\\u003e    0.9351595362675695,\\u003cbr\\u003e    0.0\\u003cbr\\u003e  ],\\u003cbr\\u003e  \\\"params\\\": {\\u003cbr\\u003e    \\\"learning_rate\\\": 0.011252044757547718,\\u003cbr\\u003e    \\\"num_leaves\\\": 83,\\u003cbr\\u003e    \\\"max_depth\\\": 8,\\u003cbr\\u003e    \\\"feature_fraction\\\": 0.8123374875813326,\\u003cbr\\u003e    \\\"bagging_fraction\\\": 0.8272456249225338,\\u003cbr\\u003e    \\\"bagging_freq\\\": 10,\\u003cbr\\u003e    \\\"min_data_in_leaf\\\": 81,\\u003cbr\\u003e    \\\"lambda_l1\\\": 4.300249793423865,\\u003cbr\\u003e    \\\"lambda_l2\\\": 4.505775907658566\\u003cbr\\u003e  }\\u003cbr\\u003e}\",\"{\\u003cbr\\u003e  \\\"number\\\": 17,\\u003cbr\\u003e  \\\"values\\\": [\\u003cbr\\u003e    0.962725710475018,\\u003cbr\\u003e    0.38095238095238093\\u003cbr\\u003e  ],\\u003cbr\\u003e  \\\"params\\\": {\\u003cbr\\u003e    \\\"learning_rate\\\": 0.11667269209940277,\\u003cbr\\u003e    \\\"num_leaves\\\": 122,\\u003cbr\\u003e    \\\"max_depth\\\": 7,\\u003cbr\\u003e    \\\"feature_fraction\\\": 0.9915118232665916,\\u003cbr\\u003e    \\\"bagging_fraction\\\": 0.7537026169740353,\\u003cbr\\u003e    \\\"bagging_freq\\\": 8,\\u003cbr\\u003e    \\\"min_data_in_leaf\\\": 167,\\u003cbr\\u003e    \\\"lambda_l1\\\": 4.600934252108168,\\u003cbr\\u003e    \\\"lambda_l2\\\": 3.802014566975137\\u003cbr\\u003e  }\\u003cbr\\u003e}\",\"{\\u003cbr\\u003e  \\\"number\\\": 18,\\u003cbr\\u003e  \\\"values\\\": [\\u003cbr\\u003e    0.9570380629937417,\\u003cbr\\u003e    0.5035971223021583\\u003cbr\\u003e  ],\\u003cbr\\u003e  \\\"params\\\": {\\u003cbr\\u003e    \\\"learning_rate\\\": 0.13964230098766792,\\u003cbr\\u003e    \\\"num_leaves\\\": 230,\\u003cbr\\u003e    \\\"max_depth\\\": 9,\\u003cbr\\u003e    \\\"feature_fraction\\\": 0.9933494168715331,\\u003cbr\\u003e    \\\"bagging_fraction\\\": 0.8040880102266655,\\u003cbr\\u003e    \\\"bagging_freq\\\": 10,\\u003cbr\\u003e    \\\"min_data_in_leaf\\\": 114,\\u003cbr\\u003e    \\\"lambda_l1\\\": 4.238719773620382,\\u003cbr\\u003e    \\\"lambda_l2\\\": 1.5775412868091627\\u003cbr\\u003e  }\\u003cbr\\u003e}\",\"{\\u003cbr\\u003e  \\\"number\\\": 19,\\u003cbr\\u003e  \\\"values\\\": [\\u003cbr\\u003e    0.9261311172668513,\\u003cbr\\u003e    0.0\\u003cbr\\u003e  ],\\u003cbr\\u003e  \\\"params\\\": {\\u003cbr\\u003e    \\\"learning_rate\\\": 0.024028140431942905,\\u003cbr\\u003e    \\\"num_leaves\\\": 129,\\u003cbr\\u003e    \\\"max_depth\\\": 7,\\u003cbr\\u003e    \\\"feature_fraction\\\": 0.9632255006851129,\\u003cbr\\u003e    \\\"bagging_fraction\\\": 0.7205750973322022,\\u003cbr\\u003e    \\\"bagging_freq\\\": 3,\\u003cbr\\u003e    \\\"min_data_in_leaf\\\": 130,\\u003cbr\\u003e    \\\"lambda_l1\\\": 2.706078485086647,\\u003cbr\\u003e    \\\"lambda_l2\\\": 2.90200219421103\\u003cbr\\u003e  }\\u003cbr\\u003e}\",\"{\\u003cbr\\u003e  \\\"number\\\": 20,\\u003cbr\\u003e  \\\"values\\\": [\\u003cbr\\u003e    0.9645788447727506,\\u003cbr\\u003e    0.48484848484848486\\u003cbr\\u003e  ],\\u003cbr\\u003e  \\\"params\\\": {\\u003cbr\\u003e    \\\"learning_rate\\\": 0.08342294615164968,\\u003cbr\\u003e    \\\"num_leaves\\\": 51,\\u003cbr\\u003e    \\\"max_depth\\\": 9,\\u003cbr\\u003e    \\\"feature_fraction\\\": 0.7812714311392397,\\u003cbr\\u003e    \\\"bagging_fraction\\\": 0.9512560660897939,\\u003cbr\\u003e    \\\"bagging_freq\\\": 6,\\u003cbr\\u003e    \\\"min_data_in_leaf\\\": 135,\\u003cbr\\u003e    \\\"lambda_l1\\\": 2.2581304828422386,\\u003cbr\\u003e    \\\"lambda_l2\\\": 3.7589473914884253\\u003cbr\\u003e  }\\u003cbr\\u003e}\",\"{\\u003cbr\\u003e  \\\"number\\\": 21,\\u003cbr\\u003e  \\\"values\\\": [\\u003cbr\\u003e    0.9629244895865394,\\u003cbr\\u003e    0.38009049773755654\\u003cbr\\u003e  ],\\u003cbr\\u003e  \\\"params\\\": {\\u003cbr\\u003e    \\\"learning_rate\\\": 0.09636082006389705,\\u003cbr\\u003e    \\\"num_leaves\\\": 98,\\u003cbr\\u003e    \\\"max_depth\\\": 6,\\u003cbr\\u003e    \\\"feature_fraction\\\": 0.8383109558532399,\\u003cbr\\u003e    \\\"bagging_fraction\\\": 0.7624955721343866,\\u003cbr\\u003e    \\\"bagging_freq\\\": 4,\\u003cbr\\u003e    \\\"min_data_in_leaf\\\": 74,\\u003cbr\\u003e    \\\"lambda_l1\\\": 1.3933451773494125,\\u003cbr\\u003e    \\\"lambda_l2\\\": 4.121919043242559\\u003cbr\\u003e  }\\u003cbr\\u003e}\",\"{\\u003cbr\\u003e  \\\"number\\\": 22,\\u003cbr\\u003e  \\\"values\\\": [\\u003cbr\\u003e    0.9595644813788857,\\u003cbr\\u003e    0.4444444444444444\\u003cbr\\u003e  ],\\u003cbr\\u003e  \\\"params\\\": {\\u003cbr\\u003e    \\\"learning_rate\\\": 0.1556990643891862,\\u003cbr\\u003e    \\\"num_leaves\\\": 69,\\u003cbr\\u003e    \\\"max_depth\\\": 5,\\u003cbr\\u003e    \\\"feature_fraction\\\": 0.7634759654187324,\\u003cbr\\u003e    \\\"bagging_fraction\\\": 0.8110805351399107,\\u003cbr\\u003e    \\\"bagging_freq\\\": 8,\\u003cbr\\u003e    \\\"min_data_in_leaf\\\": 36,\\u003cbr\\u003e    \\\"lambda_l1\\\": 4.93011032097988,\\u003cbr\\u003e    \\\"lambda_l2\\\": 0.67381226196919\\u003cbr\\u003e  }\\u003cbr\\u003e}\",\"{\\u003cbr\\u003e  \\\"number\\\": 23,\\u003cbr\\u003e  \\\"values\\\": [\\u003cbr\\u003e    0.9586282958859136,\\u003cbr\\u003e    0.32727272727272727\\u003cbr\\u003e  ],\\u003cbr\\u003e  \\\"params\\\": {\\u003cbr\\u003e    \\\"learning_rate\\\": 0.13497578687742728,\\u003cbr\\u003e    \\\"num_leaves\\\": 74,\\u003cbr\\u003e    \\\"max_depth\\\": 4,\\u003cbr\\u003e    \\\"feature_fraction\\\": 0.9274284787949086,\\u003cbr\\u003e    \\\"bagging_fraction\\\": 0.7745964336082246,\\u003cbr\\u003e    \\\"bagging_freq\\\": 9,\\u003cbr\\u003e    \\\"min_data_in_leaf\\\": 59,\\u003cbr\\u003e    \\\"lambda_l1\\\": 2.5411186490594764,\\u003cbr\\u003e    \\\"lambda_l2\\\": 0.4775415997106336\\u003cbr\\u003e  }\\u003cbr\\u003e}\",\"{\\u003cbr\\u003e  \\\"number\\\": 24,\\u003cbr\\u003e  \\\"values\\\": [\\u003cbr\\u003e    0.9158971991381964,\\u003cbr\\u003e    0.0\\u003cbr\\u003e  ],\\u003cbr\\u003e  \\\"params\\\": {\\u003cbr\\u003e    \\\"learning_rate\\\": 0.01711283847069692,\\u003cbr\\u003e    \\\"num_leaves\\\": 224,\\u003cbr\\u003e    \\\"max_depth\\\": 4,\\u003cbr\\u003e    \\\"feature_fraction\\\": 0.9088197111086062,\\u003cbr\\u003e    \\\"bagging_fraction\\\": 0.7438798235988181,\\u003cbr\\u003e    \\\"bagging_freq\\\": 10,\\u003cbr\\u003e    \\\"min_data_in_leaf\\\": 177,\\u003cbr\\u003e    \\\"lambda_l1\\\": 3.341772100662576,\\u003cbr\\u003e    \\\"lambda_l2\\\": 4.173108886988015\\u003cbr\\u003e  }\\u003cbr\\u003e}\",\"{\\u003cbr\\u003e  \\\"number\\\": 25,\\u003cbr\\u003e  \\\"values\\\": [\\u003cbr\\u003e    0.9403855032317636,\\u003cbr\\u003e    0.48717948717948717\\u003cbr\\u003e  ],\\u003cbr\\u003e  \\\"params\\\": {\\u003cbr\\u003e    \\\"learning_rate\\\": 0.1868625916265471,\\u003cbr\\u003e    \\\"num_leaves\\\": 219,\\u003cbr\\u003e    \\\"max_depth\\\": 5,\\u003cbr\\u003e    \\\"feature_fraction\\\": 0.6402942973174927,\\u003cbr\\u003e    \\\"bagging_fraction\\\": 0.7998156069620439,\\u003cbr\\u003e    \\\"bagging_freq\\\": 5,\\u003cbr\\u003e    \\\"min_data_in_leaf\\\": 21,\\u003cbr\\u003e    \\\"lambda_l1\\\": 4.707524603508599,\\u003cbr\\u003e    \\\"lambda_l2\\\": 4.019098090695719\\u003cbr\\u003e  }\\u003cbr\\u003e}\",\"{\\u003cbr\\u003e  \\\"number\\\": 26,\\u003cbr\\u003e  \\\"values\\\": [\\u003cbr\\u003e    0.8573599569098183,\\u003cbr\\u003e    0.0\\u003cbr\\u003e  ],\\u003cbr\\u003e  \\\"params\\\": {\\u003cbr\\u003e    \\\"learning_rate\\\": 0.0349897329420382,\\u003cbr\\u003e    \\\"num_leaves\\\": 74,\\u003cbr\\u003e    \\\"max_depth\\\": 3,\\u003cbr\\u003e    \\\"feature_fraction\\\": 0.9787113145639099,\\u003cbr\\u003e    \\\"bagging_fraction\\\": 0.9139437979042603,\\u003cbr\\u003e    \\\"bagging_freq\\\": 4,\\u003cbr\\u003e    \\\"min_data_in_leaf\\\": 102,\\u003cbr\\u003e    \\\"lambda_l1\\\": 3.0026206056997538,\\u003cbr\\u003e    \\\"lambda_l2\\\": 2.643887435337965\\u003cbr\\u003e  }\\u003cbr\\u003e}\",\"{\\u003cbr\\u003e  \\\"number\\\": 28,\\u003cbr\\u003e  \\\"values\\\": [\\u003cbr\\u003e    0.8629898943264593,\\u003cbr\\u003e    0.0\\u003cbr\\u003e  ],\\u003cbr\\u003e  \\\"params\\\": {\\u003cbr\\u003e    \\\"learning_rate\\\": 0.07471521778754076,\\u003cbr\\u003e    \\\"num_leaves\\\": 65,\\u003cbr\\u003e    \\\"max_depth\\\": 5,\\u003cbr\\u003e    \\\"feature_fraction\\\": 0.6052496901220429,\\u003cbr\\u003e    \\\"bagging_fraction\\\": 0.986690839877138,\\u003cbr\\u003e    \\\"bagging_freq\\\": 10,\\u003cbr\\u003e    \\\"min_data_in_leaf\\\": 136,\\u003cbr\\u003e    \\\"lambda_l1\\\": 1.5731858354311994,\\u003cbr\\u003e    \\\"lambda_l2\\\": 3.870496916237351\\u003cbr\\u003e  }\\u003cbr\\u003e}\",\"{\\u003cbr\\u003e  \\\"number\\\": 30,\\u003cbr\\u003e  \\\"values\\\": [\\u003cbr\\u003e    0.95209423412332,\\u003cbr\\u003e    0.5323741007194245\\u003cbr\\u003e  ],\\u003cbr\\u003e  \\\"params\\\": {\\u003cbr\\u003e    \\\"learning_rate\\\": 0.1426917622338535,\\u003cbr\\u003e    \\\"num_leaves\\\": 179,\\u003cbr\\u003e    \\\"max_depth\\\": 7,\\u003cbr\\u003e    \\\"feature_fraction\\\": 0.8889815762775094,\\u003cbr\\u003e    \\\"bagging_fraction\\\": 0.7009391492862368,\\u003cbr\\u003e    \\\"bagging_freq\\\": 8,\\u003cbr\\u003e    \\\"min_data_in_leaf\\\": 33,\\u003cbr\\u003e    \\\"lambda_l1\\\": 4.0480298605407485,\\u003cbr\\u003e    \\\"lambda_l2\\\": 3.6742242133603487\\u003cbr\\u003e  }\\u003cbr\\u003e}\",\"{\\u003cbr\\u003e  \\\"number\\\": 31,\\u003cbr\\u003e  \\\"values\\\": [\\u003cbr\\u003e    0.9375,\\u003cbr\\u003e    0.46808510638297873\\u003cbr\\u003e  ],\\u003cbr\\u003e  \\\"params\\\": {\\u003cbr\\u003e    \\\"learning_rate\\\": 0.12146522465794038,\\u003cbr\\u003e    \\\"num_leaves\\\": 38,\\u003cbr\\u003e    \\\"max_depth\\\": 9,\\u003cbr\\u003e    \\\"feature_fraction\\\": 0.6768777491107174,\\u003cbr\\u003e    \\\"bagging_fraction\\\": 0.800556303645372,\\u003cbr\\u003e    \\\"bagging_freq\\\": 2,\\u003cbr\\u003e    \\\"min_data_in_leaf\\\": 160,\\u003cbr\\u003e    \\\"lambda_l1\\\": 2.427444638675114,\\u003cbr\\u003e    \\\"lambda_l2\\\": 0.24853527609645265\\u003cbr\\u003e  }\\u003cbr\\u003e}\",\"{\\u003cbr\\u003e  \\\"number\\\": 32,\\u003cbr\\u003e  \\\"values\\\": [\\u003cbr\\u003e    0.9641364009438802,\\u003cbr\\u003e    0.4968944099378882\\u003cbr\\u003e  ],\\u003cbr\\u003e  \\\"params\\\": {\\u003cbr\\u003e    \\\"learning_rate\\\": 0.0973541323997992,\\u003cbr\\u003e    \\\"num_leaves\\\": 30,\\u003cbr\\u003e    \\\"max_depth\\\": 9,\\u003cbr\\u003e    \\\"feature_fraction\\\": 0.8178918858735876,\\u003cbr\\u003e    \\\"bagging_fraction\\\": 0.9393827869376059,\\u003cbr\\u003e    \\\"bagging_freq\\\": 3,\\u003cbr\\u003e    \\\"min_data_in_leaf\\\": 168,\\u003cbr\\u003e    \\\"lambda_l1\\\": 3.5271672194768513,\\u003cbr\\u003e    \\\"lambda_l2\\\": 0.6605910520872799\\u003cbr\\u003e  }\\u003cbr\\u003e}\",\"{\\u003cbr\\u003e  \\\"number\\\": 33,\\u003cbr\\u003e  \\\"values\\\": [\\u003cbr\\u003e    0.9498339232584385,\\u003cbr\\u003e    0.0\\u003cbr\\u003e  ],\\u003cbr\\u003e  \\\"params\\\": {\\u003cbr\\u003e    \\\"learning_rate\\\": 0.02452075711427545,\\u003cbr\\u003e    \\\"num_leaves\\\": 236,\\u003cbr\\u003e    \\\"max_depth\\\": 8,\\u003cbr\\u003e    \\\"feature_fraction\\\": 0.6791072582401484,\\u003cbr\\u003e    \\\"bagging_fraction\\\": 0.9361977517931461,\\u003cbr\\u003e    \\\"bagging_freq\\\": 10,\\u003cbr\\u003e    \\\"min_data_in_leaf\\\": 59,\\u003cbr\\u003e    \\\"lambda_l1\\\": 0.26820236722593593,\\u003cbr\\u003e    \\\"lambda_l2\\\": 2.8957434688432397\\u003cbr\\u003e  }\\u003cbr\\u003e}\",\"{\\u003cbr\\u003e  \\\"number\\\": 34,\\u003cbr\\u003e  \\\"values\\\": [\\u003cbr\\u003e    0.9536972914742997,\\u003cbr\\u003e    0.2621082621082621\\u003cbr\\u003e  ],\\u003cbr\\u003e  \\\"params\\\": {\\u003cbr\\u003e    \\\"learning_rate\\\": 0.11844769581339794,\\u003cbr\\u003e    \\\"num_leaves\\\": 250,\\u003cbr\\u003e    \\\"max_depth\\\": 3,\\u003cbr\\u003e    \\\"feature_fraction\\\": 0.7243708295372231,\\u003cbr\\u003e    \\\"bagging_fraction\\\": 0.9942367042708334,\\u003cbr\\u003e    \\\"bagging_freq\\\": 5,\\u003cbr\\u003e    \\\"min_data_in_leaf\\\": 190,\\u003cbr\\u003e    \\\"lambda_l1\\\": 0.7826468269852965,\\u003cbr\\u003e    \\\"lambda_l2\\\": 2.5776985760023186\\u003cbr\\u003e  }\\u003cbr\\u003e}\",\"{\\u003cbr\\u003e  \\\"number\\\": 35,\\u003cbr\\u003e  \\\"values\\\": [\\u003cbr\\u003e    0.9321201395301119,\\u003cbr\\u003e    0.0\\u003cbr\\u003e  ],\\u003cbr\\u003e  \\\"params\\\": {\\u003cbr\\u003e    \\\"learning_rate\\\": 0.011872700929444013,\\u003cbr\\u003e    \\\"num_leaves\\\": 22,\\u003cbr\\u003e    \\\"max_depth\\\": 5,\\u003cbr\\u003e    \\\"feature_fraction\\\": 0.8380142818981591,\\u003cbr\\u003e    \\\"bagging_fraction\\\": 0.7023428407985353,\\u003cbr\\u003e    \\\"bagging_freq\\\": 3,\\u003cbr\\u003e    \\\"min_data_in_leaf\\\": 174,\\u003cbr\\u003e    \\\"lambda_l1\\\": 2.2492949089903247,\\u003cbr\\u003e    \\\"lambda_l2\\\": 1.1466146416854983\\u003cbr\\u003e  }\\u003cbr\\u003e}\",\"{\\u003cbr\\u003e  \\\"number\\\": 36,\\u003cbr\\u003e  \\\"values\\\": [\\u003cbr\\u003e    0.9372435108238432,\\u003cbr\\u003e    0.4778761061946903\\u003cbr\\u003e  ],\\u003cbr\\u003e  \\\"params\\\": {\\u003cbr\\u003e    \\\"learning_rate\\\": 0.14820309908455007,\\u003cbr\\u003e    \\\"num_leaves\\\": 107,\\u003cbr\\u003e    \\\"max_depth\\\": 9,\\u003cbr\\u003e    \\\"feature_fraction\\\": 0.7781676241386702,\\u003cbr\\u003e    \\\"bagging_fraction\\\": 0.747991503636521,\\u003cbr\\u003e    \\\"bagging_freq\\\": 9,\\u003cbr\\u003e    \\\"min_data_in_leaf\\\": 30,\\u003cbr\\u003e    \\\"lambda_l1\\\": 1.0024649173278133,\\u003cbr\\u003e    \\\"lambda_l2\\\": 2.7500069427141676\\u003cbr\\u003e  }\\u003cbr\\u003e}\",\"{\\u003cbr\\u003e  \\\"number\\\": 37,\\u003cbr\\u003e  \\\"values\\\": [\\u003cbr\\u003e    0.8982539499333128,\\u003cbr\\u003e    0.0\\u003cbr\\u003e  ],\\u003cbr\\u003e  \\\"params\\\": {\\u003cbr\\u003e    \\\"learning_rate\\\": 0.047832809570099506,\\u003cbr\\u003e    \\\"num_leaves\\\": 227,\\u003cbr\\u003e    \\\"max_depth\\\": 4,\\u003cbr\\u003e    \\\"feature_fraction\\\": 0.8442415650895828,\\u003cbr\\u003e    \\\"bagging_fraction\\\": 0.8240571793966633,\\u003cbr\\u003e    \\\"bagging_freq\\\": 6,\\u003cbr\\u003e    \\\"min_data_in_leaf\\\": 165,\\u003cbr\\u003e    \\\"lambda_l1\\\": 0.46860229229810757,\\u003cbr\\u003e    \\\"lambda_l2\\\": 2.8876460017060905\\u003cbr\\u003e  }\\u003cbr\\u003e}\",\"{\\u003cbr\\u003e  \\\"number\\\": 38,\\u003cbr\\u003e  \\\"values\\\": [\\u003cbr\\u003e    0.8648654714271058,\\u003cbr\\u003e    0.0\\u003cbr\\u003e  ],\\u003cbr\\u003e  \\\"params\\\": {\\u003cbr\\u003e    \\\"learning_rate\\\": 0.07371999722370835,\\u003cbr\\u003e    \\\"num_leaves\\\": 186,\\u003cbr\\u003e    \\\"max_depth\\\": 7,\\u003cbr\\u003e    \\\"feature_fraction\\\": 0.9013719577779873,\\u003cbr\\u003e    \\\"bagging_fraction\\\": 0.8051304285967367,\\u003cbr\\u003e    \\\"bagging_freq\\\": 7,\\u003cbr\\u003e    \\\"min_data_in_leaf\\\": 47,\\u003cbr\\u003e    \\\"lambda_l1\\\": 1.5502713498605347,\\u003cbr\\u003e    \\\"lambda_l2\\\": 4.552667320438488\\u003cbr\\u003e  }\\u003cbr\\u003e}\",\"{\\u003cbr\\u003e  \\\"number\\\": 40,\\u003cbr\\u003e  \\\"values\\\": [\\u003cbr\\u003e    0.9405618395403714,\\u003cbr\\u003e    0.0\\u003cbr\\u003e  ],\\u003cbr\\u003e  \\\"params\\\": {\\u003cbr\\u003e    \\\"learning_rate\\\": 0.07106586900213631,\\u003cbr\\u003e    \\\"num_leaves\\\": 201,\\u003cbr\\u003e    \\\"max_depth\\\": 12,\\u003cbr\\u003e    \\\"feature_fraction\\\": 0.9458240411628313,\\u003cbr\\u003e    \\\"bagging_fraction\\\": 0.710842413261698,\\u003cbr\\u003e    \\\"bagging_freq\\\": 10,\\u003cbr\\u003e    \\\"min_data_in_leaf\\\": 148,\\u003cbr\\u003e    \\\"lambda_l1\\\": 1.300437684218101,\\u003cbr\\u003e    \\\"lambda_l2\\\": 0.2797144030529247\\u003cbr\\u003e  }\\u003cbr\\u003e}\",\"{\\u003cbr\\u003e  \\\"number\\\": 41,\\u003cbr\\u003e  \\\"values\\\": [\\u003cbr\\u003e    0.9600518108135836,\\u003cbr\\u003e    0.4079601990049751\\u003cbr\\u003e  ],\\u003cbr\\u003e  \\\"params\\\": {\\u003cbr\\u003e    \\\"learning_rate\\\": 0.13139169789990784,\\u003cbr\\u003e    \\\"num_leaves\\\": 20,\\u003cbr\\u003e    \\\"max_depth\\\": 12,\\u003cbr\\u003e    \\\"feature_fraction\\\": 0.6242479091434551,\\u003cbr\\u003e    \\\"bagging_fraction\\\": 0.7078633947692076,\\u003cbr\\u003e    \\\"bagging_freq\\\": 10,\\u003cbr\\u003e    \\\"min_data_in_leaf\\\": 193,\\u003cbr\\u003e    \\\"lambda_l1\\\": 2.772015373720097,\\u003cbr\\u003e    \\\"lambda_l2\\\": 4.2463896710611895\\u003cbr\\u003e  }\\u003cbr\\u003e}\",\"{\\u003cbr\\u003e  \\\"number\\\": 42,\\u003cbr\\u003e  \\\"values\\\": [\\u003cbr\\u003e    0.9462911665127732,\\u003cbr\\u003e    0.24477611940298508\\u003cbr\\u003e  ],\\u003cbr\\u003e  \\\"params\\\": {\\u003cbr\\u003e    \\\"learning_rate\\\": 0.13054538604037327,\\u003cbr\\u003e    \\\"num_leaves\\\": 69,\\u003cbr\\u003e    \\\"max_depth\\\": 4,\\u003cbr\\u003e    \\\"feature_fraction\\\": 0.7596707417984521,\\u003cbr\\u003e    \\\"bagging_fraction\\\": 0.6491922967108751,\\u003cbr\\u003e    \\\"bagging_freq\\\": 8,\\u003cbr\\u003e    \\\"min_data_in_leaf\\\": 199,\\u003cbr\\u003e    \\\"lambda_l1\\\": 2.8740768207976775,\\u003cbr\\u003e    \\\"lambda_l2\\\": 0.97098940527231\\u003cbr\\u003e  }\\u003cbr\\u003e}\",\"{\\u003cbr\\u003e  \\\"number\\\": 43,\\u003cbr\\u003e  \\\"values\\\": [\\u003cbr\\u003e    0.9142813173284088,\\u003cbr\\u003e    0.0\\u003cbr\\u003e  ],\\u003cbr\\u003e  \\\"params\\\": {\\u003cbr\\u003e    \\\"learning_rate\\\": 0.03531659259610558,\\u003cbr\\u003e    \\\"num_leaves\\\": 232,\\u003cbr\\u003e    \\\"max_depth\\\": 9,\\u003cbr\\u003e    \\\"feature_fraction\\\": 0.8115186468191404,\\u003cbr\\u003e    \\\"bagging_fraction\\\": 0.6218786894468341,\\u003cbr\\u003e    \\\"bagging_freq\\\": 10,\\u003cbr\\u003e    \\\"min_data_in_leaf\\\": 56,\\u003cbr\\u003e    \\\"lambda_l1\\\": 2.375926109789628,\\u003cbr\\u003e    \\\"lambda_l2\\\": 2.399854947928572\\u003cbr\\u003e  }\\u003cbr\\u003e}\",\"{\\u003cbr\\u003e  \\\"number\\\": 44,\\u003cbr\\u003e  \\\"values\\\": [\\u003cbr\\u003e    0.9474389555760747,\\u003cbr\\u003e    0.4371584699453552\\u003cbr\\u003e  ],\\u003cbr\\u003e  \\\"params\\\": {\\u003cbr\\u003e    \\\"learning_rate\\\": 0.19989811354195136,\\u003cbr\\u003e    \\\"num_leaves\\\": 67,\\u003cbr\\u003e    \\\"max_depth\\\": 4,\\u003cbr\\u003e    \\\"feature_fraction\\\": 0.7651448717827511,\\u003cbr\\u003e    \\\"bagging_fraction\\\": 0.9442325946585356,\\u003cbr\\u003e    \\\"bagging_freq\\\": 6,\\u003cbr\\u003e    \\\"min_data_in_leaf\\\": 104,\\u003cbr\\u003e    \\\"lambda_l1\\\": 0.4822836617765075,\\u003cbr\\u003e    \\\"lambda_l2\\\": 3.2051296091609034\\u003cbr\\u003e  }\\u003cbr\\u003e}\",\"{\\u003cbr\\u003e  \\\"number\\\": 45,\\u003cbr\\u003e  \\\"values\\\": [\\u003cbr\\u003e    0.8739964860982866,\\u003cbr\\u003e    0.0\\u003cbr\\u003e  ],\\u003cbr\\u003e  \\\"params\\\": {\\u003cbr\\u003e    \\\"learning_rate\\\": 0.0645888843705889,\\u003cbr\\u003e    \\\"num_leaves\\\": 82,\\u003cbr\\u003e    \\\"max_depth\\\": 9,\\u003cbr\\u003e    \\\"feature_fraction\\\": 0.7886853147981062,\\u003cbr\\u003e    \\\"bagging_fraction\\\": 0.9265130538211555,\\u003cbr\\u003e    \\\"bagging_freq\\\": 8,\\u003cbr\\u003e    \\\"min_data_in_leaf\\\": 101,\\u003cbr\\u003e    \\\"lambda_l1\\\": 3.06849778585537,\\u003cbr\\u003e    \\\"lambda_l2\\\": 4.178712071185333\\u003cbr\\u003e  }\\u003cbr\\u003e}\",\"{\\u003cbr\\u003e  \\\"number\\\": 46,\\u003cbr\\u003e  \\\"values\\\": [\\u003cbr\\u003e    0.9565892069354673,\\u003cbr\\u003e    0.47337278106508873\\u003cbr\\u003e  ],\\u003cbr\\u003e  \\\"params\\\": {\\u003cbr\\u003e    \\\"learning_rate\\\": 0.1939781073882136,\\u003cbr\\u003e    \\\"num_leaves\\\": 149,\\u003cbr\\u003e    \\\"max_depth\\\": 10,\\u003cbr\\u003e    \\\"feature_fraction\\\": 0.759927770813361,\\u003cbr\\u003e    \\\"bagging_fraction\\\": 0.7525280391123207,\\u003cbr\\u003e    \\\"bagging_freq\\\": 3,\\u003cbr\\u003e    \\\"min_data_in_leaf\\\": 172,\\u003cbr\\u003e    \\\"lambda_l1\\\": 3.147620203564809,\\u003cbr\\u003e    \\\"lambda_l2\\\": 2.3892591175592908\\u003cbr\\u003e  }\\u003cbr\\u003e}\",\"{\\u003cbr\\u003e  \\\"number\\\": 47,\\u003cbr\\u003e  \\\"values\\\": [\\u003cbr\\u003e    0.9605519647070895,\\u003cbr\\u003e    0.47126436781609193\\u003cbr\\u003e  ],\\u003cbr\\u003e  \\\"params\\\": {\\u003cbr\\u003e    \\\"learning_rate\\\": 0.12761123344567746,\\u003cbr\\u003e    \\\"num_leaves\\\": 218,\\u003cbr\\u003e    \\\"max_depth\\\": 10,\\u003cbr\\u003e    \\\"feature_fraction\\\": 0.9734075450918594,\\u003cbr\\u003e    \\\"bagging_fraction\\\": 0.6567190685764945,\\u003cbr\\u003e    \\\"bagging_freq\\\": 9,\\u003cbr\\u003e    \\\"min_data_in_leaf\\\": 105,\\u003cbr\\u003e    \\\"lambda_l1\\\": 0.4581862215302712,\\u003cbr\\u003e    \\\"lambda_l2\\\": 4.364178078822721\\u003cbr\\u003e  }\\u003cbr\\u003e}\",\"{\\u003cbr\\u003e  \\\"number\\\": 48,\\u003cbr\\u003e  \\\"values\\\": [\\u003cbr\\u003e    0.9477275058992511,\\u003cbr\\u003e    0.40594059405940597\\u003cbr\\u003e  ],\\u003cbr\\u003e  \\\"params\\\": {\\u003cbr\\u003e    \\\"learning_rate\\\": 0.18068300188468964,\\u003cbr\\u003e    \\\"num_leaves\\\": 161,\\u003cbr\\u003e    \\\"max_depth\\\": 4,\\u003cbr\\u003e    \\\"feature_fraction\\\": 0.7779765346919928,\\u003cbr\\u003e    \\\"bagging_fraction\\\": 0.9285434258742526,\\u003cbr\\u003e    \\\"bagging_freq\\\": 1,\\u003cbr\\u003e    \\\"min_data_in_leaf\\\": 112,\\u003cbr\\u003e    \\\"lambda_l1\\\": 4.420783416838074,\\u003cbr\\u003e    \\\"lambda_l2\\\": 2.263875316286088\\u003cbr\\u003e  }\\u003cbr\\u003e}\",\"{\\u003cbr\\u003e  \\\"number\\\": 49,\\u003cbr\\u003e  \\\"values\\\": [\\u003cbr\\u003e    0.9640530419616291,\\u003cbr\\u003e    0.36134453781512604\\u003cbr\\u003e  ],\\u003cbr\\u003e  \\\"params\\\": {\\u003cbr\\u003e    \\\"learning_rate\\\": 0.15048166670895252,\\u003cbr\\u003e    \\\"num_leaves\\\": 44,\\u003cbr\\u003e    \\\"max_depth\\\": 11,\\u003cbr\\u003e    \\\"feature_fraction\\\": 0.8149469988468958,\\u003cbr\\u003e    \\\"bagging_fraction\\\": 0.6241876126260977,\\u003cbr\\u003e    \\\"bagging_freq\\\": 1,\\u003cbr\\u003e    \\\"min_data_in_leaf\\\": 153,\\u003cbr\\u003e    \\\"lambda_l1\\\": 0.7041741342161362,\\u003cbr\\u003e    \\\"lambda_l2\\\": 1.8362624243437904\\u003cbr\\u003e  }\\u003cbr\\u003e}\",\"{\\u003cbr\\u003e  \\\"number\\\": 50,\\u003cbr\\u003e  \\\"values\\\": [\\u003cbr\\u003e    0.958044783010157,\\u003cbr\\u003e    0.4046242774566474\\u003cbr\\u003e  ],\\u003cbr\\u003e  \\\"params\\\": {\\u003cbr\\u003e    \\\"learning_rate\\\": 0.1426917622338535,\\u003cbr\\u003e    \\\"num_leaves\\\": 69,\\u003cbr\\u003e    \\\"max_depth\\\": 12,\\u003cbr\\u003e    \\\"feature_fraction\\\": 0.7596707417984521,\\u003cbr\\u003e    \\\"bagging_fraction\\\": 0.7009391492862368,\\u003cbr\\u003e    \\\"bagging_freq\\\": 8,\\u003cbr\\u003e    \\\"min_data_in_leaf\\\": 199,\\u003cbr\\u003e    \\\"lambda_l1\\\": 4.0480298605407485,\\u003cbr\\u003e    \\\"lambda_l2\\\": 3.6742242133603487\\u003cbr\\u003e  }\\u003cbr\\u003e}\",\"{\\u003cbr\\u003e  \\\"number\\\": 52,\\u003cbr\\u003e  \\\"values\\\": [\\u003cbr\\u003e    0.9545821791320407,\\u003cbr\\u003e    0.2883435582822086\\u003cbr\\u003e  ],\\u003cbr\\u003e  \\\"params\\\": {\\u003cbr\\u003e    \\\"learning_rate\\\": 0.12761123344567746,\\u003cbr\\u003e    \\\"num_leaves\\\": 218,\\u003cbr\\u003e    \\\"max_depth\\\": 3,\\u003cbr\\u003e    \\\"feature_fraction\\\": 0.7243708295372231,\\u003cbr\\u003e    \\\"bagging_fraction\\\": 0.9942367042708334,\\u003cbr\\u003e    \\\"bagging_freq\\\": 5,\\u003cbr\\u003e    \\\"min_data_in_leaf\\\": 190,\\u003cbr\\u003e    \\\"lambda_l1\\\": 0.7826468269852965,\\u003cbr\\u003e    \\\"lambda_l2\\\": 4.364178078822721\\u003cbr\\u003e  }\\u003cbr\\u003e}\",\"{\\u003cbr\\u003e  \\\"number\\\": 53,\\u003cbr\\u003e  \\\"values\\\": [\\u003cbr\\u003e    0.9561082897301734,\\u003cbr\\u003e    0.5095541401273885\\u003cbr\\u003e  ],\\u003cbr\\u003e  \\\"params\\\": {\\u003cbr\\u003e    \\\"learning_rate\\\": 0.15235735602417055,\\u003cbr\\u003e    \\\"num_leaves\\\": 88,\\u003cbr\\u003e    \\\"max_depth\\\": 10,\\u003cbr\\u003e    \\\"feature_fraction\\\": 0.9602331227117309,\\u003cbr\\u003e    \\\"bagging_fraction\\\": 0.6629596810523102,\\u003cbr\\u003e    \\\"bagging_freq\\\": 3,\\u003cbr\\u003e    \\\"min_data_in_leaf\\\": 150,\\u003cbr\\u003e    \\\"lambda_l1\\\": 4.222713837760934,\\u003cbr\\u003e    \\\"lambda_l2\\\": 2.3892591175592908\\u003cbr\\u003e  }\\u003cbr\\u003e}\",\"{\\u003cbr\\u003e  \\\"number\\\": 54,\\u003cbr\\u003e  \\\"values\\\": [\\u003cbr\\u003e    0.9476249102287884,\\u003cbr\\u003e    0.48484848484848486\\u003cbr\\u003e  ],\\u003cbr\\u003e  \\\"params\\\": {\\u003cbr\\u003e    \\\"learning_rate\\\": 0.1380025315020045,\\u003cbr\\u003e    \\\"num_leaves\\\": 140,\\u003cbr\\u003e    \\\"max_depth\\\": 9,\\u003cbr\\u003e    \\\"feature_fraction\\\": 0.7095003228593956,\\u003cbr\\u003e    \\\"bagging_fraction\\\": 0.8631412139772672,\\u003cbr\\u003e    \\\"bagging_freq\\\": 3,\\u003cbr\\u003e    \\\"min_data_in_leaf\\\": 65,\\u003cbr\\u003e    \\\"lambda_l1\\\": 4.811721291595281,\\u003cbr\\u003e    \\\"lambda_l2\\\": 0.11215096935184965\\u003cbr\\u003e  }\\u003cbr\\u003e}\",\"{\\u003cbr\\u003e  \\\"number\\\": 55,\\u003cbr\\u003e  \\\"values\\\": [\\u003cbr\\u003e    0.9525751513286139,\\u003cbr\\u003e    0.37272727272727274\\u003cbr\\u003e  ],\\u003cbr\\u003e  \\\"params\\\": {\\u003cbr\\u003e    \\\"learning_rate\\\": 0.15235735602417055,\\u003cbr\\u003e    \\\"num_leaves\\\": 88,\\u003cbr\\u003e    \\\"max_depth\\\": 4,\\u003cbr\\u003e    \\\"feature_fraction\\\": 0.9602331227117309,\\u003cbr\\u003e    \\\"bagging_fraction\\\": 0.9393827869376059,\\u003cbr\\u003e    \\\"bagging_freq\\\": 3,\\u003cbr\\u003e    \\\"min_data_in_leaf\\\": 150,\\u003cbr\\u003e    \\\"lambda_l1\\\": 4.222713837760934,\\u003cbr\\u003e    \\\"lambda_l2\\\": 2.5720158622367357\\u003cbr\\u003e  }\\u003cbr\\u003e}\",\"{\\u003cbr\\u003e  \\\"number\\\": 56,\\u003cbr\\u003e  \\\"values\\\": [\\u003cbr\\u003e    0.9646942649020211,\\u003cbr\\u003e    0.5058823529411764\\u003cbr\\u003e  ],\\u003cbr\\u003e  \\\"params\\\": {\\u003cbr\\u003e    \\\"learning_rate\\\": 0.13139169789990784,\\u003cbr\\u003e    \\\"num_leaves\\\": 20,\\u003cbr\\u003e    \\\"max_depth\\\": 10,\\u003cbr\\u003e    \\\"feature_fraction\\\": 0.9734075450918594,\\u003cbr\\u003e    \\\"bagging_fraction\\\": 0.935006976835088,\\u003cbr\\u003e    \\\"bagging_freq\\\": 9,\\u003cbr\\u003e    \\\"min_data_in_leaf\\\": 193,\\u003cbr\\u003e    \\\"lambda_l1\\\": 2.772015373720097,\\u003cbr\\u003e    \\\"lambda_l2\\\": 4.2463896710611895\\u003cbr\\u003e  }\\u003cbr\\u003e}\",\"{\\u003cbr\\u003e  \\\"number\\\": 57,\\u003cbr\\u003e  \\\"values\\\": [\\u003cbr\\u003e    0.9610649430594029,\\u003cbr\\u003e    0.3028391167192429\\u003cbr\\u003e  ],\\u003cbr\\u003e  \\\"params\\\": {\\u003cbr\\u003e    \\\"learning_rate\\\": 0.15235735602417055,\\u003cbr\\u003e    \\\"num_leaves\\\": 88,\\u003cbr\\u003e    \\\"max_depth\\\": 4,\\u003cbr\\u003e    \\\"feature_fraction\\\": 0.9602331227117309,\\u003cbr\\u003e    \\\"bagging_fraction\\\": 0.6629596810523102,\\u003cbr\\u003e    \\\"bagging_freq\\\": 7,\\u003cbr\\u003e    \\\"min_data_in_leaf\\\": 120,\\u003cbr\\u003e    \\\"lambda_l1\\\": 4.222713837760934,\\u003cbr\\u003e    \\\"lambda_l2\\\": 0.4775415997106336\\u003cbr\\u003e  }\\u003cbr\\u003e}\",\"{\\u003cbr\\u003e  \\\"number\\\": 58,\\u003cbr\\u003e  \\\"values\\\": [\\u003cbr\\u003e    0.927105776136247,\\u003cbr\\u003e    0.49056603773584906\\u003cbr\\u003e  ],\\u003cbr\\u003e  \\\"params\\\": {\\u003cbr\\u003e    \\\"learning_rate\\\": 0.18889575909639167,\\u003cbr\\u003e    \\\"num_leaves\\\": 122,\\u003cbr\\u003e    \\\"max_depth\\\": 9,\\u003cbr\\u003e    \\\"feature_fraction\\\": 0.8305570702288532,\\u003cbr\\u003e    \\\"bagging_fraction\\\": 0.7537026169740353,\\u003cbr\\u003e    \\\"bagging_freq\\\": 8,\\u003cbr\\u003e    \\\"min_data_in_leaf\\\": 65,\\u003cbr\\u003e    \\\"lambda_l1\\\": 4.600934252108168,\\u003cbr\\u003e    \\\"lambda_l2\\\": 4.920558217067025\\u003cbr\\u003e  }\\u003cbr\\u003e}\",\"{\\u003cbr\\u003e  \\\"number\\\": 59,\\u003cbr\\u003e  \\\"values\\\": [\\u003cbr\\u003e    0.9518890427823946,\\u003cbr\\u003e    0.3904761904761905\\u003cbr\\u003e  ],\\u003cbr\\u003e  \\\"params\\\": {\\u003cbr\\u003e    \\\"learning_rate\\\": 0.128021809088676,\\u003cbr\\u003e    \\\"num_leaves\\\": 30,\\u003cbr\\u003e    \\\"max_depth\\\": 5,\\u003cbr\\u003e    \\\"feature_fraction\\\": 0.8178918858735876,\\u003cbr\\u003e    \\\"bagging_fraction\\\": 0.9393827869376059,\\u003cbr\\u003e    \\\"bagging_freq\\\": 6,\\u003cbr\\u003e    \\\"min_data_in_leaf\\\": 123,\\u003cbr\\u003e    \\\"lambda_l1\\\": 3.5271672194768513,\\u003cbr\\u003e    \\\"lambda_l2\\\": 4.966237373689465\\u003cbr\\u003e  }\\u003cbr\\u003e}\",\"{\\u003cbr\\u003e  \\\"number\\\": 60,\\u003cbr\\u003e  \\\"values\\\": [\\u003cbr\\u003e    0.9531458397455628,\\u003cbr\\u003e    0.44047619047619047\\u003cbr\\u003e  ],\\u003cbr\\u003e  \\\"params\\\": {\\u003cbr\\u003e    \\\"learning_rate\\\": 0.13139169789990784,\\u003cbr\\u003e    \\\"num_leaves\\\": 20,\\u003cbr\\u003e    \\\"max_depth\\\": 5,\\u003cbr\\u003e    \\\"feature_fraction\\\": 0.6242479091434551,\\u003cbr\\u003e    \\\"bagging_fraction\\\": 0.8110805351399107,\\u003cbr\\u003e    \\\"bagging_freq\\\": 10,\\u003cbr\\u003e    \\\"min_data_in_leaf\\\": 36,\\u003cbr\\u003e    \\\"lambda_l1\\\": 0.2743417205850407,\\u003cbr\\u003e    \\\"lambda_l2\\\": 4.2463896710611895\\u003cbr\\u003e  }\\u003cbr\\u003e}\",\"{\\u003cbr\\u003e  \\\"number\\\": 61,\\u003cbr\\u003e  \\\"values\\\": [\\u003cbr\\u003e    0.8652662357648506,\\u003cbr\\u003e    0.24615384615384617\\u003cbr\\u003e  ],\\u003cbr\\u003e  \\\"params\\\": {\\u003cbr\\u003e    \\\"learning_rate\\\": 0.0973541323997992,\\u003cbr\\u003e    \\\"num_leaves\\\": 250,\\u003cbr\\u003e    \\\"max_depth\\\": 3,\\u003cbr\\u003e    \\\"feature_fraction\\\": 0.7243708295372231,\\u003cbr\\u003e    \\\"bagging_fraction\\\": 0.9393827869376059,\\u003cbr\\u003e    \\\"bagging_freq\\\": 5,\\u003cbr\\u003e    \\\"min_data_in_leaf\\\": 190,\\u003cbr\\u003e    \\\"lambda_l1\\\": 3.5271672194768513,\\u003cbr\\u003e    \\\"lambda_l2\\\": 2.5776985760023186\\u003cbr\\u003e  }\\u003cbr\\u003e}\",\"{\\u003cbr\\u003e  \\\"number\\\": 62,\\u003cbr\\u003e  \\\"values\\\": [\\u003cbr\\u003e    0.9641364009438802,\\u003cbr\\u003e    0.4968944099378882\\u003cbr\\u003e  ],\\u003cbr\\u003e  \\\"params\\\": {\\u003cbr\\u003e    \\\"learning_rate\\\": 0.0973541323997992,\\u003cbr\\u003e    \\\"num_leaves\\\": 30,\\u003cbr\\u003e    \\\"max_depth\\\": 9,\\u003cbr\\u003e    \\\"feature_fraction\\\": 0.8178918858735876,\\u003cbr\\u003e    \\\"bagging_fraction\\\": 0.9393827869376059,\\u003cbr\\u003e    \\\"bagging_freq\\\": 3,\\u003cbr\\u003e    \\\"min_data_in_leaf\\\": 168,\\u003cbr\\u003e    \\\"lambda_l1\\\": 3.5271672194768513,\\u003cbr\\u003e    \\\"lambda_l2\\\": 0.6605910520872799\\u003cbr\\u003e  }\\u003cbr\\u003e}\",\"{\\u003cbr\\u003e  \\\"number\\\": 63,\\u003cbr\\u003e  \\\"values\\\": [\\u003cbr\\u003e    0.9575253924284395,\\u003cbr\\u003e    0.2789317507418398\\u003cbr\\u003e  ],\\u003cbr\\u003e  \\\"params\\\": {\\u003cbr\\u003e    \\\"learning_rate\\\": 0.11103360988414268,\\u003cbr\\u003e    \\\"num_leaves\\\": 146,\\u003cbr\\u003e    \\\"max_depth\\\": 3,\\u003cbr\\u003e    \\\"feature_fraction\\\": 0.6697473399512561,\\u003cbr\\u003e    \\\"bagging_fraction\\\": 0.7663990554641487,\\u003cbr\\u003e    \\\"bagging_freq\\\": 8,\\u003cbr\\u003e    \\\"min_data_in_leaf\\\": 15,\\u003cbr\\u003e    \\\"lambda_l1\\\": 2.6052898350749616,\\u003cbr\\u003e    \\\"lambda_l2\\\": 3.7203071555192597\\u003cbr\\u003e  }\\u003cbr\\u003e}\",\"{\\u003cbr\\u003e  \\\"number\\\": 64,\\u003cbr\\u003e  \\\"values\\\": [\\u003cbr\\u003e    0.9430081050579665,\\u003cbr\\u003e    0.5076923076923077\\u003cbr\\u003e  ],\\u003cbr\\u003e  \\\"params\\\": {\\u003cbr\\u003e    \\\"learning_rate\\\": 0.1863945010632158,\\u003cbr\\u003e    \\\"num_leaves\\\": 69,\\u003cbr\\u003e    \\\"max_depth\\\": 5,\\u003cbr\\u003e    \\\"feature_fraction\\\": 0.7103650521230974,\\u003cbr\\u003e    \\\"bagging_fraction\\\": 0.8504663662144317,\\u003cbr\\u003e    \\\"bagging_freq\\\": 8,\\u003cbr\\u003e    \\\"min_data_in_leaf\\\": 36,\\u003cbr\\u003e    \\\"lambda_l1\\\": 4.93011032097988,\\u003cbr\\u003e    \\\"lambda_l2\\\": 0.9467805415733654\\u003cbr\\u003e  }\\u003cbr\\u003e}\",\"{\\u003cbr\\u003e  \\\"number\\\": 65,\\u003cbr\\u003e  \\\"values\\\": [\\u003cbr\\u003e    0.9639376218323588,\\u003cbr\\u003e    0.4772727272727273\\u003cbr\\u003e  ],\\u003cbr\\u003e  \\\"params\\\": {\\u003cbr\\u003e    \\\"learning_rate\\\": 0.09636082006389705,\\u003cbr\\u003e    \\\"num_leaves\\\": 98,\\u003cbr\\u003e    \\\"max_depth\\\": 6,\\u003cbr\\u003e    \\\"feature_fraction\\\": 0.8383109558532399,\\u003cbr\\u003e    \\\"bagging_fraction\\\": 0.7624955721343866,\\u003cbr\\u003e    \\\"bagging_freq\\\": 8,\\u003cbr\\u003e    \\\"min_data_in_leaf\\\": 36,\\u003cbr\\u003e    \\\"lambda_l1\\\": 4.93011032097988,\\u003cbr\\u003e    \\\"lambda_l2\\\": 4.121919043242559\\u003cbr\\u003e  }\\u003cbr\\u003e}\",\"{\\u003cbr\\u003e  \\\"number\\\": 66,\\u003cbr\\u003e  \\\"values\\\": [\\u003cbr\\u003e    0.9573779111521494,\\u003cbr\\u003e    0.42424242424242425\\u003cbr\\u003e  ],\\u003cbr\\u003e  \\\"params\\\": {\\u003cbr\\u003e    \\\"learning_rate\\\": 0.11667269209940277,\\u003cbr\\u003e    \\\"num_leaves\\\": 99,\\u003cbr\\u003e    \\\"max_depth\\\": 9,\\u003cbr\\u003e    \\\"feature_fraction\\\": 0.9915118232665916,\\u003cbr\\u003e    \\\"bagging_fraction\\\": 0.6089240657529246,\\u003cbr\\u003e    \\\"bagging_freq\\\": 8,\\u003cbr\\u003e    \\\"min_data_in_leaf\\\": 69,\\u003cbr\\u003e    \\\"lambda_l1\\\": 4.102497241231006,\\u003cbr\\u003e    \\\"lambda_l2\\\": 3.802014566975137\\u003cbr\\u003e  }\\u003cbr\\u003e}\",\"{\\u003cbr\\u003e  \\\"number\\\": 67,\\u003cbr\\u003e  \\\"values\\\": [\\u003cbr\\u003e    0.8993344105878731,\\u003cbr\\u003e    0.0\\u003cbr\\u003e  ],\\u003cbr\\u003e  \\\"params\\\": {\\u003cbr\\u003e    \\\"learning_rate\\\": 0.01711283847069692,\\u003cbr\\u003e    \\\"num_leaves\\\": 105,\\u003cbr\\u003e    \\\"max_depth\\\": 4,\\u003cbr\\u003e    \\\"feature_fraction\\\": 0.9088197111086062,\\u003cbr\\u003e    \\\"bagging_fraction\\\": 0.9872949946007609,\\u003cbr\\u003e    \\\"bagging_freq\\\": 2,\\u003cbr\\u003e    \\\"min_data_in_leaf\\\": 177,\\u003cbr\\u003e    \\\"lambda_l1\\\": 1.5187795751202038,\\u003cbr\\u003e    \\\"lambda_l2\\\": 4.173108886988015\\u003cbr\\u003e  }\\u003cbr\\u003e}\",\"{\\u003cbr\\u003e  \\\"number\\\": 68,\\u003cbr\\u003e  \\\"values\\\": [\\u003cbr\\u003e    0.9304016620498615,\\u003cbr\\u003e    0.43902439024390244\\u003cbr\\u003e  ],\\u003cbr\\u003e  \\\"params\\\": {\\u003cbr\\u003e    \\\"learning_rate\\\": 0.18068300188468964,\\u003cbr\\u003e    \\\"num_leaves\\\": 218,\\u003cbr\\u003e    \\\"max_depth\\\": 10,\\u003cbr\\u003e    \\\"feature_fraction\\\": 0.9734075450918594,\\u003cbr\\u003e    \\\"bagging_fraction\\\": 0.6567190685764945,\\u003cbr\\u003e    \\\"bagging_freq\\\": 9,\\u003cbr\\u003e    \\\"min_data_in_leaf\\\": 105,\\u003cbr\\u003e    \\\"lambda_l1\\\": 4.420783416838074,\\u003cbr\\u003e    \\\"lambda_l2\\\": 2.263875316286088\\u003cbr\\u003e  }\\u003cbr\\u003e}\",\"{\\u003cbr\\u003e  \\\"number\\\": 69,\\u003cbr\\u003e  \\\"values\\\": [\\u003cbr\\u003e    0.9570316507643377,\\u003cbr\\u003e    0.23316062176165803\\u003cbr\\u003e  ],\\u003cbr\\u003e  \\\"params\\\": {\\u003cbr\\u003e    \\\"learning_rate\\\": 0.13497578687742728,\\u003cbr\\u003e    \\\"num_leaves\\\": 74,\\u003cbr\\u003e    \\\"max_depth\\\": 3,\\u003cbr\\u003e    \\\"feature_fraction\\\": 0.6411711283252101,\\u003cbr\\u003e    \\\"bagging_fraction\\\": 0.9942367042708334,\\u003cbr\\u003e    \\\"bagging_freq\\\": 5,\\u003cbr\\u003e    \\\"min_data_in_leaf\\\": 59,\\u003cbr\\u003e    \\\"lambda_l1\\\": 0.7826468269852965,\\u003cbr\\u003e    \\\"lambda_l2\\\": 2.5776985760023186\\u003cbr\\u003e  }\\u003cbr\\u003e}\",\"{\\u003cbr\\u003e  \\\"number\\\": 70,\\u003cbr\\u003e  \\\"values\\\": [\\u003cbr\\u003e    0.9234796604083307,\\u003cbr\\u003e    0.0\\u003cbr\\u003e  ],\\u003cbr\\u003e  \\\"params\\\": {\\u003cbr\\u003e    \\\"learning_rate\\\": 0.036733503328038965,\\u003cbr\\u003e    \\\"num_leaves\\\": 149,\\u003cbr\\u003e    \\\"max_depth\\\": 10,\\u003cbr\\u003e    \\\"feature_fraction\\\": 0.759927770813361,\\u003cbr\\u003e    \\\"bagging_fraction\\\": 0.7525280391123207,\\u003cbr\\u003e    \\\"bagging_freq\\\": 8,\\u003cbr\\u003e    \\\"min_data_in_leaf\\\": 33,\\u003cbr\\u003e    \\\"lambda_l1\\\": 4.0480298605407485,\\u003cbr\\u003e    \\\"lambda_l2\\\": 2.3892591175592908\\u003cbr\\u003e  }\\u003cbr\\u003e}\",\"{\\u003cbr\\u003e  \\\"number\\\": 71,\\u003cbr\\u003e  \\\"values\\\": [\\u003cbr\\u003e    0.943610854621935,\\u003cbr\\u003e    0.303886925795053\\u003cbr\\u003e  ],\\u003cbr\\u003e  \\\"params\\\": {\\u003cbr\\u003e    \\\"learning_rate\\\": 0.1985787506772346,\\u003cbr\\u003e    \\\"num_leaves\\\": 51,\\u003cbr\\u003e    \\\"max_depth\\\": 3,\\u003cbr\\u003e    \\\"feature_fraction\\\": 0.7812714311392397,\\u003cbr\\u003e    \\\"bagging_fraction\\\": 0.9512560660897939,\\u003cbr\\u003e    \\\"bagging_freq\\\": 6,\\u003cbr\\u003e    \\\"min_data_in_leaf\\\": 61,\\u003cbr\\u003e    \\\"lambda_l1\\\": 2.2581304828422386,\\u003cbr\\u003e    \\\"lambda_l2\\\": 3.7589473914884253\\u003cbr\\u003e  }\\u003cbr\\u003e}\",\"{\\u003cbr\\u003e  \\\"number\\\": 72,\\u003cbr\\u003e  \\\"values\\\": [\\u003cbr\\u003e    0.9582307376628707,\\u003cbr\\u003e    0.32167832167832167\\u003cbr\\u003e  ],\\u003cbr\\u003e  \\\"params\\\": {\\u003cbr\\u003e    \\\"learning_rate\\\": 0.18068300188468964,\\u003cbr\\u003e    \\\"num_leaves\\\": 52,\\u003cbr\\u003e    \\\"max_depth\\\": 3,\\u003cbr\\u003e    \\\"feature_fraction\\\": 0.7779765346919928,\\u003cbr\\u003e    \\\"bagging_fraction\\\": 0.9285434258742526,\\u003cbr\\u003e    \\\"bagging_freq\\\": 1,\\u003cbr\\u003e    \\\"min_data_in_leaf\\\": 15,\\u003cbr\\u003e    \\\"lambda_l1\\\": 2.6052898350749616,\\u003cbr\\u003e    \\\"lambda_l2\\\": 2.263875316286088\\u003cbr\\u003e  }\\u003cbr\\u003e}\",\"{\\u003cbr\\u003e  \\\"number\\\": 73,\\u003cbr\\u003e  \\\"values\\\": [\\u003cbr\\u003e    0.9507348414896891,\\u003cbr\\u003e    0.5\\u003cbr\\u003e  ],\\u003cbr\\u003e  \\\"params\\\": {\\u003cbr\\u003e    \\\"learning_rate\\\": 0.16827749156266175,\\u003cbr\\u003e    \\\"num_leaves\\\": 204,\\u003cbr\\u003e    \\\"max_depth\\\": 10,\\u003cbr\\u003e    \\\"feature_fraction\\\": 0.6867961841878291,\\u003cbr\\u003e    \\\"bagging_fraction\\\": 0.7525280391123207,\\u003cbr\\u003e    \\\"bagging_freq\\\": 3,\\u003cbr\\u003e    \\\"min_data_in_leaf\\\": 196,\\u003cbr\\u003e    \\\"lambda_l1\\\": 2.2962026482373146,\\u003cbr\\u003e    \\\"lambda_l2\\\": 2.3892591175592908\\u003cbr\\u003e  }\\u003cbr\\u003e}\",\"{\\u003cbr\\u003e  \\\"number\\\": 74,\\u003cbr\\u003e  \\\"values\\\": [\\u003cbr\\u003e    0.870158766800041,\\u003cbr\\u003e    0.0\\u003cbr\\u003e  ],\\u003cbr\\u003e  \\\"params\\\": {\\u003cbr\\u003e    \\\"learning_rate\\\": 0.06431480991062519,\\u003cbr\\u003e    \\\"num_leaves\\\": 44,\\u003cbr\\u003e    \\\"max_depth\\\": 9,\\u003cbr\\u003e    \\\"feature_fraction\\\": 0.8149469988468958,\\u003cbr\\u003e    \\\"bagging_fraction\\\": 0.9512560660897939,\\u003cbr\\u003e    \\\"bagging_freq\\\": 1,\\u003cbr\\u003e    \\\"min_data_in_leaf\\\": 153,\\u003cbr\\u003e    \\\"lambda_l1\\\": 2.2581304828422386,\\u003cbr\\u003e    \\\"lambda_l2\\\": 1.8362624243437904\\u003cbr\\u003e  }\\u003cbr\\u003e}\",\"{\\u003cbr\\u003e  \\\"number\\\": 75,\\u003cbr\\u003e  \\\"values\\\": [\\u003cbr\\u003e    0.9558902739304402,\\u003cbr\\u003e    0.4120603015075377\\u003cbr\\u003e  ],\\u003cbr\\u003e  \\\"params\\\": {\\u003cbr\\u003e    \\\"learning_rate\\\": 0.18068300188468964,\\u003cbr\\u003e    \\\"num_leaves\\\": 32,\\u003cbr\\u003e    \\\"max_depth\\\": 4,\\u003cbr\\u003e    \\\"feature_fraction\\\": 0.9602331227117309,\\u003cbr\\u003e    \\\"bagging_fraction\\\": 0.9285434258742526,\\u003cbr\\u003e    \\\"bagging_freq\\\": 7,\\u003cbr\\u003e    \\\"min_data_in_leaf\\\": 112,\\u003cbr\\u003e    \\\"lambda_l1\\\": 4.420783416838074,\\u003cbr\\u003e    \\\"lambda_l2\\\": 2.263875316286088\\u003cbr\\u003e  }\\u003cbr\\u003e}\",\"{\\u003cbr\\u003e  \\\"number\\\": 76,\\u003cbr\\u003e  \\\"values\\\": [\\u003cbr\\u003e    0.9350409100235969,\\u003cbr\\u003e    0.0\\u003cbr\\u003e  ],\\u003cbr\\u003e  \\\"params\\\": {\\u003cbr\\u003e    \\\"learning_rate\\\": 0.01711283847069692,\\u003cbr\\u003e    \\\"num_leaves\\\": 224,\\u003cbr\\u003e    \\\"max_depth\\\": 4,\\u003cbr\\u003e    \\\"feature_fraction\\\": 0.7243708295372231,\\u003cbr\\u003e    \\\"bagging_fraction\\\": 0.9942367042708334,\\u003cbr\\u003e    \\\"bagging_freq\\\": 5,\\u003cbr\\u003e    \\\"min_data_in_leaf\\\": 190,\\u003cbr\\u003e    \\\"lambda_l1\\\": 3.341772100662576,\\u003cbr\\u003e    \\\"lambda_l2\\\": 2.5776985760023186\\u003cbr\\u003e  }\\u003cbr\\u003e}\",\"{\\u003cbr\\u003e  \\\"number\\\": 77,\\u003cbr\\u003e  \\\"values\\\": [\\u003cbr\\u003e    0.9608020416538421,\\u003cbr\\u003e    0.43137254901960786\\u003cbr\\u003e  ],\\u003cbr\\u003e  \\\"params\\\": {\\u003cbr\\u003e    \\\"learning_rate\\\": 0.18068300188468964,\\u003cbr\\u003e    \\\"num_leaves\\\": 161,\\u003cbr\\u003e    \\\"max_depth\\\": 4,\\u003cbr\\u003e    \\\"feature_fraction\\\": 0.8839875734474862,\\u003cbr\\u003e    \\\"bagging_fraction\\\": 0.7625828117841102,\\u003cbr\\u003e    \\\"bagging_freq\\\": 1,\\u003cbr\\u003e    \\\"min_data_in_leaf\\\": 112,\\u003cbr\\u003e    \\\"lambda_l1\\\": 4.420783416838074,\\u003cbr\\u003e    \\\"lambda_l2\\\": 3.6121511232239074\\u003cbr\\u003e  }\\u003cbr\\u003e}\",\"{\\u003cbr\\u003e  \\\"number\\\": 78,\\u003cbr\\u003e  \\\"values\\\": [\\u003cbr\\u003e    0.9462013953011182,\\u003cbr\\u003e    0.4528301886792453\\u003cbr\\u003e  ],\\u003cbr\\u003e  \\\"params\\\": {\\u003cbr\\u003e    \\\"learning_rate\\\": 0.15235735602417055,\\u003cbr\\u003e    \\\"num_leaves\\\": 88,\\u003cbr\\u003e    \\\"max_depth\\\": 10,\\u003cbr\\u003e    \\\"feature_fraction\\\": 0.9602331227117309,\\u003cbr\\u003e    \\\"bagging_fraction\\\": 0.6629596810523102,\\u003cbr\\u003e    \\\"bagging_freq\\\": 7,\\u003cbr\\u003e    \\\"min_data_in_leaf\\\": 150,\\u003cbr\\u003e    \\\"lambda_l1\\\": 1.399251524176841,\\u003cbr\\u003e    \\\"lambda_l2\\\": 2.5720158622367357\\u003cbr\\u003e  }\\u003cbr\\u003e}\",\"{\\u003cbr\\u003e  \\\"number\\\": 79,\\u003cbr\\u003e  \\\"values\\\": [\\u003cbr\\u003e    0.8683312814199241,\\u003cbr\\u003e    0.0\\u003cbr\\u003e  ],\\u003cbr\\u003e  \\\"params\\\": {\\u003cbr\\u003e    \\\"learning_rate\\\": 0.08334854307862763,\\u003cbr\\u003e    \\\"num_leaves\\\": 99,\\u003cbr\\u003e    \\\"max_depth\\\": 7,\\u003cbr\\u003e    \\\"feature_fraction\\\": 0.8889815762775094,\\u003cbr\\u003e    \\\"bagging_fraction\\\": 0.7009391492862368,\\u003cbr\\u003e    \\\"bagging_freq\\\": 5,\\u003cbr\\u003e    \\\"min_data_in_leaf\\\": 157,\\u003cbr\\u003e    \\\"lambda_l1\\\": 4.102497241231006,\\u003cbr\\u003e    \\\"lambda_l2\\\": 3.6742242133603487\\u003cbr\\u003e  }\\u003cbr\\u003e}\",\"{\\u003cbr\\u003e  \\\"number\\\": 80,\\u003cbr\\u003e  \\\"values\\\": [\\u003cbr\\u003e    0.9418859649122807,\\u003cbr\\u003e    0.40609137055837563\\u003cbr\\u003e  ],\\u003cbr\\u003e  \\\"params\\\": {\\u003cbr\\u003e    \\\"learning_rate\\\": 0.1556990643891862,\\u003cbr\\u003e    \\\"num_leaves\\\": 132,\\u003cbr\\u003e    \\\"max_depth\\\": 5,\\u003cbr\\u003e    \\\"feature_fraction\\\": 0.7634759654187324,\\u003cbr\\u003e    \\\"bagging_fraction\\\": 0.7360548651524736,\\u003cbr\\u003e    \\\"bagging_freq\\\": 9,\\u003cbr\\u003e    \\\"min_data_in_leaf\\\": 138,\\u003cbr\\u003e    \\\"lambda_l1\\\": 0.1150780575692506,\\u003cbr\\u003e    \\\"lambda_l2\\\": 0.67381226196919\\u003cbr\\u003e  }\\u003cbr\\u003e}\",\"{\\u003cbr\\u003e  \\\"number\\\": 81,\\u003cbr\\u003e  \\\"values\\\": [\\u003cbr\\u003e    0.9626680004103828,\\u003cbr\\u003e    0.26631853785900783\\u003cbr\\u003e  ],\\u003cbr\\u003e  \\\"params\\\": {\\u003cbr\\u003e    \\\"learning_rate\\\": 0.11103360988414268,\\u003cbr\\u003e    \\\"num_leaves\\\": 52,\\u003cbr\\u003e    \\\"max_depth\\\": 3,\\u003cbr\\u003e    \\\"feature_fraction\\\": 0.8178918858735876,\\u003cbr\\u003e    \\\"bagging_fraction\\\": 0.7663990554641487,\\u003cbr\\u003e    \\\"bagging_freq\\\": 8,\\u003cbr\\u003e    \\\"min_data_in_leaf\\\": 168,\\u003cbr\\u003e    \\\"lambda_l1\\\": 3.5271672194768513,\\u003cbr\\u003e    \\\"lambda_l2\\\": 0.6605910520872799\\u003cbr\\u003e  }\\u003cbr\\u003e}\",\"{\\u003cbr\\u003e  \\\"number\\\": 82,\\u003cbr\\u003e  \\\"values\\\": [\\u003cbr\\u003e    0.9473363599056119,\\u003cbr\\u003e    0.512\\u003cbr\\u003e  ],\\u003cbr\\u003e  \\\"params\\\": {\\u003cbr\\u003e    \\\"learning_rate\\\": 0.1580027631549685,\\u003cbr\\u003e    \\\"num_leaves\\\": 249,\\u003cbr\\u003e    \\\"max_depth\\\": 12,\\u003cbr\\u003e    \\\"feature_fraction\\\": 0.7103650521230974,\\u003cbr\\u003e    \\\"bagging_fraction\\\": 0.7625828117841102,\\u003cbr\\u003e    \\\"bagging_freq\\\": 4,\\u003cbr\\u003e    \\\"min_data_in_leaf\\\": 73,\\u003cbr\\u003e    \\\"lambda_l1\\\": 2.4270856625329573,\\u003cbr\\u003e    \\\"lambda_l2\\\": 3.6121511232239074\\u003cbr\\u003e  }\\u003cbr\\u003e}\",\"{\\u003cbr\\u003e  \\\"number\\\": 83,\\u003cbr\\u003e  \\\"values\\\": [\\u003cbr\\u003e    0.9454639889196675,\\u003cbr\\u003e    0.4262295081967213\\u003cbr\\u003e  ],\\u003cbr\\u003e  \\\"params\\\": {\\u003cbr\\u003e    \\\"learning_rate\\\": 0.14459207383422765,\\u003cbr\\u003e    \\\"num_leaves\\\": 49,\\u003cbr\\u003e    \\\"max_depth\\\": 8,\\u003cbr\\u003e    \\\"feature_fraction\\\": 0.9734075450918594,\\u003cbr\\u003e    \\\"bagging_fraction\\\": 0.6567190685764945,\\u003cbr\\u003e    \\\"bagging_freq\\\": 9,\\u003cbr\\u003e    \\\"min_data_in_leaf\\\": 105,\\u003cbr\\u003e    \\\"lambda_l1\\\": 0.4581862215302712,\\u003cbr\\u003e    \\\"lambda_l2\\\": 0.5695540684572287\\u003cbr\\u003e  }\\u003cbr\\u003e}\",\"{\\u003cbr\\u003e  \\\"number\\\": 84,\\u003cbr\\u003e  \\\"values\\\": [\\u003cbr\\u003e    0.9291256283984816,\\u003cbr\\u003e    0.0\\u003cbr\\u003e  ],\\u003cbr\\u003e  \\\"params\\\": {\\u003cbr\\u003e    \\\"learning_rate\\\": 0.011252044757547718,\\u003cbr\\u003e    \\\"num_leaves\\\": 83,\\u003cbr\\u003e    \\\"max_depth\\\": 9,\\u003cbr\\u003e    \\\"feature_fraction\\\": 0.6768777491107174,\\u003cbr\\u003e    \\\"bagging_fraction\\\": 0.6126072277921103,\\u003cbr\\u003e    \\\"bagging_freq\\\": 2,\\u003cbr\\u003e    \\\"min_data_in_leaf\\\": 149,\\u003cbr\\u003e    \\\"lambda_l1\\\": 2.427444638675114,\\u003cbr\\u003e    \\\"lambda_l2\\\": 4.505775907658566\\u003cbr\\u003e  }\\u003cbr\\u003e}\",\"{\\u003cbr\\u003e  \\\"number\\\": 85,\\u003cbr\\u003e  \\\"values\\\": [\\u003cbr\\u003e    0.9369549605006668,\\u003cbr\\u003e    0.4444444444444444\\u003cbr\\u003e  ],\\u003cbr\\u003e  \\\"params\\\": {\\u003cbr\\u003e    \\\"learning_rate\\\": 0.18889575909639167,\\u003cbr\\u003e    \\\"num_leaves\\\": 22,\\u003cbr\\u003e    \\\"max_depth\\\": 5,\\u003cbr\\u003e    \\\"feature_fraction\\\": 0.7095003228593956,\\u003cbr\\u003e    \\\"bagging_fraction\\\": 0.7023428407985353,\\u003cbr\\u003e    \\\"bagging_freq\\\": 8,\\u003cbr\\u003e    \\\"min_data_in_leaf\\\": 65,\\u003cbr\\u003e    \\\"lambda_l1\\\": 2.2492949089903247,\\u003cbr\\u003e    \\\"lambda_l2\\\": 1.1466146416854983\\u003cbr\\u003e  }\\u003cbr\\u003e}\",\"{\\u003cbr\\u003e  \\\"number\\\": 87,\\u003cbr\\u003e  \\\"values\\\": [\\u003cbr\\u003e    0.9474389555760747,\\u003cbr\\u003e    0.5\\u003cbr\\u003e  ],\\u003cbr\\u003e  \\\"params\\\": {\\u003cbr\\u003e    \\\"learning_rate\\\": 0.0973541323997992,\\u003cbr\\u003e    \\\"num_leaves\\\": 179,\\u003cbr\\u003e    \\\"max_depth\\\": 10,\\u003cbr\\u003e    \\\"feature_fraction\\\": 0.8889815762775094,\\u003cbr\\u003e    \\\"bagging_fraction\\\": 0.7009391492862368,\\u003cbr\\u003e    \\\"bagging_freq\\\": 8,\\u003cbr\\u003e    \\\"min_data_in_leaf\\\": 33,\\u003cbr\\u003e    \\\"lambda_l1\\\": 3.5271672194768513,\\u003cbr\\u003e    \\\"lambda_l2\\\": 1.4941732760884636\\u003cbr\\u003e  }\\u003cbr\\u003e}\",\"{\\u003cbr\\u003e  \\\"number\\\": 88,\\u003cbr\\u003e  \\\"values\\\": [\\u003cbr\\u003e    0.9491253719093055,\\u003cbr\\u003e    0.4180790960451977\\u003cbr\\u003e  ],\\u003cbr\\u003e  \\\"params\\\": {\\u003cbr\\u003e    \\\"learning_rate\\\": 0.1380025315020045,\\u003cbr\\u003e    \\\"num_leaves\\\": 219,\\u003cbr\\u003e    \\\"max_depth\\\": 5,\\u003cbr\\u003e    \\\"feature_fraction\\\": 0.6402942973174927,\\u003cbr\\u003e    \\\"bagging_fraction\\\": 0.9395995572662414,\\u003cbr\\u003e    \\\"bagging_freq\\\": 3,\\u003cbr\\u003e    \\\"min_data_in_leaf\\\": 80,\\u003cbr\\u003e    \\\"lambda_l1\\\": 4.1042214611694705,\\u003cbr\\u003e    \\\"lambda_l2\\\": 0.25472844814571793\\u003cbr\\u003e  }\\u003cbr\\u003e}\",\"{\\u003cbr\\u003e  \\\"number\\\": 89,\\u003cbr\\u003e  \\\"values\\\": [\\u003cbr\\u003e    0.9430722273520058,\\u003cbr\\u003e    0.532258064516129\\u003cbr\\u003e  ],\\u003cbr\\u003e  \\\"params\\\": {\\u003cbr\\u003e    \\\"learning_rate\\\": 0.18068300188468964,\\u003cbr\\u003e    \\\"num_leaves\\\": 161,\\u003cbr\\u003e    \\\"max_depth\\\": 8,\\u003cbr\\u003e    \\\"feature_fraction\\\": 0.7103650521230974,\\u003cbr\\u003e    \\\"bagging_fraction\\\": 0.8504663662144317,\\u003cbr\\u003e    \\\"bagging_freq\\\": 4,\\u003cbr\\u003e    \\\"min_data_in_leaf\\\": 112,\\u003cbr\\u003e    \\\"lambda_l1\\\": 2.4270856625329573,\\u003cbr\\u003e    \\\"lambda_l2\\\": 0.9467805415733654\\u003cbr\\u003e  }\\u003cbr\\u003e}\",\"{\\u003cbr\\u003e  \\\"number\\\": 90,\\u003cbr\\u003e  \\\"values\\\": [\\u003cbr\\u003e    0.9486957525392429,\\u003cbr\\u003e    0.3373493975903614\\u003cbr\\u003e  ],\\u003cbr\\u003e  \\\"params\\\": {\\u003cbr\\u003e    \\\"learning_rate\\\": 0.1678817171853569,\\u003cbr\\u003e    \\\"num_leaves\\\": 74,\\u003cbr\\u003e    \\\"max_depth\\\": 4,\\u003cbr\\u003e    \\\"feature_fraction\\\": 0.9924133727183609,\\u003cbr\\u003e    \\\"bagging_fraction\\\": 0.6754802144057013,\\u003cbr\\u003e    \\\"bagging_freq\\\": 9,\\u003cbr\\u003e    \\\"min_data_in_leaf\\\": 59,\\u003cbr\\u003e    \\\"lambda_l1\\\": 4.655909793101647,\\u003cbr\\u003e    \\\"lambda_l2\\\": 0.4775415997106336\\u003cbr\\u003e  }\\u003cbr\\u003e}\",\"{\\u003cbr\\u003e  \\\"number\\\": 91,\\u003cbr\\u003e  \\\"values\\\": [\\u003cbr\\u003e    0.9593657022673643,\\u003cbr\\u003e    0.2916666666666667\\u003cbr\\u003e  ],\\u003cbr\\u003e  \\\"params\\\": {\\u003cbr\\u003e    \\\"learning_rate\\\": 0.11103360988414268,\\u003cbr\\u003e    \\\"num_leaves\\\": 198,\\u003cbr\\u003e    \\\"max_depth\\\": 3,\\u003cbr\\u003e    \\\"feature_fraction\\\": 0.8920344463608992,\\u003cbr\\u003e    \\\"bagging_fraction\\\": 0.6559690297704378,\\u003cbr\\u003e    \\\"bagging_freq\\\": 8,\\u003cbr\\u003e    \\\"min_data_in_leaf\\\": 15,\\u003cbr\\u003e    \\\"lambda_l1\\\": 0.8790643820533928,\\u003cbr\\u003e    \\\"lambda_l2\\\": 4.966237373689465\\u003cbr\\u003e  }\\u003cbr\\u003e}\",\"{\\u003cbr\\u003e  \\\"number\\\": 92,\\u003cbr\\u003e  \\\"values\\\": [\\u003cbr\\u003e    0.9443033753975583,\\u003cbr\\u003e    0.5333333333333333\\u003cbr\\u003e  ],\\u003cbr\\u003e  \\\"params\\\": {\\u003cbr\\u003e    \\\"learning_rate\\\": 0.14820309908455007,\\u003cbr\\u003e    \\\"num_leaves\\\": 43,\\u003cbr\\u003e    \\\"max_depth\\\": 9,\\u003cbr\\u003e    \\\"feature_fraction\\\": 0.7781676241386702,\\u003cbr\\u003e    \\\"bagging_fraction\\\": 0.747991503636521,\\u003cbr\\u003e    \\\"bagging_freq\\\": 9,\\u003cbr\\u003e    \\\"min_data_in_leaf\\\": 30,\\u003cbr\\u003e    \\\"lambda_l1\\\": 1.0024649173278133,\\u003cbr\\u003e    \\\"lambda_l2\\\": 2.3609279444335884\\u003cbr\\u003e  }\\u003cbr\\u003e}\",\"{\\u003cbr\\u003e  \\\"number\\\": 93,\\u003cbr\\u003e  \\\"values\\\": [\\u003cbr\\u003e    0.8519352108341028,\\u003cbr\\u003e    0.0\\u003cbr\\u003e  ],\\u003cbr\\u003e  \\\"params\\\": {\\u003cbr\\u003e    \\\"learning_rate\\\": 0.08120672966941112,\\u003cbr\\u003e    \\\"num_leaves\\\": 154,\\u003cbr\\u003e    \\\"max_depth\\\": 4,\\u003cbr\\u003e    \\\"feature_fraction\\\": 0.789289306023092,\\u003cbr\\u003e    \\\"bagging_fraction\\\": 0.6933889298139675,\\u003cbr\\u003e    \\\"bagging_freq\\\": 6,\\u003cbr\\u003e    \\\"min_data_in_leaf\\\": 104,\\u003cbr\\u003e    \\\"lambda_l1\\\": 2.967629973747411,\\u003cbr\\u003e    \\\"lambda_l2\\\": 3.6532611962230384\\u003cbr\\u003e  }\\u003cbr\\u003e}\",\"{\\u003cbr\\u003e  \\\"number\\\": 94,\\u003cbr\\u003e  \\\"values\\\": [\\u003cbr\\u003e    0.9409882527957321,\\u003cbr\\u003e    0.4180790960451977\\u003cbr\\u003e  ],\\u003cbr\\u003e  \\\"params\\\": {\\u003cbr\\u003e    \\\"learning_rate\\\": 0.0973541323997992,\\u003cbr\\u003e    \\\"num_leaves\\\": 30,\\u003cbr\\u003e    \\\"max_depth\\\": 9,\\u003cbr\\u003e    \\\"feature_fraction\\\": 0.8178918858735876,\\u003cbr\\u003e    \\\"bagging_fraction\\\": 0.6988453573527031,\\u003cbr\\u003e    \\\"bagging_freq\\\": 6,\\u003cbr\\u003e    \\\"min_data_in_leaf\\\": 168,\\u003cbr\\u003e    \\\"lambda_l1\\\": 3.5271672194768513,\\u003cbr\\u003e    \\\"lambda_l2\\\": 0.6605910520872799\\u003cbr\\u003e  }\\u003cbr\\u003e}\",\"{\\u003cbr\\u003e  \\\"number\\\": 95,\\u003cbr\\u003e  \\\"values\\\": [\\u003cbr\\u003e    0.9248967631065967,\\u003cbr\\u003e    0.0\\u003cbr\\u003e  ],\\u003cbr\\u003e  \\\"params\\\": {\\u003cbr\\u003e    \\\"learning_rate\\\": 0.020549975513632773,\\u003cbr\\u003e    \\\"num_leaves\\\": 224,\\u003cbr\\u003e    \\\"max_depth\\\": 7,\\u003cbr\\u003e    \\\"feature_fraction\\\": 0.9669427634162024,\\u003cbr\\u003e    \\\"bagging_fraction\\\": 0.7438798235988181,\\u003cbr\\u003e    \\\"bagging_freq\\\": 10,\\u003cbr\\u003e    \\\"min_data_in_leaf\\\": 35,\\u003cbr\\u003e    \\\"lambda_l1\\\": 4.653508170446198,\\u003cbr\\u003e    \\\"lambda_l2\\\": 1.7905425756765936\\u003cbr\\u003e  }\\u003cbr\\u003e}\",\"{\\u003cbr\\u003e  \\\"number\\\": 96,\\u003cbr\\u003e  \\\"values\\\": [\\u003cbr\\u003e    0.9584808146096234,\\u003cbr\\u003e    0.4900662251655629\\u003cbr\\u003e  ],\\u003cbr\\u003e  \\\"params\\\": {\\u003cbr\\u003e    \\\"learning_rate\\\": 0.13964230098766792,\\u003cbr\\u003e    \\\"num_leaves\\\": 230,\\u003cbr\\u003e    \\\"max_depth\\\": 10,\\u003cbr\\u003e    \\\"feature_fraction\\\": 0.9933494168715331,\\u003cbr\\u003e    \\\"bagging_fraction\\\": 0.8040880102266655,\\u003cbr\\u003e    \\\"bagging_freq\\\": 6,\\u003cbr\\u003e    \\\"min_data_in_leaf\\\": 114,\\u003cbr\\u003e    \\\"lambda_l1\\\": 4.238719773620382,\\u003cbr\\u003e    \\\"lambda_l2\\\": 4.966237373689465\\u003cbr\\u003e  }\\u003cbr\\u003e}\",\"{\\u003cbr\\u003e  \\\"number\\\": 97,\\u003cbr\\u003e  \\\"values\\\": [\\u003cbr\\u003e    0.9381476351697959,\\u003cbr\\u003e    0.5426356589147286\\u003cbr\\u003e  ],\\u003cbr\\u003e  \\\"params\\\": {\\u003cbr\\u003e    \\\"learning_rate\\\": 0.14820309908455007,\\u003cbr\\u003e    \\\"num_leaves\\\": 107,\\u003cbr\\u003e    \\\"max_depth\\\": 8,\\u003cbr\\u003e    \\\"feature_fraction\\\": 0.8123374875813326,\\u003cbr\\u003e    \\\"bagging_fraction\\\": 0.8272456249225338,\\u003cbr\\u003e    \\\"bagging_freq\\\": 9,\\u003cbr\\u003e    \\\"min_data_in_leaf\\\": 81,\\u003cbr\\u003e    \\\"lambda_l1\\\": 1.0024649173278133,\\u003cbr\\u003e    \\\"lambda_l2\\\": 4.505775907658566\\u003cbr\\u003e  }\\u003cbr\\u003e}\",\"{\\u003cbr\\u003e  \\\"number\\\": 98,\\u003cbr\\u003e  \\\"values\\\": [\\u003cbr\\u003e    0.957724171539961,\\u003cbr\\u003e    0.47560975609756095\\u003cbr\\u003e  ],\\u003cbr\\u003e  \\\"params\\\": {\\u003cbr\\u003e    \\\"learning_rate\\\": 0.128021809088676,\\u003cbr\\u003e    \\\"num_leaves\\\": 99,\\u003cbr\\u003e    \\\"max_depth\\\": 10,\\u003cbr\\u003e    \\\"feature_fraction\\\": 0.8954651498946518,\\u003cbr\\u003e    \\\"bagging_fraction\\\": 0.6089240657529246,\\u003cbr\\u003e    \\\"bagging_freq\\\": 10,\\u003cbr\\u003e    \\\"min_data_in_leaf\\\": 69,\\u003cbr\\u003e    \\\"lambda_l1\\\": 4.102497241231006,\\u003cbr\\u003e    \\\"lambda_l2\\\": 4.966237373689465\\u003cbr\\u003e  }\\u003cbr\\u003e}\",\"{\\u003cbr\\u003e  \\\"number\\\": 99,\\u003cbr\\u003e  \\\"values\\\": [\\u003cbr\\u003e    0.9517607981943161,\\u003cbr\\u003e    0.47058823529411764\\u003cbr\\u003e  ],\\u003cbr\\u003e  \\\"params\\\": {\\u003cbr\\u003e    \\\"learning_rate\\\": 0.1556990643891862,\\u003cbr\\u003e    \\\"num_leaves\\\": 119,\\u003cbr\\u003e    \\\"max_depth\\\": 11,\\u003cbr\\u003e    \\\"feature_fraction\\\": 0.8198984165355476,\\u003cbr\\u003e    \\\"bagging_fraction\\\": 0.7105639289826764,\\u003cbr\\u003e    \\\"bagging_freq\\\": 2,\\u003cbr\\u003e    \\\"min_data_in_leaf\\\": 82,\\u003cbr\\u003e    \\\"lambda_l1\\\": 3.8488935500103745,\\u003cbr\\u003e    \\\"lambda_l2\\\": 0.21410978624226362\\u003cbr\\u003e  }\\u003cbr\\u003e}\"],\"x\":[0.954473171232174,0.8486745921822099,0.9548066071611778,0.8907195803837079,0.9568392838822202,0.9453229198727814,0.9533830922335078,0.9550502718785268,0.9433158920693547,0.9096292448958654,0.9516453780650456,0.9223735508361547,0.9123993279983584,0.9375384733764235,0.9453421565609931,0.9351595362675695,0.962725710475018,0.9570380629937417,0.9261311172668513,0.9645788447727506,0.9629244895865394,0.9595644813788857,0.9586282958859136,0.9158971991381964,0.9403855032317636,0.8573599569098183,0.8629898943264593,0.95209423412332,0.9375,0.9641364009438802,0.9498339232584385,0.9536972914742997,0.9321201395301119,0.9372435108238432,0.8982539499333128,0.8648654714271058,0.9405618395403714,0.9600518108135836,0.9462911665127732,0.9142813173284088,0.9474389555760747,0.8739964860982866,0.9565892069354673,0.9605519647070895,0.9477275058992511,0.9640530419616291,0.958044783010157,0.9545821791320407,0.9561082897301734,0.9476249102287884,0.9525751513286139,0.9646942649020211,0.9610649430594029,0.927105776136247,0.9518890427823946,0.9531458397455628,0.8652662357648506,0.9641364009438802,0.9575253924284395,0.9430081050579665,0.9639376218323588,0.9573779111521494,0.8993344105878731,0.9304016620498615,0.9570316507643377,0.9234796604083307,0.943610854621935,0.9582307376628707,0.9507348414896891,0.870158766800041,0.9558902739304402,0.9350409100235969,0.9608020416538421,0.9462013953011182,0.8683312814199241,0.9418859649122807,0.9626680004103828,0.9473363599056119,0.9454639889196675,0.9291256283984816,0.9369549605006668,0.9474389555760747,0.9491253719093055,0.9430722273520058,0.9486957525392429,0.9593657022673643,0.9443033753975583,0.8519352108341028,0.9409882527957321,0.9248967631065967,0.9584808146096234,0.9381476351697959,0.957724171539961,0.9517607981943161],\"y\":[0.2830188679245283,0.0,0.2693409742120344,0.1881720430107527,0.4567901234567901,0.48226950354609927,0.5362318840579711,0.5303030303030303,0.0,0.0,0.45454545454545453,0.5043478260869565,0.0,0.5,0.47674418604651164,0.0,0.38095238095238093,0.5035971223021583,0.0,0.48484848484848486,0.38009049773755654,0.4444444444444444,0.32727272727272727,0.0,0.48717948717948717,0.0,0.0,0.5323741007194245,0.46808510638297873,0.4968944099378882,0.0,0.2621082621082621,0.0,0.4778761061946903,0.0,0.0,0.0,0.4079601990049751,0.24477611940298508,0.0,0.4371584699453552,0.0,0.47337278106508873,0.47126436781609193,0.40594059405940597,0.36134453781512604,0.4046242774566474,0.2883435582822086,0.5095541401273885,0.48484848484848486,0.37272727272727274,0.5058823529411764,0.3028391167192429,0.49056603773584906,0.3904761904761905,0.44047619047619047,0.24615384615384617,0.4968944099378882,0.2789317507418398,0.5076923076923077,0.4772727272727273,0.42424242424242425,0.0,0.43902439024390244,0.23316062176165803,0.0,0.303886925795053,0.32167832167832167,0.5,0.0,0.4120603015075377,0.0,0.43137254901960786,0.4528301886792453,0.0,0.40609137055837563,0.26631853785900783,0.512,0.4262295081967213,0.0,0.4444444444444444,0.5,0.4180790960451977,0.532258064516129,0.3373493975903614,0.2916666666666667,0.5333333333333333,0.0,0.4180790960451977,0.0,0.4900662251655629,0.5426356589147286,0.47560975609756095,0.47058823529411764],\"type\":\"scatter\"},{\"hovertemplate\":\"%{text}\\u003cextra\\u003eBest Trial\\u003c\\u002fextra\\u003e\",\"marker\":{\"color\":[7,27,29,39,51,86],\"colorbar\":{\"title\":{\"text\":\"Best Trial\"},\"x\":1.1,\"xpad\":40},\"colorscale\":[[0.0,\"rgb(255,245,240)\"],[0.125,\"rgb(254,224,210)\"],[0.25,\"rgb(252,187,161)\"],[0.375,\"rgb(252,146,114)\"],[0.5,\"rgb(251,106,74)\"],[0.625,\"rgb(239,59,44)\"],[0.75,\"rgb(203,24,29)\"],[0.875,\"rgb(165,15,21)\"],[1.0,\"rgb(103,0,13)\"]],\"line\":{\"color\":\"Grey\",\"width\":0.5}},\"mode\":\"markers\",\"showlegend\":false,\"text\":[\"{\\u003cbr\\u003e  \\\"number\\\": 7,\\u003cbr\\u003e  \\\"values\\\": [\\u003cbr\\u003e    0.9432325330871036,\\u003cbr\\u003e    0.5691056910569106\\u003cbr\\u003e  ],\\u003cbr\\u003e  \\\"params\\\": {\\u003cbr\\u003e    \\\"learning_rate\\\": 0.14459207383422765,\\u003cbr\\u003e    \\\"num_leaves\\\": 105,\\u003cbr\\u003e    \\\"max_depth\\\": 8,\\u003cbr\\u003e    \\\"feature_fraction\\\": 0.6172923380045027,\\u003cbr\\u003e    \\\"bagging_fraction\\\": 0.9872949946007609,\\u003cbr\\u003e    \\\"bagging_freq\\\": 2,\\u003cbr\\u003e    \\\"min_data_in_leaf\\\": 18,\\u003cbr\\u003e    \\\"lambda_l1\\\": 3.8264440688937915,\\u003cbr\\u003e    \\\"lambda_l2\\\": 4.415777842276209\\u003cbr\\u003e  }\\u003cbr\\u003e}\",\"{\\u003cbr\\u003e  \\\"number\\\": 27,\\u003cbr\\u003e  \\\"values\\\": [\\u003cbr\\u003e    0.9476954447522313,\\u003cbr\\u003e    0.5669291338582677\\u003cbr\\u003e  ],\\u003cbr\\u003e  \\\"params\\\": {\\u003cbr\\u003e    \\\"learning_rate\\\": 0.08120672966941112,\\u003cbr\\u003e    \\\"num_leaves\\\": 154,\\u003cbr\\u003e    \\\"max_depth\\\": 10,\\u003cbr\\u003e    \\\"feature_fraction\\\": 0.789289306023092,\\u003cbr\\u003e    \\\"bagging_fraction\\\": 0.976223096651342,\\u003cbr\\u003e    \\\"bagging_freq\\\": 4,\\u003cbr\\u003e    \\\"min_data_in_leaf\\\": 12,\\u003cbr\\u003e    \\\"lambda_l1\\\": 1.399251524176841,\\u003cbr\\u003e    \\\"lambda_l2\\\": 3.6532611962230384\\u003cbr\\u003e  }\\u003cbr\\u003e}\",\"{\\u003cbr\\u003e  \\\"number\\\": 29,\\u003cbr\\u003e  \\\"values\\\": [\\u003cbr\\u003e    0.9561788242536164,\\u003cbr\\u003e    0.5454545454545454\\u003cbr\\u003e  ],\\u003cbr\\u003e  \\\"params\\\": {\\u003cbr\\u003e    \\\"learning_rate\\\": 0.16827749156266175,\\u003cbr\\u003e    \\\"num_leaves\\\": 204,\\u003cbr\\u003e    \\\"max_depth\\\": 11,\\u003cbr\\u003e    \\\"feature_fraction\\\": 0.6867961841878291,\\u003cbr\\u003e    \\\"bagging_fraction\\\": 0.7676464306068044,\\u003cbr\\u003e    \\\"bagging_freq\\\": 4,\\u003cbr\\u003e    \\\"min_data_in_leaf\\\": 142,\\u003cbr\\u003e    \\\"lambda_l1\\\": 2.2962026482373146,\\u003cbr\\u003e    \\\"lambda_l2\\\": 3.7172809530823008\\u003cbr\\u003e  }\\u003cbr\\u003e}\",\"{\\u003cbr\\u003e  \\\"number\\\": 39,\\u003cbr\\u003e  \\\"values\\\": [\\u003cbr\\u003e    0.9723825279573203,\\u003cbr\\u003e    0.42857142857142855\\u003cbr\\u003e  ],\\u003cbr\\u003e  \\\"params\\\": {\\u003cbr\\u003e    \\\"learning_rate\\\": 0.128021809088676,\\u003cbr\\u003e    \\\"num_leaves\\\": 198,\\u003cbr\\u003e    \\\"max_depth\\\": 10,\\u003cbr\\u003e    \\\"feature_fraction\\\": 0.7587180915764649,\\u003cbr\\u003e    \\\"bagging_fraction\\\": 0.6559690297704378,\\u003cbr\\u003e    \\\"bagging_freq\\\": 6,\\u003cbr\\u003e    \\\"min_data_in_leaf\\\": 123,\\u003cbr\\u003e    \\\"lambda_l1\\\": 0.8790643820533928,\\u003cbr\\u003e    \\\"lambda_l2\\\": 4.966237373689465\\u003cbr\\u003e  }\\u003cbr\\u003e}\",\"{\\u003cbr\\u003e  \\\"number\\\": 51,\\u003cbr\\u003e  \\\"values\\\": [\\u003cbr\\u003e    0.9652841900071817,\\u003cbr\\u003e    0.5333333333333333\\u003cbr\\u003e  ],\\u003cbr\\u003e  \\\"params\\\": {\\u003cbr\\u003e    \\\"learning_rate\\\": 0.1580027631549685,\\u003cbr\\u003e    \\\"num_leaves\\\": 198,\\u003cbr\\u003e    \\\"max_depth\\\": 10,\\u003cbr\\u003e    \\\"feature_fraction\\\": 0.8839875734474862,\\u003cbr\\u003e    \\\"bagging_fraction\\\": 0.7625828117841102,\\u003cbr\\u003e    \\\"bagging_freq\\\": 1,\\u003cbr\\u003e    \\\"min_data_in_leaf\\\": 135,\\u003cbr\\u003e    \\\"lambda_l1\\\": 1.7208440020384164,\\u003cbr\\u003e    \\\"lambda_l2\\\": 4.966237373689465\\u003cbr\\u003e  }\\u003cbr\\u003e}\",\"{\\u003cbr\\u003e  \\\"number\\\": 86,\\u003cbr\\u003e  \\\"values\\\": [\\u003cbr\\u003e    0.9516517902944496,\\u003cbr\\u003e    0.5538461538461539\\u003cbr\\u003e  ],\\u003cbr\\u003e  \\\"params\\\": {\\u003cbr\\u003e    \\\"learning_rate\\\": 0.14820309908455007,\\u003cbr\\u003e    \\\"num_leaves\\\": 107,\\u003cbr\\u003e    \\\"max_depth\\\": 7,\\u003cbr\\u003e    \\\"feature_fraction\\\": 0.9632255006851129,\\u003cbr\\u003e    \\\"bagging_fraction\\\": 0.7205750973322022,\\u003cbr\\u003e    \\\"bagging_freq\\\": 3,\\u003cbr\\u003e    \\\"min_data_in_leaf\\\": 30,\\u003cbr\\u003e    \\\"lambda_l1\\\": 1.0024649173278133,\\u003cbr\\u003e    \\\"lambda_l2\\\": 2.7500069427141676\\u003cbr\\u003e  }\\u003cbr\\u003e}\"],\"x\":[0.9432325330871036,0.9476954447522313,0.9561788242536164,0.9723825279573203,0.9652841900071817,0.9516517902944496],\"y\":[0.5691056910569106,0.5669291338582677,0.5454545454545454,0.42857142857142855,0.5333333333333333,0.5538461538461539],\"type\":\"scatter\"}],                        {\"title\":{\"text\":\"Pareto-front Plot\"},\"xaxis\":{\"title\":{\"text\":\"AUC\"}},\"yaxis\":{\"title\":{\"text\":\"F1\"}},\"template\":{\"data\":{\"histogram2dcontour\":[{\"type\":\"histogram2dcontour\",\"colorbar\":{\"outlinewidth\":0,\"ticks\":\"\"},\"colorscale\":[[0.0,\"#0d0887\"],[0.1111111111111111,\"#46039f\"],[0.2222222222222222,\"#7201a8\"],[0.3333333333333333,\"#9c179e\"],[0.4444444444444444,\"#bd3786\"],[0.5555555555555556,\"#d8576b\"],[0.6666666666666666,\"#ed7953\"],[0.7777777777777778,\"#fb9f3a\"],[0.8888888888888888,\"#fdca26\"],[1.0,\"#f0f921\"]]}],\"choropleth\":[{\"type\":\"choropleth\",\"colorbar\":{\"outlinewidth\":0,\"ticks\":\"\"}}],\"histogram2d\":[{\"type\":\"histogram2d\",\"colorbar\":{\"outlinewidth\":0,\"ticks\":\"\"},\"colorscale\":[[0.0,\"#0d0887\"],[0.1111111111111111,\"#46039f\"],[0.2222222222222222,\"#7201a8\"],[0.3333333333333333,\"#9c179e\"],[0.4444444444444444,\"#bd3786\"],[0.5555555555555556,\"#d8576b\"],[0.6666666666666666,\"#ed7953\"],[0.7777777777777778,\"#fb9f3a\"],[0.8888888888888888,\"#fdca26\"],[1.0,\"#f0f921\"]]}],\"heatmap\":[{\"type\":\"heatmap\",\"colorbar\":{\"outlinewidth\":0,\"ticks\":\"\"},\"colorscale\":[[0.0,\"#0d0887\"],[0.1111111111111111,\"#46039f\"],[0.2222222222222222,\"#7201a8\"],[0.3333333333333333,\"#9c179e\"],[0.4444444444444444,\"#bd3786\"],[0.5555555555555556,\"#d8576b\"],[0.6666666666666666,\"#ed7953\"],[0.7777777777777778,\"#fb9f3a\"],[0.8888888888888888,\"#fdca26\"],[1.0,\"#f0f921\"]]}],\"heatmapgl\":[{\"type\":\"heatmapgl\",\"colorbar\":{\"outlinewidth\":0,\"ticks\":\"\"},\"colorscale\":[[0.0,\"#0d0887\"],[0.1111111111111111,\"#46039f\"],[0.2222222222222222,\"#7201a8\"],[0.3333333333333333,\"#9c179e\"],[0.4444444444444444,\"#bd3786\"],[0.5555555555555556,\"#d8576b\"],[0.6666666666666666,\"#ed7953\"],[0.7777777777777778,\"#fb9f3a\"],[0.8888888888888888,\"#fdca26\"],[1.0,\"#f0f921\"]]}],\"contourcarpet\":[{\"type\":\"contourcarpet\",\"colorbar\":{\"outlinewidth\":0,\"ticks\":\"\"}}],\"contour\":[{\"type\":\"contour\",\"colorbar\":{\"outlinewidth\":0,\"ticks\":\"\"},\"colorscale\":[[0.0,\"#0d0887\"],[0.1111111111111111,\"#46039f\"],[0.2222222222222222,\"#7201a8\"],[0.3333333333333333,\"#9c179e\"],[0.4444444444444444,\"#bd3786\"],[0.5555555555555556,\"#d8576b\"],[0.6666666666666666,\"#ed7953\"],[0.7777777777777778,\"#fb9f3a\"],[0.8888888888888888,\"#fdca26\"],[1.0,\"#f0f921\"]]}],\"surface\":[{\"type\":\"surface\",\"colorbar\":{\"outlinewidth\":0,\"ticks\":\"\"},\"colorscale\":[[0.0,\"#0d0887\"],[0.1111111111111111,\"#46039f\"],[0.2222222222222222,\"#7201a8\"],[0.3333333333333333,\"#9c179e\"],[0.4444444444444444,\"#bd3786\"],[0.5555555555555556,\"#d8576b\"],[0.6666666666666666,\"#ed7953\"],[0.7777777777777778,\"#fb9f3a\"],[0.8888888888888888,\"#fdca26\"],[1.0,\"#f0f921\"]]}],\"mesh3d\":[{\"type\":\"mesh3d\",\"colorbar\":{\"outlinewidth\":0,\"ticks\":\"\"}}],\"scatter\":[{\"fillpattern\":{\"fillmode\":\"overlay\",\"size\":10,\"solidity\":0.2},\"type\":\"scatter\"}],\"parcoords\":[{\"type\":\"parcoords\",\"line\":{\"colorbar\":{\"outlinewidth\":0,\"ticks\":\"\"}}}],\"scatterpolargl\":[{\"type\":\"scatterpolargl\",\"marker\":{\"colorbar\":{\"outlinewidth\":0,\"ticks\":\"\"}}}],\"bar\":[{\"error_x\":{\"color\":\"#2a3f5f\"},\"error_y\":{\"color\":\"#2a3f5f\"},\"marker\":{\"line\":{\"color\":\"#E5ECF6\",\"width\":0.5},\"pattern\":{\"fillmode\":\"overlay\",\"size\":10,\"solidity\":0.2}},\"type\":\"bar\"}],\"scattergeo\":[{\"type\":\"scattergeo\",\"marker\":{\"colorbar\":{\"outlinewidth\":0,\"ticks\":\"\"}}}],\"scatterpolar\":[{\"type\":\"scatterpolar\",\"marker\":{\"colorbar\":{\"outlinewidth\":0,\"ticks\":\"\"}}}],\"histogram\":[{\"marker\":{\"pattern\":{\"fillmode\":\"overlay\",\"size\":10,\"solidity\":0.2}},\"type\":\"histogram\"}],\"scattergl\":[{\"type\":\"scattergl\",\"marker\":{\"colorbar\":{\"outlinewidth\":0,\"ticks\":\"\"}}}],\"scatter3d\":[{\"type\":\"scatter3d\",\"line\":{\"colorbar\":{\"outlinewidth\":0,\"ticks\":\"\"}},\"marker\":{\"colorbar\":{\"outlinewidth\":0,\"ticks\":\"\"}}}],\"scattermapbox\":[{\"type\":\"scattermapbox\",\"marker\":{\"colorbar\":{\"outlinewidth\":0,\"ticks\":\"\"}}}],\"scatterternary\":[{\"type\":\"scatterternary\",\"marker\":{\"colorbar\":{\"outlinewidth\":0,\"ticks\":\"\"}}}],\"scattercarpet\":[{\"type\":\"scattercarpet\",\"marker\":{\"colorbar\":{\"outlinewidth\":0,\"ticks\":\"\"}}}],\"carpet\":[{\"aaxis\":{\"endlinecolor\":\"#2a3f5f\",\"gridcolor\":\"white\",\"linecolor\":\"white\",\"minorgridcolor\":\"white\",\"startlinecolor\":\"#2a3f5f\"},\"baxis\":{\"endlinecolor\":\"#2a3f5f\",\"gridcolor\":\"white\",\"linecolor\":\"white\",\"minorgridcolor\":\"white\",\"startlinecolor\":\"#2a3f5f\"},\"type\":\"carpet\"}],\"table\":[{\"cells\":{\"fill\":{\"color\":\"#EBF0F8\"},\"line\":{\"color\":\"white\"}},\"header\":{\"fill\":{\"color\":\"#C8D4E3\"},\"line\":{\"color\":\"white\"}},\"type\":\"table\"}],\"barpolar\":[{\"marker\":{\"line\":{\"color\":\"#E5ECF6\",\"width\":0.5},\"pattern\":{\"fillmode\":\"overlay\",\"size\":10,\"solidity\":0.2}},\"type\":\"barpolar\"}],\"pie\":[{\"automargin\":true,\"type\":\"pie\"}]},\"layout\":{\"autotypenumbers\":\"strict\",\"colorway\":[\"#636efa\",\"#EF553B\",\"#00cc96\",\"#ab63fa\",\"#FFA15A\",\"#19d3f3\",\"#FF6692\",\"#B6E880\",\"#FF97FF\",\"#FECB52\"],\"font\":{\"color\":\"#2a3f5f\"},\"hovermode\":\"closest\",\"hoverlabel\":{\"align\":\"left\"},\"paper_bgcolor\":\"white\",\"plot_bgcolor\":\"#E5ECF6\",\"polar\":{\"bgcolor\":\"#E5ECF6\",\"angularaxis\":{\"gridcolor\":\"white\",\"linecolor\":\"white\",\"ticks\":\"\"},\"radialaxis\":{\"gridcolor\":\"white\",\"linecolor\":\"white\",\"ticks\":\"\"}},\"ternary\":{\"bgcolor\":\"#E5ECF6\",\"aaxis\":{\"gridcolor\":\"white\",\"linecolor\":\"white\",\"ticks\":\"\"},\"baxis\":{\"gridcolor\":\"white\",\"linecolor\":\"white\",\"ticks\":\"\"},\"caxis\":{\"gridcolor\":\"white\",\"linecolor\":\"white\",\"ticks\":\"\"}},\"coloraxis\":{\"colorbar\":{\"outlinewidth\":0,\"ticks\":\"\"}},\"colorscale\":{\"sequential\":[[0.0,\"#0d0887\"],[0.1111111111111111,\"#46039f\"],[0.2222222222222222,\"#7201a8\"],[0.3333333333333333,\"#9c179e\"],[0.4444444444444444,\"#bd3786\"],[0.5555555555555556,\"#d8576b\"],[0.6666666666666666,\"#ed7953\"],[0.7777777777777778,\"#fb9f3a\"],[0.8888888888888888,\"#fdca26\"],[1.0,\"#f0f921\"]],\"sequentialminus\":[[0.0,\"#0d0887\"],[0.1111111111111111,\"#46039f\"],[0.2222222222222222,\"#7201a8\"],[0.3333333333333333,\"#9c179e\"],[0.4444444444444444,\"#bd3786\"],[0.5555555555555556,\"#d8576b\"],[0.6666666666666666,\"#ed7953\"],[0.7777777777777778,\"#fb9f3a\"],[0.8888888888888888,\"#fdca26\"],[1.0,\"#f0f921\"]],\"diverging\":[[0,\"#8e0152\"],[0.1,\"#c51b7d\"],[0.2,\"#de77ae\"],[0.3,\"#f1b6da\"],[0.4,\"#fde0ef\"],[0.5,\"#f7f7f7\"],[0.6,\"#e6f5d0\"],[0.7,\"#b8e186\"],[0.8,\"#7fbc41\"],[0.9,\"#4d9221\"],[1,\"#276419\"]]},\"xaxis\":{\"gridcolor\":\"white\",\"linecolor\":\"white\",\"ticks\":\"\",\"title\":{\"standoff\":15},\"zerolinecolor\":\"white\",\"automargin\":true,\"zerolinewidth\":2},\"yaxis\":{\"gridcolor\":\"white\",\"linecolor\":\"white\",\"ticks\":\"\",\"title\":{\"standoff\":15},\"zerolinecolor\":\"white\",\"automargin\":true,\"zerolinewidth\":2},\"scene\":{\"xaxis\":{\"backgroundcolor\":\"#E5ECF6\",\"gridcolor\":\"white\",\"linecolor\":\"white\",\"showbackground\":true,\"ticks\":\"\",\"zerolinecolor\":\"white\",\"gridwidth\":2},\"yaxis\":{\"backgroundcolor\":\"#E5ECF6\",\"gridcolor\":\"white\",\"linecolor\":\"white\",\"showbackground\":true,\"ticks\":\"\",\"zerolinecolor\":\"white\",\"gridwidth\":2},\"zaxis\":{\"backgroundcolor\":\"#E5ECF6\",\"gridcolor\":\"white\",\"linecolor\":\"white\",\"showbackground\":true,\"ticks\":\"\",\"zerolinecolor\":\"white\",\"gridwidth\":2}},\"shapedefaults\":{\"line\":{\"color\":\"#2a3f5f\"}},\"annotationdefaults\":{\"arrowcolor\":\"#2a3f5f\",\"arrowhead\":0,\"arrowwidth\":1},\"geo\":{\"bgcolor\":\"white\",\"landcolor\":\"#E5ECF6\",\"subunitcolor\":\"white\",\"showland\":true,\"showlakes\":true,\"lakecolor\":\"white\"},\"title\":{\"x\":0.05},\"mapbox\":{\"style\":\"light\"}}}},                        {\"responsive\": true}                    ).then(function(){\n",
              "                            \n",
              "var gd = document.getElementById('074374e8-9583-4ee0-9ad6-f9e24deef03c');\n",
              "var x = new MutationObserver(function (mutations, observer) {{\n",
              "        var display = window.getComputedStyle(gd).display;\n",
              "        if (!display || display === 'none') {{\n",
              "            console.log([gd, 'removed!']);\n",
              "            Plotly.purge(gd);\n",
              "            observer.disconnect();\n",
              "        }}\n",
              "}});\n",
              "\n",
              "// Listen for the removal of the full notebook cells\n",
              "var notebookContainer = gd.closest('#notebook-container');\n",
              "if (notebookContainer) {{\n",
              "    x.observe(notebookContainer, {childList: true});\n",
              "}}\n",
              "\n",
              "// Listen for the clearing of the current output cell\n",
              "var outputEl = gd.closest('.output');\n",
              "if (outputEl) {{\n",
              "    x.observe(outputEl, {childList: true});\n",
              "}}\n",
              "\n",
              "                        })                };                            </script>        </div>\n",
              "</body>\n",
              "</html>"
            ]
          },
          "metadata": {},
          "output_type": "display_data"
        }
      ],
      "source": [
        "fig = plot_pareto_front(study, target_names=[\"AUC\", \"F1\"])\n",
        "fig.show()\n"
      ]
    },
    {
      "cell_type": "code",
      "execution_count": 111,
      "metadata": {
        "colab": {
          "base_uri": "https://localhost:8080/"
        },
        "id": "SsUZ2cZS6yBp",
        "outputId": "21af826b-4166-4583-afee-17e5293b988c"
      },
      "outputs": [
        {
          "data": {
            "text/plain": [
              "{'learning_rate': 0.1580027631549685,\n",
              " 'num_leaves': 198,\n",
              " 'max_depth': 10,\n",
              " 'feature_fraction': 0.8839875734474862,\n",
              " 'bagging_fraction': 0.7625828117841102,\n",
              " 'bagging_freq': 1,\n",
              " 'min_data_in_leaf': 135,\n",
              " 'lambda_l1': 1.7208440020384164,\n",
              " 'lambda_l2': 4.966237373689465}"
            ]
          },
          "execution_count": 111,
          "metadata": {},
          "output_type": "execute_result"
        }
      ],
      "source": [
        "best_params = study.trials[51].params\n",
        "best_params"
      ]
    },
    {
      "cell_type": "code",
      "execution_count": 114,
      "metadata": {
        "colab": {
          "base_uri": "https://localhost:8080/",
          "height": 216
        },
        "id": "J10D1OUi6nSh",
        "outputId": "1500336a-3b2c-4dbc-f5e6-4e17a9d7ad47"
      },
      "outputs": [
        {
          "name": "stdout",
          "output_type": "stream",
          "text": [
            "Training until validation scores don't improve for 50 rounds\n",
            "[50]\tvalid_0's auc: 0.964021\tvalid_0's binary_logloss: 0.0452497\n",
            "Early stopping, best iteration is:\n",
            "[32]\tvalid_0's auc: 0.965855\tvalid_0's binary_logloss: 0.0475425\n"
          ]
        },
        {
          "data": {
            "text/html": [
              "<style>#sk-container-id-5 {\n",
              "  /* Definition of color scheme common for light and dark mode */\n",
              "  --sklearn-color-text: #000;\n",
              "  --sklearn-color-text-muted: #666;\n",
              "  --sklearn-color-line: gray;\n",
              "  /* Definition of color scheme for unfitted estimators */\n",
              "  --sklearn-color-unfitted-level-0: #fff5e6;\n",
              "  --sklearn-color-unfitted-level-1: #f6e4d2;\n",
              "  --sklearn-color-unfitted-level-2: #ffe0b3;\n",
              "  --sklearn-color-unfitted-level-3: chocolate;\n",
              "  /* Definition of color scheme for fitted estimators */\n",
              "  --sklearn-color-fitted-level-0: #f0f8ff;\n",
              "  --sklearn-color-fitted-level-1: #d4ebff;\n",
              "  --sklearn-color-fitted-level-2: #b3dbfd;\n",
              "  --sklearn-color-fitted-level-3: cornflowerblue;\n",
              "\n",
              "  /* Specific color for light theme */\n",
              "  --sklearn-color-text-on-default-background: var(--sg-text-color, var(--theme-code-foreground, var(--jp-content-font-color1, black)));\n",
              "  --sklearn-color-background: var(--sg-background-color, var(--theme-background, var(--jp-layout-color0, white)));\n",
              "  --sklearn-color-border-box: var(--sg-text-color, var(--theme-code-foreground, var(--jp-content-font-color1, black)));\n",
              "  --sklearn-color-icon: #696969;\n",
              "\n",
              "  @media (prefers-color-scheme: dark) {\n",
              "    /* Redefinition of color scheme for dark theme */\n",
              "    --sklearn-color-text-on-default-background: var(--sg-text-color, var(--theme-code-foreground, var(--jp-content-font-color1, white)));\n",
              "    --sklearn-color-background: var(--sg-background-color, var(--theme-background, var(--jp-layout-color0, #111)));\n",
              "    --sklearn-color-border-box: var(--sg-text-color, var(--theme-code-foreground, var(--jp-content-font-color1, white)));\n",
              "    --sklearn-color-icon: #878787;\n",
              "  }\n",
              "}\n",
              "\n",
              "#sk-container-id-5 {\n",
              "  color: var(--sklearn-color-text);\n",
              "}\n",
              "\n",
              "#sk-container-id-5 pre {\n",
              "  padding: 0;\n",
              "}\n",
              "\n",
              "#sk-container-id-5 input.sk-hidden--visually {\n",
              "  border: 0;\n",
              "  clip: rect(1px 1px 1px 1px);\n",
              "  clip: rect(1px, 1px, 1px, 1px);\n",
              "  height: 1px;\n",
              "  margin: -1px;\n",
              "  overflow: hidden;\n",
              "  padding: 0;\n",
              "  position: absolute;\n",
              "  width: 1px;\n",
              "}\n",
              "\n",
              "#sk-container-id-5 div.sk-dashed-wrapped {\n",
              "  border: 1px dashed var(--sklearn-color-line);\n",
              "  margin: 0 0.4em 0.5em 0.4em;\n",
              "  box-sizing: border-box;\n",
              "  padding-bottom: 0.4em;\n",
              "  background-color: var(--sklearn-color-background);\n",
              "}\n",
              "\n",
              "#sk-container-id-5 div.sk-container {\n",
              "  /* jupyter's `normalize.less` sets `[hidden] { display: none; }`\n",
              "     but bootstrap.min.css set `[hidden] { display: none !important; }`\n",
              "     so we also need the `!important` here to be able to override the\n",
              "     default hidden behavior on the sphinx rendered scikit-learn.org.\n",
              "     See: https://github.com/scikit-learn/scikit-learn/issues/21755 */\n",
              "  display: inline-block !important;\n",
              "  position: relative;\n",
              "}\n",
              "\n",
              "#sk-container-id-5 div.sk-text-repr-fallback {\n",
              "  display: none;\n",
              "}\n",
              "\n",
              "div.sk-parallel-item,\n",
              "div.sk-serial,\n",
              "div.sk-item {\n",
              "  /* draw centered vertical line to link estimators */\n",
              "  background-image: linear-gradient(var(--sklearn-color-text-on-default-background), var(--sklearn-color-text-on-default-background));\n",
              "  background-size: 2px 100%;\n",
              "  background-repeat: no-repeat;\n",
              "  background-position: center center;\n",
              "}\n",
              "\n",
              "/* Parallel-specific style estimator block */\n",
              "\n",
              "#sk-container-id-5 div.sk-parallel-item::after {\n",
              "  content: \"\";\n",
              "  width: 100%;\n",
              "  border-bottom: 2px solid var(--sklearn-color-text-on-default-background);\n",
              "  flex-grow: 1;\n",
              "}\n",
              "\n",
              "#sk-container-id-5 div.sk-parallel {\n",
              "  display: flex;\n",
              "  align-items: stretch;\n",
              "  justify-content: center;\n",
              "  background-color: var(--sklearn-color-background);\n",
              "  position: relative;\n",
              "}\n",
              "\n",
              "#sk-container-id-5 div.sk-parallel-item {\n",
              "  display: flex;\n",
              "  flex-direction: column;\n",
              "}\n",
              "\n",
              "#sk-container-id-5 div.sk-parallel-item:first-child::after {\n",
              "  align-self: flex-end;\n",
              "  width: 50%;\n",
              "}\n",
              "\n",
              "#sk-container-id-5 div.sk-parallel-item:last-child::after {\n",
              "  align-self: flex-start;\n",
              "  width: 50%;\n",
              "}\n",
              "\n",
              "#sk-container-id-5 div.sk-parallel-item:only-child::after {\n",
              "  width: 0;\n",
              "}\n",
              "\n",
              "/* Serial-specific style estimator block */\n",
              "\n",
              "#sk-container-id-5 div.sk-serial {\n",
              "  display: flex;\n",
              "  flex-direction: column;\n",
              "  align-items: center;\n",
              "  background-color: var(--sklearn-color-background);\n",
              "  padding-right: 1em;\n",
              "  padding-left: 1em;\n",
              "}\n",
              "\n",
              "\n",
              "/* Toggleable style: style used for estimator/Pipeline/ColumnTransformer box that is\n",
              "clickable and can be expanded/collapsed.\n",
              "- Pipeline and ColumnTransformer use this feature and define the default style\n",
              "- Estimators will overwrite some part of the style using the `sk-estimator` class\n",
              "*/\n",
              "\n",
              "/* Pipeline and ColumnTransformer style (default) */\n",
              "\n",
              "#sk-container-id-5 div.sk-toggleable {\n",
              "  /* Default theme specific background. It is overwritten whether we have a\n",
              "  specific estimator or a Pipeline/ColumnTransformer */\n",
              "  background-color: var(--sklearn-color-background);\n",
              "}\n",
              "\n",
              "/* Toggleable label */\n",
              "#sk-container-id-5 label.sk-toggleable__label {\n",
              "  cursor: pointer;\n",
              "  display: flex;\n",
              "  width: 100%;\n",
              "  margin-bottom: 0;\n",
              "  padding: 0.5em;\n",
              "  box-sizing: border-box;\n",
              "  text-align: center;\n",
              "  align-items: start;\n",
              "  justify-content: space-between;\n",
              "  gap: 0.5em;\n",
              "}\n",
              "\n",
              "#sk-container-id-5 label.sk-toggleable__label .caption {\n",
              "  font-size: 0.6rem;\n",
              "  font-weight: lighter;\n",
              "  color: var(--sklearn-color-text-muted);\n",
              "}\n",
              "\n",
              "#sk-container-id-5 label.sk-toggleable__label-arrow:before {\n",
              "  /* Arrow on the left of the label */\n",
              "  content: \"▸\";\n",
              "  float: left;\n",
              "  margin-right: 0.25em;\n",
              "  color: var(--sklearn-color-icon);\n",
              "}\n",
              "\n",
              "#sk-container-id-5 label.sk-toggleable__label-arrow:hover:before {\n",
              "  color: var(--sklearn-color-text);\n",
              "}\n",
              "\n",
              "/* Toggleable content - dropdown */\n",
              "\n",
              "#sk-container-id-5 div.sk-toggleable__content {\n",
              "  max-height: 0;\n",
              "  max-width: 0;\n",
              "  overflow: hidden;\n",
              "  text-align: left;\n",
              "  /* unfitted */\n",
              "  background-color: var(--sklearn-color-unfitted-level-0);\n",
              "}\n",
              "\n",
              "#sk-container-id-5 div.sk-toggleable__content.fitted {\n",
              "  /* fitted */\n",
              "  background-color: var(--sklearn-color-fitted-level-0);\n",
              "}\n",
              "\n",
              "#sk-container-id-5 div.sk-toggleable__content pre {\n",
              "  margin: 0.2em;\n",
              "  border-radius: 0.25em;\n",
              "  color: var(--sklearn-color-text);\n",
              "  /* unfitted */\n",
              "  background-color: var(--sklearn-color-unfitted-level-0);\n",
              "}\n",
              "\n",
              "#sk-container-id-5 div.sk-toggleable__content.fitted pre {\n",
              "  /* unfitted */\n",
              "  background-color: var(--sklearn-color-fitted-level-0);\n",
              "}\n",
              "\n",
              "#sk-container-id-5 input.sk-toggleable__control:checked~div.sk-toggleable__content {\n",
              "  /* Expand drop-down */\n",
              "  max-height: 200px;\n",
              "  max-width: 100%;\n",
              "  overflow: auto;\n",
              "}\n",
              "\n",
              "#sk-container-id-5 input.sk-toggleable__control:checked~label.sk-toggleable__label-arrow:before {\n",
              "  content: \"▾\";\n",
              "}\n",
              "\n",
              "/* Pipeline/ColumnTransformer-specific style */\n",
              "\n",
              "#sk-container-id-5 div.sk-label input.sk-toggleable__control:checked~label.sk-toggleable__label {\n",
              "  color: var(--sklearn-color-text);\n",
              "  background-color: var(--sklearn-color-unfitted-level-2);\n",
              "}\n",
              "\n",
              "#sk-container-id-5 div.sk-label.fitted input.sk-toggleable__control:checked~label.sk-toggleable__label {\n",
              "  background-color: var(--sklearn-color-fitted-level-2);\n",
              "}\n",
              "\n",
              "/* Estimator-specific style */\n",
              "\n",
              "/* Colorize estimator box */\n",
              "#sk-container-id-5 div.sk-estimator input.sk-toggleable__control:checked~label.sk-toggleable__label {\n",
              "  /* unfitted */\n",
              "  background-color: var(--sklearn-color-unfitted-level-2);\n",
              "}\n",
              "\n",
              "#sk-container-id-5 div.sk-estimator.fitted input.sk-toggleable__control:checked~label.sk-toggleable__label {\n",
              "  /* fitted */\n",
              "  background-color: var(--sklearn-color-fitted-level-2);\n",
              "}\n",
              "\n",
              "#sk-container-id-5 div.sk-label label.sk-toggleable__label,\n",
              "#sk-container-id-5 div.sk-label label {\n",
              "  /* The background is the default theme color */\n",
              "  color: var(--sklearn-color-text-on-default-background);\n",
              "}\n",
              "\n",
              "/* On hover, darken the color of the background */\n",
              "#sk-container-id-5 div.sk-label:hover label.sk-toggleable__label {\n",
              "  color: var(--sklearn-color-text);\n",
              "  background-color: var(--sklearn-color-unfitted-level-2);\n",
              "}\n",
              "\n",
              "/* Label box, darken color on hover, fitted */\n",
              "#sk-container-id-5 div.sk-label.fitted:hover label.sk-toggleable__label.fitted {\n",
              "  color: var(--sklearn-color-text);\n",
              "  background-color: var(--sklearn-color-fitted-level-2);\n",
              "}\n",
              "\n",
              "/* Estimator label */\n",
              "\n",
              "#sk-container-id-5 div.sk-label label {\n",
              "  font-family: monospace;\n",
              "  font-weight: bold;\n",
              "  display: inline-block;\n",
              "  line-height: 1.2em;\n",
              "}\n",
              "\n",
              "#sk-container-id-5 div.sk-label-container {\n",
              "  text-align: center;\n",
              "}\n",
              "\n",
              "/* Estimator-specific */\n",
              "#sk-container-id-5 div.sk-estimator {\n",
              "  font-family: monospace;\n",
              "  border: 1px dotted var(--sklearn-color-border-box);\n",
              "  border-radius: 0.25em;\n",
              "  box-sizing: border-box;\n",
              "  margin-bottom: 0.5em;\n",
              "  /* unfitted */\n",
              "  background-color: var(--sklearn-color-unfitted-level-0);\n",
              "}\n",
              "\n",
              "#sk-container-id-5 div.sk-estimator.fitted {\n",
              "  /* fitted */\n",
              "  background-color: var(--sklearn-color-fitted-level-0);\n",
              "}\n",
              "\n",
              "/* on hover */\n",
              "#sk-container-id-5 div.sk-estimator:hover {\n",
              "  /* unfitted */\n",
              "  background-color: var(--sklearn-color-unfitted-level-2);\n",
              "}\n",
              "\n",
              "#sk-container-id-5 div.sk-estimator.fitted:hover {\n",
              "  /* fitted */\n",
              "  background-color: var(--sklearn-color-fitted-level-2);\n",
              "}\n",
              "\n",
              "/* Specification for estimator info (e.g. \"i\" and \"?\") */\n",
              "\n",
              "/* Common style for \"i\" and \"?\" */\n",
              "\n",
              ".sk-estimator-doc-link,\n",
              "a:link.sk-estimator-doc-link,\n",
              "a:visited.sk-estimator-doc-link {\n",
              "  float: right;\n",
              "  font-size: smaller;\n",
              "  line-height: 1em;\n",
              "  font-family: monospace;\n",
              "  background-color: var(--sklearn-color-background);\n",
              "  border-radius: 1em;\n",
              "  height: 1em;\n",
              "  width: 1em;\n",
              "  text-decoration: none !important;\n",
              "  margin-left: 0.5em;\n",
              "  text-align: center;\n",
              "  /* unfitted */\n",
              "  border: var(--sklearn-color-unfitted-level-1) 1pt solid;\n",
              "  color: var(--sklearn-color-unfitted-level-1);\n",
              "}\n",
              "\n",
              ".sk-estimator-doc-link.fitted,\n",
              "a:link.sk-estimator-doc-link.fitted,\n",
              "a:visited.sk-estimator-doc-link.fitted {\n",
              "  /* fitted */\n",
              "  border: var(--sklearn-color-fitted-level-1) 1pt solid;\n",
              "  color: var(--sklearn-color-fitted-level-1);\n",
              "}\n",
              "\n",
              "/* On hover */\n",
              "div.sk-estimator:hover .sk-estimator-doc-link:hover,\n",
              ".sk-estimator-doc-link:hover,\n",
              "div.sk-label-container:hover .sk-estimator-doc-link:hover,\n",
              ".sk-estimator-doc-link:hover {\n",
              "  /* unfitted */\n",
              "  background-color: var(--sklearn-color-unfitted-level-3);\n",
              "  color: var(--sklearn-color-background);\n",
              "  text-decoration: none;\n",
              "}\n",
              "\n",
              "div.sk-estimator.fitted:hover .sk-estimator-doc-link.fitted:hover,\n",
              ".sk-estimator-doc-link.fitted:hover,\n",
              "div.sk-label-container:hover .sk-estimator-doc-link.fitted:hover,\n",
              ".sk-estimator-doc-link.fitted:hover {\n",
              "  /* fitted */\n",
              "  background-color: var(--sklearn-color-fitted-level-3);\n",
              "  color: var(--sklearn-color-background);\n",
              "  text-decoration: none;\n",
              "}\n",
              "\n",
              "/* Span, style for the box shown on hovering the info icon */\n",
              ".sk-estimator-doc-link span {\n",
              "  display: none;\n",
              "  z-index: 9999;\n",
              "  position: relative;\n",
              "  font-weight: normal;\n",
              "  right: .2ex;\n",
              "  padding: .5ex;\n",
              "  margin: .5ex;\n",
              "  width: min-content;\n",
              "  min-width: 20ex;\n",
              "  max-width: 50ex;\n",
              "  color: var(--sklearn-color-text);\n",
              "  box-shadow: 2pt 2pt 4pt #999;\n",
              "  /* unfitted */\n",
              "  background: var(--sklearn-color-unfitted-level-0);\n",
              "  border: .5pt solid var(--sklearn-color-unfitted-level-3);\n",
              "}\n",
              "\n",
              ".sk-estimator-doc-link.fitted span {\n",
              "  /* fitted */\n",
              "  background: var(--sklearn-color-fitted-level-0);\n",
              "  border: var(--sklearn-color-fitted-level-3);\n",
              "}\n",
              "\n",
              ".sk-estimator-doc-link:hover span {\n",
              "  display: block;\n",
              "}\n",
              "\n",
              "/* \"?\"-specific style due to the `<a>` HTML tag */\n",
              "\n",
              "#sk-container-id-5 a.estimator_doc_link {\n",
              "  float: right;\n",
              "  font-size: 1rem;\n",
              "  line-height: 1em;\n",
              "  font-family: monospace;\n",
              "  background-color: var(--sklearn-color-background);\n",
              "  border-radius: 1rem;\n",
              "  height: 1rem;\n",
              "  width: 1rem;\n",
              "  text-decoration: none;\n",
              "  /* unfitted */\n",
              "  color: var(--sklearn-color-unfitted-level-1);\n",
              "  border: var(--sklearn-color-unfitted-level-1) 1pt solid;\n",
              "}\n",
              "\n",
              "#sk-container-id-5 a.estimator_doc_link.fitted {\n",
              "  /* fitted */\n",
              "  border: var(--sklearn-color-fitted-level-1) 1pt solid;\n",
              "  color: var(--sklearn-color-fitted-level-1);\n",
              "}\n",
              "\n",
              "/* On hover */\n",
              "#sk-container-id-5 a.estimator_doc_link:hover {\n",
              "  /* unfitted */\n",
              "  background-color: var(--sklearn-color-unfitted-level-3);\n",
              "  color: var(--sklearn-color-background);\n",
              "  text-decoration: none;\n",
              "}\n",
              "\n",
              "#sk-container-id-5 a.estimator_doc_link.fitted:hover {\n",
              "  /* fitted */\n",
              "  background-color: var(--sklearn-color-fitted-level-3);\n",
              "}\n",
              "</style><div id=\"sk-container-id-5\" class=\"sk-top-container\"><div class=\"sk-text-repr-fallback\"><pre>LGBMClassifier(bagging_fraction=0.7625828117841102, bagging_freq=1,\n",
              "               feature_fraction=0.8839875734474862,\n",
              "               lambda_l1=1.7208440020384164, lambda_l2=4.966237373689465,\n",
              "               learning_rate=0.1580027631549685, max_depth=10,\n",
              "               min_data_in_leaf=135, num_leaves=198)</pre><b>In a Jupyter environment, please rerun this cell to show the HTML representation or trust the notebook. <br />On GitHub, the HTML representation is unable to render, please try loading this page with nbviewer.org.</b></div><div class=\"sk-container\" hidden><div class=\"sk-item\"><div class=\"sk-estimator fitted sk-toggleable\"><input class=\"sk-toggleable__control sk-hidden--visually\" id=\"sk-estimator-id-5\" type=\"checkbox\" checked><label for=\"sk-estimator-id-5\" class=\"sk-toggleable__label fitted sk-toggleable__label-arrow\"><div><div>LGBMClassifier</div></div><div><span class=\"sk-estimator-doc-link fitted\">i<span>Fitted</span></span></div></label><div class=\"sk-toggleable__content fitted\"><pre>LGBMClassifier(bagging_fraction=0.7625828117841102, bagging_freq=1,\n",
              "               feature_fraction=0.8839875734474862,\n",
              "               lambda_l1=1.7208440020384164, lambda_l2=4.966237373689465,\n",
              "               learning_rate=0.1580027631549685, max_depth=10,\n",
              "               min_data_in_leaf=135, num_leaves=198)</pre></div> </div></div></div></div>"
            ],
            "text/plain": [
              "LGBMClassifier(bagging_fraction=0.7625828117841102, bagging_freq=1,\n",
              "               feature_fraction=0.8839875734474862,\n",
              "               lambda_l1=1.7208440020384164, lambda_l2=4.966237373689465,\n",
              "               learning_rate=0.1580027631549685, max_depth=10,\n",
              "               min_data_in_leaf=135, num_leaves=198)"
            ]
          },
          "execution_count": 114,
          "metadata": {},
          "output_type": "execute_result"
        }
      ],
      "source": [
        "final_model = LGBMClassifier(**best_params)\n",
        "\n",
        "final_model.fit(\n",
        "    X_train_res, y_train_res,\n",
        "    eval_set=[(X_val, y_val)],\n",
        "    eval_metric=\"auc\",\n",
        "    callbacks=[\n",
        "        early_stopping(50),\n",
        "        log_evaluation(50)\n",
        "    ]\n",
        ")\n"
      ]
    },
    {
      "cell_type": "code",
      "execution_count": 115,
      "metadata": {
        "colab": {
          "base_uri": "https://localhost:8080/"
        },
        "id": "AV1HhXW55-eC",
        "outputId": "5e08996d-59a7-4497-c635-179f420f9ec0"
      },
      "outputs": [
        {
          "name": "stdout",
          "output_type": "stream",
          "text": [
            "                                              feature  importance\n",
            "12                                           FINALKDN          76\n",
            "1                                      SUM_CREDIT_KZT          52\n",
            "44                                      n_event_id_1d          50\n",
            "14                                            CLI_AGE          46\n",
            "0                                         TOTALAMOUNT          45\n",
            "5                                           DM5INCSUM          38\n",
            "13                                    CREDITTERM_RBL0          36\n",
            "2                                      DM5DPD1GCVPSUM          35\n",
            "10                                       DM6SCOREN6PD          34\n",
            "4                                           DM5EXPSUM          30\n",
            "57                            n_unique_event_type_30d          21\n",
            "58                                    n_unique_ip_30d          19\n",
            "42                             n_unique_event_type_1d          15\n",
            "55                               country_kz_ratio_30d          15\n",
            "59                                     n_event_id_30d          15\n",
            "23                                   KANAL_PRODAZH_QR          13\n",
            "28                                     GENDER_Мужской          12\n",
            "39                    MARITALSTATUS_Холост/Не_замужем          12\n",
            "11                                         DM6SCOREN6          12\n",
            "49                                      n_event_id_2d          11\n",
            "37                        MARITALSTATUS_Женат/Замужем          10\n",
            "15                                    DEPENDANT_COUNT          10\n",
            "40                                country_kz_ratio_1d           9\n",
            "41                              n_unique_device_id_1d           8\n",
            "43                                     n_unique_ip_1d           7\n",
            "27                                     GENDER_Женский           6\n",
            "22                               KANAL_PRODAZH_B-Bank           6\n",
            "9                                              DM7EXP           5\n",
            "17               PURPOSE_LOAN_На_потребительские_цели           5\n",
            "30                                         BKI_Плохая           5\n",
            "36                                        VKI_Хорошая           4\n",
            "7                                              DM5EXP           4\n",
            "54                                      n_event_id_3d           4\n",
            "50                                country_kz_ratio_3d           4\n",
            "6                                              DM5INC           3\n",
            "8                                              DM7INC           3\n",
            "48                                     n_unique_ip_2d           2\n",
            "47                             n_unique_event_type_2d           2\n",
            "56                             n_unique_device_id_30d           2\n",
            "24                                  KANAL_PRODAZH_WEB           1\n",
            "33                                    VKI_Отсутствует           1\n",
            "32                                        BKI_Хорошая           1\n",
            "31                                        BKI_Средняя           1\n",
            "20                                OPV_REASON_NEW_САЙТ           1\n",
            "52                             n_unique_event_type_3d           1\n",
            "46                              n_unique_device_id_2d           1\n",
            "53                                     n_unique_ip_3d           1\n",
            "45                                country_kz_ratio_2d           1\n",
            "38                   MARITALSTATUS_Разведен/Разведена           1\n",
            "18             PURPOSE_LOAN_На_рефинансирование_займа           0\n",
            "3                                    DM5DPD1SALARYSUM           0\n",
            "16                                     IS_SERVWS_MNLI           0\n",
            "26                         APPLICATION_ISA0AUTO_Улица           0\n",
            "25                   APPLICATION_ISA0AUTO_Зарплатники           0\n",
            "21                             OPV_REASON_Онлайн_СБОЛ           0\n",
            "19  PURPOSE_LOAN_На_рефинансирование_займа_и_потре...           0\n",
            "34                                         VKI_Плохая           0\n",
            "29                                    BKI_Отсутствует           0\n",
            "35                                        VKI_Средняя           0\n",
            "51                              n_unique_device_id_3d           0\n"
          ]
        }
      ],
      "source": [
        "importance = final_model.feature_importances_\n",
        "feature_names = final_model.feature_name_\n",
        "\n",
        "feat_imp_df = pd.DataFrame({\n",
        "    \"feature\": feature_names,\n",
        "    \"importance\": importance\n",
        "}).sort_values(by=\"importance\", ascending=False)\n",
        "\n",
        "print(feat_imp_df)\n"
      ]
    },
    {
      "cell_type": "code",
      "execution_count": 117,
      "metadata": {
        "colab": {
          "base_uri": "https://localhost:8080/"
        },
        "id": "tiZI2e6x6YDP",
        "outputId": "fbe7f8e0-8b7a-4624-9cf8-fba53a830b23"
      },
      "outputs": [
        {
          "name": "stdout",
          "output_type": "stream",
          "text": [
            "\n",
            "Metrics with default threshold (0.5):\n",
            "Train (Threshold=0.50) AUC: 0.9702 | Accuracy: 0.9876 | F1 Score: 0.5655 | Recall: 0.4358\n",
            "Valid (Threshold=0.50) AUC: 0.9659 | Accuracy: 0.9857 | F1 Score: 0.4878 | Recall: 0.3704\n",
            "Test (Threshold=0.50) AUC: 0.8569 | Accuracy: 0.9908 | F1 Score: 0.1053 | Recall: 0.0789\n"
          ]
        }
      ],
      "source": [
        "print(\"\\nMetrics with default threshold (0.5):\")\n",
        "print_metrics_with_threshold(final_model, X_train, y_train, \"Train\", threshold=0.5)\n",
        "print_metrics_with_threshold(final_model, X_val, y_val, \"Valid\", threshold=0.5)\n",
        "print_metrics_with_threshold(final_model, X_test, y_test, \"Test\", threshold=0.5)\n",
        "\n"
      ]
    },
    {
      "cell_type": "code",
      "execution_count": 118,
      "metadata": {
        "id": "IMHQOj2k7d_L"
      },
      "outputs": [],
      "source": [
        "feat_df = pd.DataFrame({\n",
        "    \"feature\": feature_names,\n",
        "    \"importance\": importance\n",
        "})\n",
        "\n",
        "important_features = feat_df[feat_df[\"importance\"] >= 3][\"feature\"].tolist()"
      ]
    },
    {
      "cell_type": "code",
      "execution_count": 121,
      "metadata": {
        "id": "yGoexRcp8s0y"
      },
      "outputs": [],
      "source": [
        "important_features = ['TOTALAMOUNT',\n",
        " 'DM5DPD1GCVPSUM',\n",
        " 'DM5EXPSUM',\n",
        " 'DM5INCSUM',\n",
        " 'DM5INC',\n",
        " 'DM5EXP',\n",
        " 'DM7INC',\n",
        " 'DM7EXP',\n",
        " 'DM6SCOREN6PD',\n",
        " 'DM6SCOREN6',\n",
        " 'FINALKDN',\n",
        " 'CREDITTERM_RBL0',\n",
        " 'CLI_AGE',\n",
        " 'DEPENDANT_COUNT',\n",
        " 'PURPOSE_LOAN_На потребительские цели',\n",
        " 'KANAL_PRODAZH_B-Bank',\n",
        " 'KANAL_PRODAZH_QR',\n",
        " 'GENDER_Женский',\n",
        " 'BKI_Плохая',\n",
        " 'VKI_Хорошая',\n",
        " 'MARITALSTATUS_Женат/Замужем',\n",
        " 'country_kz_ratio_1d',\n",
        " 'n_unique_device_id_1d',\n",
        " 'n_unique_event_type_1d',\n",
        " 'n_unique_ip_1d',\n",
        " 'n_event_id_1d',\n",
        " 'n_event_id_2d',\n",
        " 'country_kz_ratio_3d',\n",
        " 'n_event_id_3d',\n",
        " 'country_kz_ratio_30d',\n",
        " 'n_unique_event_type_30d',\n",
        " 'n_unique_ip_30d',\n",
        " 'n_event_id_30d']"
      ]
    },
    {
      "cell_type": "code",
      "execution_count": 122,
      "metadata": {
        "colab": {
          "base_uri": "https://localhost:8080/",
          "height": 216
        },
        "id": "nQVRA5rC8uLT",
        "outputId": "073bfad5-97b6-495d-e95e-a7f7c47998c2"
      },
      "outputs": [
        {
          "name": "stdout",
          "output_type": "stream",
          "text": [
            "Training until validation scores don't improve for 50 rounds\n",
            "[50]\tvalid_0's auc: 0.963688\tvalid_0's binary_logloss: 0.045385\n",
            "Early stopping, best iteration is:\n",
            "[27]\tvalid_0's auc: 0.965547\tvalid_0's binary_logloss: 0.0495221\n"
          ]
        },
        {
          "data": {
            "text/html": [
              "<style>#sk-container-id-6 {\n",
              "  /* Definition of color scheme common for light and dark mode */\n",
              "  --sklearn-color-text: #000;\n",
              "  --sklearn-color-text-muted: #666;\n",
              "  --sklearn-color-line: gray;\n",
              "  /* Definition of color scheme for unfitted estimators */\n",
              "  --sklearn-color-unfitted-level-0: #fff5e6;\n",
              "  --sklearn-color-unfitted-level-1: #f6e4d2;\n",
              "  --sklearn-color-unfitted-level-2: #ffe0b3;\n",
              "  --sklearn-color-unfitted-level-3: chocolate;\n",
              "  /* Definition of color scheme for fitted estimators */\n",
              "  --sklearn-color-fitted-level-0: #f0f8ff;\n",
              "  --sklearn-color-fitted-level-1: #d4ebff;\n",
              "  --sklearn-color-fitted-level-2: #b3dbfd;\n",
              "  --sklearn-color-fitted-level-3: cornflowerblue;\n",
              "\n",
              "  /* Specific color for light theme */\n",
              "  --sklearn-color-text-on-default-background: var(--sg-text-color, var(--theme-code-foreground, var(--jp-content-font-color1, black)));\n",
              "  --sklearn-color-background: var(--sg-background-color, var(--theme-background, var(--jp-layout-color0, white)));\n",
              "  --sklearn-color-border-box: var(--sg-text-color, var(--theme-code-foreground, var(--jp-content-font-color1, black)));\n",
              "  --sklearn-color-icon: #696969;\n",
              "\n",
              "  @media (prefers-color-scheme: dark) {\n",
              "    /* Redefinition of color scheme for dark theme */\n",
              "    --sklearn-color-text-on-default-background: var(--sg-text-color, var(--theme-code-foreground, var(--jp-content-font-color1, white)));\n",
              "    --sklearn-color-background: var(--sg-background-color, var(--theme-background, var(--jp-layout-color0, #111)));\n",
              "    --sklearn-color-border-box: var(--sg-text-color, var(--theme-code-foreground, var(--jp-content-font-color1, white)));\n",
              "    --sklearn-color-icon: #878787;\n",
              "  }\n",
              "}\n",
              "\n",
              "#sk-container-id-6 {\n",
              "  color: var(--sklearn-color-text);\n",
              "}\n",
              "\n",
              "#sk-container-id-6 pre {\n",
              "  padding: 0;\n",
              "}\n",
              "\n",
              "#sk-container-id-6 input.sk-hidden--visually {\n",
              "  border: 0;\n",
              "  clip: rect(1px 1px 1px 1px);\n",
              "  clip: rect(1px, 1px, 1px, 1px);\n",
              "  height: 1px;\n",
              "  margin: -1px;\n",
              "  overflow: hidden;\n",
              "  padding: 0;\n",
              "  position: absolute;\n",
              "  width: 1px;\n",
              "}\n",
              "\n",
              "#sk-container-id-6 div.sk-dashed-wrapped {\n",
              "  border: 1px dashed var(--sklearn-color-line);\n",
              "  margin: 0 0.4em 0.5em 0.4em;\n",
              "  box-sizing: border-box;\n",
              "  padding-bottom: 0.4em;\n",
              "  background-color: var(--sklearn-color-background);\n",
              "}\n",
              "\n",
              "#sk-container-id-6 div.sk-container {\n",
              "  /* jupyter's `normalize.less` sets `[hidden] { display: none; }`\n",
              "     but bootstrap.min.css set `[hidden] { display: none !important; }`\n",
              "     so we also need the `!important` here to be able to override the\n",
              "     default hidden behavior on the sphinx rendered scikit-learn.org.\n",
              "     See: https://github.com/scikit-learn/scikit-learn/issues/21755 */\n",
              "  display: inline-block !important;\n",
              "  position: relative;\n",
              "}\n",
              "\n",
              "#sk-container-id-6 div.sk-text-repr-fallback {\n",
              "  display: none;\n",
              "}\n",
              "\n",
              "div.sk-parallel-item,\n",
              "div.sk-serial,\n",
              "div.sk-item {\n",
              "  /* draw centered vertical line to link estimators */\n",
              "  background-image: linear-gradient(var(--sklearn-color-text-on-default-background), var(--sklearn-color-text-on-default-background));\n",
              "  background-size: 2px 100%;\n",
              "  background-repeat: no-repeat;\n",
              "  background-position: center center;\n",
              "}\n",
              "\n",
              "/* Parallel-specific style estimator block */\n",
              "\n",
              "#sk-container-id-6 div.sk-parallel-item::after {\n",
              "  content: \"\";\n",
              "  width: 100%;\n",
              "  border-bottom: 2px solid var(--sklearn-color-text-on-default-background);\n",
              "  flex-grow: 1;\n",
              "}\n",
              "\n",
              "#sk-container-id-6 div.sk-parallel {\n",
              "  display: flex;\n",
              "  align-items: stretch;\n",
              "  justify-content: center;\n",
              "  background-color: var(--sklearn-color-background);\n",
              "  position: relative;\n",
              "}\n",
              "\n",
              "#sk-container-id-6 div.sk-parallel-item {\n",
              "  display: flex;\n",
              "  flex-direction: column;\n",
              "}\n",
              "\n",
              "#sk-container-id-6 div.sk-parallel-item:first-child::after {\n",
              "  align-self: flex-end;\n",
              "  width: 50%;\n",
              "}\n",
              "\n",
              "#sk-container-id-6 div.sk-parallel-item:last-child::after {\n",
              "  align-self: flex-start;\n",
              "  width: 50%;\n",
              "}\n",
              "\n",
              "#sk-container-id-6 div.sk-parallel-item:only-child::after {\n",
              "  width: 0;\n",
              "}\n",
              "\n",
              "/* Serial-specific style estimator block */\n",
              "\n",
              "#sk-container-id-6 div.sk-serial {\n",
              "  display: flex;\n",
              "  flex-direction: column;\n",
              "  align-items: center;\n",
              "  background-color: var(--sklearn-color-background);\n",
              "  padding-right: 1em;\n",
              "  padding-left: 1em;\n",
              "}\n",
              "\n",
              "\n",
              "/* Toggleable style: style used for estimator/Pipeline/ColumnTransformer box that is\n",
              "clickable and can be expanded/collapsed.\n",
              "- Pipeline and ColumnTransformer use this feature and define the default style\n",
              "- Estimators will overwrite some part of the style using the `sk-estimator` class\n",
              "*/\n",
              "\n",
              "/* Pipeline and ColumnTransformer style (default) */\n",
              "\n",
              "#sk-container-id-6 div.sk-toggleable {\n",
              "  /* Default theme specific background. It is overwritten whether we have a\n",
              "  specific estimator or a Pipeline/ColumnTransformer */\n",
              "  background-color: var(--sklearn-color-background);\n",
              "}\n",
              "\n",
              "/* Toggleable label */\n",
              "#sk-container-id-6 label.sk-toggleable__label {\n",
              "  cursor: pointer;\n",
              "  display: flex;\n",
              "  width: 100%;\n",
              "  margin-bottom: 0;\n",
              "  padding: 0.5em;\n",
              "  box-sizing: border-box;\n",
              "  text-align: center;\n",
              "  align-items: start;\n",
              "  justify-content: space-between;\n",
              "  gap: 0.5em;\n",
              "}\n",
              "\n",
              "#sk-container-id-6 label.sk-toggleable__label .caption {\n",
              "  font-size: 0.6rem;\n",
              "  font-weight: lighter;\n",
              "  color: var(--sklearn-color-text-muted);\n",
              "}\n",
              "\n",
              "#sk-container-id-6 label.sk-toggleable__label-arrow:before {\n",
              "  /* Arrow on the left of the label */\n",
              "  content: \"▸\";\n",
              "  float: left;\n",
              "  margin-right: 0.25em;\n",
              "  color: var(--sklearn-color-icon);\n",
              "}\n",
              "\n",
              "#sk-container-id-6 label.sk-toggleable__label-arrow:hover:before {\n",
              "  color: var(--sklearn-color-text);\n",
              "}\n",
              "\n",
              "/* Toggleable content - dropdown */\n",
              "\n",
              "#sk-container-id-6 div.sk-toggleable__content {\n",
              "  max-height: 0;\n",
              "  max-width: 0;\n",
              "  overflow: hidden;\n",
              "  text-align: left;\n",
              "  /* unfitted */\n",
              "  background-color: var(--sklearn-color-unfitted-level-0);\n",
              "}\n",
              "\n",
              "#sk-container-id-6 div.sk-toggleable__content.fitted {\n",
              "  /* fitted */\n",
              "  background-color: var(--sklearn-color-fitted-level-0);\n",
              "}\n",
              "\n",
              "#sk-container-id-6 div.sk-toggleable__content pre {\n",
              "  margin: 0.2em;\n",
              "  border-radius: 0.25em;\n",
              "  color: var(--sklearn-color-text);\n",
              "  /* unfitted */\n",
              "  background-color: var(--sklearn-color-unfitted-level-0);\n",
              "}\n",
              "\n",
              "#sk-container-id-6 div.sk-toggleable__content.fitted pre {\n",
              "  /* unfitted */\n",
              "  background-color: var(--sklearn-color-fitted-level-0);\n",
              "}\n",
              "\n",
              "#sk-container-id-6 input.sk-toggleable__control:checked~div.sk-toggleable__content {\n",
              "  /* Expand drop-down */\n",
              "  max-height: 200px;\n",
              "  max-width: 100%;\n",
              "  overflow: auto;\n",
              "}\n",
              "\n",
              "#sk-container-id-6 input.sk-toggleable__control:checked~label.sk-toggleable__label-arrow:before {\n",
              "  content: \"▾\";\n",
              "}\n",
              "\n",
              "/* Pipeline/ColumnTransformer-specific style */\n",
              "\n",
              "#sk-container-id-6 div.sk-label input.sk-toggleable__control:checked~label.sk-toggleable__label {\n",
              "  color: var(--sklearn-color-text);\n",
              "  background-color: var(--sklearn-color-unfitted-level-2);\n",
              "}\n",
              "\n",
              "#sk-container-id-6 div.sk-label.fitted input.sk-toggleable__control:checked~label.sk-toggleable__label {\n",
              "  background-color: var(--sklearn-color-fitted-level-2);\n",
              "}\n",
              "\n",
              "/* Estimator-specific style */\n",
              "\n",
              "/* Colorize estimator box */\n",
              "#sk-container-id-6 div.sk-estimator input.sk-toggleable__control:checked~label.sk-toggleable__label {\n",
              "  /* unfitted */\n",
              "  background-color: var(--sklearn-color-unfitted-level-2);\n",
              "}\n",
              "\n",
              "#sk-container-id-6 div.sk-estimator.fitted input.sk-toggleable__control:checked~label.sk-toggleable__label {\n",
              "  /* fitted */\n",
              "  background-color: var(--sklearn-color-fitted-level-2);\n",
              "}\n",
              "\n",
              "#sk-container-id-6 div.sk-label label.sk-toggleable__label,\n",
              "#sk-container-id-6 div.sk-label label {\n",
              "  /* The background is the default theme color */\n",
              "  color: var(--sklearn-color-text-on-default-background);\n",
              "}\n",
              "\n",
              "/* On hover, darken the color of the background */\n",
              "#sk-container-id-6 div.sk-label:hover label.sk-toggleable__label {\n",
              "  color: var(--sklearn-color-text);\n",
              "  background-color: var(--sklearn-color-unfitted-level-2);\n",
              "}\n",
              "\n",
              "/* Label box, darken color on hover, fitted */\n",
              "#sk-container-id-6 div.sk-label.fitted:hover label.sk-toggleable__label.fitted {\n",
              "  color: var(--sklearn-color-text);\n",
              "  background-color: var(--sklearn-color-fitted-level-2);\n",
              "}\n",
              "\n",
              "/* Estimator label */\n",
              "\n",
              "#sk-container-id-6 div.sk-label label {\n",
              "  font-family: monospace;\n",
              "  font-weight: bold;\n",
              "  display: inline-block;\n",
              "  line-height: 1.2em;\n",
              "}\n",
              "\n",
              "#sk-container-id-6 div.sk-label-container {\n",
              "  text-align: center;\n",
              "}\n",
              "\n",
              "/* Estimator-specific */\n",
              "#sk-container-id-6 div.sk-estimator {\n",
              "  font-family: monospace;\n",
              "  border: 1px dotted var(--sklearn-color-border-box);\n",
              "  border-radius: 0.25em;\n",
              "  box-sizing: border-box;\n",
              "  margin-bottom: 0.5em;\n",
              "  /* unfitted */\n",
              "  background-color: var(--sklearn-color-unfitted-level-0);\n",
              "}\n",
              "\n",
              "#sk-container-id-6 div.sk-estimator.fitted {\n",
              "  /* fitted */\n",
              "  background-color: var(--sklearn-color-fitted-level-0);\n",
              "}\n",
              "\n",
              "/* on hover */\n",
              "#sk-container-id-6 div.sk-estimator:hover {\n",
              "  /* unfitted */\n",
              "  background-color: var(--sklearn-color-unfitted-level-2);\n",
              "}\n",
              "\n",
              "#sk-container-id-6 div.sk-estimator.fitted:hover {\n",
              "  /* fitted */\n",
              "  background-color: var(--sklearn-color-fitted-level-2);\n",
              "}\n",
              "\n",
              "/* Specification for estimator info (e.g. \"i\" and \"?\") */\n",
              "\n",
              "/* Common style for \"i\" and \"?\" */\n",
              "\n",
              ".sk-estimator-doc-link,\n",
              "a:link.sk-estimator-doc-link,\n",
              "a:visited.sk-estimator-doc-link {\n",
              "  float: right;\n",
              "  font-size: smaller;\n",
              "  line-height: 1em;\n",
              "  font-family: monospace;\n",
              "  background-color: var(--sklearn-color-background);\n",
              "  border-radius: 1em;\n",
              "  height: 1em;\n",
              "  width: 1em;\n",
              "  text-decoration: none !important;\n",
              "  margin-left: 0.5em;\n",
              "  text-align: center;\n",
              "  /* unfitted */\n",
              "  border: var(--sklearn-color-unfitted-level-1) 1pt solid;\n",
              "  color: var(--sklearn-color-unfitted-level-1);\n",
              "}\n",
              "\n",
              ".sk-estimator-doc-link.fitted,\n",
              "a:link.sk-estimator-doc-link.fitted,\n",
              "a:visited.sk-estimator-doc-link.fitted {\n",
              "  /* fitted */\n",
              "  border: var(--sklearn-color-fitted-level-1) 1pt solid;\n",
              "  color: var(--sklearn-color-fitted-level-1);\n",
              "}\n",
              "\n",
              "/* On hover */\n",
              "div.sk-estimator:hover .sk-estimator-doc-link:hover,\n",
              ".sk-estimator-doc-link:hover,\n",
              "div.sk-label-container:hover .sk-estimator-doc-link:hover,\n",
              ".sk-estimator-doc-link:hover {\n",
              "  /* unfitted */\n",
              "  background-color: var(--sklearn-color-unfitted-level-3);\n",
              "  color: var(--sklearn-color-background);\n",
              "  text-decoration: none;\n",
              "}\n",
              "\n",
              "div.sk-estimator.fitted:hover .sk-estimator-doc-link.fitted:hover,\n",
              ".sk-estimator-doc-link.fitted:hover,\n",
              "div.sk-label-container:hover .sk-estimator-doc-link.fitted:hover,\n",
              ".sk-estimator-doc-link.fitted:hover {\n",
              "  /* fitted */\n",
              "  background-color: var(--sklearn-color-fitted-level-3);\n",
              "  color: var(--sklearn-color-background);\n",
              "  text-decoration: none;\n",
              "}\n",
              "\n",
              "/* Span, style for the box shown on hovering the info icon */\n",
              ".sk-estimator-doc-link span {\n",
              "  display: none;\n",
              "  z-index: 9999;\n",
              "  position: relative;\n",
              "  font-weight: normal;\n",
              "  right: .2ex;\n",
              "  padding: .5ex;\n",
              "  margin: .5ex;\n",
              "  width: min-content;\n",
              "  min-width: 20ex;\n",
              "  max-width: 50ex;\n",
              "  color: var(--sklearn-color-text);\n",
              "  box-shadow: 2pt 2pt 4pt #999;\n",
              "  /* unfitted */\n",
              "  background: var(--sklearn-color-unfitted-level-0);\n",
              "  border: .5pt solid var(--sklearn-color-unfitted-level-3);\n",
              "}\n",
              "\n",
              ".sk-estimator-doc-link.fitted span {\n",
              "  /* fitted */\n",
              "  background: var(--sklearn-color-fitted-level-0);\n",
              "  border: var(--sklearn-color-fitted-level-3);\n",
              "}\n",
              "\n",
              ".sk-estimator-doc-link:hover span {\n",
              "  display: block;\n",
              "}\n",
              "\n",
              "/* \"?\"-specific style due to the `<a>` HTML tag */\n",
              "\n",
              "#sk-container-id-6 a.estimator_doc_link {\n",
              "  float: right;\n",
              "  font-size: 1rem;\n",
              "  line-height: 1em;\n",
              "  font-family: monospace;\n",
              "  background-color: var(--sklearn-color-background);\n",
              "  border-radius: 1rem;\n",
              "  height: 1rem;\n",
              "  width: 1rem;\n",
              "  text-decoration: none;\n",
              "  /* unfitted */\n",
              "  color: var(--sklearn-color-unfitted-level-1);\n",
              "  border: var(--sklearn-color-unfitted-level-1) 1pt solid;\n",
              "}\n",
              "\n",
              "#sk-container-id-6 a.estimator_doc_link.fitted {\n",
              "  /* fitted */\n",
              "  border: var(--sklearn-color-fitted-level-1) 1pt solid;\n",
              "  color: var(--sklearn-color-fitted-level-1);\n",
              "}\n",
              "\n",
              "/* On hover */\n",
              "#sk-container-id-6 a.estimator_doc_link:hover {\n",
              "  /* unfitted */\n",
              "  background-color: var(--sklearn-color-unfitted-level-3);\n",
              "  color: var(--sklearn-color-background);\n",
              "  text-decoration: none;\n",
              "}\n",
              "\n",
              "#sk-container-id-6 a.estimator_doc_link.fitted:hover {\n",
              "  /* fitted */\n",
              "  background-color: var(--sklearn-color-fitted-level-3);\n",
              "}\n",
              "</style><div id=\"sk-container-id-6\" class=\"sk-top-container\"><div class=\"sk-text-repr-fallback\"><pre>LGBMClassifier(bagging_fraction=0.7625828117841102, bagging_freq=1,\n",
              "               feature_fraction=0.8839875734474862,\n",
              "               lambda_l1=1.7208440020384164, lambda_l2=4.966237373689465,\n",
              "               learning_rate=0.1580027631549685, max_depth=10,\n",
              "               min_data_in_leaf=135, num_leaves=198)</pre><b>In a Jupyter environment, please rerun this cell to show the HTML representation or trust the notebook. <br />On GitHub, the HTML representation is unable to render, please try loading this page with nbviewer.org.</b></div><div class=\"sk-container\" hidden><div class=\"sk-item\"><div class=\"sk-estimator fitted sk-toggleable\"><input class=\"sk-toggleable__control sk-hidden--visually\" id=\"sk-estimator-id-6\" type=\"checkbox\" checked><label for=\"sk-estimator-id-6\" class=\"sk-toggleable__label fitted sk-toggleable__label-arrow\"><div><div>LGBMClassifier</div></div><div><span class=\"sk-estimator-doc-link fitted\">i<span>Fitted</span></span></div></label><div class=\"sk-toggleable__content fitted\"><pre>LGBMClassifier(bagging_fraction=0.7625828117841102, bagging_freq=1,\n",
              "               feature_fraction=0.8839875734474862,\n",
              "               lambda_l1=1.7208440020384164, lambda_l2=4.966237373689465,\n",
              "               learning_rate=0.1580027631549685, max_depth=10,\n",
              "               min_data_in_leaf=135, num_leaves=198)</pre></div> </div></div></div></div>"
            ],
            "text/plain": [
              "LGBMClassifier(bagging_fraction=0.7625828117841102, bagging_freq=1,\n",
              "               feature_fraction=0.8839875734474862,\n",
              "               lambda_l1=1.7208440020384164, lambda_l2=4.966237373689465,\n",
              "               learning_rate=0.1580027631549685, max_depth=10,\n",
              "               min_data_in_leaf=135, num_leaves=198)"
            ]
          },
          "execution_count": 122,
          "metadata": {},
          "output_type": "execute_result"
        }
      ],
      "source": [
        "final_model = LGBMClassifier(**best_params)\n",
        "\n",
        "final_model.fit(\n",
        "    X_train_res[important_features], y_train_res,\n",
        "    eval_set=[(X_val[important_features], y_val)],\n",
        "    eval_metric=\"auc\",\n",
        "    callbacks=[\n",
        "        early_stopping(50),\n",
        "        log_evaluation(50)\n",
        "    ]\n",
        ")\n"
      ]
    },
    {
      "cell_type": "code",
      "execution_count": 124,
      "metadata": {
        "colab": {
          "base_uri": "https://localhost:8080/"
        },
        "id": "dVW30xjz9bvW",
        "outputId": "efcb7e8a-2ffa-474f-94cb-a880a3875285"
      },
      "outputs": [
        {
          "name": "stdout",
          "output_type": "stream",
          "text": [
            "\n",
            "Metrics with default threshold (0.5):\n",
            "Train (Threshold=0.50) AUC: 0.9674 | Accuracy: 0.9861 | F1 Score: 0.5060 | Recall: 0.3853\n",
            "Valid (Threshold=0.50) AUC: 0.9655 | Accuracy: 0.9854 | F1 Score: 0.4691 | Recall: 0.3519\n",
            "Test (Threshold=0.50) AUC: 0.8441 | Accuracy: 0.9906 | F1 Score: 0.0714 | Recall: 0.0526\n"
          ]
        }
      ],
      "source": [
        "print(\"\\nMetrics with default threshold (0.5):\")\n",
        "print_metrics_with_threshold(final_model, X_train[important_features], y_train, \"Train\", threshold=0.5)\n",
        "print_metrics_with_threshold(final_model, X_val[important_features], y_val, \"Valid\", threshold=0.5)\n",
        "print_metrics_with_threshold(final_model, X_test[important_features], y_test, \"Test\", threshold=0.5)\n",
        "\n"
      ]
    },
    {
      "cell_type": "code",
      "execution_count": 131,
      "metadata": {
        "id": "2ER-Uwqs9kQ9"
      },
      "outputs": [],
      "source": [
        "X_val_proba = df_val[important_features]"
      ]
    },
    {
      "cell_type": "code",
      "execution_count": 129,
      "metadata": {
        "colab": {
          "base_uri": "https://localhost:8080/",
          "height": 456
        },
        "id": "JShfoRpz-fET",
        "outputId": "0dbe1e14-343b-423d-f302-0f48411469c1"
      },
      "outputs": [
        {
          "data": {
            "application/vnd.google.colaboratory.intrinsic+json": {
              "type": "dataframe",
              "variable_name": "df_val"
            },
            "text/html": [
              "\n",
              "  <div id=\"df-57b0f294-ab7d-4c79-8967-a61962430c49\" class=\"colab-df-container\">\n",
              "    <div>\n",
              "<style scoped>\n",
              "    .dataframe tbody tr th:only-of-type {\n",
              "        vertical-align: middle;\n",
              "    }\n",
              "\n",
              "    .dataframe tbody tr th {\n",
              "        vertical-align: top;\n",
              "    }\n",
              "\n",
              "    .dataframe thead th {\n",
              "        text-align: right;\n",
              "    }\n",
              "</style>\n",
              "<table border=\"1\" class=\"dataframe\">\n",
              "  <thead>\n",
              "    <tr style=\"text-align: right;\">\n",
              "      <th></th>\n",
              "      <th>Unnamed: 0.1</th>\n",
              "      <th>APPLICATIONID</th>\n",
              "      <th>CREATE_DATETIME_x</th>\n",
              "      <th>TOTALAMOUNT</th>\n",
              "      <th>SUM_CREDIT_KZT</th>\n",
              "      <th>DM5DPD1GCVPSUM</th>\n",
              "      <th>DM5DPD1SALARYSUM</th>\n",
              "      <th>DM5EXPSUM</th>\n",
              "      <th>DM5INCSUM</th>\n",
              "      <th>DM5INC</th>\n",
              "      <th>...</th>\n",
              "      <th>country_kz_ratio_30d</th>\n",
              "      <th>n_unique_device_id_30d</th>\n",
              "      <th>n_unique_event_type_30d</th>\n",
              "      <th>n_unique_ip_30d</th>\n",
              "      <th>n_event_id_30d</th>\n",
              "      <th>last_os_name_30d</th>\n",
              "      <th>most_common_os_name_30d</th>\n",
              "      <th>new_os</th>\n",
              "      <th>last_os_name_30d_encoded</th>\n",
              "      <th>most_common_os_name_30d_encoded</th>\n",
              "    </tr>\n",
              "  </thead>\n",
              "  <tbody>\n",
              "    <tr>\n",
              "      <th>23914</th>\n",
              "      <td>23914</td>\n",
              "      <td>Д\\286\\012220838</td>\n",
              "      <td>20.12.2024 16:28</td>\n",
              "      <td>1800000</td>\n",
              "      <td>1800000</td>\n",
              "      <td>114750.0</td>\n",
              "      <td>0.0</td>\n",
              "      <td>4945035.7</td>\n",
              "      <td>4943066.0</td>\n",
              "      <td>0</td>\n",
              "      <td>...</td>\n",
              "      <td>NaN</td>\n",
              "      <td>NaN</td>\n",
              "      <td>NaN</td>\n",
              "      <td>NaN</td>\n",
              "      <td>NaN</td>\n",
              "      <td>NaN</td>\n",
              "      <td>NaN</td>\n",
              "      <td>0</td>\n",
              "      <td>3</td>\n",
              "      <td>3</td>\n",
              "    </tr>\n",
              "    <tr>\n",
              "      <th>23915</th>\n",
              "      <td>23915</td>\n",
              "      <td>Д\\286\\012249879</td>\n",
              "      <td>24.12.2024 11:51</td>\n",
              "      <td>560000</td>\n",
              "      <td>608695</td>\n",
              "      <td>86884.7</td>\n",
              "      <td>0.0</td>\n",
              "      <td>1903547.2</td>\n",
              "      <td>1905279.6</td>\n",
              "      <td>1</td>\n",
              "      <td>...</td>\n",
              "      <td>1.0</td>\n",
              "      <td>1.0</td>\n",
              "      <td>46.0</td>\n",
              "      <td>10.0</td>\n",
              "      <td>198.0</td>\n",
              "      <td>ios</td>\n",
              "      <td>ios</td>\n",
              "      <td>1</td>\n",
              "      <td>2</td>\n",
              "      <td>2</td>\n",
              "    </tr>\n",
              "    <tr>\n",
              "      <th>23916</th>\n",
              "      <td>23916</td>\n",
              "      <td>Д\\286\\012273876</td>\n",
              "      <td>26.12.2024 16:56</td>\n",
              "      <td>1500000</td>\n",
              "      <td>1000000</td>\n",
              "      <td>NaN</td>\n",
              "      <td>0.0</td>\n",
              "      <td>5806962.0</td>\n",
              "      <td>5805763.7</td>\n",
              "      <td>0</td>\n",
              "      <td>...</td>\n",
              "      <td>NaN</td>\n",
              "      <td>NaN</td>\n",
              "      <td>NaN</td>\n",
              "      <td>NaN</td>\n",
              "      <td>NaN</td>\n",
              "      <td>NaN</td>\n",
              "      <td>NaN</td>\n",
              "      <td>0</td>\n",
              "      <td>3</td>\n",
              "      <td>3</td>\n",
              "    </tr>\n",
              "    <tr>\n",
              "      <th>23917</th>\n",
              "      <td>23917</td>\n",
              "      <td>Д\\286\\012288632</td>\n",
              "      <td>28.12.2024 16:13</td>\n",
              "      <td>200000</td>\n",
              "      <td>200000</td>\n",
              "      <td>68850.0</td>\n",
              "      <td>0.0</td>\n",
              "      <td>915976.7</td>\n",
              "      <td>915784.5</td>\n",
              "      <td>0</td>\n",
              "      <td>...</td>\n",
              "      <td>NaN</td>\n",
              "      <td>NaN</td>\n",
              "      <td>NaN</td>\n",
              "      <td>NaN</td>\n",
              "      <td>NaN</td>\n",
              "      <td>NaN</td>\n",
              "      <td>NaN</td>\n",
              "      <td>0</td>\n",
              "      <td>3</td>\n",
              "      <td>3</td>\n",
              "    </tr>\n",
              "    <tr>\n",
              "      <th>23918</th>\n",
              "      <td>23918</td>\n",
              "      <td>Д\\286\\011592446</td>\n",
              "      <td>12.10.2024 11:52</td>\n",
              "      <td>200000</td>\n",
              "      <td>212765</td>\n",
              "      <td>233769.8</td>\n",
              "      <td>0.0</td>\n",
              "      <td>446342.8</td>\n",
              "      <td>447020.4</td>\n",
              "      <td>0</td>\n",
              "      <td>...</td>\n",
              "      <td>1.0</td>\n",
              "      <td>1.0</td>\n",
              "      <td>65.0</td>\n",
              "      <td>2.0</td>\n",
              "      <td>130.0</td>\n",
              "      <td>ios</td>\n",
              "      <td>ios</td>\n",
              "      <td>1</td>\n",
              "      <td>2</td>\n",
              "      <td>2</td>\n",
              "    </tr>\n",
              "    <tr>\n",
              "      <th>...</th>\n",
              "      <td>...</td>\n",
              "      <td>...</td>\n",
              "      <td>...</td>\n",
              "      <td>...</td>\n",
              "      <td>...</td>\n",
              "      <td>...</td>\n",
              "      <td>...</td>\n",
              "      <td>...</td>\n",
              "      <td>...</td>\n",
              "      <td>...</td>\n",
              "      <td>...</td>\n",
              "      <td>...</td>\n",
              "      <td>...</td>\n",
              "      <td>...</td>\n",
              "      <td>...</td>\n",
              "      <td>...</td>\n",
              "      <td>...</td>\n",
              "      <td>...</td>\n",
              "      <td>...</td>\n",
              "      <td>...</td>\n",
              "      <td>...</td>\n",
              "    </tr>\n",
              "    <tr>\n",
              "      <th>30288</th>\n",
              "      <td>30288</td>\n",
              "      <td>Д\\286\\012275441</td>\n",
              "      <td>26.12.2024 20:52</td>\n",
              "      <td>150000</td>\n",
              "      <td>150000</td>\n",
              "      <td>311175.0</td>\n",
              "      <td>0.0</td>\n",
              "      <td>1484270.7</td>\n",
              "      <td>1481724.7</td>\n",
              "      <td>0</td>\n",
              "      <td>...</td>\n",
              "      <td>NaN</td>\n",
              "      <td>NaN</td>\n",
              "      <td>NaN</td>\n",
              "      <td>NaN</td>\n",
              "      <td>NaN</td>\n",
              "      <td>NaN</td>\n",
              "      <td>NaN</td>\n",
              "      <td>0</td>\n",
              "      <td>3</td>\n",
              "      <td>3</td>\n",
              "    </tr>\n",
              "    <tr>\n",
              "      <th>30289</th>\n",
              "      <td>30289</td>\n",
              "      <td>Д\\286\\012141252</td>\n",
              "      <td>12.12.2024 12:19</td>\n",
              "      <td>1500000</td>\n",
              "      <td>1000000</td>\n",
              "      <td>NaN</td>\n",
              "      <td>0.0</td>\n",
              "      <td>553521.7</td>\n",
              "      <td>553468.8</td>\n",
              "      <td>0</td>\n",
              "      <td>...</td>\n",
              "      <td>NaN</td>\n",
              "      <td>NaN</td>\n",
              "      <td>NaN</td>\n",
              "      <td>NaN</td>\n",
              "      <td>NaN</td>\n",
              "      <td>NaN</td>\n",
              "      <td>NaN</td>\n",
              "      <td>0</td>\n",
              "      <td>3</td>\n",
              "      <td>3</td>\n",
              "    </tr>\n",
              "    <tr>\n",
              "      <th>30290</th>\n",
              "      <td>30290</td>\n",
              "      <td>Д\\286\\012161697</td>\n",
              "      <td>14.12.2024 11:52</td>\n",
              "      <td>150000</td>\n",
              "      <td>150000</td>\n",
              "      <td>NaN</td>\n",
              "      <td>0.0</td>\n",
              "      <td>410992.0</td>\n",
              "      <td>411387.7</td>\n",
              "      <td>1</td>\n",
              "      <td>...</td>\n",
              "      <td>1.0</td>\n",
              "      <td>1.0</td>\n",
              "      <td>47.0</td>\n",
              "      <td>7.0</td>\n",
              "      <td>188.0</td>\n",
              "      <td>android</td>\n",
              "      <td>android</td>\n",
              "      <td>1</td>\n",
              "      <td>1</td>\n",
              "      <td>1</td>\n",
              "    </tr>\n",
              "    <tr>\n",
              "      <th>30291</th>\n",
              "      <td>30291</td>\n",
              "      <td>Д\\286\\012248249</td>\n",
              "      <td>24.12.2024 10:04</td>\n",
              "      <td>3708542</td>\n",
              "      <td>1911620</td>\n",
              "      <td>88088.9</td>\n",
              "      <td>0.0</td>\n",
              "      <td>511921.2</td>\n",
              "      <td>512088.8</td>\n",
              "      <td>0</td>\n",
              "      <td>...</td>\n",
              "      <td>NaN</td>\n",
              "      <td>NaN</td>\n",
              "      <td>NaN</td>\n",
              "      <td>NaN</td>\n",
              "      <td>NaN</td>\n",
              "      <td>NaN</td>\n",
              "      <td>NaN</td>\n",
              "      <td>0</td>\n",
              "      <td>3</td>\n",
              "      <td>3</td>\n",
              "    </tr>\n",
              "    <tr>\n",
              "      <th>30292</th>\n",
              "      <td>30292</td>\n",
              "      <td>Д\\286\\012241809</td>\n",
              "      <td>23.12.2024 14:44</td>\n",
              "      <td>1000000</td>\n",
              "      <td>1000000</td>\n",
              "      <td>NaN</td>\n",
              "      <td>0.0</td>\n",
              "      <td>902185.7</td>\n",
              "      <td>902197.0</td>\n",
              "      <td>1</td>\n",
              "      <td>...</td>\n",
              "      <td>NaN</td>\n",
              "      <td>NaN</td>\n",
              "      <td>NaN</td>\n",
              "      <td>NaN</td>\n",
              "      <td>NaN</td>\n",
              "      <td>NaN</td>\n",
              "      <td>NaN</td>\n",
              "      <td>0</td>\n",
              "      <td>3</td>\n",
              "      <td>3</td>\n",
              "    </tr>\n",
              "  </tbody>\n",
              "</table>\n",
              "<p>6379 rows × 76 columns</p>\n",
              "</div>\n",
              "    <div class=\"colab-df-buttons\">\n",
              "\n",
              "  <div class=\"colab-df-container\">\n",
              "    <button class=\"colab-df-convert\" onclick=\"convertToInteractive('df-57b0f294-ab7d-4c79-8967-a61962430c49')\"\n",
              "            title=\"Convert this dataframe to an interactive table.\"\n",
              "            style=\"display:none;\">\n",
              "\n",
              "  <svg xmlns=\"http://www.w3.org/2000/svg\" height=\"24px\" viewBox=\"0 -960 960 960\">\n",
              "    <path d=\"M120-120v-720h720v720H120Zm60-500h600v-160H180v160Zm220 220h160v-160H400v160Zm0 220h160v-160H400v160ZM180-400h160v-160H180v160Zm440 0h160v-160H620v160ZM180-180h160v-160H180v160Zm440 0h160v-160H620v160Z\"/>\n",
              "  </svg>\n",
              "    </button>\n",
              "\n",
              "  <style>\n",
              "    .colab-df-container {\n",
              "      display:flex;\n",
              "      gap: 12px;\n",
              "    }\n",
              "\n",
              "    .colab-df-convert {\n",
              "      background-color: #E8F0FE;\n",
              "      border: none;\n",
              "      border-radius: 50%;\n",
              "      cursor: pointer;\n",
              "      display: none;\n",
              "      fill: #1967D2;\n",
              "      height: 32px;\n",
              "      padding: 0 0 0 0;\n",
              "      width: 32px;\n",
              "    }\n",
              "\n",
              "    .colab-df-convert:hover {\n",
              "      background-color: #E2EBFA;\n",
              "      box-shadow: 0px 1px 2px rgba(60, 64, 67, 0.3), 0px 1px 3px 1px rgba(60, 64, 67, 0.15);\n",
              "      fill: #174EA6;\n",
              "    }\n",
              "\n",
              "    .colab-df-buttons div {\n",
              "      margin-bottom: 4px;\n",
              "    }\n",
              "\n",
              "    [theme=dark] .colab-df-convert {\n",
              "      background-color: #3B4455;\n",
              "      fill: #D2E3FC;\n",
              "    }\n",
              "\n",
              "    [theme=dark] .colab-df-convert:hover {\n",
              "      background-color: #434B5C;\n",
              "      box-shadow: 0px 1px 3px 1px rgba(0, 0, 0, 0.15);\n",
              "      filter: drop-shadow(0px 1px 2px rgba(0, 0, 0, 0.3));\n",
              "      fill: #FFFFFF;\n",
              "    }\n",
              "  </style>\n",
              "\n",
              "    <script>\n",
              "      const buttonEl =\n",
              "        document.querySelector('#df-57b0f294-ab7d-4c79-8967-a61962430c49 button.colab-df-convert');\n",
              "      buttonEl.style.display =\n",
              "        google.colab.kernel.accessAllowed ? 'block' : 'none';\n",
              "\n",
              "      async function convertToInteractive(key) {\n",
              "        const element = document.querySelector('#df-57b0f294-ab7d-4c79-8967-a61962430c49');\n",
              "        const dataTable =\n",
              "          await google.colab.kernel.invokeFunction('convertToInteractive',\n",
              "                                                    [key], {});\n",
              "        if (!dataTable) return;\n",
              "\n",
              "        const docLinkHtml = 'Like what you see? Visit the ' +\n",
              "          '<a target=\"_blank\" href=https://colab.research.google.com/notebooks/data_table.ipynb>data table notebook</a>'\n",
              "          + ' to learn more about interactive tables.';\n",
              "        element.innerHTML = '';\n",
              "        dataTable['output_type'] = 'display_data';\n",
              "        await google.colab.output.renderOutput(dataTable, element);\n",
              "        const docLink = document.createElement('div');\n",
              "        docLink.innerHTML = docLinkHtml;\n",
              "        element.appendChild(docLink);\n",
              "      }\n",
              "    </script>\n",
              "  </div>\n",
              "\n",
              "\n",
              "    <div id=\"df-35fa6d24-cb70-4de6-8401-97525d42eeda\">\n",
              "      <button class=\"colab-df-quickchart\" onclick=\"quickchart('df-35fa6d24-cb70-4de6-8401-97525d42eeda')\"\n",
              "                title=\"Suggest charts\"\n",
              "                style=\"display:none;\">\n",
              "\n",
              "<svg xmlns=\"http://www.w3.org/2000/svg\" height=\"24px\"viewBox=\"0 0 24 24\"\n",
              "     width=\"24px\">\n",
              "    <g>\n",
              "        <path d=\"M19 3H5c-1.1 0-2 .9-2 2v14c0 1.1.9 2 2 2h14c1.1 0 2-.9 2-2V5c0-1.1-.9-2-2-2zM9 17H7v-7h2v7zm4 0h-2V7h2v10zm4 0h-2v-4h2v4z\"/>\n",
              "    </g>\n",
              "</svg>\n",
              "      </button>\n",
              "\n",
              "<style>\n",
              "  .colab-df-quickchart {\n",
              "      --bg-color: #E8F0FE;\n",
              "      --fill-color: #1967D2;\n",
              "      --hover-bg-color: #E2EBFA;\n",
              "      --hover-fill-color: #174EA6;\n",
              "      --disabled-fill-color: #AAA;\n",
              "      --disabled-bg-color: #DDD;\n",
              "  }\n",
              "\n",
              "  [theme=dark] .colab-df-quickchart {\n",
              "      --bg-color: #3B4455;\n",
              "      --fill-color: #D2E3FC;\n",
              "      --hover-bg-color: #434B5C;\n",
              "      --hover-fill-color: #FFFFFF;\n",
              "      --disabled-bg-color: #3B4455;\n",
              "      --disabled-fill-color: #666;\n",
              "  }\n",
              "\n",
              "  .colab-df-quickchart {\n",
              "    background-color: var(--bg-color);\n",
              "    border: none;\n",
              "    border-radius: 50%;\n",
              "    cursor: pointer;\n",
              "    display: none;\n",
              "    fill: var(--fill-color);\n",
              "    height: 32px;\n",
              "    padding: 0;\n",
              "    width: 32px;\n",
              "  }\n",
              "\n",
              "  .colab-df-quickchart:hover {\n",
              "    background-color: var(--hover-bg-color);\n",
              "    box-shadow: 0 1px 2px rgba(60, 64, 67, 0.3), 0 1px 3px 1px rgba(60, 64, 67, 0.15);\n",
              "    fill: var(--button-hover-fill-color);\n",
              "  }\n",
              "\n",
              "  .colab-df-quickchart-complete:disabled,\n",
              "  .colab-df-quickchart-complete:disabled:hover {\n",
              "    background-color: var(--disabled-bg-color);\n",
              "    fill: var(--disabled-fill-color);\n",
              "    box-shadow: none;\n",
              "  }\n",
              "\n",
              "  .colab-df-spinner {\n",
              "    border: 2px solid var(--fill-color);\n",
              "    border-color: transparent;\n",
              "    border-bottom-color: var(--fill-color);\n",
              "    animation:\n",
              "      spin 1s steps(1) infinite;\n",
              "  }\n",
              "\n",
              "  @keyframes spin {\n",
              "    0% {\n",
              "      border-color: transparent;\n",
              "      border-bottom-color: var(--fill-color);\n",
              "      border-left-color: var(--fill-color);\n",
              "    }\n",
              "    20% {\n",
              "      border-color: transparent;\n",
              "      border-left-color: var(--fill-color);\n",
              "      border-top-color: var(--fill-color);\n",
              "    }\n",
              "    30% {\n",
              "      border-color: transparent;\n",
              "      border-left-color: var(--fill-color);\n",
              "      border-top-color: var(--fill-color);\n",
              "      border-right-color: var(--fill-color);\n",
              "    }\n",
              "    40% {\n",
              "      border-color: transparent;\n",
              "      border-right-color: var(--fill-color);\n",
              "      border-top-color: var(--fill-color);\n",
              "    }\n",
              "    60% {\n",
              "      border-color: transparent;\n",
              "      border-right-color: var(--fill-color);\n",
              "    }\n",
              "    80% {\n",
              "      border-color: transparent;\n",
              "      border-right-color: var(--fill-color);\n",
              "      border-bottom-color: var(--fill-color);\n",
              "    }\n",
              "    90% {\n",
              "      border-color: transparent;\n",
              "      border-bottom-color: var(--fill-color);\n",
              "    }\n",
              "  }\n",
              "</style>\n",
              "\n",
              "      <script>\n",
              "        async function quickchart(key) {\n",
              "          const quickchartButtonEl =\n",
              "            document.querySelector('#' + key + ' button');\n",
              "          quickchartButtonEl.disabled = true;  // To prevent multiple clicks.\n",
              "          quickchartButtonEl.classList.add('colab-df-spinner');\n",
              "          try {\n",
              "            const charts = await google.colab.kernel.invokeFunction(\n",
              "                'suggestCharts', [key], {});\n",
              "          } catch (error) {\n",
              "            console.error('Error during call to suggestCharts:', error);\n",
              "          }\n",
              "          quickchartButtonEl.classList.remove('colab-df-spinner');\n",
              "          quickchartButtonEl.classList.add('colab-df-quickchart-complete');\n",
              "        }\n",
              "        (() => {\n",
              "          let quickchartButtonEl =\n",
              "            document.querySelector('#df-35fa6d24-cb70-4de6-8401-97525d42eeda button');\n",
              "          quickchartButtonEl.style.display =\n",
              "            google.colab.kernel.accessAllowed ? 'block' : 'none';\n",
              "        })();\n",
              "      </script>\n",
              "    </div>\n",
              "\n",
              "  <div id=\"id_7a0929b8-c550-475a-ae2a-5678f33ae058\">\n",
              "    <style>\n",
              "      .colab-df-generate {\n",
              "        background-color: #E8F0FE;\n",
              "        border: none;\n",
              "        border-radius: 50%;\n",
              "        cursor: pointer;\n",
              "        display: none;\n",
              "        fill: #1967D2;\n",
              "        height: 32px;\n",
              "        padding: 0 0 0 0;\n",
              "        width: 32px;\n",
              "      }\n",
              "\n",
              "      .colab-df-generate:hover {\n",
              "        background-color: #E2EBFA;\n",
              "        box-shadow: 0px 1px 2px rgba(60, 64, 67, 0.3), 0px 1px 3px 1px rgba(60, 64, 67, 0.15);\n",
              "        fill: #174EA6;\n",
              "      }\n",
              "\n",
              "      [theme=dark] .colab-df-generate {\n",
              "        background-color: #3B4455;\n",
              "        fill: #D2E3FC;\n",
              "      }\n",
              "\n",
              "      [theme=dark] .colab-df-generate:hover {\n",
              "        background-color: #434B5C;\n",
              "        box-shadow: 0px 1px 3px 1px rgba(0, 0, 0, 0.15);\n",
              "        filter: drop-shadow(0px 1px 2px rgba(0, 0, 0, 0.3));\n",
              "        fill: #FFFFFF;\n",
              "      }\n",
              "    </style>\n",
              "    <button class=\"colab-df-generate\" onclick=\"generateWithVariable('df_val')\"\n",
              "            title=\"Generate code using this dataframe.\"\n",
              "            style=\"display:none;\">\n",
              "\n",
              "  <svg xmlns=\"http://www.w3.org/2000/svg\" height=\"24px\"viewBox=\"0 0 24 24\"\n",
              "       width=\"24px\">\n",
              "    <path d=\"M7,19H8.4L18.45,9,17,7.55,7,17.6ZM5,21V16.75L18.45,3.32a2,2,0,0,1,2.83,0l1.4,1.43a1.91,1.91,0,0,1,.58,1.4,1.91,1.91,0,0,1-.58,1.4L9.25,21ZM18.45,9,17,7.55Zm-12,3A5.31,5.31,0,0,0,4.9,8.1,5.31,5.31,0,0,0,1,6.5,5.31,5.31,0,0,0,4.9,4.9,5.31,5.31,0,0,0,6.5,1,5.31,5.31,0,0,0,8.1,4.9,5.31,5.31,0,0,0,12,6.5,5.46,5.46,0,0,0,6.5,12Z\"/>\n",
              "  </svg>\n",
              "    </button>\n",
              "    <script>\n",
              "      (() => {\n",
              "      const buttonEl =\n",
              "        document.querySelector('#id_7a0929b8-c550-475a-ae2a-5678f33ae058 button.colab-df-generate');\n",
              "      buttonEl.style.display =\n",
              "        google.colab.kernel.accessAllowed ? 'block' : 'none';\n",
              "\n",
              "      buttonEl.onclick = () => {\n",
              "        google.colab.notebook.generateWithVariable('df_val');\n",
              "      }\n",
              "      })();\n",
              "    </script>\n",
              "  </div>\n",
              "\n",
              "    </div>\n",
              "  </div>\n"
            ],
            "text/plain": [
              "       Unnamed: 0.1    APPLICATIONID CREATE_DATETIME_x  TOTALAMOUNT  \\\n",
              "23914         23914  Д\\286\\012220838  20.12.2024 16:28      1800000   \n",
              "23915         23915  Д\\286\\012249879  24.12.2024 11:51       560000   \n",
              "23916         23916  Д\\286\\012273876  26.12.2024 16:56      1500000   \n",
              "23917         23917  Д\\286\\012288632  28.12.2024 16:13       200000   \n",
              "23918         23918  Д\\286\\011592446  12.10.2024 11:52       200000   \n",
              "...             ...              ...               ...          ...   \n",
              "30288         30288  Д\\286\\012275441  26.12.2024 20:52       150000   \n",
              "30289         30289  Д\\286\\012141252  12.12.2024 12:19      1500000   \n",
              "30290         30290  Д\\286\\012161697  14.12.2024 11:52       150000   \n",
              "30291         30291  Д\\286\\012248249  24.12.2024 10:04      3708542   \n",
              "30292         30292  Д\\286\\012241809  23.12.2024 14:44      1000000   \n",
              "\n",
              "       SUM_CREDIT_KZT  DM5DPD1GCVPSUM  DM5DPD1SALARYSUM  DM5EXPSUM  DM5INCSUM  \\\n",
              "23914         1800000        114750.0               0.0  4945035.7  4943066.0   \n",
              "23915          608695         86884.7               0.0  1903547.2  1905279.6   \n",
              "23916         1000000             NaN               0.0  5806962.0  5805763.7   \n",
              "23917          200000         68850.0               0.0   915976.7   915784.5   \n",
              "23918          212765        233769.8               0.0   446342.8   447020.4   \n",
              "...               ...             ...               ...        ...        ...   \n",
              "30288          150000        311175.0               0.0  1484270.7  1481724.7   \n",
              "30289         1000000             NaN               0.0   553521.7   553468.8   \n",
              "30290          150000             NaN               0.0   410992.0   411387.7   \n",
              "30291         1911620         88088.9               0.0   511921.2   512088.8   \n",
              "30292         1000000             NaN               0.0   902185.7   902197.0   \n",
              "\n",
              "       DM5INC  ...  country_kz_ratio_30d  n_unique_device_id_30d  \\\n",
              "23914       0  ...                   NaN                     NaN   \n",
              "23915       1  ...                   1.0                     1.0   \n",
              "23916       0  ...                   NaN                     NaN   \n",
              "23917       0  ...                   NaN                     NaN   \n",
              "23918       0  ...                   1.0                     1.0   \n",
              "...       ...  ...                   ...                     ...   \n",
              "30288       0  ...                   NaN                     NaN   \n",
              "30289       0  ...                   NaN                     NaN   \n",
              "30290       1  ...                   1.0                     1.0   \n",
              "30291       0  ...                   NaN                     NaN   \n",
              "30292       1  ...                   NaN                     NaN   \n",
              "\n",
              "       n_unique_event_type_30d  n_unique_ip_30d  n_event_id_30d  \\\n",
              "23914                      NaN              NaN             NaN   \n",
              "23915                     46.0             10.0           198.0   \n",
              "23916                      NaN              NaN             NaN   \n",
              "23917                      NaN              NaN             NaN   \n",
              "23918                     65.0              2.0           130.0   \n",
              "...                        ...              ...             ...   \n",
              "30288                      NaN              NaN             NaN   \n",
              "30289                      NaN              NaN             NaN   \n",
              "30290                     47.0              7.0           188.0   \n",
              "30291                      NaN              NaN             NaN   \n",
              "30292                      NaN              NaN             NaN   \n",
              "\n",
              "       last_os_name_30d  most_common_os_name_30d  new_os  \\\n",
              "23914               NaN                      NaN       0   \n",
              "23915               ios                      ios       1   \n",
              "23916               NaN                      NaN       0   \n",
              "23917               NaN                      NaN       0   \n",
              "23918               ios                      ios       1   \n",
              "...                 ...                      ...     ...   \n",
              "30288               NaN                      NaN       0   \n",
              "30289               NaN                      NaN       0   \n",
              "30290           android                  android       1   \n",
              "30291               NaN                      NaN       0   \n",
              "30292               NaN                      NaN       0   \n",
              "\n",
              "       last_os_name_30d_encoded  most_common_os_name_30d_encoded  \n",
              "23914                         3                                3  \n",
              "23915                         2                                2  \n",
              "23916                         3                                3  \n",
              "23917                         3                                3  \n",
              "23918                         2                                2  \n",
              "...                         ...                              ...  \n",
              "30288                         3                                3  \n",
              "30289                         3                                3  \n",
              "30290                         1                                1  \n",
              "30291                         3                                3  \n",
              "30292                         3                                3  \n",
              "\n",
              "[6379 rows x 76 columns]"
            ]
          },
          "execution_count": 129,
          "metadata": {},
          "output_type": "execute_result"
        }
      ],
      "source": [
        "df_val"
      ]
    },
    {
      "cell_type": "code",
      "execution_count": 132,
      "metadata": {
        "id": "G8SmazhQ-07C"
      },
      "outputs": [],
      "source": [
        "y_val_proba = final_model.predict_proba(X_val_proba)[:, 1]"
      ]
    },
    {
      "cell_type": "code",
      "execution_count": 134,
      "metadata": {
        "id": "tYXJ6HjXAA5M"
      },
      "outputs": [],
      "source": [
        "df_val[\"y_pred_proba\"] = y_val_proba"
      ]
    },
    {
      "cell_type": "code",
      "execution_count": 136,
      "metadata": {
        "id": "kNBd-pOUAJ4-"
      },
      "outputs": [],
      "source": [
        "df_val = df_val[[\n",
        " 'APPLICATIONID',\n",
        " 'TOTALAMOUNT',\n",
        " 'DM5DPD1GCVPSUM',\n",
        " 'DM5EXPSUM',\n",
        " 'DM5INCSUM',\n",
        " 'DM5INC',\n",
        " 'DM5EXP',\n",
        " 'DM7INC',\n",
        " 'DM7EXP',\n",
        " 'DM6SCOREN6PD',\n",
        " 'DM6SCOREN6',\n",
        " 'FINALKDN',\n",
        " 'CREDITTERM_RBL0',\n",
        " 'CLI_AGE',\n",
        " 'DEPENDANT_COUNT',\n",
        " 'PURPOSE_LOAN_На потребительские цели',\n",
        " 'KANAL_PRODAZH_B-Bank',\n",
        " 'KANAL_PRODAZH_QR',\n",
        " 'GENDER_Женский',\n",
        " 'BKI_Плохая',\n",
        " 'VKI_Хорошая',\n",
        " 'MARITALSTATUS_Женат/Замужем',\n",
        " 'country_kz_ratio_1d',\n",
        " 'n_unique_device_id_1d',\n",
        " 'n_unique_event_type_1d',\n",
        " 'n_unique_ip_1d',\n",
        " 'n_event_id_1d',\n",
        " 'n_event_id_2d',\n",
        " 'country_kz_ratio_3d',\n",
        " 'n_event_id_3d',\n",
        " 'country_kz_ratio_30d',\n",
        " 'n_unique_event_type_30d',\n",
        " 'n_unique_ip_30d',\n",
        " 'n_event_id_30d','y_pred_proba']]"
      ]
    },
    {
      "cell_type": "code",
      "execution_count": 137,
      "metadata": {
        "id": "VfAveCcyAhvv"
      },
      "outputs": [],
      "source": [
        "df_val.to_csv(\"val_pred_proba.csv\", index=False)"
      ]
    },
    {
      "cell_type": "code",
      "execution_count": 139,
      "metadata": {
        "colab": {
          "base_uri": "https://localhost:8080/"
        },
        "id": "gHfIcnKsAql7",
        "outputId": "95dfcaff-3d33-439d-c158-74097c647eed"
      },
      "outputs": [
        {
          "data": {
            "text/plain": [
              "['model_antifraud.pkl']"
            ]
          },
          "execution_count": 139,
          "metadata": {},
          "output_type": "execute_result"
        }
      ],
      "source": [
        "import joblib\n",
        "\n",
        "joblib.dump(final_model, \"model_antifraud.pkl\")"
      ]
    },
    {
      "cell_type": "code",
      "execution_count": null,
      "metadata": {
        "id": "2YMz9FINCpzR"
      },
      "outputs": [],
      "source": []
    }
  ],
  "metadata": {
    "colab": {
      "gpuType": "T4",
      "provenance": []
    },
    "kernelspec": {
      "display_name": "Python 3",
      "name": "python3"
    },
    "language_info": {
      "name": "python"
    }
  },
  "nbformat": 4,
  "nbformat_minor": 0
}
