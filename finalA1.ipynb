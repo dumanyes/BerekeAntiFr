{
 "cells": [
  {
   "cell_type": "code",
   "execution_count": 1,
   "metadata": {},
   "outputs": [],
   "source": [
    "import pandas as pd"
   ]
  },
  {
   "cell_type": "code",
   "execution_count": null,
   "metadata": {},
   "outputs": [],
   "source": [
    "s3_audio = \"s3://data-for-case-3/audio/Свод по звонкам и инцидентам (валидационный набор).xlsx\"\n",
    "\n",
    "df_calls_val = pd.read_excel(\n",
    "    s3_audio,\n",
    "    storage_options={\n",
    "        \"key\": \"YCB2BAvtu7_kXfgsmzA_0xv4i\",\n",
    "        \"secret\": \"YCNnsH6n4uHb6_OQ5fpkhN8F4ZhgNbZLwJqsccoV\",\n",
    "        \"client_kwargs\": {\n",
    "            \"endpoint_url\": \"https://storage.yandexcloud.kz\"\n",
    "        }\n",
    "    }\n",
    ")\n",
    "\n",
    "df_calls_val.head()"
   ]
  },
  {
   "cell_type": "code",
   "execution_count": 13,
   "metadata": {},
   "outputs": [
    {
     "name": "stdout",
     "output_type": "stream",
     "text": [
      "Prediction ready!\n",
      "Fraud/ no fraud cases distribution:  isFrod\n",
      "1    2525\n",
      "0      25\n",
      "Name: count, dtype: int64\n",
      "✅ Предсказания сохранены в result_audio.csv\n",
      "✅ Сформирован файл merged_audio_voice_features.csv\n"
     ]
    }
   ],
   "source": [
    "import pandas as pd\n",
    "import joblib\n",
    "audio_model = joblib.load('catboost_model.pkl')\n",
    "\n",
    "s3_audio = \"s3://data-for-case-3/audio/Свод по звонкам и инцидентам (валидационный набор).xlsx\"\n",
    "\n",
    "df_calls= pd.read_excel(\n",
    "    s3_audio,\n",
    "    storage_options={\n",
    "        \"key\": \"YCB2BAvtu7_kXfgsmzA_0xv4i\",\n",
    "        \"secret\": \"YCNnsH6n4uHb6_OQ5fpkhN8F4ZhgNbZLwJqsccoV\",\n",
    "        \"client_kwargs\": {\n",
    "            \"endpoint_url\": \"https://storage.yandexcloud.kz\"\n",
    "        }\n",
    "    }\n",
    ")\n",
    "df_calls.columns = df_calls.iloc[0]      # set first row as header\n",
    "df_calls = df_calls[1:].reset_index(drop=True)  # drop first row and reset index\n",
    "\n",
    "metrics_csv = \"validation_audio_voice_metrics.csv\"\n",
    "\n",
    "df_metrics = pd.read_csv(metrics_csv)\n",
    "\n",
    "df_metrics = df_metrics.rename(columns={\"filename\": \"Файлы\"})\n",
    "\n",
    "\n",
    "df = df_calls.merge(df_metrics, on=\"Файлы\", how=\"left\", suffixes=(\"_x\", \"_y\"))\n",
    "\n",
    "\n",
    "columns_out = [\n",
    "    \"APPLICATIONID\", \"ИИН\", \"Файлы\", \"Дата и время звонка\",\n",
    "    \"Длительность фонограммы\", \"Направление вызова\", \"Группа\", \"credit_rule\"\n",
    "]\n",
    "\n",
    "\n",
    "\n",
    "mfcc_and_other = []\n",
    "for i in range(1, 14):\n",
    "    mfcc_and_other += [f\"mfcc_{i}_mean\", f\"mfcc_{i}_std\"]\n",
    "mfcc_and_other += [\n",
    "    \"chroma_stft\", \"spectral_centroid\", \"spectral_bandwidth\",\n",
    "    \"spectral_rolloff\", \"tempo\", \"zero_crossing_rate\", \"rms\", \"duration\", \"Файлы\"\n",
    "]\n",
    "columns_out += mfcc_and_other\n",
    "\n",
    "if \"APPLICATIONID_y\" in df.columns:\n",
    "    df = df.drop(columns=[\"APPLICATIONID_y\"])\n",
    "\n",
    "\n",
    "df_out = df[columns_out]\n",
    "\n",
    "important_features = [\n",
    "    'mfcc_1_mean', 'mfcc_1_std', 'mfcc_2_mean', 'mfcc_2_std',\n",
    "    'mfcc_3_mean', 'mfcc_3_std', 'mfcc_4_mean', 'mfcc_4_std',\n",
    "    'mfcc_5_mean', 'mfcc_5_std', 'mfcc_6_mean', 'mfcc_6_std',\n",
    "    'mfcc_7_mean', 'mfcc_7_std', 'mfcc_8_mean', 'mfcc_8_std',\n",
    "    'mfcc_9_mean', 'mfcc_9_std', 'mfcc_10_mean', 'mfcc_10_std',\n",
    "    'mfcc_11_mean', 'mfcc_11_std', 'mfcc_12_mean', 'mfcc_12_std',\n",
    "    'mfcc_13_mean', 'mfcc_13_std', 'chroma_stft', 'spectral_centroid',\n",
    "    'spectral_bandwidth', 'spectral_rolloff', 'tempo',\n",
    "    'zero_crossing_rate', 'rms', 'duration'\n",
    "]\n",
    "\n",
    "\n",
    "df_model = df_out.copy()\n",
    "X_val_proba = df_model[important_features]\n",
    "\n",
    "y_val_proba = audio_model.predict_proba(X_val_proba)[:, 1]\n",
    "y_val_pred = (y_val_proba >= 0.5).astype(int)\n",
    "df_result = df_model.loc[X_val_proba.index, ['APPLICATIONID']].copy()\n",
    "df_result.rename(columns={'APPLICATIONID':'id'},inplace=True)\n",
    "df_result['isFrod'] = y_val_pred\n",
    "df_result['probability'] = y_val_proba\n",
    "assert len(df_model) == len(y_val_proba)\n",
    "print('Prediction ready!')\n",
    "print('Fraud/ no fraud cases distribution: ', df_result['isFrod'].value_counts())\n",
    "\n",
    "df_result.to_csv('result_audio.csv',index=False)\n",
    "\n",
    "print(\"✅ Предсказания сохранены в result_audio.csv\")\n"
   ]
  },
  {
   "cell_type": "code",
   "execution_count": 15,
   "metadata": {},
   "outputs": [
    {
     "data": {
      "text/plain": [
       "isFrod\n",
       "1    2525\n",
       "0      25\n",
       "Name: count, dtype: int64"
      ]
     },
     "execution_count": 15,
     "metadata": {},
     "output_type": "execute_result"
    }
   ],
   "source": [
    "df_result.isFrod.value_counts()"
   ]
  },
  {
   "cell_type": "code",
   "execution_count": 5,
   "metadata": {},
   "outputs": [
    {
     "name": "stdout",
     "output_type": "stream",
     "text": [
      "['ИИН', 'APPLICATIONID', 'Дата завки', 'Абонент 2 прив2', 'Дата и время звонка', 'Дата звонка', 'Длительность фонограммы', 'Абонент 1', 'Направление вызова', 'Абонент 2', 'Состояние аудиозаписи', 'Фонограмма прослушана', 'Важная фонограмма', 'Помечена на удаление', 'Группа', 'Ключевые слова', 'Имя станции записи', 'Комментарий', 'Подразделение', 'Имя канала записи', 'Файлы', 'Дата время \\nинцидента\\n(alert_time)', 'status', 'alert_type', 'tags', 'credit_rule', 'mfcc_1_mean', 'mfcc_1_std', 'mfcc_2_mean', 'mfcc_2_std', 'mfcc_3_mean', 'mfcc_3_std', 'mfcc_4_mean', 'mfcc_4_std', 'mfcc_5_mean', 'mfcc_5_std', 'mfcc_6_mean', 'mfcc_6_std', 'mfcc_7_mean', 'mfcc_7_std', 'mfcc_8_mean', 'mfcc_8_std', 'mfcc_9_mean', 'mfcc_9_std', 'mfcc_10_mean', 'mfcc_10_std', 'mfcc_11_mean', 'mfcc_11_std', 'mfcc_12_mean', 'mfcc_12_std', 'mfcc_13_mean', 'mfcc_13_std', 'chroma_stft', 'spectral_centroid', 'spectral_bandwidth', 'spectral_rolloff', 'tempo', 'zero_crossing_rate', 'rms', 'duration']\n"
     ]
    }
   ],
   "source": [
    "print(df.columns.tolist())"
   ]
  },
  {
   "cell_type": "code",
   "execution_count": 7,
   "metadata": {},
   "outputs": [
    {
     "name": "stdout",
     "output_type": "stream",
     "text": [
      "✅ Предсказания сохранены в final_prediction_output.csv\n"
     ]
    },
    {
     "name": "stderr",
     "output_type": "stream",
     "text": [
      "/tmp/ipykernel_22660/466889222.py:28: SettingWithCopyWarning: \n",
      "A value is trying to be set on a copy of a slice from a DataFrame.\n",
      "Try using .loc[row_indexer,col_indexer] = value instead\n",
      "\n",
      "See the caveats in the documentation: https://pandas.pydata.org/pandas-docs/stable/user_guide/indexing.html#returning-a-view-versus-a-copy\n",
      "  df_out[\"fraud_probability\"] = y_val_proba\n",
      "/tmp/ipykernel_22660/466889222.py:29: SettingWithCopyWarning: \n",
      "A value is trying to be set on a copy of a slice from a DataFrame.\n",
      "Try using .loc[row_indexer,col_indexer] = value instead\n",
      "\n",
      "See the caveats in the documentation: https://pandas.pydata.org/pandas-docs/stable/user_guide/indexing.html#returning-a-view-versus-a-copy\n",
      "  df_out[\"fraud_prediction\"] = y_val_pred\n"
     ]
    }
   ],
   "source": [
    "import joblib\n"
   ]
  }
 ],
 "metadata": {
  "kernelspec": {
   "display_name": "audioenv",
   "language": "python",
   "name": "python3"
  },
  "language_info": {
   "codemirror_mode": {
    "name": "ipython",
    "version": 3
   },
   "file_extension": ".py",
   "mimetype": "text/x-python",
   "name": "python",
   "nbconvert_exporter": "python",
   "pygments_lexer": "ipython3",
   "version": "3.11.13"
  }
 },
 "nbformat": 4,
 "nbformat_minor": 2
}
